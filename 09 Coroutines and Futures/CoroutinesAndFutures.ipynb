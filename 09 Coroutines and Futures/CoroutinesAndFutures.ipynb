{
 "cells": [
  {
   "cell_type": "markdown",
   "metadata": {
    "slideshow": {
     "slide_type": "slide"
    }
   },
   "source": [
    "---\n",
    "\n",
    "# Coroutines and Futures\n",
    "### [Emil Sekerinski](http://www.cas.mcmaster.ca/~emil/), McMaster University, Fall 2019\n",
    "\n",
    "---"
   ]
  },
  {
   "attachments": {
    "Procedures.svg": {
     "image/svg+xml": [
      "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"
     ]
    }
   },
   "cell_type": "markdown",
   "metadata": {
    "slideshow": {
     "slide_type": "slide"
    }
   },
   "source": [
    "<div style=\"float:right\" class=\"code-img-pair-container\">\n",
    "  <div>\n",
    "    <img src=\"attachment:Procedures.svg\"/>\n",
    "  </div>\n",
    "</div>\n",
    "\n",
    "Procedures, or _subroutines,_ always start the execution at the beginning and at some point return. Procedures can call other procedures, leading to a nested calling structure. In the diagram to the right, vertical lines show the lifetime of a procedure invocation: bars mean that the procedure is executing."
   ]
  },
  {
   "attachments": {
    "Coroutines.svg": {
     "image/svg+xml": [
      "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"
     ]
    }
   },
   "cell_type": "markdown",
   "metadata": {
    "slideshow": {
     "slide_type": "slide"
    }
   },
   "source": [
    "<div style=\"float:right\" class=\"code-img-pair-container\">\n",
    "  <div>\n",
    "    <img src=\"attachment:Coroutines.svg\"/>\n",
    "  </div>\n",
    "</div>\n",
    "\n",
    "_Coroutines_ generalize procedures by allowing control to be _transferred_ out of a coroutine at some point and then resumed again at that point. Coroutines, like procedures, can have local variables. These are preserved when control is transferred out of a coroutine. When a coroutine is created, it starts execution at the beginning. "
   ]
  },
  {
   "cell_type": "markdown",
   "metadata": {
    "slideshow": {
     "slide_type": "slide"
    }
   },
   "source": [
    "The transfer from one coroutine to another can take different forms:\n",
    "- _Symmetric:_ In coroutine `A`, statement `transfer B` will transfer control coroutine `B`; all coroutines are equal, `B` can transfer back to `A` or transfer to `C`, etc. The transfer structure is arbitrary.\n",
    "- _Asymmetric:_ Coroutine `A` calls coroutine `B` initially; in `B` statement `suspend` will return control to `A`; in `A`, statement `resume B` resumes execution in `B` at the point it suspended; coroutine `A` is like a caller and `B` like a callee, except that `B` will resume where it left and its state is preserved when suspending."
   ]
  },
  {
   "cell_type": "markdown",
   "metadata": {},
   "source": [
    "Coroutines run concurrently but are scheduled _cooperatively,_ meaning that there are explicit points when control is transferred. Only one coroutine is executed at a time. By contrast, threads (and processes) are scheduled _preemptively,_ meaning that after a certain time, control is transferred. Threads (and processes) can run in parallel."
   ]
  },
  {
   "cell_type": "markdown",
   "metadata": {
    "slideshow": {
     "slide_type": "slide"
    }
   },
   "source": [
    "### Python Generators\n",
    "\n",
    "In Python, asymmetric coroutines are used as _generators,_ which are functions that when suspending, additionally yield a value. The keyword `yield` is used for suspending and the function `next` is used for resuming and obtaining the next yielded value:"
   ]
  },
  {
   "cell_type": "code",
   "execution_count": null,
   "metadata": {},
   "outputs": [],
   "source": [
    "def fib():\n",
    "    a, b = 0, 1\n",
    "    while True:\n",
    "        yield a\n",
    "        a, b = b, a + b"
   ]
  },
  {
   "cell_type": "code",
   "execution_count": null,
   "metadata": {},
   "outputs": [],
   "source": [
    "f = fib(); f"
   ]
  },
  {
   "cell_type": "markdown",
   "metadata": {},
   "source": [
    "The generator `f` has it own state and runs concurrently with the main program:"
   ]
  },
  {
   "cell_type": "code",
   "execution_count": null,
   "metadata": {},
   "outputs": [],
   "source": [
    "next(f), next(f), next(f), next(f), next(f), next(f)"
   ]
  },
  {
   "cell_type": "markdown",
   "metadata": {},
   "source": [
    "Generators can be used in `for` statements for iterating over all generated elements. As `fib()` generates arbitrarily many elements, this allows in principle iteration over an infinite sequence:"
   ]
  },
  {
   "cell_type": "code",
   "execution_count": null,
   "metadata": {},
   "outputs": [],
   "source": [
    "for x in fib(): print(x) # caution"
   ]
  },
  {
   "cell_type": "markdown",
   "metadata": {},
   "source": [
    "_Exercise:_ Modify `fib` to take an additional integer parameter: `fib(n)` yields only numbers that are less than `n` and then terminates. This allows `fib(n)` to be used like `range(n)` in loops."
   ]
  },
  {
   "cell_type": "markdown",
   "metadata": {
    "slideshow": {
     "slide_type": "slide"
    }
   },
   "source": [
    "Generators can be used to avoid intermediate data structures to be constructed. Consider functions\n",
    "- `unique(iterable)`, which takes an `iterable` (list, tuple) and returns the elements in same order but without duplicates,\n",
    "- `filter(fn, iterable)`, which takes argument `fn`, a predicate, and returns the elements of the second argument, `iterable`, that satisfy `fn`."
   ]
  },
  {
   "cell_type": "code",
   "execution_count": null,
   "metadata": {},
   "outputs": [],
   "source": [
    "def unique(iterable):\n",
    "    seen = set()\n",
    "    for e in iterable:\n",
    "        if e not in seen:\n",
    "            yield e\n",
    "            seen.add(e)"
   ]
  },
  {
   "cell_type": "code",
   "execution_count": null,
   "metadata": {},
   "outputs": [],
   "source": [
    "list(unique([1, 3, 4, 2, 1, 3]))"
   ]
  },
  {
   "cell_type": "code",
   "execution_count": null,
   "metadata": {},
   "outputs": [],
   "source": [
    "def filter(fn, iterable):\n",
    "    for e in iterable:\n",
    "        if fn(e):\n",
    "            yield e"
   ]
  },
  {
   "cell_type": "code",
   "execution_count": null,
   "metadata": {},
   "outputs": [],
   "source": [
    "def even(x): return x % 2 == 0\n",
    "list(filter(even, [1, 2, 3, 4, 5, 6]))"
   ]
  },
  {
   "cell_type": "code",
   "execution_count": null,
   "metadata": {},
   "outputs": [],
   "source": [
    "list(unique(filter(even, [0, 1, 0, 1, 2, 2, 0, 1])))"
   ]
  },
  {
   "cell_type": "markdown",
   "metadata": {},
   "source": [
    "While we can think of `filter` returning a list of even numbers, no such list is constructed in memory. Generator `filter` and `unique` are coroutines that run concurrently with the main program. (Note that Python has a built-in function `filter` with similar functionality.)"
   ]
  },
  {
   "cell_type": "markdown",
   "metadata": {},
   "source": [
    "_Exercise:_ Implement `unique` and `filter` in Go as goroutines and compose them to achieve the same functionality as above. Note that while all even numbers are being transmitted over a channel, a sequence of all even numbers is not constructed in memory."
   ]
  },
  {
   "cell_type": "markdown",
   "metadata": {
    "slideshow": {
     "slide_type": "slide"
    }
   },
   "source": [
    "### Goroutines\n",
    "\n",
    "Goroutines are similar to symmetric coroutines in that control is transferred explicitly when sending and receiving. However, goroutines can be scheduled preemptively; if the goroutines do not access global variables, this is not observable. The current Go implementation avoids time slices when scheduling preemptively, instead inserts `transfer` instructions at places where the code might take long, like in loops. Thus even if this appears to be preemptive scheduling, the Go implementation uses cooperative scheduling for efficiency."
   ]
  },
  {
   "cell_type": "markdown",
   "metadata": {
    "slideshow": {
     "slide_type": "slide"
    }
   },
   "source": [
    "### Python async / await\n",
    "\n",
    "Threads (and processes) are suitable for _CPU-bound_ programs, as the computation can be spread among processors (cores). Coroutines are suitable for _I/O-bound_ programs: as the programs mainly waits for different I/O actions, it can quickly switch among those. In Python\n",
    "\n",
    "- a coroutine is declared with `async def`,\n",
    "- `await c` tranfers control to coroutine `c` and resumes when control is transferred back,\n",
    "- `asyncio.run(c)` initiates coroutine `c`,\n",
    "- `asyncio.gather(c0, c1, ...)` starts coroutines `c0, c1, ...` and waits for them to terminate.\n",
    "\n",
    "_Note:_ some features are only available in Python 3.7 or 3.8. Check with `python3 -V`."
   ]
  },
  {
   "cell_type": "code",
   "execution_count": null,
   "metadata": {},
   "outputs": [],
   "source": [
    "%%writefile asyncrequest.py\n",
    "import asyncio\n",
    "import time\n",
    "\n",
    "async def request(i):\n",
    "    print(\"Request \" + str(i))\n",
    "    await asyncio.sleep(1) # this could be an I/O operation\n",
    "    print(\"Done \" + str(i))\n",
    "\n",
    "async def main():\n",
    "    await asyncio.gather(request(0), request(1), request(2))\n",
    "\n",
    "start = time.perf_counter()\n",
    "asyncio.run(main())\n",
    "elapsed = time.perf_counter() - start\n",
    "print(f\"executed in {elapsed:0.2f} seconds.\")"
   ]
  },
  {
   "cell_type": "code",
   "execution_count": null,
   "metadata": {},
   "outputs": [],
   "source": [
    "!python3 asyncrequest.py"
   ]
  },
  {
   "cell_type": "markdown",
   "metadata": {
    "slideshow": {
     "slide_type": "slide"
    }
   },
   "source": [
    "The `asyncio` library has a class `Queue` for communication between coroutines. This can be used to as a buffer between producers and consumers:"
   ]
  },
  {
   "cell_type": "code",
   "execution_count": null,
   "metadata": {},
   "outputs": [],
   "source": [
    "%%writefile asyncpc.py\n",
    "import asyncio\n",
    "import random\n",
    "import time\n",
    "\n",
    "async def makeitem(p: int) -> str:\n",
    "    return str(random.randint(0, 10)) + ' by ' + str(p)\n",
    "\n",
    "async def produce(p: int, q: asyncio.Queue):\n",
    "    for _ in range(random.randint(0, 10)):\n",
    "        print(\"Producer \" + str(p) + \" sleeping\")\n",
    "        await asyncio.sleep(random.randint(0, 3))\n",
    "        i = await makeitem(p)\n",
    "        await q.put(i)\n",
    "        print(i + \" added\")\n",
    "\n",
    "async def consume(c: int, q: asyncio.Queue):\n",
    "    while True:\n",
    "        print(\"Consumer \" + str(c) + \" sleeping\")\n",
    "        await asyncio.sleep(random.randint(0, 3))\n",
    "        i = await q.get()\n",
    "        print(i + \" removed by \" + str(c))\n",
    "        q.task_done()\n",
    "\n",
    "async def main(np: int, nc: int): # number of producers, consumers\n",
    "    q = asyncio.Queue()\n",
    "    producers = [asyncio.create_task(produce(n, q)) for n in range(np)]\n",
    "    consumers = [asyncio.create_task(consume(n, q)) for n in range(nc)]\n",
    "    await asyncio.gather(*producers)\n",
    "    await q.join()  # blocks until q is empty\n",
    "    for c in consumers:\n",
    "        c.cancel()\n",
    "\n",
    "asyncio.run(main(3, 5))"
   ]
  },
  {
   "cell_type": "code",
   "execution_count": null,
   "metadata": {
    "scrolled": true
   },
   "outputs": [],
   "source": [
    "!python3 asyncpc.py"
   ]
  },
  {
   "cell_type": "markdown",
   "metadata": {
    "slideshow": {
     "slide_type": "slide"
    }
   },
   "source": [
    "### Futures\n",
    "\n",
    "A future a is the result of a function call that is not available when the function returns, but only later when it is needed. Thus execution of the function can be delayed; this is useful if the function is I/O bound and the result is not immediately needed.\n",
    "\n",
    "While less common, futures can be expressed in Python with the `concurrent.futures` library. Python allows to check if the function has termianted and the result is available:"
   ]
  },
  {
   "cell_type": "code",
   "execution_count": null,
   "metadata": {},
   "outputs": [],
   "source": [
    "from concurrent.futures import ThreadPoolExecutor\n",
    "from time import sleep\n",
    " \n",
    "def return_after_5_secs(message):\n",
    "    sleep(5)\n",
    "    return message\n",
    " \n",
    "pool = ThreadPoolExecutor(3)\n",
    " \n",
    "future = pool.submit(return_after_5_secs, (\"hello\"))\n",
    "print(future.done())\n",
    "sleep(5)\n",
    "print(future.done())\n",
    "print(future.result())"
   ]
  }
 ],
 "metadata": {
  "kernelspec": {
   "display_name": "Python 3",
   "language": "python",
   "name": "python3"
  },
  "language_info": {
   "codemirror_mode": {
    "name": "ipython",
    "version": 3
   },
   "file_extension": ".py",
   "mimetype": "text/x-python",
   "name": "python",
   "nbconvert_exporter": "python",
   "pygments_lexer": "ipython3",
   "version": "3.8.0"
  },
  "livereveal": {
   "height": "900",
   "history": true,
   "margin": "0.01",
   "progress": true,
   "scroll": true,
   "start_slideshow_at": "selected",
   "theme": "night",
   "width": "1440"
  }
 },
 "nbformat": 4,
 "nbformat_minor": 2
}
