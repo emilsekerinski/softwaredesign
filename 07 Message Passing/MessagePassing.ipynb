{
 "cells": [
  {
   "cell_type": "markdown",
   "metadata": {
    "slideshow": {
     "slide_type": "slide"
    }
   },
   "source": [
    "---\n",
    "\n",
    "# Message Passing\n",
    "### [Emil Sekerinski](http://www.cas.mcmaster.ca/~emil/), McMaster University, Fall 2019\n",
    "\n",
    "---"
   ]
  },
  {
   "attachments": {
    "Hypercubes.svg": {
     "image/svg+xml": [
      "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"
     ]
    }
   },
   "cell_type": "markdown",
   "metadata": {
    "slideshow": {
     "slide_type": "subslide"
    }
   },
   "source": [
    "So far, we have assumed that processes share memory: they may have their own local variables, but they communicate through global variables, including those protected by monitors. In _message passing,_ processes communicate by _sending and receiving messages_ over _channels_. Shared memory is not needed. If all variables are local to a process, mutual exclusion is guaranteed and no interference is possible.\n",
    "- In _distributed systems,_ there is no shared memory and all communication is by message passing. This is the case for geographically distributed systems and for _\"thinly\" connected multiprocessors_. Examples are _hypercube,_ _systolic array,_ and _flexible interconnect._\n",
    "\n",
    "<div class=\"code-img-pair-container\">\n",
    "  <div>\n",
    "    <img src=\"attachment:Hypercubes.svg\"/>\n",
    "  </div>\n",
    "</div>\n",
    "\n",
    "- Even when shared memory is available, message passing isolates processes, which may contribute to higher reliability and better performance. The <a href=\"https://en.wikipedia.org/wiki/Mach_(kernel)\">Mach</a> operating system kernel, on which [macOS](https://developer.apple.com/library/content/documentation/Darwin/Conceptual/KernelProgramming/Mach/Mach.html) is built, uses message passing between processes (although Apple added other communication primities as well)."
   ]
  },
  {
   "cell_type": "markdown",
   "metadata": {
    "slideshow": {
     "slide_type": "subslide"
    }
   },
   "source": [
    "Message passing can vary:\n",
    "- channels may be one-way or two-way\n",
    "- channels may be global to the processes, attached to the sending process, or attached to the receiving process\n",
    "- communication can be synchronous or asynchronous\n",
    "\n",
    "In synchronous communication, sender and receiver have to wait for each other. With asynchronous communication, the sender and receiver execute independently and messages may be received arbitrarily later. Buffered communication is in between, as the sender may need to wait if the buffer is full."
   ]
  },
  {
   "cell_type": "markdown",
   "metadata": {
    "slideshow": {
     "slide_type": "subslide"
    },
    "solution": "hidden",
    "solution_first": true
   },
   "source": [
    "_Question:_ Give examples of the various forms of message passing in computing and everyday life!"
   ]
  },
  {
   "cell_type": "markdown",
   "metadata": {
    "slideshow": {
     "slide_type": "fragment"
    },
    "solution": "hidden"
   },
   "source": [
    "*Answer.* Calling a phone is an example for synchronous communication. Sending e-mail and text messages are examples for asynchronous communication. With e-mail and text messages, the channel is attached to the receiver (*mailbox*). With live streaming, the channel is attached to the sender. In discussion fora, the channel is global. With e-mail, the channel is one-directinal, with video conferencing, the channel is bidirectional."
   ]
  },
  {
   "cell_type": "markdown",
   "metadata": {
    "slideshow": {
     "slide_type": "slide"
    }
   },
   "source": [
    "## Synchronous Message Passing\n",
    "\n",
    "The communication constructs introduced here build on those of Communicating Sequential Processes, introduced by [Hoare](https://doi.org/10.1145/359576.359585) (in 1978 and in 1985 expanded into a [book](http://www.usingcsp.com/cspbook.pdf)).\n",
    "\n",
    "Variables can be declared of _channel_ type, which also specifies the type of data that can be sent over a channel. The notation is\n",
    "```\n",
    "var v: channel[T]\n",
    "```\n",
    "where `T` is a type or a list of types. For example:\n",
    "```\n",
    "var printer: channel[string]\n",
    "var keyboard: channel[char]\n",
    "var port: channel[byte]\n",
    "var dbrequest: channel[SQLquery]\n",
    "var dbreply: channel[Table]\n",
    "var dbinsert: channel[Key × Value]\n",
    "```"
   ]
  },
  {
   "cell_type": "markdown",
   "metadata": {
    "slideshow": {
     "slide_type": "subslide"
    }
   },
   "source": [
    "There are two communication statements, the _output statement_ (_send statement_)\n",
    "```\n",
    "c ! E\n",
    "```\n",
    "where `c` is a channel and `E` is an expression or list of expressions (pronounced \"`c` output `E`\") and the _input statement_ (*receive statement*)\n",
    "```\n",
    "c ? v\n",
    "```\n",
    "where `v` is a variable or a list of variables (pronounced \"`c` input `v`\")."
   ]
  },
  {
   "cell_type": "markdown",
   "metadata": {
    "slideshow": {
     "slide_type": "subslide"
    }
   },
   "source": [
    "For example, a producer is a process that send over a channel and a consumer is a process that receives over a channel:\n",
    "```\n",
    "var c: channel[T]\n",
    "```\n",
    "<div style=\"display:table\">\n",
    "  <div style = \"display:table-cell\" >\n",
    "\n",
    "```algorithm\n",
    "process producer\n",
    "    do true →\n",
    "        produce data\n",
    "        c ! data\n",
    "```\n",
    "\n",
    "  </div>\n",
    "  <div style = \"display:table-cell; border-left:0px solid white\">\n",
    "\n",
    "```algorithm\n",
    "process consumer\n",
    "    do true →\n",
    "        c ? data\n",
    "        consume data\n",
    "```\n",
    "\n",
    "  </div>\n",
    "</div>\n",
    "<span></span>"
   ]
  },
  {
   "cell_type": "markdown",
   "metadata": {
    "slideshow": {
     "slide_type": "subslide"
    }
   },
   "source": [
    "If one process only sends data once and another only receives data once, then this is the same as just copying the data:\n",
    "<div style=\"display:table\">\n",
    "  <div style = \"display:table-cell\">\n",
    "\n",
    "```\n",
    "var c: channel[integer]\n",
    "c ! 7 ‖ c ? v\n",
    "```\n",
    "  </div>\n",
    "  <div style = \"display:table-cell; border-left:50px solid white\">\n",
    "\n",
    "```\n",
    "v := 7\n",
    "```\n",
    "  </div>\n",
    "</div>\n",
    "<span></span>"
   ]
  },
  {
   "attachments": {
    "Copy.svg": {
     "image/svg+xml": [
      "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"
     ]
    }
   },
   "cell_type": "markdown",
   "metadata": {
    "slideshow": {
     "slide_type": "subslide"
    }
   },
   "source": [
    "Processes may both receive and send. For example process `copy` copies values from channel `west` to channel `east`:\n",
    "\n",
    "<div style=\"float:right\" class=\"code-img-pair-container\">\n",
    "  <div>\n",
    "    <img src=\"attachment:Copy.svg\"/>\n",
    "  </div>\n",
    "</div>\n",
    "\n",
    "```algorithm\n",
    "var west, east: channel[T]\n",
    "\n",
    "process copy\n",
    "    var v: T\n",
    "    do true → west ? v ; east ! v\n",
    "```\n",
    "\n",
    "Other processes would then send by `west ! ...` and receive by `east ? ...`. "
   ]
  },
  {
   "cell_type": "markdown",
   "metadata": {
    "slideshow": {
     "slide_type": "subslide"
    }
   },
   "source": [
    "In the following example, a server is an infinite process that computes the greatest common divisor of two numbers. The sever waits for a request from channel `args`, does the computation, and sends the result to channel `result`:\n",
    "```\n",
    "var args: channel[integer × integer]\n",
    "var result: channel[integer]\n",
    "\n",
    "process gcd\n",
    "    var x, y: integer\n",
    "    do true →\n",
    "        args ? (x, y)\n",
    "        do x > y → x := x - y\n",
    "         ⫿  y > x → y := y - x\n",
    "        result ! x\n",
    "```\n",
    "A client would get service by first sending the arguments and then waiting for the result:\n",
    "```\n",
    "args ! (a1, a2) ; result ? r\n",
    "```\n",
    "This illustrates that the procedure call `r ← gcd(a1, a2)` can be understood as sending the arguments to the `gcd` process and waiting for the result, which is how _remote procedure calls_ (RPC) work."
   ]
  },
  {
   "cell_type": "markdown",
   "metadata": {
    "slideshow": {
     "slide_type": "slide"
    }
   },
   "source": [
    "## Guarded Communication\n",
    "\n",
    "If a server waits for a request from multiple clients, it would select the client that requests first. If clients send over different channels, this cannot be expressed with a `c ? v` input statement, as that waits for channel `c` specifically. A construct is needed that \"waits for whatever comes first\"."
   ]
  },
  {
   "cell_type": "markdown",
   "metadata": {
    "slideshow": {
     "slide_type": "subslide"
    }
   },
   "source": [
    "The _guarded communication statement_ generalizes guarded commands by including communication in the guard. It is of the form\n",
    "```\n",
    "B; C → S\n",
    "```\n",
    "where `B` is a Boolean expression and `C` is a communication statement. It can be used in `if` and `do` guarded commands. If `B` is left out, it is assumed to be `true`. The conditional statement `if B0 → S0 ⫿ B1 → S1` choses arbitrarily between `S0` and `S1` when both are true. If the guards contain communication, this applies analogously:\n",
    "```\n",
    "if west0 ? v → east ! v\n",
    " ⫿ west1 ? v → east ! v\n",
    "```\n",
    "This statement receives from either `west0` or `west1`, depending on which is ready to communicate. If both are ready, the choice is arbitrary."
   ]
  },
  {
   "cell_type": "markdown",
   "metadata": {
    "slideshow": {
     "slide_type": "subslide"
    }
   },
   "source": [
    "A communication statement in the guard of a `do` loop similarly blocks until communication can proceed. For example, process `copy` can be reformulated by having the guard of the loop block when receiving, rather than the body block:\n",
    "```\n",
    "process copy\n",
    "    var v: T\n",
    "    do west ? v → east ! v\n",
    "```\n",
    "The `do` loop never terminates. The guard blocks until another process sends on `west`. In this form, `copy` is a one-place buffer."
   ]
  },
  {
   "attachments": {
    "Merge.svg": {
     "image/svg+xml": [
      "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"
     ]
    }
   },
   "cell_type": "markdown",
   "metadata": {
    "slideshow": {
     "slide_type": "subslide"
    }
   },
   "source": [
    "In general, the loop `do B0 → S0 ⫿ B1 → S1` choses arbitrarily between `S0` and `S1` when both are true. If the guards contain communication, this applies analogously. For example, following process continuously merges from channels `west0` and `west1`:\n",
    "\n",
    "<div style=\"float:right\" class=\"code-img-pair-container\">\n",
    "  <div>\n",
    "    <img src=\"attachment:Merge.svg\"/>\n",
    "  </div>\n",
    "</div>\n",
    "\n",
    "```\n",
    "process merge\n",
    "    var v: T\n",
    "    do west0 ? v → east ! v\n",
    "     ⫿ west1 ? v → east ! v\n",
    "```"
   ]
  },
  {
   "cell_type": "markdown",
   "metadata": {
    "solution": "hidden",
    "solution_first": true
   },
   "source": [
    "_Question:_ What is the difference to `zip`? Both send to `east` and receive from `west0` and `west1`.\n",
    "```\n",
    "process zip\n",
    "    var v: T\n",
    "    do west0 ? v → east ! v ; west1 ? v ; east ! v\n",
    "```"
   ]
  },
  {
   "cell_type": "markdown",
   "metadata": {
    "slideshow": {
     "slide_type": "fragment"
    },
    "solution": "hidden"
   },
   "source": [
    "*Answer.* Process `zip` will alternate between receiving from `west0` and `west1`, starting with `west0`. On the other hand, `merge` will always receive from either `west0` or `west1`. For example trying to send twice over `west0` will block with `zip` but not with `merge`."
   ]
  },
  {
   "attachments": {
    "Split.svg": {
     "image/svg+xml": [
      "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"
     ]
    }
   },
   "cell_type": "markdown",
   "metadata": {
    "slideshow": {
     "slide_type": "subslide"
    }
   },
   "source": [
    "Likewise, guards can contain send statements. For example, following process passes data from `west` to either `east0` or `east1`:\n",
    "\n",
    "<div style=\"float:right\" class=\"code-img-pair-container\">\n",
    "  <div>\n",
    "    <img src=\"attachment:Split.svg\"/>\n",
    "  </div>\n",
    "</div>\n",
    "\n",
    "```\n",
    "process split\n",
    "    var v: T\n",
    "    west ? v\n",
    "    do east0 ! v → west ? v\n",
    "     ⫿  east1 ! v → west ? v\n",
    "```"
   ]
  },
  {
   "cell_type": "markdown",
   "metadata": {
    "slideshow": {
     "slide_type": "subslide"
    }
   },
   "source": [
    "Guards can contain both a Boolean expression and a communication statement. Communication can take place only when the corresponding guard is true:\n",
    "```\n",
    "process select\n",
    "    var v: T, s: integer\n",
    "    set s to 0 or 1\n",
    "    do s = 0; west0 ? v → east ! v ; set s to 0 or 1\n",
    "     ⫿  s = 1; west1 ? v → east ! v ; set s to 0 or 1\n",
    "```\n",
    "_Question:_ What happens if `s` is set to a value different from `0` and `1`? What would happen if there were no communication statements?"
   ]
  },
  {
   "cell_type": "markdown",
   "metadata": {
    "slideshow": {
     "slide_type": "fragment"
    }
   },
   "source": [
    "If `s` is neither `0` nor `1`, the loop would terminate."
   ]
  },
  {
   "cell_type": "markdown",
   "metadata": {
    "slideshow": {
     "slide_type": "subslide"
    }
   },
   "source": [
    "Likewise, guards can contain send statements.\n",
    "```\n",
    "process distribute\n",
    "    var v: T, s: integer\n",
    "    west ? v ; set s to 0 or 1\n",
    "    do s = 0; east0 ! v → west ? v ; set s to 0 or 1\n",
    "     ⫿ s = 1; east1 ! v → west ? v ; set s to 0 or 1\n",
    "```"
   ]
  },
  {
   "attachments": {
    "Copy.svg": {
     "image/svg+xml": [
      "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"
     ]
    }
   },
   "cell_type": "markdown",
   "metadata": {
    "slideshow": {
     "slide_type": "subslide"
    }
   },
   "source": [
    "In general, guards of `if` and `do` statements can contain both send and receive statements. For example, this allows `copy` to be generalized to a bounded buffer. Below `C` is the capacity of the buffer:\n",
    "\n",
    "<div style=\"float:right\" class=\"code-img-pair-container\">\n",
    "  <div>\n",
    "    <img src=\"attachment:Copy.svg\"/>\n",
    "  </div>\n",
    "</div>\n",
    "\n",
    "```\n",
    "process copy\n",
    "    var buffer: array 0 .. C - 1 of char\n",
    "    var in, out, n: integer = 0, 0, 0\n",
    "    do n < C; west ? buffer(in) → in, n := (in + 1) mod C, n + 1\n",
    "     ⫿  n > 0; east ! buffer(out) → out, n := (out + 1) mod C, n - 1\n",
    "```\n",
    "\n",
    "The `do` loop never terminates as one of the Boolean expression is always true.\n",
    "- if `n = 0`, only the first alternative can be taken; it will be taken when another process executes `west ! E`; processes executing `east ? v` will block\n",
    "- if `n = C`, only the second alternative can be taken; it will be taken when another processes executes `east ? v`; processes executing `west ! E` will block\n",
    "- if `0 < n < C`, either alternative will be taken, depending on another process executing `west ! E` or `east ? v`."
   ]
  },
  {
   "cell_type": "markdown",
   "metadata": {
    "slideshow": {
     "slide_type": "slide"
    }
   },
   "source": [
    "## Types of Processes\n",
    "\n",
    "There are four common types of message-passing processes:\n",
    "\n",
    "- _Filter:_ a filter receives data from its input channels, transforms data, and sends it to its output channels; \n",
    "- _Client:_ a client initiates requests to a server; it may delay until it receives a response\n",
    "- _Server:_ a server is a reactive process: it waits for requests from clients, to which it may be able to respond immediately or would postpone the response. Often, servers run continuously\n",
    "- _Peers:_ peers are \"equal\" processes; they communicate, for example by exchanging a file, but none of the peers is a client or server."
   ]
  },
  {
   "cell_type": "markdown",
   "metadata": {
    "slideshow": {
     "slide_type": "slide"
    }
   },
   "source": [
    "## Unix Pipes and Filters\n",
    "\n",
    "The Unix operating system (including Linux, macOS) allows any program that reads from `stdin` and writes to `stdout` to be a [filter](http://www.linfo.org/filters.html). Files become asynchronous channels (traditionally with 4K bytes capacity).  They can be connected by the _pipe_ operator. Following connects the `stdout` channel of `P` with the `stdin` channel of `Q`:\n",
    "```\n",
    "P | Q\n",
    "```\n",
    "Common filters are `cat`, `sort`, `wc`, `uniq`, `grep`, `ps`, `ls`, `tee`:"
   ]
  },
  {
   "cell_type": "code",
   "execution_count": null,
   "metadata": {},
   "outputs": [],
   "source": [
    "!cat philosophers.go"
   ]
  },
  {
   "cell_type": "code",
   "execution_count": null,
   "metadata": {
    "scrolled": true
   },
   "outputs": [],
   "source": [
    "!cat philosophers.go | wc"
   ]
  },
  {
   "cell_type": "code",
   "execution_count": null,
   "metadata": {},
   "outputs": [],
   "source": [
    "!ps aux | grep root | wc"
   ]
  },
  {
   "cell_type": "markdown",
   "metadata": {
    "slideshow": {
     "slide_type": "fragment"
    }
   },
   "source": [
    "_Question:_ Find out the number of function declarations in `philosophers.go`! Each function declaration starts with `func`."
   ]
  },
  {
   "cell_type": "code",
   "execution_count": null,
   "metadata": {},
   "outputs": [],
   "source": [
    "!cat philosophers.go | grep func"
   ]
  },
  {
   "cell_type": "code",
   "execution_count": null,
   "metadata": {
    "scrolled": true,
    "slideshow": {
     "slide_type": "fragment"
    }
   },
   "outputs": [],
   "source": [
    "!cat philosophers.go | grep func | wc"
   ]
  },
  {
   "cell_type": "markdown",
   "metadata": {
    "slideshow": {
     "slide_type": "-"
    }
   },
   "source": [
    "More complex filters are `tbl`, `eqn`, `troff` for text processing, `pic` for drawing pictures, and `cpp`, the C preprocessor."
   ]
  },
  {
   "cell_type": "markdown",
   "metadata": {
    "slideshow": {
     "slide_type": "slide"
    }
   },
   "source": [
    "## Prime Number Generation\n",
    "\n",
    "The Sieve of Eratosthenes works by starting with all potential prime numbers and successively eliminating all those that a multiples of other numbers.\n",
    "\n",
    "```\n",
    "    2  3  4  5  6  7  8  9 10 11 12 13 14 15 16 17 18 19\n",
    "```\n",
    "\n",
    "Eliminating all multiples of 2 results in:\n",
    "\n",
    "```\n",
    "    2  3     5     7     9    11    13    15    17    19\n",
    "```\n",
    "\n",
    "Eliminating all multiples of 3 results in:\n",
    "\n",
    "```\n",
    "    2  3     5     7          11    13          17    19\n",
    "```\n",
    "\n",
    "Now we can stop, as the first multiple of 5 that would need to be considered is 25; all smaller multiples have already been eliminated.\n",
    "\n",
    "_Question:_ How can that be implemented with communicating processes?"
   ]
  },
  {
   "attachments": {
    "Eratosthenes.svg": {
     "image/svg+xml": [
      "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"
     ]
    }
   },
   "cell_type": "markdown",
   "metadata": {
    "slideshow": {
     "slide_type": "subslide"
    }
   },
   "source": [
    "For determining the first `L` prime numbers, we chain `L` processes. The first process, `sieve(0)` generates all odd numbers starting from `3`. All other processes `sieve(i)` receive first  a prime number, which they keep. For all other numbers they receive, they check if it is a multiple of their prime. If so, they drop it, otherwise they pass it on to the next process.\n",
    "\n",
    "<div class=\"code-img-pair-container\">\n",
    "  <div>\n",
    "    <img src=\"attachment:Eratosthenes.svg\"/>\n",
    "  </div>\n",
    "</div>"
   ]
  },
  {
   "cell_type": "markdown",
   "metadata": {
    "slideshow": {
     "slide_type": "fragment"
    }
   },
   "source": [
    "```\n",
    "var ch: array 0 .. L - 1 of channel[integer]\n",
    "```\n",
    "```\n",
    "process sieve(i: 0 .. L - 1)\n",
    "    if i = 0 then   -- 0-th prime is 2\n",
    "        var j = 3   -- pass odd numbers  \n",
    "        while j < N do\n",
    "            ch(0) ! j ; j := j + 2\n",
    "    else\n",
    "        var p, n: integer   -- prime, next\n",
    "        ch(i - 1) ? p   -- i-th prime is p\n",
    "        while true do\n",
    "            ch(i - 1) ? n\n",
    "            if n mod p ≠ 0 then ch(i) ! n\n",
    "```"
   ]
  },
  {
   "cell_type": "markdown",
   "metadata": {
    "slideshow": {
     "slide_type": "slide"
    }
   },
   "source": [
    "## Processes and Channels in Go\n",
    "\n",
    "In Go, procedures are called functions; processes (threads) are called goroutines and are created (forked) using the syntax\n",
    "```Go\n",
    "go f()\n",
    "```\n",
    "where `f` is a function that can have parameters; there is no equivalent of joining a thread. A synchronous channel is declared by:\n",
    "```Go\n",
    "var c chan int\n",
    "```\n",
    "In addition, a channel needs to be created before it can be used:\n",
    "```Go\n",
    "c = make(chan int)\n",
    "```\n",
    "Sending `E` over channel `c`, in CSP `c ! E`, is written as:\n",
    "```Go\n",
    "c <- E\n",
    "```\n",
    "Receiving `x` over channel `c`, in CSP `c ? x`, is written as:\n",
    "```Go\n",
    "x = <- c\n",
    "```\n",
    "Go treats `<- c` as an expression, which can also be used e.g. as a parameter."
   ]
  },
  {
   "cell_type": "markdown",
   "metadata": {
    "slideshow": {
     "slide_type": "subslide"
    }
   },
   "source": [
    "In Go, there are only `for` loops, which can be used as traditional for loops, as while loops, and as infinite loops. Following program starts a goroutine with an infinite loop. However, the program terminates when the main function terminates. The statement `x := 3` declares `x` to be an integer and sets it to `3`. "
   ]
  },
  {
   "cell_type": "code",
   "execution_count": null,
   "metadata": {},
   "outputs": [],
   "source": [
    "%%writefile printer.go\n",
    "package main\n",
    "\n",
    "var printer chan int\n",
    "\n",
    "func printToScreen() {\n",
    "    for {print(<- printer)}\n",
    "}\n",
    "func main() {\n",
    "    printer = make(chan int)\n",
    "    go printToScreen()\n",
    "    for i := 3; i <= 9; i++ {printer <- i}\n",
    "}"
   ]
  },
  {
   "cell_type": "code",
   "execution_count": null,
   "metadata": {},
   "outputs": [],
   "source": [
    "!go run copy.go"
   ]
  },
  {
   "cell_type": "markdown",
   "metadata": {
    "slideshow": {
     "slide_type": "subslide"
    }
   },
   "source": [
    "Here is the earlier `copy` process with an infinite loop, receiving from `west` and sending to `east`.\n",
    "\n",
    "_Hint:_ Use the <span style=\"color:darkorange\"><tt>l</tt></span> key to turn on line numbers; the line numbers from the Go compiler are off by one, though."
   ]
  },
  {
   "cell_type": "code",
   "execution_count": null,
   "metadata": {},
   "outputs": [],
   "source": [
    "%%writefile copy.go\n",
    "package main\n",
    "\n",
    "var west, east chan int\n",
    "\n",
    "func copyWestEast() {\n",
    "    for {c := <- west; east <- c}\n",
    "}\n",
    "func printToScreen() {\n",
    "    for {print(<- east)}\n",
    "}\n",
    "func main() {\n",
    "    west = make(chan int)\n",
    "    east = make(chan int)\n",
    "    go copyWestEast()\n",
    "    go printToScreen()\n",
    "    for i := 3; i <= 9; i++ {west <- i}\n",
    "}"
   ]
  },
  {
   "cell_type": "code",
   "execution_count": null,
   "metadata": {},
   "outputs": [],
   "source": [
    "!go run copy.go"
   ]
  },
  {
   "cell_type": "markdown",
   "metadata": {
    "slideshow": {
     "slide_type": "subslide"
    }
   },
   "source": [
    "_Question:_ What is the output of following program?"
   ]
  },
  {
   "cell_type": "code",
   "execution_count": null,
   "metadata": {},
   "outputs": [],
   "source": [
    "%%writefile puzzle.go\n",
    "package main\n",
    "\n",
    "var c1, c2 chan int\n",
    "\n",
    "func sub() {\n",
    "    c2 <- 1; println(<- c1)\n",
    "}\n",
    "func main() {\n",
    "    c1 = make(chan int)\n",
    "    c2 = make(chan int)\n",
    "    go sub()\n",
    "    println(<- c1); c2 <- 1\n",
    "}"
   ]
  },
  {
   "cell_type": "code",
   "execution_count": null,
   "metadata": {},
   "outputs": [],
   "source": [
    "!go run puzzle.go"
   ]
  },
  {
   "cell_type": "markdown",
   "metadata": {
    "slideshow": {
     "slide_type": "fragment"
    }
   },
   "source": [
    "Go has built-in deadlock detection, unlike other languages. Hence the program terminates with an error message, rather than being stuck forever."
   ]
  },
  {
   "cell_type": "markdown",
   "metadata": {
    "slideshow": {
     "slide_type": "slide"
    }
   },
   "source": [
    "The following program illustrates the client-server structure in Go. The server is an infinite loop that waits for input from channel `arg`, does the computation, and sends the result back on channel `result`. If a pair of values is sent over a channel, a `struct` needs to be defined. The example also illustrates how a while-loop is expressed in Go:"
   ]
  },
  {
   "cell_type": "code",
   "execution_count": null,
   "metadata": {},
   "outputs": [],
   "source": [
    "%%writefile gcd1.go\n",
    "package main\n",
    "\n",
    "type Arguments struct {x, y int}\n",
    "\n",
    "var args chan Arguments\n",
    "var result chan int\n",
    "\n",
    "func gcd() {\n",
    "    for {\n",
    "        a := <- args\n",
    "        x, y := a.x, a.y\n",
    "        for x != y {\n",
    "            if x > y {x = x - y\n",
    "            } else {y = y - x}\n",
    "        }\n",
    "        result <- x\n",
    "    }\n",
    "}\n",
    "func main() {\n",
    "    args, result = make(chan Arguments), make(chan int)\n",
    "    go gcd()\n",
    "    args <- Arguments{20, 15}; println(<- result)\n",
    "    args <- Arguments{9, 6}; println(<- result)\n",
    "}"
   ]
  },
  {
   "cell_type": "code",
   "execution_count": null,
   "metadata": {},
   "outputs": [],
   "source": [
    "!go run gcd1.go"
   ]
  },
  {
   "cell_type": "markdown",
   "metadata": {
    "slideshow": {
     "slide_type": "subslide"
    }
   },
   "source": [
    "The `range` construct in Go can be used in `for` loops to iterate over\n",
    "- all elements of an array or array slice\n",
    "- all elements of a string\n",
    "- all elements of a map\n",
    "- all values received through a channel"
   ]
  },
  {
   "cell_type": "code",
   "execution_count": null,
   "metadata": {},
   "outputs": [],
   "source": [
    "%%writefile range.go\n",
    "package main\n",
    "\n",
    "func main() {\n",
    "    fib := []int{1, 1, 2, 3, 5, 8, 13}\n",
    "    for i, v := range(fib) {println(i, v)}\n",
    "    forecast := \"☀️🌨⛄️🌬\"\n",
    "    for i, c := range(forecast) {println(i, c)} // caution\n",
    "    days := map[string]int{\"mon\":0, \"tue\":1, \"wed\":2, \"thu\":3, \"fri\":4, \"sat\":5, \"sun\":6}\n",
    "    for s, n := range(days) {println(s, n)}\n",
    "}"
   ]
  },
  {
   "cell_type": "code",
   "execution_count": null,
   "metadata": {},
   "outputs": [],
   "source": [
    "!go run range.go"
   ]
  },
  {
   "cell_type": "markdown",
   "metadata": {
    "slideshow": {
     "slide_type": "subslide"
    }
   },
   "source": [
    "A loop over `range(c)` for channel `c` will iterate until the channel is _closed_. This can be used to shut down a server: "
   ]
  },
  {
   "cell_type": "code",
   "execution_count": null,
   "metadata": {},
   "outputs": [],
   "source": [
    "%%writefile gcd2.go\n",
    "package main\n",
    "import \"time\"\n",
    "\n",
    "type Arguments struct {x, y int}\n",
    "\n",
    "var args chan Arguments\n",
    "var result chan int\n",
    "\n",
    "func gcd() {\n",
    "    for a := range args {\n",
    "        x, y := a.x, a.y\n",
    "        for x != y {\n",
    "            if x > y {x = x - y}\n",
    "            else {y = y - x}\n",
    "        }\n",
    "        result <- x\n",
    "    }\n",
    "    println(\"gcd done\");\n",
    "}\n",
    "func main() {\n",
    "    args, result = make(chan Arguments), make(chan int)\n",
    "    go gcd()\n",
    "    args <- Arguments{20, 15}; println(<- result)\n",
    "    args <- Arguments{9, 6}; println(<- result)\n",
    "    close(args); time.Sleep(time.Second)\n",
    "    println(\"main done\")\n",
    "}"
   ]
  },
  {
   "cell_type": "code",
   "execution_count": null,
   "metadata": {},
   "outputs": [],
   "source": [
    "!go run gcd2.go"
   ]
  },
  {
   "cell_type": "markdown",
   "metadata": {
    "solution": "hidden",
    "solution_first": true
   },
   "source": [
    "_Question:_ What happens if the `time.Sleep` statement is left out?"
   ]
  },
  {
   "cell_type": "markdown",
   "metadata": {
    "slideshow": {
     "slide_type": "fragment"
    },
    "solution": "hidden"
   },
   "source": [
    "*Answer.* Above program terminates when `main` terminates; without `time.Sleep`, the `gcd` goroutine may not print `\"gcd done\"`  before the program terminates."
   ]
  },
  {
   "cell_type": "markdown",
   "metadata": {
    "slideshow": {
     "slide_type": "fragment"
    }
   },
   "source": [
    "_Exercise:_ Relying on timing for a thread to finish its work is not recommendable. Modify the program such that `gcd` sends an acknowledgment when it is done and `main` waits for that acknowledgment, instead of sleeping."
   ]
  },
  {
   "cell_type": "code",
   "execution_count": null,
   "metadata": {
    "slideshow": {
     "slide_type": "subslide"
    }
   },
   "outputs": [],
   "source": [
    "%%writefile gcd3.go\n",
    "package main\n",
    "\n",
    "type Arguments struct {x, y int}\n",
    "\n",
    "var args chan Arguments\n",
    "var result chan int\n",
    "\n",
    "func gcd() {\n",
    "    for a := range args {\n",
    "        x, y := a.x, a.y\n",
    "        for x != y {\n",
    "            if x > y {x = x - y\n",
    "            } else {y = y - x}\n",
    "        }\n",
    "        result <- x\n",
    "    }\n",
    "    println(\"gcd done\")\n",
    "    result <- -1\n",
    "}\n",
    "func main() {\n",
    "    args, result = make(chan Arguments), make(chan int)\n",
    "    go gcd()\n",
    "    args <- Arguments{20, 15}; println(<- result)\n",
    "    args <- Arguments{9, 6}; println(<- result)\n",
    "    close(args); <- result\n",
    "    println(\"main done\")\n",
    "}"
   ]
  },
  {
   "cell_type": "code",
   "execution_count": null,
   "metadata": {},
   "outputs": [],
   "source": [
    "!go run gcd3.go"
   ]
  },
  {
   "cell_type": "markdown",
   "metadata": {
    "slideshow": {
     "slide_type": "subslide"
    }
   },
   "source": [
    "Receiving over a channel can also take the form\n",
    "```Go\n",
    "x, ok = <- c\n",
    "```\n",
    "Variable `ok` is set of `false` if the channel is closed and to `true` otherwise. "
   ]
  },
  {
   "cell_type": "code",
   "execution_count": null,
   "metadata": {},
   "outputs": [],
   "source": [
    "%%writefile closed.go\n",
    "package main\n",
    "import \"time\"\n",
    "\n",
    "var c, d chan int\n",
    "\n",
    "func printing() {\n",
    "    for {\n",
    "        x, ok := <- c\n",
    "        if !ok {break}\n",
    "        println(x)\n",
    "    }\n",
    "    for x := range(d) {\n",
    "        println(x)\n",
    "    }\n",
    "    println(\"done printing\")\n",
    "}\n",
    "func main() {\n",
    "    c, d = make(chan int), make(chan int)\n",
    "    go printing()\n",
    "    c <- 3; c <- 5; close(c)\n",
    "    d <- 7; d <- 9; close(d)\n",
    "    time.Sleep(time.Second)\n",
    "}"
   ]
  },
  {
   "cell_type": "code",
   "execution_count": null,
   "metadata": {},
   "outputs": [],
   "source": [
    "!go run closed.go"
   ]
  },
  {
   "cell_type": "markdown",
   "metadata": {
    "slideshow": {
     "slide_type": "subslide"
    }
   },
   "source": [
    "An alternative to closing a channel is to send a dedicated _end of stream_ value. In the following implementation of the Sieve of Eratosthenes, the generating process, `sieve(0)`, sends `EOS` as the last value and terminates. All other processes of the sieve pass `EOS` on once they received it and terminate. The main program starts all processes and waits to receive `EOS`."
   ]
  },
  {
   "cell_type": "code",
   "execution_count": null,
   "metadata": {},
   "outputs": [],
   "source": [
    "%%writefile eratosthenes.go\n",
    "\n",
    "package main\n",
    "\n",
    "const N = 100\n",
    "const L = 15 // length of chain of filters\n",
    "const EOS = -1 // end of stream\n",
    "\n",
    "var c [L] chan int\n",
    "\n",
    "func sieve(i int) {\n",
    "    if i == 0 {\n",
    "        println(\"prime\", 0, 2) // 0-th prime is 2\n",
    "        for j := 3; j < N; j += 2 {c[0] <- j}\n",
    "        c[0] <- EOS\n",
    "    } else {\n",
    "        p := <- c[i - 1]; println(\"prime\", i, p) // i-th prime is p\n",
    "        n := <- c[i - 1]\n",
    "        for n != EOS {\n",
    "            if n % p != 0 {c[i] <- n}\n",
    "            n = <- c[i - 1]\n",
    "        }\n",
    "        c[i] <- EOS\n",
    "    }\n",
    "}\n",
    "func main() {\n",
    "    for i := 0; i < L; i++ {c[i] = make(chan int)}\n",
    "    for i := 0; i < L; i++ {go sieve(i)}\n",
    "    <- c[L - 1] // receiving EOS\n",
    "}"
   ]
  },
  {
   "cell_type": "code",
   "execution_count": null,
   "metadata": {},
   "outputs": [],
   "source": [
    "!go run eratosthenes.go"
   ]
  },
  {
   "attachments": {
    "VectorMult.svg": {
     "image/svg+xml": [
      "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"
     ]
    }
   },
   "cell_type": "markdown",
   "metadata": {
    "slideshow": {
     "slide_type": "slide"
    }
   },
   "source": [
    "## Vector Multiplication\n",
    "\n",
    "Suppose `in` is an `n`-dimensional vector that is to be multiplied by a fixed vector `v` of length `n`. The resulting scalar product is\n",
    "```\n",
    "out = ∑ i ∈ 0 .. n - 1 • v(i) × in(i)\n",
    "```\n",
    "We generalize this to `in` being a channel, delivering a stream of vectors to be multiplied with `v`,and `out` being a channel, accepting a stream of numbers. First, we rewrite `out` using the usual inductive definition of `∑` and auxiliary vector `mid(i)`, for `0 ≤ i ≤ n`:\n",
    "\n",
    "<div style=\"display:table; margin-left:18pt; margin-top:1em transparent white\">\n",
    "  <div style = \"display:table-cell; margin-left:0px\">\n",
    " \n",
    "`mid(0)`  \n",
    "`mid(i + 1)`  \n",
    "`out`  \n",
    "\n",
    "  </div>\n",
    "  <div style = \"display:table-cell\">\n",
    "  \n",
    "`=`  \n",
    "`=`  \n",
    "`=`  \n",
    "\n",
    "  </div>\n",
    "  <div style = \"display:table-cell\">\n",
    "  \n",
    "`0`  \n",
    "`v(i) × in(i) + mid(i)   for 0 ≤ i < n`  \n",
    "`mid(n)`  \n",
    "\n",
    "  </div>\n",
    "</div>\n",
    "\n",
    "For example, for `n = 3`:<br><br>\n",
    "\n",
    "<div class=\"code-img-pair-container\" style = \"margin-left:0px\">\n",
    "  <div style = \"width:68%;margin-top:0px\">\n",
    "\n",
    "<div style=\"display:table\">\n",
    "  <div style = \"display:table-cell; margin-left:0px\">\n",
    " \n",
    "`mid(0)`  \n",
    "`mid(1)`  \n",
    "` `  \n",
    "`mid(2)`  \n",
    "` `  \n",
    "`mid(3)`  \n",
    "` `  \n",
    "`out`\n",
    "\n",
    "  </div>\n",
    "  <div style = \"display:table-cell\">\n",
    "  \n",
    "`=`  \n",
    "`=`  \n",
    "`=`  \n",
    "`=`  \n",
    "`=`  \n",
    "`=`  \n",
    "`=`  \n",
    "`=`  \n",
    "\n",
    "  </div>\n",
    "  <div style = \"display:table-cell\">\n",
    "  \n",
    "`0`  \n",
    "`v(0) × in(0) + mid(0)`  \n",
    "`v(0) × in(0)`  \n",
    "`v(1) × in(1) + mid(1)`  \n",
    "`v(1) × in(1) + v(0) × in(0)`  \n",
    "`v(2) × in(2) + mid(2)`  \n",
    "`v(2) × in(2) + v(1) × in(1) + v(0) × in(0)`  \n",
    "`mid(3)`  \n",
    "\n",
    "  </div>\n",
    "</div>\n",
    "\n",
    "To parallelize the computation, we decide to have `n` processes, each one performing a multiplication and addition:<br><br>\n",
    "\n",
    "```Go\n",
    "func scalarmult(v int, in, mid, out chan int) {\n",
    "    for {out <- v * <- in + <- mid}\n",
    "}\n",
    "```\n",
    "\n",
    "</div>\n",
    "  <div style = \"border-left:30px solid white\">\n",
    "    <img src=\"attachment:VectorMult.svg\"/>\n",
    "  </div>\n",
    "</div>"
   ]
  },
  {
   "cell_type": "code",
   "execution_count": null,
   "metadata": {
    "slideshow": {
     "slide_type": "subslide"
    }
   },
   "outputs": [],
   "source": [
    "%%writefile vectormult.go\n",
    "package main\n",
    "\n",
    "const N = 4\n",
    "\n",
    "var in [N] chan int\n",
    "var out chan int\n",
    "\n",
    "func scalarmult(v int, in, mid, out chan int) {\n",
    "    for {out <- v * <- in + <- mid}\n",
    "}\n",
    "func vectormult(v [N] int) {\n",
    "    var mid [N] chan int\n",
    "    for i := 0; i < N; i++ {mid[i] = make(chan int)}\n",
    "    for i := 0; i < N - 1; i++ {go scalarmult(v[i], in[i], mid[i], mid[i + 1])}\n",
    "    go scalarmult(v[N - 1], in[N - 1], mid[N - 1], out)\n",
    "    for {mid[0] <- 0}\n",
    "}\n",
    "func genstream() {\n",
    "    for r := 0; r < 20; r++ {\n",
    "        for i := 0; i < N; i++ {in[i] <- r}\n",
    "    }\n",
    "}\n",
    "func main() {\n",
    "    for i := 0; i < N; i++ {in[i] = make(chan int)}\n",
    "    out = make(chan int)\n",
    "    go genstream()\n",
    "    go vectormult([4]int{3, 7, 8, 5})\n",
    "    for {println(<- out)} "
   ]
  },
  {
   "cell_type": "code",
   "execution_count": null,
   "metadata": {},
   "outputs": [],
   "source": [
    "!go run vectormult.go"
   ]
  },
  {
   "cell_type": "markdown",
   "metadata": {
    "slideshow": {
     "slide_type": "slide"
    }
   },
   "source": [
    "## Guarded Communication in Go\n",
    "\n",
    "An `if` statement with guarded communication is expressed by the `select` statement:\n",
    "```Go\n",
    "select {\n",
    "    case x = <- c: // receives x from channel c\n",
    "    case y := <- c: // declares y and receives y from channel c\n",
    "    case z, ok = <- c: // succeeds and ok set to false if c is closed\n",
    "    case c <- 7: // send 7 over channel c\n",
    "}\n",
    "```\n",
    "The `select` statement waits until communication on any of the cases is possible. The cases cannot have Boolean expressions. The `select` statement can also have a `default` if no communication is possible.\n",
    "```Go\n",
    "select {\n",
    "    case ...\n",
    "    default: // taken if no communication possible\n",
    "}\n",
    "```\n",
    "The effect of `default` may depend on scheduling and should therefore be used cautiously. The empty `select` statement blocks forever:\n",
    "```Go\n",
    "select {}\n",
    "```"
   ]
  },
  {
   "cell_type": "markdown",
   "metadata": {
    "slideshow": {
     "slide_type": "subslide"
    }
   },
   "source": [
    "_Question:_ What does following program print?"
   ]
  },
  {
   "cell_type": "code",
   "execution_count": null,
   "metadata": {},
   "outputs": [],
   "source": [
    "%%writefile zerosandones.go\n",
    "package main\n",
    "\n",
    "var c chan int\n",
    "\n",
    "func send0and1() {\n",
    "    for {\n",
    "        select {\n",
    "            case c <- 0:\n",
    "            case c <- 1:\n",
    "        }\n",
    "    }\n",
    "}\n",
    "func main() {\n",
    "    c = make(chan int)\n",
    "    go send0and1()\n",
    "    for i := 0; i < 100; i++ {print(<- c)}\n",
    "}"
   ]
  },
  {
   "cell_type": "code",
   "execution_count": null,
   "metadata": {},
   "outputs": [],
   "source": [
    "!go run zerosandones.go"
   ]
  },
  {
   "cell_type": "markdown",
   "metadata": {
    "slideshow": {
     "slide_type": "fragment"
    }
   },
   "source": [
    "*Answer.* The created goroutine nondeterministically sends `0` or `1` over `c`; in Go, nondeterminism is resolved randomly, so the program prints a random sequence of `0`'s and `1`'s."
   ]
  },
  {
   "cell_type": "markdown",
   "metadata": {
    "slideshow": {
     "slide_type": "slide"
    }
   },
   "source": [
    "## Bounded Buffer with Go\n",
    "\n",
    "A bounded buffer can only receive if the buffer is empty, can only send if the buffer is full, and can send or receive if the buffer is in between. As Go does not allow communication statements in guards of loops and does not allow Boolean expressions in `select` statements, a `for` loop with an explicit case analysis by `if` statements is needed:"
   ]
  },
  {
   "cell_type": "code",
   "execution_count": null,
   "metadata": {},
   "outputs": [],
   "source": [
    "%%writefile bufferedcopy.go\n",
    "package main\n",
    "\n",
    "var west, east chan int\n",
    "\n",
    "func copyWestEast() {\n",
    "    const C = 10\n",
    "    var buffer [C] int\n",
    "    var in, out, n int\n",
    "    for {\n",
    "        if n == C { // buffer full, send to east\n",
    "            east <- buffer[out]; out, n = (out + 1) % C, n - 1\n",
    "        } else if n == 0 { // buffer empty, receive from west\n",
    "            buffer[in] = <- west;   in, n = (in + 1) % C, n + 1\n",
    "        } else { // either send to east or receive from west\n",
    "            select {\n",
    "                case east <- buffer[out]: out, n = (out + 1) % C, n - 1\n",
    "                case buffer[in] = <- west: in, n = (in + 1) % C, n + 1\n",
    "            }\n",
    "        }\n",
    "    }\n",
    "}\n",
    "func printToScreen() {\n",
    "    for v := range(east) {print(v, \" \")}\n",
    "}\n",
    "func main() {\n",
    "    west = make(chan int)\n",
    "    east = make(chan int)\n",
    "    go copyWestEast()\n",
    "    go printToScreen()\n",
    "    for i := 0; i < 30; i++ {west <- i}\n",
    "}"
   ]
  },
  {
   "cell_type": "code",
   "execution_count": null,
   "metadata": {},
   "outputs": [],
   "source": [
    "!go run bufferedcopy.go"
   ]
  },
  {
   "cell_type": "markdown",
   "metadata": {
    "slideshow": {
     "slide_type": "fragment"
    }
   },
   "source": [
    "Note that not necessarily all numbers are printed: the program terminates when `main` terminates, even if other goroutines are still running."
   ]
  },
  {
   "attachments": {
    "DiningPhilosophers.svg": {
     "image/svg+xml": [
      "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"
     ]
    }
   },
   "cell_type": "markdown",
   "metadata": {
    "slideshow": {
     "slide_type": "slide"
    }
   },
   "source": [
    "## Dining Philosophers in Go\n",
    "\n",
    "Both philosophers and forks are processes (goroutines) communicating via channels:\n",
    "\n",
    "<div class=\"code-img-pair-container\">\n",
    "<div style = \"width:60%\">\n",
    "<ul>\n",
    "<li> forks are shared between two philosophers: they get a request from either their left-hand or their right-hand philosopher\n",
    "<li>\n",
    "\n",
    "there are 5 `right` channels and 5 `left` channels; `right[i]` connects `fork[i]` with `philosopher[i]` and `left[i]` connects `fork[i]` with `philosopher[(i - 1) % 5])`\n",
    "\n",
    "<li>\n",
    "\n",
    "fork `i` receives acquire and release notifications through `left[i]` and `right[i]`\n",
    "\n",
    "<li>\n",
    "\n",
    "philosopher `i` picks up the forks by sending a notification to its left-hand fork, fork `i`, through that fork's right-hand channel, and then to its right-hand fork, fork `(i + 1) % 5`, through that fork's left-hand channel\n",
    "\n",
    "<li> philosophers put down the forks by sending a notification again over to their left-hand fork and then their right-hand fork\n",
    "<li> when forks are released by the philosopher who acquired it, they are ready to accept a new request again.\n",
    "</ul>\n",
    "</div>\n",
    "    <div style = \"border-left:0px solid white\">\n",
    "        <img src=\"attachment:DiningPhilosophers.svg\"/>\n",
    "    </div>\n",
    "</div>\n",
    "\n",
    "The channels are only used for synchronization, no data is being sent. As channel declarations in Go always require a type, `bool` is used and an arbitrary value is sent. The blocking `select {}` statement at the end of `main` prevents the program from terminating immediately."
   ]
  },
  {
   "cell_type": "code",
   "execution_count": null,
   "metadata": {},
   "outputs": [],
   "source": [
    "%%writefile philosophers.go\n",
    "package main\n",
    "import (\"time\"; \"math/rand\")\n",
    "\n",
    "var left, right [5] chan bool\n",
    "var ph [5] string\n",
    "\n",
    "func philosopherState(i int, s string) {\n",
    "    ph[i] = s; println(ph[0], ph[1], ph[2], ph[3], ph[4])\n",
    "    time.Sleep(time.Second * time.Duration(rand.Int() % 4)) // sleep between 0 and 3 sec\n",
    "}\n",
    "func fork(i int) {\n",
    "    for {\n",
    "        select {\n",
    "            case <-left[i]: <- left[i]\n",
    "            case <-right[i]: <- right[i]\n",
    "        }\n",
    "    }\n",
    "}\n",
    "func philosopher(i int) {\n",
    "    for {\n",
    "        philosopherState(i, \"thinks\")\n",
    "        right[i] <- true; left[(i + 1) % 5] <- true\n",
    "        philosopherState(i, \"eats  \")\n",
    "        right[i] <- false; left[(i + 1) % 5] <- false\n",
    "    }\n",
    "}\n",
    "func main() {\n",
    "    for i := 0; i < 5; i++ {left[i], right[i], ph[i] = make(chan bool), make(chan bool), \"thinks\"}\n",
    "    for i := 0; i < 5; i++ {go fork(i); go philosopher(i)}\n",
    "    select {}\n",
    "}"
   ]
  },
  {
   "cell_type": "markdown",
   "metadata": {},
   "source": [
    "_Question:_ Will the program deadlock or not?"
   ]
  },
  {
   "cell_type": "code",
   "execution_count": null,
   "metadata": {},
   "outputs": [],
   "source": [
    "!go run philosophers.go"
   ]
  },
  {
   "cell_type": "markdown",
   "metadata": {
    "slideshow": {
     "slide_type": "slide"
    }
   },
   "source": [
    "## Asynchronous Message Passing\n",
    "\n",
    "In asynchronous message passing channels can store messages. The send operation does not block if the channel can store the sent message, irrespective if the receiver is ready or not. The receive operation blocks only if the channel is empty. The channel can have an (idealized) _unbounded_ capacity or can be bounded. We consider channels with bounded capacity, as an unbounded channel is a bounded channel with capacity `∞`. The notation is\n",
    "```\n",
    "var v: channel[T](C)\n",
    "```\n",
    "where `T` is a type or a list of types and `C` is a positive integer, the capacity. For example:\n",
    "```\n",
    "var requests: channel[string](100)\n",
    "```\n",
    "[Erlang](http://erlang.org/download/erlang-book-part1.pdf) uses asychronous message passing as the fundamental communication construct."
   ]
  },
  {
   "cell_type": "markdown",
   "metadata": {
    "slideshow": {
     "slide_type": "subslide"
    }
   },
   "source": [
    "Formally, an asynchronous channel `var c: channel[T](C)` is like a variable `c` of type `seq[T]`; sending and receiving simply appends to the sequence and removes the first element, provided that the sequence is not full or not empty.\n",
    "\n",
    "**Definition of asynchronous communication:**\n",
    "\n",
    "<div style=\"display:table; border-top:1em solid white\">\n",
    "  <div style = \"display:table-cell; border-left:24px solid white\">\n",
    " \n",
    "`var c: channel[T](C)`  \n",
    "`c ! E`  \n",
    "`c ? v`  \n",
    "\n",
    "  </div>\n",
    "  <div style = \"display:table-cell; border-left:24px solid white\">\n",
    "  \n",
    "`=`  \n",
    "`=`  \n",
    "`=`  \n",
    "\n",
    "  </div>\n",
    "  <div style = \"display:table-cell; border-left:24px solid white\">\n",
    "  \n",
    "`var c: seq[T] = []`  \n",
    "`⟨#c < C → c := c + [E]⟩`  \n",
    "`⟨#c > 0 → v, c := c(0), c[1:]⟩`  \n",
    "\n",
    "  </div>\n",
    "</div>\n",
    "\n",
    "These definitions can be used to reason about programs with channels as about any programs with global variables (the channels being the global variables). However, a \"more algebraic\" style of reasoning is possible, which is the motivation for [process algebras](http://www.cs.vu.nl/~wanf/BOOKS/procalg.pdf)."
   ]
  },
  {
   "cell_type": "markdown",
   "metadata": {
    "slideshow": {
     "slide_type": "slide"
    }
   },
   "source": [
    "## Laws of Programs\n",
    "\n",
    "Let `S`, `T`, `U` be statements, `v`, `w` disjoint list of variables, and `B`, `E`, `F` expressions.\n",
    "\n",
    "Sequential composition is associative (allowing to leave out parenthesis), has `skip` as unit, and `stop` as left-zero:\n",
    "\n",
    "<span style = \"float:right\">(L1)</span>\n",
    "```\n",
    "(S ; T) ; U   =   S ; (T ; U)\n",
    "```\n",
    "<span style = \"float:right\">(L2)</span>\n",
    "```\n",
    "S ; skip   =   S   =   skip ; S\n",
    "```\n",
    "<span style = \"float:right\">(L3)</span>\n",
    "```\n",
    "stop ; S   =   stop\n",
    "```\n",
    "\n",
    "_Question:_ Is `stop` also right-zero, i.e. is `S ; stop` equal to `stop`?"
   ]
  },
  {
   "cell_type": "markdown",
   "metadata": {
    "slideshow": {
     "slide_type": "fragment"
    }
   },
   "source": [
    "If `S` communicates with other processes, `S ; stop  =  stop` does not hold. In particular, if `S` keeps communicating and does not terminate, we would have rather `S ; stop  =  S`."
   ]
  },
  {
   "cell_type": "markdown",
   "metadata": {
    "slideshow": {
     "slide_type": "subslide"
    }
   },
   "source": [
    "Parallel composition is commutative, associative, and has `skip` as unit:\n",
    "\n",
    "<span style = \"float:right\">(L4)</span>\n",
    "```\n",
    "S ‖ T   =   T ‖ S\n",
    "```\n",
    "<span style = \"float:right\">(L5)</span>\n",
    "```\n",
    "(S ‖ T) ‖ U   =   S ‖ (T ‖ U)\n",
    "```\n",
    "<span style = \"float:right\">(L6)</span>\n",
    "```\n",
    "S ‖ skip   =   S\n",
    "```\n",
    "_Question:_ Is `stop` also unit of parallel composition, i.e. is `S ‖ stop` equal to `S`, or is `stop` zero of parallel composition, i.e. is `S ‖ stop` equal to `stop`?"
   ]
  },
  {
   "cell_type": "markdown",
   "metadata": {
    "slideshow": {
     "slide_type": "fragment"
    }
   },
   "source": [
    "As `stop` does not terminate, neither will `S ‖ stop`, so that is not equal to `S` for terminating `S`. If `S` communicates, then `S ‖ stop` is also not equal to `S`. "
   ]
  },
  {
   "cell_type": "markdown",
   "metadata": {
    "slideshow": {
     "slide_type": "subslide"
    }
   },
   "source": [
    "Nondeterministic choice is idempotent, commutative, associative, and has `stop` as unit:\n",
    "\n",
    "<span style = \"float:right\">(L7)</span>\n",
    "```\n",
    "S ⫿ S   =   S\n",
    "```\n",
    "<span style = \"float:right\">(L8)</span>\n",
    "```\n",
    "S ⫿ T   =   T ⫿ S\n",
    "```\n",
    "<span style = \"float:right\">(L9)</span>\n",
    "```\n",
    "(S ⫿ T) ⫿ U   =   S ⫿ (T ⫿ U)\n",
    "```\n",
    "<span style = \"float:right\">(L10)</span>\n",
    "```\n",
    "S ⫿ stop   =   S\n",
    "```\n",
    "\n",
    "_Question:_ Is parallel composition also idempotent, i.e. is `S ‖ S` equal to `S`?"
   ]
  },
  {
   "cell_type": "markdown",
   "metadata": {
    "slideshow": {
     "slide_type": "fragment"
    }
   },
   "source": [
    "If `S  =  x := x + 1`, then `S ‖ S` is not the same as `S`, so parallel composition is not idempotent in general. Sequential composition is not idempotent either. However, idempotency plays a role in the sequential composition of [REST API calls](http://restcookbook.com/HTTP%20Methods/idempotency/)."
   ]
  },
  {
   "cell_type": "markdown",
   "metadata": {
    "slideshow": {
     "slide_type": "subslide"
    }
   },
   "source": [
    "Sequential composition distributes over nondeterministic choice to the left: first choosing between `S` and `T` and the continuing with `U` is the same as choosing between `S` followed by `U` and `T` followed by `U`:\n",
    "\n",
    "<span style = \"float:right\">(L11)</span>\n",
    "```\n",
    "(S ⫿ T) ; U   =   (S ; U) ⫿ (T ; U)\n",
    "```\n",
    "\n",
    "_Question:_ Does sequential composition distribute over nondeterministic choice to the right, i.e. is `S ; (T ⫿ U)` the  same as `(S ; T) ⫿ (S ; U)`?"
   ]
  },
  {
   "cell_type": "markdown",
   "metadata": {
    "slideshow": {
     "slide_type": "fragment"
    }
   },
   "source": [
    "For example `S ; (T ⫿ stop)` is the same as `S ; T`, but is different from `(S ; T) ⫿ (S ; stop)` in case `S` communicates via global variables with another process."
   ]
  },
  {
   "cell_type": "markdown",
   "metadata": {
    "slideshow": {
     "slide_type": "subslide"
    }
   },
   "source": [
    "Parallel composition also distributes over nondeterministic choice. As parallel composition is commutative, we need to give only one direction:\n",
    "\n",
    "<span style = \"float:right\">(L12)</span>\n",
    "```\n",
    "S ‖ (T ⫿ U)   =   (S ‖ T) ⫿ (S ‖ U)\n",
    "```\n",
    "_Question:_ Does nondeterministic choice also distribute over parallel composition, i.e. is `S ⫿ (T ‖ U)` equal to `(S ⫿ T) ‖ (S ⫿ U)`?"
   ]
  },
  {
   "cell_type": "markdown",
   "metadata": {
    "slideshow": {
     "slide_type": "fragment"
    }
   },
   "source": [
    "In `S ⫿ (T ‖ U)`, statement `S` may be executed only once, in `(S ⫿ T) ‖ (S ⫿ U)` is may be executed twice, so they cannot be the same."
   ]
  },
  {
   "cell_type": "markdown",
   "metadata": {
    "slideshow": {
     "slide_type": "subslide"
    }
   },
   "source": [
    "Parallel composition relates to sequential composition and nondeterministic choice as follows. In the case both operands are atomic, their parallel composition is the same as executing them in any order:\n",
    "\n",
    "<span style = \"float:right\">(L13)</span>\n",
    "```\n",
    "⟨S⟩ ‖ ⟨T⟩   =   (⟨S⟩ ; ⟨T⟩) ⫿ (⟨T⟩ ; ⟨S⟩)\n",
    "```\n",
    "\n",
    "_Question:_ Above, `⟨S⟩` and `⟨T⟩` are atomic. Give an example why in general `S ‖ T  =  (S ; T) ⫿ (T ; S)` does not hold!"
   ]
  },
  {
   "cell_type": "markdown",
   "metadata": {
    "slideshow": {
     "slide_type": "fragment"
    }
   },
   "source": [
    "Consider `S  =  T  =  x := x + 1`. Then `S ‖ T` will increment `x` by `1` or `2`, but  `(S ; T) ⫿ (T ; S)` will always increment `x` by `2`."
   ]
  },
  {
   "cell_type": "markdown",
   "metadata": {
    "slideshow": {
     "slide_type": "subslide"
    }
   },
   "source": [
    "In case both operands start with an atomic statement, their parallel composition would nondeterministically execute one of the atomic statements first and then the rest:\n",
    "\n",
    "<span style = \"float:right\">(L14)</span>\n",
    "```\n",
    "(⟨S⟩ ; T) ‖ (⟨U⟩ ; V)   =   (⟨S⟩ ; (T ‖ ⟨U⟩ ; V)) ⫿ (⟨U⟩ ; (⟨S⟩ ; T) ‖ V))\n",
    "```\n",
    "\n",
    "A guarded atomic statement with a true guard is always executed and with a false guard never executed:\n",
    "\n",
    "<span style = \"float:right\">(L15)</span>\n",
    "```\n",
    "⟨true → S⟩   =   ⟨S⟩\n",
    "```\n",
    "<span style = \"float:right\">(L16)</span>\n",
    "```\n",
    "⟨false → S⟩   =   stop\n",
    "```"
   ]
  },
  {
   "cell_type": "markdown",
   "metadata": {
    "slideshow": {
     "slide_type": "subslide"
    }
   },
   "source": [
    "If a variable is declared but not used, the declaration can be omitted:\n",
    "\n",
    "<span style = \"float:right\">(L17)</span>\n",
    "```\n",
    "var v: V · S   =   S   provided v does not occur in S\n",
    "```\n",
    "\n",
    "If a variable is only assigned and not used, the assignment and the declaration can be omitted:\n",
    "\n",
    "<span style = \"float:right\">(L18)</span>\n",
    "```\n",
    "var v: V · v, w := E, F   =   w := F\n",
    "```\n",
    "\n",
    "Declaring an initialized variable is the same as declaring an uninitialized variable and the initializing it:\n",
    "\n",
    "<span style = \"float:right\">(L19)</span>\n",
    "```\n",
    "var v: V = E ; S   =   var v: V · v := E ; S\n",
    "```\n",
    "\n",
    "More generally, if initialized a variable is declared and then assigned a new value, the initialization can be left out if the initialization is \"merged\" into the assignment:\n",
    "\n",
    "<span style = \"float:right\">(L20)</span>\n",
    "```\n",
    "var v: V = E · v := F ; S   =   var v: V · v := F[v := E] ; S\n",
    "```\n",
    "\n",
    "For example, `var x: integer = 3 · x := x + 1 ; S` is the same as `var x: integer = 3 · x := (x + 1)[x := 3] ; S`, which in turn is the same as `var x: integer · x := 4 ; S`. This can be further generalized for an atomic guarded assignment statement:\n",
    "\n",
    "<span style = \"float:right\">(L21)</span>\n",
    "```\n",
    "var v: V = E · ⟨B → v := F⟩ ; S   =   var v: V · ⟨B[v := E] → v := F[v := E]⟩ ; S\n",
    "```\n",
    "\n",
    "Declaring a variable global to two nondeterministic alternatives is the same as declaring it local in each of the alternatives:\n",
    "\n",
    "<span style = \"float:right\">(L22)</span>\n",
    "```\n",
    "var v: V = E · (S ⫿ T)   =   (var v: V = E · S) ⫿ (var v: V = E · T)\n",
    "```"
   ]
  },
  {
   "cell_type": "markdown",
   "metadata": {
    "slideshow": {
     "slide_type": "subslide"
    }
   },
   "source": [
    "If the goal of a distributed system is to achieve something what could be done without distribution, then these laws can in principle be used for showing the equivalence. For example, we can prove that\n",
    "```\n",
    "var c: channel[integer](1) · c ! 7 ‖ c ? x   =   x := 7\n",
    "```\n",
    "as follows:\n",
    "```\n",
    "    var c: channel[integer](1) · c ! 7 ‖ c ? x\n",
    "```\n",
    "```\n",
    "=        «by definitions»\n",
    "```\n",
    "```\n",
    "    var c = [] · ⟨#c < 1 → c := c + [7]⟩ ‖ ⟨#c > 0 → x, c := c(0), c[1:]⟩\n",
    "```\n",
    "```\n",
    "=        «by (L13)»\n",
    "```\n",
    "```\n",
    "    var c = [] · \n",
    "        (⟨#c < 1 → c := c + [7]⟩ ; ⟨#c > 0 → x, c := c(0), c[1:]⟩) ⫿\n",
    "        (⟨#c > 0 → x, c := c(0), c[1:]⟩ ; ⟨#c < 1 → c := c + [7]⟩)\n",
    "```\n",
    "```\n",
    "=        «by (L22)»\n",
    "```\n",
    "```\n",
    "    (var c = [] · ⟨#c < 1 → c := c + [7]⟩ ; ⟨#c > 0 → x, c := c(0), c[1:]⟩) ⫿\n",
    "    (var c = [] · ⟨#c > 0 → x, c := c(0), c[1:]⟩ ; ⟨#c < 1 → c := c + [7]⟩)\n",
    "```\n",
    "```\n",
    "=        «by (L21)»\n",
    "```\n",
    "```\n",
    "    (var c: seq[integer] · ⟨#[] < 1 → c := [] + [7]⟩ ; ⟨#c > 0 → x, c := c(0), c[1:]⟩) ⫿\n",
    "    (var c: seq[integer] · ⟨#[] > 0 → x, c := [](0), [][1:]⟩ ; ⟨#c < 1 → c := c + [7]⟩)\n",
    "```\n",
    "```\n",
    "=        «by (L15), (L16), simplifications»\n",
    "```\n",
    "```\n",
    "    (var c: seq[integer] · c := [7] ; ⟨#c > 0 → x, c := c(0), c[1:]⟩) ⫿\n",
    "    (var c: seq[integer] · stop ; ⟨#c < 1 → c := c + [7]⟩)\n",
    "```\n",
    "```\n",
    "=        «by (L3), (L17)»\n",
    "```\n",
    "```\n",
    "    (var c: seq[integer] · c := [7] ; ⟨#c > 0 → x, c := c(0), c[1:]⟩) ⫿\n",
    "    stop\n",
    "```\n",
    "```\n",
    "=        «by (L10), (L19)»\n",
    "```\n",
    "```\n",
    "    var c = [7] · ⟨#c > 0 → x, c := c(0), c[1:]⟩\n",
    "```\n",
    "```\n",
    "=        «by (L21)»\n",
    "```\n",
    "```\n",
    "    var c: seq[integer] · ⟨#[7] > 0 → x, c := [7](0), [7][1:]⟩\n",
    "```\n",
    "```\n",
    "=        «by (L15), simplification»\n",
    "```\n",
    "```\n",
    "    var c: seq[integer] · x, c := 7, []\n",
    "```\n",
    "```\n",
    "=        «by (L18)»\n",
    "```\n",
    "```\n",
    "    x := 7\n",
    "```"
   ]
  },
  {
   "cell_type": "markdown",
   "metadata": {
    "slideshow": {
     "slide_type": "subslide"
    }
   },
   "source": [
    "## Synchronous vs Asynchronous Channels\n",
    "\n",
    "A synchronous channel `c` can be defined in terms of two asynchronous channels of capacity `1`, one for sending the data and the other for acknowledgement of receipt:\n",
    "\n",
    "<div style=\"display:table; border-top:1em solid white\">\n",
    "<div style = \"display:table-cell; border-left:24px solid white\">\n",
    "  \n",
    "`var c: channel[T]`\n",
    " <br><br>\n",
    "`c ! E`  \n",
    "`c ? v`  \n",
    "\n",
    "</div>\n",
    "<div style = \"display:table-cell; border-left:24px solid white\" >\n",
    "  \n",
    "`=`  \n",
    "<br>\n",
    "`=`  \n",
    "`=`  \n",
    "\n",
    "</div>\n",
    "<div style = \"display:table-cell; border-left:24px solid white\" >\n",
    "  \n",
    "`var cs: channel[T](1)`  \n",
    "`var ca: channel[](1)`  \n",
    "`cs ! E ; ca ?`  \n",
    "`cs ? v ; ca !`\n",
    "\n",
    "</div>\n",
    "</div>"
   ]
  },
  {
   "cell_type": "markdown",
   "metadata": {
    "slideshow": {
     "slide_type": "subslide"
    }
   },
   "source": [
    "In turn, an asynchronous channel `c` can be defined in terms of two synchronous channels `cs`, `cr`, one for sending and one for receiving, with a buffer process `cb` in between:\n",
    "\n",
    "<div style=\"display:table; border-top:1em solid white\">\n",
    "<div style = \"display:table-cell; border-left:24px solid white\">\n",
    "\n",
    "`var c: channel[T](C)`  \n",
    "`c ! E`  \n",
    "`c ? v`  \n",
    "\n",
    "</div>\n",
    "<div style = \"display:table-cell; border-left:24px solid white\" >\n",
    "\n",
    "`=`  \n",
    "`=`  \n",
    "`=`  \n",
    "\n",
    "</div>\n",
    "<div style = \"display:table-cell; border-left:24px solid white\" >\n",
    "\n",
    "`var cs, cr: channel[T]`  \n",
    "`cs ! E`  \n",
    "`cr ? v`  \n",
    "```algorithm\n",
    "process cb  \n",
    "    var b: seq[T] = []\n",
    "    var x: T\n",
    "    do #b < C; cs ? x → b := b + [x]\n",
    "     ⫿  #b > 0; cr ! b(0] → b := b[1:]\n",
    "```\n",
    "\n",
    "</div>\n",
    "</div>\n",
    "<span></span>\n",
    "\n",
    "The buffer process can be implemented as a circular array, as earlier. To conclude, this shows that synchronous and asynchronous channels are equivalent. While some algorithms work with both synchronous and asynchronous channels, they do lead to a different programming style and some algorithms work only with the one and not the other."
   ]
  },
  {
   "attachments": {
    "Merger.svg": {
     "image/svg+xml": [
      "PD94bWwgdmVyc2lvbj0iMS4wIiBlbmNvZGluZz0iVVRGLTgiPz4KPCFET0NUWVBFIHN2ZyBQVUJMSUMgIi0vL1czQy8vRFREIFNWRyAxLjEvL0VOIiAiaHR0cDovL3d3dy53My5vcmcvR3JhcGhpY3MvU1ZHLzEuMS9EVEQvc3ZnMTEuZHRkIj4KPHN2ZyB4bWxucz0iaHR0cDovL3d3dy53My5vcmcvMjAwMC9zdmciIHhtbG5zOnhsaW5rPSJodHRwOi8vd3d3LnczLm9yZy8xOTk5L3hsaW5rIiB2ZXJzaW9uPSIxLjEiIHdpZHRoPSI1MDBweCIgaGVpZ2h0PSIyNDNweCIgdmlld0JveD0iLTAuNSAtMC41IDUwMCAyNDMiIGNvbnRlbnQ9IiZsdDtteGZpbGUgaG9zdD0mcXVvdDtDaHJvbWUmcXVvdDsgbW9kaWZpZWQ9JnF1b3Q7MjAxOS0xMS0wNlQxNToxMDo0NC4zODVaJnF1b3Q7IGFnZW50PSZxdW90O01vemlsbGEvNS4wIChNYWNpbnRvc2g7IEludGVsIE1hYyBPUyBYIDEwXzEzXzYpIEFwcGxlV2ViS2l0LzUzNy4zNiAoS0hUTUwsIGxpa2UgR2Vja28pIENocm9tZS83OC4wLjM5MDQuNzAgU2FmYXJpLzUzNy4zNiZxdW90OyB2ZXJzaW9uPSZxdW90OzEyLjIuMCZxdW90OyBldGFnPSZxdW90O1ZoRHdfYmxCTDBzTWd2Yy1OX3c3JnF1b3Q7IHR5cGU9JnF1b3Q7ZGV2aWNlJnF1b3Q7IHBhZ2VzPSZxdW90OzYmcXVvdDsmZ3Q7Jmx0O2RpYWdyYW0gaWQ9JnF1b3Q7VnNxU250TThtMjdGRDI5R09MVGYmcXVvdDsmZ3Q7N1Z2YmJ1TTJFUDBhUDlyZ1JSU3B4eVM3YVIvYVlJRUYybWV1Uk12cTBxSkwwN24wNjB0WnBIVnhsTVFYT1ZwREJnSkxRMnJJa09mTURHZmtDYjViUHYrbStXcnhwMHFFbkNDUVBFL3dsd2xDRUJKc3Z3ckpTeWtoa1JPa09rdGNwMHJ3UGZ0UE9DRncwazJXaUhXam8xRkttbXpWRk1ZcXowVnNHakt1dFhwcWRwc3IyUngxeFZPeEovZ2VjN2t2L1R0THpLS1VNZ0lxK2U4aVN4ZCtaQWhjeXc4ZS8weTEydVJ1dkFuQzgrMm5iRjV5cjh2MVh5OTRvcDVxSXZ4MWd1KzBVcWE4V2o3ZkNWbXNyVisyOHJuN2p0YmR2TFhJelVjZVFPVURqMXh1aEo5eEtPMmp0M05sTmRnSm1oZTNLT0cvRytVYnB1dnRsdDNZRGpCWVBWZU45aW90dnVNSnVVVVQ4c1Zyc3pNb0ZaYk43cC9mNlVZaXNldnZibk9WaTBLRldtYXh2UVgyK3AvTmN1V2JVNzZ5a29WWlNuc0Q3ZVZ1RFl1ZWt2OFE4bmEzQzNkS0tsM3BGSGx5VThDakliblBwUFRqQ0dOZUhCejV4aWdyVXRvc1ZLcHlMdjlRYXVXSE5GcjlGRjY1M1dTdy9leGFQR2lnVzY5N3ZzeGt3WVcvaEU1NHpwM1lqUVNCdTY4cHZMa2haS3VReXl6TnJTeTJPeXAwTVlMYTZGaDhFenBiQ2l2NXZ1SnhscWRlamVFNkZhYXJkVzJialYrQldQTDF1bGppVXV5V0FlNjJwOWlUQnF6S2tSMmpIU3UzdzVVaXVnOCt1SU8wTlJWQzJTbnBGOXZGMllrcG1JRUF1OGVjcFpqQ29MelhRbktUUFRabndCMnYwNTJ1bmZwdkt0c0MxbmRSOC9uYXpxd0dmbnRSbTBVbDJsTGlkWHJnSHVrQmgwZVBCanpxc2hwRmFoU3FBRlN4Q0Y0Rml6NU9nQStnM1NFYjB0T0E3VWhEL1NNN3RRdzBkVGdUVUQ1V3QvMjlVQ1Rva1NKNDRCVHB0cURYNEdqZWNTVm5JbERkZzRUSGVCQVdSRTFDd0FFNUVOTEpqaVI3ZkpVY1JqeWJxZHVMZ2gxdU8vYjQ0ZldzVnp3L25tVkxZVmRmMXpoV3Ftc09ZY1hiMlhZeFQwb2JseGNZZjFwa1JoUklLRnFlOUpzMFN3dnV1T3VEVUc1SjFPSmtxbm1TaVFyVlRueHVQcml0Rk5wdVVXZTQvVFpld3ozakhUcmovVlFkTTd4b1VUdGhCS0FidncxNHZvSEZjTVRpaU1VS2k4U2ZRVDBXR2JnY0Z1bUl4UkdMZFN5MjdTSzZIQlpaanhIc3cvQWkyR3NJVFllUkE0SGdVSnlER1Nhc0dhNmVuUEJ3cWpFaU14UUYwSVlVQVFXRXNTYWh3akNhVlcwSUI1OTVab3hPdHY1U3pFMWZ0ci9rTFdvbmFJN3hBT09aOU5jNmt4N09hSHNDeFNGdGtRMmZpZEhCREZPSUtTWVJBaFMxQnJFdWNoWkZrR0JTMUI5Q2dENlQwWDdoeG9CdURPaTIyQTFiaDR1UWtvc0ZkRDREMUU5VjYyRTZGcmF1T2FqRFI3Z0F1MDZrRmRXeFMwUjFEQTBvcW9POUZwTWZwa012bUkyUjF5bVIxekcwKzZUSWk3RWhSVjdkTmVveDhob2pMNHRXZk1ISXE4OXFjREE4KzM4Tmh2M3p3cTdENnJ5b0ZXQ1JzNWg2QXFOWkNBbWtqREFjaGFqNU5wSTlaSWN6WUcyODdSWXhERnZxM2RKMVczbzNTQkNCdDZJNENvTUJSWEhkSmV2VEtVeUdSK0V4aERzbGhEdndsQlEwU1h5ZU0xSkI0U0JpQUJHS0F4cVIxdXNnbE9BWnMyRVNqU3dGQWFQQmtSeG0wWnZadUpBTUtDYnNMdldmenVGd2VCeStCbkwrS200NGdrME9UODkwNW5ySEVUTndDVWNjRGNrUmQ3OGpjVHFKNmZCSVBEcmlpemxpU0NtK3ZDTm0rQktPbUFWRGNzUjl2VnRTS2lTMzRBQWVGMm1mRmpzYkhQQTVqZjNzeHg2QWl3eEZGbk41NHhxV1daTElydlRNbHV3aWNmenN6TkNjU0xMSjZha1R0RmUwSXZ1cGsrQ1YxQWs2Uitxays2V0k4MERsa1BUNUNKVkRvVUxoNWFDQ3VvdnQ1NEhLWVNYT0VTenZnUVczVTdLdmdDWHFDeXg5RmNNcnNJeVdwVmV3dlBMbVJHOWdRVDJCWldaYjNOK0lrN1BnSkdqamhJYTllU0I3Vy8wa3ZReURxOS85NDYvL0F3PT0mbHQ7L2RpYWdyYW0mZ3Q7Jmx0Oy9teGZpbGUmZ3Q7Ij48ZGVmcy8+PGc+PHBhdGggZD0iTSAzNzkuNjMgMTA5LjcyIEwgMzU2LjI5IDEwMC4xMiIgZmlsbD0ibm9uZSIgc3Ryb2tlPSIjMDAwMDAwIiBzdHJva2UtbWl0ZXJsaW1pdD0iMTAiIHBvaW50ZXItZXZlbnRzPSJub25lIi8+PHBhdGggZD0iTSAzODQuNDkgMTExLjcyIEwgMzc2LjY4IDExMi4yOSBMIDM3OS42MyAxMDkuNzIgTCAzNzkuMzUgMTA1LjgyIFoiIGZpbGw9IiMwMDAwMDAiIHN0cm9rZT0iIzAwMDAwMCIgc3Ryb2tlLW1pdGVybGltaXQ9IjEwIiBwb2ludGVyLWV2ZW50cz0ibm9uZSIvPjxnIHRyYW5zZm9ybT0idHJhbnNsYXRlKDM2MS41LDg1LjUpIj48c3dpdGNoPjxmb3JlaWduT2JqZWN0IHN0eWxlPSJvdmVyZmxvdzp2aXNpYmxlOyIgcG9pbnRlci1ldmVudHM9Im5vbmUiIHdpZHRoPSIyOSIgaGVpZ2h0PSIxNCIgcmVxdWlyZWRGZWF0dXJlcz0iaHR0cDovL3d3dy53My5vcmcvVFIvU1ZHMTEvZmVhdHVyZSNFeHRlbnNpYmlsaXR5Ij48ZGl2IHhtbG5zPSJodHRwOi8vd3d3LnczLm9yZy8xOTk5L3hodG1sIiBzdHlsZT0iZGlzcGxheTogaW5saW5lLWJsb2NrOyBmb250LXNpemU6IDEwcHg7IGZvbnQtZmFtaWx5OiBWZXJkYW5hOyBjb2xvcjogcmdiKDE3MCwgODUsIDApOyBsaW5lLWhlaWdodDogMS4yOyB2ZXJ0aWNhbC1hbGlnbjogdG9wOyB3aGl0ZS1zcGFjZTogbm93cmFwOyB0ZXh0LWFsaWduOiBjZW50ZXI7Ij48ZGl2IHhtbG5zPSJodHRwOi8vd3d3LnczLm9yZy8xOTk5L3hodG1sIiBzdHlsZT0iZGlzcGxheTppbmxpbmUtYmxvY2s7dGV4dC1hbGlnbjppbmhlcml0O3RleHQtZGVjb3JhdGlvbjppbmhlcml0OyI+PGZvbnQgc3R5bGU9ImZvbnQtc2l6ZTogMTRweCI+Y1syXTwvZm9udD48L2Rpdj48L2Rpdj48L2ZvcmVpZ25PYmplY3Q+PHRleHQgeD0iMTUiIHk9IjEyIiBmaWxsPSIjQUE1NTAwIiB0ZXh0LWFuY2hvcj0ibWlkZGxlIiBmb250LXNpemU9IjEwcHgiIGZvbnQtZmFtaWx5PSJWZXJkYW5hIj5bTm90IHN1cHBvcnRlZCBieSB2aWV3ZXJdPC90ZXh0Pjwvc3dpdGNoPjwvZz48cGF0aCBkPSJNIDQ2MSAxMjYgTCA0ODQuNjMgMTI2IiBmaWxsPSJub25lIiBzdHJva2U9IiMwMDAwMDAiIHN0cm9rZS1taXRlcmxpbWl0PSIxMCIgcG9pbnRlci1ldmVudHM9Im5vbmUiLz48cGF0aCBkPSJNIDQ4OS44OCAxMjYgTCA0ODIuODggMTI5LjUgTCA0ODQuNjMgMTI2IEwgNDgyLjg4IDEyMi41IFoiIGZpbGw9IiMwMDAwMDAiIHN0cm9rZT0iIzAwMDAwMCIgc3Ryb2tlLW1pdGVybGltaXQ9IjEwIiBwb2ludGVyLWV2ZW50cz0ibm9uZSIvPjxnIHRyYW5zZm9ybT0idHJhbnNsYXRlKDQ2MS41LDEwMS41KSI+PHN3aXRjaD48Zm9yZWlnbk9iamVjdCBzdHlsZT0ib3ZlcmZsb3c6dmlzaWJsZTsiIHBvaW50ZXItZXZlbnRzPSJub25lIiB3aWR0aD0iMjkiIGhlaWdodD0iMTQiIHJlcXVpcmVkRmVhdHVyZXM9Imh0dHA6Ly93d3cudzMub3JnL1RSL1NWRzExL2ZlYXR1cmUjRXh0ZW5zaWJpbGl0eSI+PGRpdiB4bWxucz0iaHR0cDovL3d3dy53My5vcmcvMTk5OS94aHRtbCIgc3R5bGU9ImRpc3BsYXk6IGlubGluZS1ibG9jazsgZm9udC1zaXplOiAxMHB4OyBmb250LWZhbWlseTogVmVyZGFuYTsgY29sb3I6IHJnYigxNzAsIDg1LCAwKTsgbGluZS1oZWlnaHQ6IDEuMjsgdmVydGljYWwtYWxpZ246IHRvcDsgd2hpdGUtc3BhY2U6IG5vd3JhcDsgdGV4dC1hbGlnbjogY2VudGVyOyI+PGRpdiB4bWxucz0iaHR0cDovL3d3dy53My5vcmcvMTk5OS94aHRtbCIgc3R5bGU9ImRpc3BsYXk6aW5saW5lLWJsb2NrO3RleHQtYWxpZ246aW5oZXJpdDt0ZXh0LWRlY29yYXRpb246aW5oZXJpdDsiPjxmb250IHN0eWxlPSJmb250LXNpemU6IDE0cHgiPmNbMV08L2ZvbnQ+PC9kaXY+PC9kaXY+PC9mb3JlaWduT2JqZWN0Pjx0ZXh0IHg9IjE1IiB5PSIxMiIgZmlsbD0iI0FBNTUwMCIgdGV4dC1hbmNob3I9Im1pZGRsZSIgZm9udC1zaXplPSIxMHB4IiBmb250LWZhbWlseT0iVmVyZGFuYSI+W05vdCBzdXBwb3J0ZWQgYnkgdmlld2VyXTwvdGV4dD48L3N3aXRjaD48L2c+PHBhdGggZD0iTSAzNzkuNTEgMTQyLjEgTCAzNTUuMzcgMTUxLjk5IiBmaWxsPSJub25lIiBzdHJva2U9IiMwMDAwMDAiIHN0cm9rZS1taXRlcmxpbWl0PSIxMCIgcG9pbnRlci1ldmVudHM9Im5vbmUiLz48cGF0aCBkPSJNIDM4NC4zNyAxNDAuMTEgTCAzNzkuMjIgMTQ2LjAxIEwgMzc5LjUxIDE0Mi4xIEwgMzc2LjU3IDEzOS41MyBaIiBmaWxsPSIjMDAwMDAwIiBzdHJva2U9IiMwMDAwMDAiIHN0cm9rZS1taXRlcmxpbWl0PSIxMCIgcG9pbnRlci1ldmVudHM9Im5vbmUiLz48ZyB0cmFuc2Zvcm09InRyYW5zbGF0ZSgzNjAuNSwxNDguNSkiPjxzd2l0Y2g+PGZvcmVpZ25PYmplY3Qgc3R5bGU9Im92ZXJmbG93OnZpc2libGU7IiBwb2ludGVyLWV2ZW50cz0ibm9uZSIgd2lkdGg9IjI5IiBoZWlnaHQ9IjE0IiByZXF1aXJlZEZlYXR1cmVzPSJodHRwOi8vd3d3LnczLm9yZy9UUi9TVkcxMS9mZWF0dXJlI0V4dGVuc2liaWxpdHkiPjxkaXYgeG1sbnM9Imh0dHA6Ly93d3cudzMub3JnLzE5OTkveGh0bWwiIHN0eWxlPSJkaXNwbGF5OiBpbmxpbmUtYmxvY2s7IGZvbnQtc2l6ZTogMTBweDsgZm9udC1mYW1pbHk6IFZlcmRhbmE7IGNvbG9yOiByZ2IoMTcwLCA4NSwgMCk7IGxpbmUtaGVpZ2h0OiAxLjI7IHZlcnRpY2FsLWFsaWduOiB0b3A7IHdoaXRlLXNwYWNlOiBub3dyYXA7IHRleHQtYWxpZ246IGNlbnRlcjsiPjxkaXYgeG1sbnM9Imh0dHA6Ly93d3cudzMub3JnLzE5OTkveGh0bWwiIHN0eWxlPSJkaXNwbGF5OmlubGluZS1ibG9jazt0ZXh0LWFsaWduOmluaGVyaXQ7dGV4dC1kZWNvcmF0aW9uOmluaGVyaXQ7Ij48Zm9udCBzdHlsZT0iZm9udC1zaXplOiAxNHB4Ij5jWzNdPC9mb250PjwvZGl2PjwvZGl2PjwvZm9yZWlnbk9iamVjdD48dGV4dCB4PSIxNSIgeT0iMTIiIGZpbGw9IiNBQTU1MDAiIHRleHQtYW5jaG9yPSJtaWRkbGUiIGZvbnQtc2l6ZT0iMTBweCIgZm9udC1mYW1pbHk9IlZlcmRhbmEiPltOb3Qgc3VwcG9ydGVkIGJ5IHZpZXdlcl08L3RleHQ+PC9zd2l0Y2g+PC9nPjxlbGxpcHNlIGN4PSI0MjEiIGN5PSIxMjYiIHJ4PSIzMCIgcnk9IjIwIiBmaWxsPSJub25lIiBzdHJva2U9IiMwMDAwMDAiIHBvaW50ZXItZXZlbnRzPSJub25lIi8+PGcgdHJhbnNmb3JtPSJ0cmFuc2xhdGUoMzk1LjUsMTE4LjUpIj48c3dpdGNoPjxmb3JlaWduT2JqZWN0IHN0eWxlPSJvdmVyZmxvdzp2aXNpYmxlOyIgcG9pbnRlci1ldmVudHM9Im5vbmUiIHdpZHRoPSI1MCIgaGVpZ2h0PSIxNCIgcmVxdWlyZWRGZWF0dXJlcz0iaHR0cDovL3d3dy53My5vcmcvVFIvU1ZHMTEvZmVhdHVyZSNFeHRlbnNpYmlsaXR5Ij48ZGl2IHhtbG5zPSJodHRwOi8vd3d3LnczLm9yZy8xOTk5L3hodG1sIiBzdHlsZT0iZGlzcGxheTogaW5saW5lLWJsb2NrOyBmb250LXNpemU6IDEwcHg7IGZvbnQtZmFtaWx5OiBWZXJkYW5hOyBjb2xvcjogcmdiKDE3MCwgODUsIDApOyBsaW5lLWhlaWdodDogMS4yOyB2ZXJ0aWNhbC1hbGlnbjogdG9wOyB3aWR0aDogNTJweDsgd2hpdGUtc3BhY2U6IG5vd3JhcDsgb3ZlcmZsb3ctd3JhcDogbm9ybWFsOyB0ZXh0LWFsaWduOiBjZW50ZXI7Ij48ZGl2IHhtbG5zPSJodHRwOi8vd3d3LnczLm9yZy8xOTk5L3hodG1sIiBzdHlsZT0iZGlzcGxheTppbmxpbmUtYmxvY2s7dGV4dC1hbGlnbjppbmhlcml0O3RleHQtZGVjb3JhdGlvbjppbmhlcml0O3doaXRlLXNwYWNlOm5vcm1hbDsiPjxkaXYgc3R5bGU9InRleHQtYWxpZ246IGNlbnRlciI+PHNwYW4gc3R5bGU9ImZvbnQtc2l6ZTogMTRweCI+bWVyZ2VyPC9zcGFuPjwvZGl2PjwvZGl2PjwvZGl2PjwvZm9yZWlnbk9iamVjdD48dGV4dCB4PSIyNSIgeT0iMTIiIGZpbGw9IiNBQTU1MDAiIHRleHQtYW5jaG9yPSJtaWRkbGUiIGZvbnQtc2l6ZT0iMTBweCIgZm9udC1mYW1pbHk9IlZlcmRhbmEiPltOb3Qgc3VwcG9ydGVkIGJ5IHZpZXdlcl08L3RleHQ+PC9zd2l0Y2g+PC9nPjxlbGxpcHNlIGN4PSIzMjAiIGN5PSIxNjYiIHJ4PSIzMCIgcnk9IjIwIiBmaWxsPSJub25lIiBzdHJva2U9IiMwMDAwMDAiIHBvaW50ZXItZXZlbnRzPSJub25lIi8+PGcgdHJhbnNmb3JtPSJ0cmFuc2xhdGUoMjk0LjUsMTU4LjUpIj48c3dpdGNoPjxmb3JlaWduT2JqZWN0IHN0eWxlPSJvdmVyZmxvdzp2aXNpYmxlOyIgcG9pbnRlci1ldmVudHM9Im5vbmUiIHdpZHRoPSI1MCIgaGVpZ2h0PSIxNCIgcmVxdWlyZWRGZWF0dXJlcz0iaHR0cDovL3d3dy53My5vcmcvVFIvU1ZHMTEvZmVhdHVyZSNFeHRlbnNpYmlsaXR5Ij48ZGl2IHhtbG5zPSJodHRwOi8vd3d3LnczLm9yZy8xOTk5L3hodG1sIiBzdHlsZT0iZGlzcGxheTogaW5saW5lLWJsb2NrOyBmb250LXNpemU6IDEwcHg7IGZvbnQtZmFtaWx5OiBWZXJkYW5hOyBjb2xvcjogcmdiKDE3MCwgODUsIDApOyBsaW5lLWhlaWdodDogMS4yOyB2ZXJ0aWNhbC1hbGlnbjogdG9wOyB3aWR0aDogNTJweDsgd2hpdGUtc3BhY2U6IG5vd3JhcDsgb3ZlcmZsb3ctd3JhcDogbm9ybWFsOyB0ZXh0LWFsaWduOiBjZW50ZXI7Ij48ZGl2IHhtbG5zPSJodHRwOi8vd3d3LnczLm9yZy8xOTk5L3hodG1sIiBzdHlsZT0iZGlzcGxheTppbmxpbmUtYmxvY2s7dGV4dC1hbGlnbjppbmhlcml0O3RleHQtZGVjb3JhdGlvbjppbmhlcml0O3doaXRlLXNwYWNlOm5vcm1hbDsiPjxkaXYgc3R5bGU9InRleHQtYWxpZ246IGNlbnRlciI+PHNwYW4gc3R5bGU9ImZvbnQtc2l6ZTogMTRweCI+bWVyZ2VyPC9zcGFuPjwvZGl2PjwvZGl2PjwvZGl2PjwvZm9yZWlnbk9iamVjdD48dGV4dCB4PSIyNSIgeT0iMTIiIGZpbGw9IiNBQTU1MDAiIHRleHQtYW5jaG9yPSJtaWRkbGUiIGZvbnQtc2l6ZT0iMTBweCIgZm9udC1mYW1pbHk9IlZlcmRhbmEiPltOb3Qgc3VwcG9ydGVkIGJ5IHZpZXdlcl08L3RleHQ+PC9zd2l0Y2g+PC9nPjxlbGxpcHNlIGN4PSIzMjEiIGN5PSI4NiIgcng9IjMwIiByeT0iMjAiIGZpbGw9Im5vbmUiIHN0cm9rZT0iIzAwMDAwMCIgcG9pbnRlci1ldmVudHM9Im5vbmUiLz48ZyB0cmFuc2Zvcm09InRyYW5zbGF0ZSgyOTUuNSw3OC41KSI+PHN3aXRjaD48Zm9yZWlnbk9iamVjdCBzdHlsZT0ib3ZlcmZsb3c6dmlzaWJsZTsiIHBvaW50ZXItZXZlbnRzPSJub25lIiB3aWR0aD0iNTAiIGhlaWdodD0iMTQiIHJlcXVpcmVkRmVhdHVyZXM9Imh0dHA6Ly93d3cudzMub3JnL1RSL1NWRzExL2ZlYXR1cmUjRXh0ZW5zaWJpbGl0eSI+PGRpdiB4bWxucz0iaHR0cDovL3d3dy53My5vcmcvMTk5OS94aHRtbCIgc3R5bGU9ImRpc3BsYXk6IGlubGluZS1ibG9jazsgZm9udC1zaXplOiAxMHB4OyBmb250LWZhbWlseTogVmVyZGFuYTsgY29sb3I6IHJnYigxNzAsIDg1LCAwKTsgbGluZS1oZWlnaHQ6IDEuMjsgdmVydGljYWwtYWxpZ246IHRvcDsgd2lkdGg6IDUycHg7IHdoaXRlLXNwYWNlOiBub3dyYXA7IG92ZXJmbG93LXdyYXA6IG5vcm1hbDsgdGV4dC1hbGlnbjogY2VudGVyOyI+PGRpdiB4bWxucz0iaHR0cDovL3d3dy53My5vcmcvMTk5OS94aHRtbCIgc3R5bGU9ImRpc3BsYXk6aW5saW5lLWJsb2NrO3RleHQtYWxpZ246aW5oZXJpdDt0ZXh0LWRlY29yYXRpb246aW5oZXJpdDt3aGl0ZS1zcGFjZTpub3JtYWw7Ij48ZGl2IHN0eWxlPSJ0ZXh0LWFsaWduOiBjZW50ZXIiPjxzcGFuIHN0eWxlPSJmb250LXNpemU6IDE0cHgiPm1lcmdlcjwvc3Bhbj48L2Rpdj48L2Rpdj48L2Rpdj48L2ZvcmVpZ25PYmplY3Q+PHRleHQgeD0iMjUiIHk9IjEyIiBmaWxsPSIjQUE1NTAwIiB0ZXh0LWFuY2hvcj0ibWlkZGxlIiBmb250LXNpemU9IjEwcHgiIGZvbnQtZmFtaWx5PSJWZXJkYW5hIj5bTm90IHN1cHBvcnRlZCBieSB2aWV3ZXJdPC90ZXh0Pjwvc3dpdGNoPjwvZz48cGF0aCBkPSJNIDExOC42MyAyNC43MiBMIDk1LjI5IDE1LjEyIiBmaWxsPSJub25lIiBzdHJva2U9IiMwMDAwMDAiIHN0cm9rZS1taXRlcmxpbWl0PSIxMCIgcG9pbnRlci1ldmVudHM9Im5vbmUiLz48cGF0aCBkPSJNIDEyMy40OSAyNi43MiBMIDExNS42OCAyNy4yOSBMIDExOC42MyAyNC43MiBMIDExOC4zNSAyMC44MiBaIiBmaWxsPSIjMDAwMDAwIiBzdHJva2U9IiMwMDAwMDAiIHN0cm9rZS1taXRlcmxpbWl0PSIxMCIgcG9pbnRlci1ldmVudHM9Im5vbmUiLz48ZyB0cmFuc2Zvcm09InRyYW5zbGF0ZSg5NC41LC0xLjUpIj48c3dpdGNoPjxmb3JlaWduT2JqZWN0IHN0eWxlPSJvdmVyZmxvdzp2aXNpYmxlOyIgcG9pbnRlci1ldmVudHM9Im5vbmUiIHdpZHRoPSIzMCIgaGVpZ2h0PSIxNCIgcmVxdWlyZWRGZWF0dXJlcz0iaHR0cDovL3d3dy53My5vcmcvVFIvU1ZHMTEvZmVhdHVyZSNFeHRlbnNpYmlsaXR5Ij48ZGl2IHhtbG5zPSJodHRwOi8vd3d3LnczLm9yZy8xOTk5L3hodG1sIiBzdHlsZT0iZGlzcGxheTogaW5saW5lLWJsb2NrOyBmb250LXNpemU6IDEwcHg7IGZvbnQtZmFtaWx5OiBWZXJkYW5hOyBjb2xvcjogcmdiKDE3MCwgODUsIDApOyBsaW5lLWhlaWdodDogMS4yOyB2ZXJ0aWNhbC1hbGlnbjogdG9wOyB3aGl0ZS1zcGFjZTogbm93cmFwOyB0ZXh0LWFsaWduOiBjZW50ZXI7Ij48ZGl2IHhtbG5zPSJodHRwOi8vd3d3LnczLm9yZy8xOTk5L3hodG1sIiBzdHlsZT0iZGlzcGxheTppbmxpbmUtYmxvY2s7dGV4dC1hbGlnbjppbmhlcml0O3RleHQtZGVjb3JhdGlvbjppbmhlcml0OyI+PGZvbnQgc3R5bGU9ImZvbnQtc2l6ZTogMTRweCI+Y1tOXTwvZm9udD48L2Rpdj48L2Rpdj48L2ZvcmVpZ25PYmplY3Q+PHRleHQgeD0iMTUiIHk9IjEyIiBmaWxsPSIjQUE1NTAwIiB0ZXh0LWFuY2hvcj0ibWlkZGxlIiBmb250LXNpemU9IjEwcHgiIGZvbnQtZmFtaWx5PSJWZXJkYW5hIj5bTm90IHN1cHBvcnRlZCBieSB2aWV3ZXJdPC90ZXh0Pjwvc3dpdGNoPjwvZz48cGF0aCBkPSJNIDExOC41MSA1Ny4xIEwgOTQuMzcgNjYuOTkiIGZpbGw9Im5vbmUiIHN0cm9rZT0iIzAwMDAwMCIgc3Ryb2tlLW1pdGVybGltaXQ9IjEwIiBwb2ludGVyLWV2ZW50cz0ibm9uZSIvPjxwYXRoIGQ9Ik0gMTIzLjM3IDU1LjExIEwgMTE4LjIyIDYxLjAxIEwgMTE4LjUxIDU3LjEgTCAxMTUuNTcgNTQuNTMgWiIgZmlsbD0iIzAwMDAwMCIgc3Ryb2tlPSIjMDAwMDAwIiBzdHJva2UtbWl0ZXJsaW1pdD0iMTAiIHBvaW50ZXItZXZlbnRzPSJub25lIi8+PGcgdHJhbnNmb3JtPSJ0cmFuc2xhdGUoOTQuNSw2My41KSI+PHN3aXRjaD48Zm9yZWlnbk9iamVjdCBzdHlsZT0ib3ZlcmZsb3c6dmlzaWJsZTsiIHBvaW50ZXItZXZlbnRzPSJub25lIiB3aWR0aD0iNTEiIGhlaWdodD0iMTQiIHJlcXVpcmVkRmVhdHVyZXM9Imh0dHA6Ly93d3cudzMub3JnL1RSL1NWRzExL2ZlYXR1cmUjRXh0ZW5zaWJpbGl0eSI+PGRpdiB4bWxucz0iaHR0cDovL3d3dy53My5vcmcvMTk5OS94aHRtbCIgc3R5bGU9ImRpc3BsYXk6IGlubGluZS1ibG9jazsgZm9udC1zaXplOiAxMHB4OyBmb250LWZhbWlseTogVmVyZGFuYTsgY29sb3I6IHJnYigxNzAsIDg1LCAwKTsgbGluZS1oZWlnaHQ6IDEuMjsgdmVydGljYWwtYWxpZ246IHRvcDsgd2hpdGUtc3BhY2U6IG5vd3JhcDsgdGV4dC1hbGlnbjogY2VudGVyOyI+PGRpdiB4bWxucz0iaHR0cDovL3d3dy53My5vcmcvMTk5OS94aHRtbCIgc3R5bGU9ImRpc3BsYXk6aW5saW5lLWJsb2NrO3RleHQtYWxpZ246aW5oZXJpdDt0ZXh0LWRlY29yYXRpb246aW5oZXJpdDsiPjxkaXYgc3R5bGU9InRleHQtYWxpZ246IGxlZnQiPjxzcGFuIHN0eWxlPSJmb250LXNpemU6IDE0cHgiPmNbTisxXTwvc3Bhbj48L2Rpdj48L2Rpdj48L2Rpdj48L2ZvcmVpZ25PYmplY3Q+PHRleHQgeD0iMjYiIHk9IjEyIiBmaWxsPSIjQUE1NTAwIiB0ZXh0LWFuY2hvcj0ibWlkZGxlIiBmb250LXNpemU9IjEwcHgiIGZvbnQtZmFtaWx5PSJWZXJkYW5hIj5bTm90IHN1cHBvcnRlZCBieSB2aWV3ZXJdPC90ZXh0Pjwvc3dpdGNoPjwvZz48ZWxsaXBzZSBjeD0iMTYwIiBjeT0iNDEiIHJ4PSIzMCIgcnk9IjIwIiBmaWxsPSJub25lIiBzdHJva2U9IiMwMDAwMDAiIHBvaW50ZXItZXZlbnRzPSJub25lIi8+PGcgdHJhbnNmb3JtPSJ0cmFuc2xhdGUoMTM0LjUsMzMuNSkiPjxzd2l0Y2g+PGZvcmVpZ25PYmplY3Qgc3R5bGU9Im92ZXJmbG93OnZpc2libGU7IiBwb2ludGVyLWV2ZW50cz0ibm9uZSIgd2lkdGg9IjUwIiBoZWlnaHQ9IjE0IiByZXF1aXJlZEZlYXR1cmVzPSJodHRwOi8vd3d3LnczLm9yZy9UUi9TVkcxMS9mZWF0dXJlI0V4dGVuc2liaWxpdHkiPjxkaXYgeG1sbnM9Imh0dHA6Ly93d3cudzMub3JnLzE5OTkveGh0bWwiIHN0eWxlPSJkaXNwbGF5OiBpbmxpbmUtYmxvY2s7IGZvbnQtc2l6ZTogMTBweDsgZm9udC1mYW1pbHk6IFZlcmRhbmE7IGNvbG9yOiByZ2IoMTcwLCA4NSwgMCk7IGxpbmUtaGVpZ2h0OiAxLjI7IHZlcnRpY2FsLWFsaWduOiB0b3A7IHdpZHRoOiA1MnB4OyB3aGl0ZS1zcGFjZTogbm93cmFwOyBvdmVyZmxvdy13cmFwOiBub3JtYWw7IHRleHQtYWxpZ246IGNlbnRlcjsiPjxkaXYgeG1sbnM9Imh0dHA6Ly93d3cudzMub3JnLzE5OTkveGh0bWwiIHN0eWxlPSJkaXNwbGF5OmlubGluZS1ibG9jazt0ZXh0LWFsaWduOmluaGVyaXQ7dGV4dC1kZWNvcmF0aW9uOmluaGVyaXQ7d2hpdGUtc3BhY2U6bm9ybWFsOyI+PGRpdiBzdHlsZT0idGV4dC1hbGlnbjogY2VudGVyIj48c3BhbiBzdHlsZT0iZm9udC1zaXplOiAxNHB4Ij5tZXJnZXI8L3NwYW4+PC9kaXY+PC9kaXY+PC9kaXY+PC9mb3JlaWduT2JqZWN0Pjx0ZXh0IHg9IjI1IiB5PSIxMiIgZmlsbD0iI0FBNTUwMCIgdGV4dC1hbmNob3I9Im1pZGRsZSIgZm9udC1zaXplPSIxMHB4IiBmb250LWZhbWlseT0iVmVyZGFuYSI+W05vdCBzdXBwb3J0ZWQgYnkgdmlld2VyXTwvdGV4dD48L3N3aXRjaD48L2c+PHBhdGggZD0iTSAxMTguNjMgMTg0LjcyIEwgOTUuMjkgMTc1LjEyIiBmaWxsPSJub25lIiBzdHJva2U9IiMwMDAwMDAiIHN0cm9rZS1taXRlcmxpbWl0PSIxMCIgcG9pbnRlci1ldmVudHM9Im5vbmUiLz48cGF0aCBkPSJNIDEyMy40OSAxODYuNzIgTCAxMTUuNjggMTg3LjI5IEwgMTE4LjYzIDE4NC43MiBMIDExOC4zNSAxODAuODIgWiIgZmlsbD0iIzAwMDAwMCIgc3Ryb2tlPSIjMDAwMDAwIiBzdHJva2UtbWl0ZXJsaW1pdD0iMTAiIHBvaW50ZXItZXZlbnRzPSJub25lIi8+PGcgdHJhbnNmb3JtPSJ0cmFuc2xhdGUoOTIuNSwxNTguNSkiPjxzd2l0Y2g+PGZvcmVpZ25PYmplY3Qgc3R5bGU9Im92ZXJmbG93OnZpc2libGU7IiBwb2ludGVyLWV2ZW50cz0ibm9uZSIgd2lkdGg9IjU1IiBoZWlnaHQ9IjE0IiByZXF1aXJlZEZlYXR1cmVzPSJodHRwOi8vd3d3LnczLm9yZy9UUi9TVkcxMS9mZWF0dXJlI0V4dGVuc2liaWxpdHkiPjxkaXYgeG1sbnM9Imh0dHA6Ly93d3cudzMub3JnLzE5OTkveGh0bWwiIHN0eWxlPSJkaXNwbGF5OiBpbmxpbmUtYmxvY2s7IGZvbnQtc2l6ZTogMTBweDsgZm9udC1mYW1pbHk6IFZlcmRhbmE7IGNvbG9yOiByZ2IoMTcwLCA4NSwgMCk7IGxpbmUtaGVpZ2h0OiAxLjI7IHZlcnRpY2FsLWFsaWduOiB0b3A7IHdoaXRlLXNwYWNlOiBub3dyYXA7IHRleHQtYWxpZ246IGNlbnRlcjsiPjxkaXYgeG1sbnM9Imh0dHA6Ly93d3cudzMub3JnLzE5OTkveGh0bWwiIHN0eWxlPSJkaXNwbGF5OmlubGluZS1ibG9jazt0ZXh0LWFsaWduOmluaGVyaXQ7dGV4dC1kZWNvcmF0aW9uOmluaGVyaXQ7Ij48Zm9udCBzdHlsZT0iZm9udC1zaXplOiAxNHB4Ij5jWzJOLTJdPC9mb250PjwvZGl2PjwvZGl2PjwvZm9yZWlnbk9iamVjdD48dGV4dCB4PSIyOCIgeT0iMTIiIGZpbGw9IiNBQTU1MDAiIHRleHQtYW5jaG9yPSJtaWRkbGUiIGZvbnQtc2l6ZT0iMTBweCIgZm9udC1mYW1pbHk9IlZlcmRhbmEiPltOb3Qgc3VwcG9ydGVkIGJ5IHZpZXdlcl08L3RleHQ+PC9zd2l0Y2g+PC9nPjxwYXRoIGQ9Ik0gMTE4LjUxIDIxNy4xIEwgOTQuMzcgMjI2Ljk5IiBmaWxsPSJub25lIiBzdHJva2U9IiMwMDAwMDAiIHN0cm9rZS1taXRlcmxpbWl0PSIxMCIgcG9pbnRlci1ldmVudHM9Im5vbmUiLz48cGF0aCBkPSJNIDEyMy4zNyAyMTUuMTEgTCAxMTguMjIgMjIxLjAxIEwgMTE4LjUxIDIxNy4xIEwgMTE1LjU3IDIxNC41MyBaIiBmaWxsPSIjMDAwMDAwIiBzdHJva2U9IiMwMDAwMDAiIHN0cm9rZS1taXRlcmxpbWl0PSIxMCIgcG9pbnRlci1ldmVudHM9Im5vbmUiLz48ZyB0cmFuc2Zvcm09InRyYW5zbGF0ZSg5Mi41LDIyMy41KSI+PHN3aXRjaD48Zm9yZWlnbk9iamVjdCBzdHlsZT0ib3ZlcmZsb3c6dmlzaWJsZTsiIHBvaW50ZXItZXZlbnRzPSJub25lIiB3aWR0aD0iNTUiIGhlaWdodD0iMTQiIHJlcXVpcmVkRmVhdHVyZXM9Imh0dHA6Ly93d3cudzMub3JnL1RSL1NWRzExL2ZlYXR1cmUjRXh0ZW5zaWJpbGl0eSI+PGRpdiB4bWxucz0iaHR0cDovL3d3dy53My5vcmcvMTk5OS94aHRtbCIgc3R5bGU9ImRpc3BsYXk6IGlubGluZS1ibG9jazsgZm9udC1zaXplOiAxMHB4OyBmb250LWZhbWlseTogVmVyZGFuYTsgY29sb3I6IHJnYigxNzAsIDg1LCAwKTsgbGluZS1oZWlnaHQ6IDEuMjsgdmVydGljYWwtYWxpZ246IHRvcDsgd2hpdGUtc3BhY2U6IG5vd3JhcDsgdGV4dC1hbGlnbjogY2VudGVyOyI+PGRpdiB4bWxucz0iaHR0cDovL3d3dy53My5vcmcvMTk5OS94aHRtbCIgc3R5bGU9ImRpc3BsYXk6aW5saW5lLWJsb2NrO3RleHQtYWxpZ246aW5oZXJpdDt0ZXh0LWRlY29yYXRpb246aW5oZXJpdDsiPjxmb250IHN0eWxlPSJmb250LXNpemU6IDE0cHgiPmNbMk4tMV08L2ZvbnQ+PC9kaXY+PC9kaXY+PC9mb3JlaWduT2JqZWN0Pjx0ZXh0IHg9IjI4IiB5PSIxMiIgZmlsbD0iI0FBNTUwMCIgdGV4dC1hbmNob3I9Im1pZGRsZSIgZm9udC1zaXplPSIxMHB4IiBmb250LWZhbWlseT0iVmVyZGFuYSI+W05vdCBzdXBwb3J0ZWQgYnkgdmlld2VyXTwvdGV4dD48L3N3aXRjaD48L2c+PGVsbGlwc2UgY3g9IjE2MCIgY3k9IjIwMSIgcng9IjMwIiByeT0iMjAiIGZpbGw9Im5vbmUiIHN0cm9rZT0iIzAwMDAwMCIgcG9pbnRlci1ldmVudHM9Im5vbmUiLz48ZyB0cmFuc2Zvcm09InRyYW5zbGF0ZSgxMzQuNSwxOTMuNSkiPjxzd2l0Y2g+PGZvcmVpZ25PYmplY3Qgc3R5bGU9Im92ZXJmbG93OnZpc2libGU7IiBwb2ludGVyLWV2ZW50cz0ibm9uZSIgd2lkdGg9IjUwIiBoZWlnaHQ9IjE0IiByZXF1aXJlZEZlYXR1cmVzPSJodHRwOi8vd3d3LnczLm9yZy9UUi9TVkcxMS9mZWF0dXJlI0V4dGVuc2liaWxpdHkiPjxkaXYgeG1sbnM9Imh0dHA6Ly93d3cudzMub3JnLzE5OTkveGh0bWwiIHN0eWxlPSJkaXNwbGF5OiBpbmxpbmUtYmxvY2s7IGZvbnQtc2l6ZTogMTBweDsgZm9udC1mYW1pbHk6IFZlcmRhbmE7IGNvbG9yOiByZ2IoMTcwLCA4NSwgMCk7IGxpbmUtaGVpZ2h0OiAxLjI7IHZlcnRpY2FsLWFsaWduOiB0b3A7IHdpZHRoOiA1MnB4OyB3aGl0ZS1zcGFjZTogbm93cmFwOyBvdmVyZmxvdy13cmFwOiBub3JtYWw7IHRleHQtYWxpZ246IGNlbnRlcjsiPjxkaXYgeG1sbnM9Imh0dHA6Ly93d3cudzMub3JnLzE5OTkveGh0bWwiIHN0eWxlPSJkaXNwbGF5OmlubGluZS1ibG9jazt0ZXh0LWFsaWduOmluaGVyaXQ7dGV4dC1kZWNvcmF0aW9uOmluaGVyaXQ7d2hpdGUtc3BhY2U6bm9ybWFsOyI+PGRpdiBzdHlsZT0idGV4dC1hbGlnbjogY2VudGVyIj48c3BhbiBzdHlsZT0iZm9udC1zaXplOiAxNHB4Ij5tZXJnZXI8L3NwYW4+PC9kaXY+PC9kaXY+PC9kaXY+PC9mb3JlaWduT2JqZWN0Pjx0ZXh0IHg9IjI1IiB5PSIxMiIgZmlsbD0iI0FBNTUwMCIgdGV4dC1hbmNob3I9Im1pZGRsZSIgZm9udC1zaXplPSIxMHB4IiBmb250LWZhbWlseT0iVmVyZGFuYSI+W05vdCBzdXBwb3J0ZWQgYnkgdmlld2VyXTwvdGV4dD48L3N3aXRjaD48L2c+PHBhdGggZD0iTSAyODMuNzEgNjkuNjIgTCAyNjAuMjkgNjAuMTIiIGZpbGw9Im5vbmUiIHN0cm9rZT0iIzAwMDAwMCIgc3Ryb2tlLW1pdGVybGltaXQ9IjEwIiBwb2ludGVyLWV2ZW50cz0ibm9uZSIvPjxwYXRoIGQ9Ik0gMjg4LjU4IDcxLjU5IEwgMjgwLjc4IDcyLjIgTCAyODMuNzEgNjkuNjIgTCAyODMuNDEgNjUuNzIgWiIgZmlsbD0iIzAwMDAwMCIgc3Ryb2tlPSIjMDAwMDAwIiBzdHJva2UtbWl0ZXJsaW1pdD0iMTAiIHBvaW50ZXItZXZlbnRzPSJub25lIi8+PGcgdHJhbnNmb3JtPSJ0cmFuc2xhdGUoMjY1LjUsNDQuNSkiPjxzd2l0Y2g+PGZvcmVpZ25PYmplY3Qgc3R5bGU9Im92ZXJmbG93OnZpc2libGU7IiBwb2ludGVyLWV2ZW50cz0ibm9uZSIgd2lkdGg9IjI5IiBoZWlnaHQ9IjE0IiByZXF1aXJlZEZlYXR1cmVzPSJodHRwOi8vd3d3LnczLm9yZy9UUi9TVkcxMS9mZWF0dXJlI0V4dGVuc2liaWxpdHkiPjxkaXYgeG1sbnM9Imh0dHA6Ly93d3cudzMub3JnLzE5OTkveGh0bWwiIHN0eWxlPSJkaXNwbGF5OiBpbmxpbmUtYmxvY2s7IGZvbnQtc2l6ZTogMTBweDsgZm9udC1mYW1pbHk6IFZlcmRhbmE7IGNvbG9yOiByZ2IoMTcwLCA4NSwgMCk7IGxpbmUtaGVpZ2h0OiAxLjI7IHZlcnRpY2FsLWFsaWduOiB0b3A7IHdoaXRlLXNwYWNlOiBub3dyYXA7IHRleHQtYWxpZ246IGNlbnRlcjsiPjxkaXYgeG1sbnM9Imh0dHA6Ly93d3cudzMub3JnLzE5OTkveGh0bWwiIHN0eWxlPSJkaXNwbGF5OmlubGluZS1ibG9jazt0ZXh0LWFsaWduOmluaGVyaXQ7dGV4dC1kZWNvcmF0aW9uOmluaGVyaXQ7Ij48Zm9udCBzdHlsZT0iZm9udC1zaXplOiAxNHB4Ij5jWzRdPC9mb250PjwvZGl2PjwvZGl2PjwvZm9yZWlnbk9iamVjdD48dGV4dCB4PSIxNSIgeT0iMTIiIGZpbGw9IiNBQTU1MDAiIHRleHQtYW5jaG9yPSJtaWRkbGUiIGZvbnQtc2l6ZT0iMTBweCIgZm9udC1mYW1pbHk9IlZlcmRhbmEiPltOb3Qgc3VwcG9ydGVkIGJ5IHZpZXdlcl08L3RleHQ+PC9zd2l0Y2g+PC9nPjxwYXRoIGQ9Ik0gMjgzLjU5IDEwMi4yMSBMIDI1OS4zNyAxMTEuOTkiIGZpbGw9Im5vbmUiIHN0cm9rZT0iIzAwMDAwMCIgc3Ryb2tlLW1pdGVybGltaXQ9IjEwIiBwb2ludGVyLWV2ZW50cz0ibm9uZSIvPjxwYXRoIGQ9Ik0gMjg4LjQ2IDEwMC4yNCBMIDI4My4yOCAxMDYuMTEgTCAyODMuNTkgMTAyLjIxIEwgMjgwLjY2IDk5LjYyIFoiIGZpbGw9IiMwMDAwMDAiIHN0cm9rZT0iIzAwMDAwMCIgc3Ryb2tlLW1pdGVybGltaXQ9IjEwIiBwb2ludGVyLWV2ZW50cz0ibm9uZSIvPjxnIHRyYW5zZm9ybT0idHJhbnNsYXRlKDI2Ni41LDEwNC41KSI+PHN3aXRjaD48Zm9yZWlnbk9iamVjdCBzdHlsZT0ib3ZlcmZsb3c6dmlzaWJsZTsiIHBvaW50ZXItZXZlbnRzPSJub25lIiB3aWR0aD0iMjkiIGhlaWdodD0iMTQiIHJlcXVpcmVkRmVhdHVyZXM9Imh0dHA6Ly93d3cudzMub3JnL1RSL1NWRzExL2ZlYXR1cmUjRXh0ZW5zaWJpbGl0eSI+PGRpdiB4bWxucz0iaHR0cDovL3d3dy53My5vcmcvMTk5OS94aHRtbCIgc3R5bGU9ImRpc3BsYXk6IGlubGluZS1ibG9jazsgZm9udC1zaXplOiAxMHB4OyBmb250LWZhbWlseTogVmVyZGFuYTsgY29sb3I6IHJnYigxNzAsIDg1LCAwKTsgbGluZS1oZWlnaHQ6IDEuMjsgdmVydGljYWwtYWxpZ246IHRvcDsgd2hpdGUtc3BhY2U6IG5vd3JhcDsgdGV4dC1hbGlnbjogY2VudGVyOyI+PGRpdiB4bWxucz0iaHR0cDovL3d3dy53My5vcmcvMTk5OS94aHRtbCIgc3R5bGU9ImRpc3BsYXk6aW5saW5lLWJsb2NrO3RleHQtYWxpZ246aW5oZXJpdDt0ZXh0LWRlY29yYXRpb246aW5oZXJpdDsiPjxmb250IHN0eWxlPSJmb250LXNpemU6IDE0cHgiPmNbNV08L2ZvbnQ+PC9kaXY+PC9kaXY+PC9mb3JlaWduT2JqZWN0Pjx0ZXh0IHg9IjE1IiB5PSIxMiIgZmlsbD0iI0FBNTUwMCIgdGV4dC1hbmNob3I9Im1pZGRsZSIgZm9udC1zaXplPSIxMHB4IiBmb250LWZhbWlseT0iVmVyZGFuYSI+W05vdCBzdXBwb3J0ZWQgYnkgdmlld2VyXTwvdGV4dD48L3N3aXRjaD48L2c+PHBhdGggZD0iTSAyODMuNzEgMTQ5LjYyIEwgMjYwLjI5IDE0MC4xMiIgZmlsbD0ibm9uZSIgc3Ryb2tlPSIjMDAwMDAwIiBzdHJva2UtbWl0ZXJsaW1pdD0iMTAiIHBvaW50ZXItZXZlbnRzPSJub25lIi8+PHBhdGggZD0iTSAyODguNTggMTUxLjU5IEwgMjgwLjc4IDE1Mi4yIEwgMjgzLjcxIDE0OS42MiBMIDI4My40MSAxNDUuNzIgWiIgZmlsbD0iIzAwMDAwMCIgc3Ryb2tlPSIjMDAwMDAwIiBzdHJva2UtbWl0ZXJsaW1pdD0iMTAiIHBvaW50ZXItZXZlbnRzPSJub25lIi8+PGcgdHJhbnNmb3JtPSJ0cmFuc2xhdGUoMjY2LjUsMTI3LjUpIj48c3dpdGNoPjxmb3JlaWduT2JqZWN0IHN0eWxlPSJvdmVyZmxvdzp2aXNpYmxlOyIgcG9pbnRlci1ldmVudHM9Im5vbmUiIHdpZHRoPSIyOSIgaGVpZ2h0PSIxNCIgcmVxdWlyZWRGZWF0dXJlcz0iaHR0cDovL3d3dy53My5vcmcvVFIvU1ZHMTEvZmVhdHVyZSNFeHRlbnNpYmlsaXR5Ij48ZGl2IHhtbG5zPSJodHRwOi8vd3d3LnczLm9yZy8xOTk5L3hodG1sIiBzdHlsZT0iZGlzcGxheTogaW5saW5lLWJsb2NrOyBmb250LXNpemU6IDEwcHg7IGZvbnQtZmFtaWx5OiBWZXJkYW5hOyBjb2xvcjogcmdiKDE3MCwgODUsIDApOyBsaW5lLWhlaWdodDogMS4yOyB2ZXJ0aWNhbC1hbGlnbjogdG9wOyB3aGl0ZS1zcGFjZTogbm93cmFwOyB0ZXh0LWFsaWduOiBjZW50ZXI7Ij48ZGl2IHhtbG5zPSJodHRwOi8vd3d3LnczLm9yZy8xOTk5L3hodG1sIiBzdHlsZT0iZGlzcGxheTppbmxpbmUtYmxvY2s7dGV4dC1hbGlnbjppbmhlcml0O3RleHQtZGVjb3JhdGlvbjppbmhlcml0OyI+PGZvbnQgc3R5bGU9ImZvbnQtc2l6ZTogMTRweCI+Y1s2XTwvZm9udD48L2Rpdj48L2Rpdj48L2ZvcmVpZ25PYmplY3Q+PHRleHQgeD0iMTUiIHk9IjEyIiBmaWxsPSIjQUE1NTAwIiB0ZXh0LWFuY2hvcj0ibWlkZGxlIiBmb250LXNpemU9IjEwcHgiIGZvbnQtZmFtaWx5PSJWZXJkYW5hIj5bTm90IHN1cHBvcnRlZCBieSB2aWV3ZXJdPC90ZXh0Pjwvc3dpdGNoPjwvZz48cGF0aCBkPSJNIDI4My41OSAxODIuMjEgTCAyNTkuMzcgMTkxLjk5IiBmaWxsPSJub25lIiBzdHJva2U9IiMwMDAwMDAiIHN0cm9rZS1taXRlcmxpbWl0PSIxMCIgcG9pbnRlci1ldmVudHM9Im5vbmUiLz48cGF0aCBkPSJNIDI4OC40NiAxODAuMjQgTCAyODMuMjggMTg2LjExIEwgMjgzLjU5IDE4Mi4yMSBMIDI4MC42NiAxNzkuNjIgWiIgZmlsbD0iIzAwMDAwMCIgc3Ryb2tlPSIjMDAwMDAwIiBzdHJva2UtbWl0ZXJsaW1pdD0iMTAiIHBvaW50ZXItZXZlbnRzPSJub25lIi8+PGcgdHJhbnNmb3JtPSJ0cmFuc2xhdGUoMjY1LjUsMTg0LjUpIj48c3dpdGNoPjxmb3JlaWduT2JqZWN0IHN0eWxlPSJvdmVyZmxvdzp2aXNpYmxlOyIgcG9pbnRlci1ldmVudHM9Im5vbmUiIHdpZHRoPSIyOSIgaGVpZ2h0PSIxNCIgcmVxdWlyZWRGZWF0dXJlcz0iaHR0cDovL3d3dy53My5vcmcvVFIvU1ZHMTEvZmVhdHVyZSNFeHRlbnNpYmlsaXR5Ij48ZGl2IHhtbG5zPSJodHRwOi8vd3d3LnczLm9yZy8xOTk5L3hodG1sIiBzdHlsZT0iZGlzcGxheTogaW5saW5lLWJsb2NrOyBmb250LXNpemU6IDEwcHg7IGZvbnQtZmFtaWx5OiBWZXJkYW5hOyBjb2xvcjogcmdiKDE3MCwgODUsIDApOyBsaW5lLWhlaWdodDogMS4yOyB2ZXJ0aWNhbC1hbGlnbjogdG9wOyB3aGl0ZS1zcGFjZTogbm93cmFwOyB0ZXh0LWFsaWduOiBjZW50ZXI7Ij48ZGl2IHhtbG5zPSJodHRwOi8vd3d3LnczLm9yZy8xOTk5L3hodG1sIiBzdHlsZT0iZGlzcGxheTppbmxpbmUtYmxvY2s7dGV4dC1hbGlnbjppbmhlcml0O3RleHQtZGVjb3JhdGlvbjppbmhlcml0OyI+PGZvbnQgc3R5bGU9ImZvbnQtc2l6ZTogMTRweCI+Y1s3XTwvZm9udD48L2Rpdj48L2Rpdj48L2ZvcmVpZ25PYmplY3Q+PHRleHQgeD0iMTUiIHk9IjEyIiBmaWxsPSIjQUE1NTAwIiB0ZXh0LWFuY2hvcj0ibWlkZGxlIiBmb250LXNpemU9IjEwcHgiIGZvbnQtZmFtaWx5PSJWZXJkYW5hIj5bTm90IHN1cHBvcnRlZCBieSB2aWV3ZXJdPC90ZXh0Pjwvc3dpdGNoPjwvZz48ZyB0cmFuc2Zvcm09InRyYW5zbGF0ZSgxOS41LDMuNSkiPjxzd2l0Y2g+PGZvcmVpZ25PYmplY3Qgc3R5bGU9Im92ZXJmbG93OnZpc2libGU7IiBwb2ludGVyLWV2ZW50cz0ibm9uZSIgd2lkdGg9IjYwIiBoZWlnaHQ9IjE0IiByZXF1aXJlZEZlYXR1cmVzPSJodHRwOi8vd3d3LnczLm9yZy9UUi9TVkcxMS9mZWF0dXJlI0V4dGVuc2liaWxpdHkiPjxkaXYgeG1sbnM9Imh0dHA6Ly93d3cudzMub3JnLzE5OTkveGh0bWwiIHN0eWxlPSJkaXNwbGF5OiBpbmxpbmUtYmxvY2s7IGZvbnQtc2l6ZTogMTBweDsgZm9udC1mYW1pbHk6IFZlcmRhbmE7IGNvbG9yOiByZ2IoMTcwLCA4NSwgMCk7IGxpbmUtaGVpZ2h0OiAxLjI7IHZlcnRpY2FsLWFsaWduOiB0b3A7IHdpZHRoOiA2MHB4OyB3aGl0ZS1zcGFjZTogbm93cmFwOyBvdmVyZmxvdy13cmFwOiBub3JtYWw7IHRleHQtYWxpZ246IGNlbnRlcjsiPjxkaXYgeG1sbnM9Imh0dHA6Ly93d3cudzMub3JnLzE5OTkveGh0bWwiIHN0eWxlPSJkaXNwbGF5OmlubGluZS1ibG9jazt0ZXh0LWFsaWduOmluaGVyaXQ7dGV4dC1kZWNvcmF0aW9uOmluaGVyaXQ7d2hpdGUtc3BhY2U6bm9ybWFsOyI+PGZvbnQgc3R5bGU9ImZvbnQtc2l6ZTogMTRweCI+dmFsdWVbMF08L2ZvbnQ+PC9kaXY+PC9kaXY+PC9mb3JlaWduT2JqZWN0Pjx0ZXh0IHg9IjMwIiB5PSIxMiIgZmlsbD0iI0FBNTUwMCIgdGV4dC1hbmNob3I9Im1pZGRsZSIgZm9udC1zaXplPSIxMHB4IiBmb250LWZhbWlseT0iVmVyZGFuYSI+W05vdCBzdXBwb3J0ZWQgYnkgdmlld2VyXTwvdGV4dD48L3N3aXRjaD48L2c+PGcgdHJhbnNmb3JtPSJ0cmFuc2xhdGUoMTkuNSw2My41KSI+PHN3aXRjaD48Zm9yZWlnbk9iamVjdCBzdHlsZT0ib3ZlcmZsb3c6dmlzaWJsZTsiIHBvaW50ZXItZXZlbnRzPSJub25lIiB3aWR0aD0iNjAiIGhlaWdodD0iMTQiIHJlcXVpcmVkRmVhdHVyZXM9Imh0dHA6Ly93d3cudzMub3JnL1RSL1NWRzExL2ZlYXR1cmUjRXh0ZW5zaWJpbGl0eSI+PGRpdiB4bWxucz0iaHR0cDovL3d3dy53My5vcmcvMTk5OS94aHRtbCIgc3R5bGU9ImRpc3BsYXk6IGlubGluZS1ibG9jazsgZm9udC1zaXplOiAxMHB4OyBmb250LWZhbWlseTogVmVyZGFuYTsgY29sb3I6IHJnYigxNzAsIDg1LCAwKTsgbGluZS1oZWlnaHQ6IDEuMjsgdmVydGljYWwtYWxpZ246IHRvcDsgd2lkdGg6IDYwcHg7IHdoaXRlLXNwYWNlOiBub3dyYXA7IG92ZXJmbG93LXdyYXA6IG5vcm1hbDsgdGV4dC1hbGlnbjogY2VudGVyOyI+PGRpdiB4bWxucz0iaHR0cDovL3d3dy53My5vcmcvMTk5OS94aHRtbCIgc3R5bGU9ImRpc3BsYXk6aW5saW5lLWJsb2NrO3RleHQtYWxpZ246aW5oZXJpdDt0ZXh0LWRlY29yYXRpb246aW5oZXJpdDt3aGl0ZS1zcGFjZTpub3JtYWw7Ij48Zm9udCBzdHlsZT0iZm9udC1zaXplOiAxNHB4Ij52YWx1ZVsxXTwvZm9udD48L2Rpdj48L2Rpdj48L2ZvcmVpZ25PYmplY3Q+PHRleHQgeD0iMzAiIHk9IjEyIiBmaWxsPSIjQUE1NTAwIiB0ZXh0LWFuY2hvcj0ibWlkZGxlIiBmb250LXNpemU9IjEwcHgiIGZvbnQtZmFtaWx5PSJWZXJkYW5hIj5bTm90IHN1cHBvcnRlZCBieSB2aWV3ZXJdPC90ZXh0Pjwvc3dpdGNoPjwvZz48ZyB0cmFuc2Zvcm09InRyYW5zbGF0ZSg2LjUsMTYzLjUpIj48c3dpdGNoPjxmb3JlaWduT2JqZWN0IHN0eWxlPSJvdmVyZmxvdzp2aXNpYmxlOyIgcG9pbnRlci1ldmVudHM9Im5vbmUiIHdpZHRoPSI3NiIgaGVpZ2h0PSIxNCIgcmVxdWlyZWRGZWF0dXJlcz0iaHR0cDovL3d3dy53My5vcmcvVFIvU1ZHMTEvZmVhdHVyZSNFeHRlbnNpYmlsaXR5Ij48ZGl2IHhtbG5zPSJodHRwOi8vd3d3LnczLm9yZy8xOTk5L3hodG1sIiBzdHlsZT0iZGlzcGxheTogaW5saW5lLWJsb2NrOyBmb250LXNpemU6IDEwcHg7IGZvbnQtZmFtaWx5OiBWZXJkYW5hOyBjb2xvcjogcmdiKDE3MCwgODUsIDApOyBsaW5lLWhlaWdodDogMS4yOyB2ZXJ0aWNhbC1hbGlnbjogdG9wOyB3aWR0aDogNzhweDsgd2hpdGUtc3BhY2U6IG5vd3JhcDsgb3ZlcmZsb3ctd3JhcDogbm9ybWFsOyB0ZXh0LWFsaWduOiBjZW50ZXI7Ij48ZGl2IHhtbG5zPSJodHRwOi8vd3d3LnczLm9yZy8xOTk5L3hodG1sIiBzdHlsZT0iZGlzcGxheTppbmxpbmUtYmxvY2s7dGV4dC1hbGlnbjppbmhlcml0O3RleHQtZGVjb3JhdGlvbjppbmhlcml0O3doaXRlLXNwYWNlOm5vcm1hbDsiPjxmb250IHN0eWxlPSJmb250LXNpemU6IDE0cHgiPnZhbHVlW04tMl08L2ZvbnQ+PC9kaXY+PC9kaXY+PC9mb3JlaWduT2JqZWN0Pjx0ZXh0IHg9IjM4IiB5PSIxMiIgZmlsbD0iI0FBNTUwMCIgdGV4dC1hbmNob3I9Im1pZGRsZSIgZm9udC1zaXplPSIxMHB4IiBmb250LWZhbWlseT0iVmVyZGFuYSI+W05vdCBzdXBwb3J0ZWQgYnkgdmlld2VyXTwvdGV4dD48L3N3aXRjaD48L2c+PGcgdHJhbnNmb3JtPSJ0cmFuc2xhdGUoNi41LDIyMy41KSI+PHN3aXRjaD48Zm9yZWlnbk9iamVjdCBzdHlsZT0ib3ZlcmZsb3c6dmlzaWJsZTsiIHBvaW50ZXItZXZlbnRzPSJub25lIiB3aWR0aD0iNzYiIGhlaWdodD0iMTQiIHJlcXVpcmVkRmVhdHVyZXM9Imh0dHA6Ly93d3cudzMub3JnL1RSL1NWRzExL2ZlYXR1cmUjRXh0ZW5zaWJpbGl0eSI+PGRpdiB4bWxucz0iaHR0cDovL3d3dy53My5vcmcvMTk5OS94aHRtbCIgc3R5bGU9ImRpc3BsYXk6IGlubGluZS1ibG9jazsgZm9udC1zaXplOiAxMHB4OyBmb250LWZhbWlseTogVmVyZGFuYTsgY29sb3I6IHJnYigxNzAsIDg1LCAwKTsgbGluZS1oZWlnaHQ6IDEuMjsgdmVydGljYWwtYWxpZ246IHRvcDsgd2lkdGg6IDc4cHg7IHdoaXRlLXNwYWNlOiBub3dyYXA7IG92ZXJmbG93LXdyYXA6IG5vcm1hbDsgdGV4dC1hbGlnbjogY2VudGVyOyI+PGRpdiB4bWxucz0iaHR0cDovL3d3dy53My5vcmcvMTk5OS94aHRtbCIgc3R5bGU9ImRpc3BsYXk6aW5saW5lLWJsb2NrO3RleHQtYWxpZ246aW5oZXJpdDt0ZXh0LWRlY29yYXRpb246aW5oZXJpdDt3aGl0ZS1zcGFjZTpub3JtYWw7Ij48Zm9udCBzdHlsZT0iZm9udC1zaXplOiAxNHB4Ij52YWx1ZVtOLTFdPC9mb250PjwvZGl2PjwvZGl2PjwvZm9yZWlnbk9iamVjdD48dGV4dCB4PSIzOCIgeT0iMTIiIGZpbGw9IiNBQTU1MDAiIHRleHQtYW5jaG9yPSJtaWRkbGUiIGZvbnQtc2l6ZT0iMTBweCIgZm9udC1mYW1pbHk9IlZlcmRhbmEiPltOb3Qgc3VwcG9ydGVkIGJ5IHZpZXdlcl08L3RleHQ+PC9zd2l0Y2g+PC9nPjxnIHRyYW5zZm9ybT0idHJhbnNsYXRlKDIwNi41LDExMy41KSI+PHN3aXRjaD48Zm9yZWlnbk9iamVjdCBzdHlsZT0ib3ZlcmZsb3c6dmlzaWJsZTsiIHBvaW50ZXItZXZlbnRzPSJub25lIiB3aWR0aD0iMjYiIGhlaWdodD0iMTQiIHJlcXVpcmVkRmVhdHVyZXM9Imh0dHA6Ly93d3cudzMub3JnL1RSL1NWRzExL2ZlYXR1cmUjRXh0ZW5zaWJpbGl0eSI+PGRpdiB4bWxucz0iaHR0cDovL3d3dy53My5vcmcvMTk5OS94aHRtbCIgc3R5bGU9ImRpc3BsYXk6IGlubGluZS1ibG9jazsgZm9udC1zaXplOiAxMHB4OyBmb250LWZhbWlseTogVmVyZGFuYTsgY29sb3I6IHJnYigxNzAsIDg1LCAwKTsgbGluZS1oZWlnaHQ6IDEuMjsgdmVydGljYWwtYWxpZ246IHRvcDsgd2lkdGg6IDI2cHg7IHdoaXRlLXNwYWNlOiBub3dyYXA7IG92ZXJmbG93LXdyYXA6IG5vcm1hbDsgdGV4dC1hbGlnbjogY2VudGVyOyI+PGRpdiB4bWxucz0iaHR0cDovL3d3dy53My5vcmcvMTk5OS94aHRtbCIgc3R5bGU9ImRpc3BsYXk6aW5saW5lLWJsb2NrO3RleHQtYWxpZ246aW5oZXJpdDt0ZXh0LWRlY29yYXRpb246aW5oZXJpdDt3aGl0ZS1zcGFjZTpub3JtYWw7Ij48Zm9udCBzdHlsZT0iZm9udC1zaXplOiAxNHB4Ij4uIC4gLjwvZm9udD48L2Rpdj48L2Rpdj48L2ZvcmVpZ25PYmplY3Q+PHRleHQgeD0iMTMiIHk9IjEyIiBmaWxsPSIjQUE1NTAwIiB0ZXh0LWFuY2hvcj0ibWlkZGxlIiBmb250LXNpemU9IjEwcHgiIGZvbnQtZmFtaWx5PSJWZXJkYW5hIj5bTm90IHN1cHBvcnRlZCBieSB2aWV3ZXJdPC90ZXh0Pjwvc3dpdGNoPjwvZz48L2c+PC9zdmc+"
     ]
    }
   },
   "cell_type": "markdown",
   "metadata": {
    "slideshow": {
     "slide_type": "slide"
    }
   },
   "source": [
    "## Sorting Network\n",
    "\n",
    "Suppose we have an incoming stream of `N` elements and want to output them sorted on a single stream. An approach for that is a _merge network:_ each process merges two incoming streams of numbers, picking the largest it sees on its input channels and forwards that to its output channels. The processes are arranged in a tree-like structure:\n",
    "\n",
    "<div class=\"code-img-pair-container\">\n",
    "  <div>\n",
    "    <img src=\"attachment:Merger.svg\"/>\n",
    "  </div>\n",
    "</div>\n",
    "<span></span>\n",
    "\n",
    "For sorting `N` numbers, `N - 1` processes and `2N - 1` channels are needed. The output will be a stream of `N` sorted numbers. We assume that each merger process appends `EOS` to its output once it receives `EOS` on both inputs. Hence the output will have `EOS` between `N` sorted numbers. In turn, the input values have to be a value followed by `EOS`."
   ]
  },
  {
   "cell_type": "code",
   "execution_count": null,
   "metadata": {
    "slideshow": {
     "slide_type": "subslide"
    }
   },
   "outputs": [],
   "source": [
    "%%writefile sorter.go\n",
    "\n",
    "package main\n",
    "\n",
    "import (\"fmt\"; \"time\"; \"math/rand\")\n",
    "\n",
    "const EOS = -1\n",
    "\n",
    "const N = 1 << 17  // N = 2**16\n",
    "const R = 2000     // number of repetitions\n",
    "\n",
    "func printer(in chan int) {\n",
    "    for {//j := 0; j < R * (N + 1); j++ {\n",
    "        v := <- in\n",
    "        if v == EOS {println()\n",
    "        } else {print(v, \" \")\n",
    "        }\n",
    "    }\n",
    "}\n",
    "\n",
    "func merger(in1, in2 chan int, out chan int) {\n",
    "    for {\n",
    "        v1, v2 := <- in1, <- in2\n",
    "        for v1 != EOS || v2 != EOS {\n",
    "            if v1 != EOS && v2 != EOS {\n",
    "                if v1 <= v2 {out <- v1; v1 = <- in1\n",
    "                } else {out <- v2; v2 = <- in2\n",
    "                } \n",
    "            } else if v1 != EOS {\n",
    "                out <- v1; v1 = <- in1\n",
    "            } else {\n",
    "                out <- v2; v2 = <- in2\n",
    "            }\n",
    "        }\n",
    "        out <- EOS\n",
    "    }\n",
    "}\n",
    "\n",
    "func main() {\n",
    "    start := time.Now()\n",
    "    \n",
    "    var c [2 * N] chan int\n",
    "    for i := range c {c[i] = make(chan int, 4)}\n",
    "    \n",
    "    for i := 1; i < N; i++ {go merger(c[i * 2], c[i * 2 + 1], c[i])}\n",
    "\n",
    "    go func () {\n",
    "        for j := 0; j < R; j++ {\n",
    "            for i := N; i < 2 * N; i++ {c[i] <- rand.Int()%100; c[i] <- EOS} \n",
    "        }\n",
    "    } ()\n",
    "    \n",
    "    //printer(c[1]) // comment out one of these lines \n",
    "    for k := 0; k < R; k++ {<- c[1]}\n",
    "    \n",
    "    fmt.Println(time.Since(start))\n",
    "}"
   ]
  },
  {
   "cell_type": "code",
   "execution_count": null,
   "metadata": {
    "scrolled": true
   },
   "outputs": [],
   "source": [
    "!go run sorter.go"
   ]
  },
  {
   "cell_type": "markdown",
   "metadata": {
    "solution": "hidden",
    "solution_first": true
   },
   "source": [
    "_Question:_ Measure the execution time for various values of `N`, `R`, and capacity of the channels. What do you observe?"
   ]
  },
  {
   "cell_type": "markdown",
   "metadata": {
    "slideshow": {
     "slide_type": "fragment"
    },
    "solution": "hidden"
   },
   "source": [
    "*Answer.*\n",
    "- When varying `N`, the times are almost proportional. What is the explanation, given that doubling `N` increases the depth of the network only by `1`?\n",
    "- When varying `R`, say from `1000` to `2000`, for large `N` the times increase is less than proportional. What is the explanation, as one would expect a proportional increase? \n",
    "- When varying the capacity of the channel, the best times are achieved with a rather small channel. If it is make too small, up to a capacity of 1, the times increase. If it is made too large, the times increase significantly What is the explanation?"
   ]
  },
  {
   "cell_type": "markdown",
   "metadata": {
    "solution": "hidden",
    "solution_first": true
   },
   "source": [
    "_Question:_ Can the channels be made sychronous?"
   ]
  },
  {
   "cell_type": "markdown",
   "metadata": {
    "solution": "hidden"
   },
   "source": [
    "*Answer.* The network will deadlock with synchronous channels: starting with `i = N`, two values are attempted to be sent to the leftmost  merger, `c[i] <- rand.Int() % 100` and  `c[i] <- EOS`, then `c[i + 1] <- rand.Int() % 100` and  `c[i + 1] <- EOS`. However, the merger goroutine will read from `c[i]` and `c[i + 1]` first before reading from `c[i]` again, so a deadlock occurs."
   ]
  },
  {
   "cell_type": "markdown",
   "metadata": {
    "slideshow": {
     "slide_type": "slide"
    }
   },
   "source": [
    "## Active Monitors\n",
    "\n",
    "Monitors are resource managers consisting of private variables and public procedures. Monitors can be implemented by processes communicating via messages. This allows for _active monitors_ that can perform operations between requests. For example, equivalent formulations of a server are:\n",
    "\n",
    "<div style=\"display:table\">\n",
    "  <div style = \"display:table-cell\" >\n",
    "\n",
    "```algorithm\n",
    "monitor Counter\n",
    "    var a: integer = 0\n",
    "    var e: even = true\n",
    "    {e = even(a)}\n",
    "    procedure inc()\n",
    "        a := a + 1; e := ¬e\n",
    "    procedure even() → (r: boolean)\n",
    "        r := e\n",
    "```\n",
    "\n",
    "  </div>\n",
    "  <div style = \"display:table-cell; border-left:0px solid white\">\n",
    "\n",
    "```algorithm\n",
    "var inc: channel[]\n",
    "var even: channel[channel[boolean]]\n",
    "process counter\n",
    "    var a: integer = 0\n",
    "    var e: even = true\n",
    "    {e = even(a)}\n",
    "    do inc ? → a := a + 1; e := ¬e\n",
    "     ⫿ even ? r → r ! e\n",
    "```\n",
    "\n",
    "  </div>\n",
    "</div>\n",
    "<span></span>\n",
    "\n",
    "The corresponding clients are:\n",
    "\n",
    "<div style=\"display:table\">\n",
    "  <div style = \"display:table-cell\" >\n",
    "\n",
    "```\n",
    "Counter.inc()\n",
    "b ← Counter.even()\n",
    "```\n",
    "\n",
    "  </div>\n",
    "  <div style = \"display:table-cell; border-left:100px solid white\">\n",
    "\n",
    "```\n",
    "var res: channel[boolean]\n",
    "inc !\n",
    "even ! res\n",
    "res ? b\n",
    "```\n",
    "\n",
    "  </div>\n",
    "</div>\n",
    "<span></span>"
   ]
  },
  {
   "cell_type": "markdown",
   "metadata": {
    "solution": "hidden",
    "solution_first": true
   },
   "source": [
    "_Question:_ Can request or reply channels be buffered?"
   ]
  },
  {
   "cell_type": "markdown",
   "metadata": {
    "slideshow": {
     "slide_type": "fragment"
    },
    "solution": "hidden"
   },
   "source": [
    "*Answer.* Channels can be either."
   ]
  },
  {
   "cell_type": "markdown",
   "metadata": {
    "slideshow": {
     "slide_type": "slide"
    }
   },
   "source": [
    "## Resource Allocator in Go\n",
    "\n",
    "Suppose a fixed number of resources are to be shared among a larger number of clients who repeatedly need one of the resources, but do not care which they use (say, frequencies for transmission). Each client cyclically requests a resource from the allocator, uses it, and then releases it. Requesting and releasing is done by sending messages to the allocator process. The request includes the channel on which the available resources is sent back to the client."
   ]
  },
  {
   "cell_type": "code",
   "execution_count": null,
   "metadata": {},
   "outputs": [],
   "source": [
    "%%writefile allocator.go\n",
    "package main\n",
    "\n",
    "import (\"time\"; \"math/rand\")\n",
    "\n",
    "func allocator(capacity int, request chan chan int, release chan int) {\n",
    "    avail := make([]bool, capacity)\n",
    "    for i := 0; i < capacity; i++ {avail[i] = true}\n",
    "    next := 0\n",
    "    for {\n",
    "        if next < capacity {\n",
    "            select {\n",
    "            case reply := <- request: {reply <- next; avail[next] = false}\n",
    "            case unit := <- release: avail[unit] = true\n",
    "            }\n",
    "        } else {\n",
    "            unit := <- release; avail[unit] = true\n",
    "        }\n",
    "        // now comes the computation that takes place between client communication\n",
    "        for i := 0; i < capacity; i++ {\n",
    "            if avail[i] {print(\" \")} else {print(\"X\")}\n",
    "        }\n",
    "        println();\n",
    "        next = 0; for next < capacity && !avail[next] {next++}\n",
    "    }\n",
    "}\n",
    "\n",
    "func client(i int, request chan chan int, release chan int) {\n",
    "    reply := make(chan int)\n",
    "    for {\n",
    "        request <- reply; unit := <- reply\n",
    "        time.Sleep(time.Second * time.Duration(rand.Int() % 5)) // sleep between 0 and 4 sec\n",
    "        release <- unit\n",
    "    }\n",
    "}\n",
    "func main() {\n",
    "    request, release := make(chan chan int), make(chan int)\n",
    "    go allocator(5, request, release) // 5 resources\n",
    "    for i := 0; i < 10; i++ {go client(i, request, release)} // 10 clients\n",
    "    select {}\n",
    "}"
   ]
  },
  {
   "cell_type": "code",
   "execution_count": null,
   "metadata": {},
   "outputs": [],
   "source": [
    "!go run allocator.go"
   ]
  },
  {
   "cell_type": "markdown",
   "metadata": {
    "slideshow": {
     "slide_type": "fragment"
    }
   },
   "source": [
    "\n",
    "\"Active objects\" that communicate via asynchronous messages are also known as _actors_. They are used by [Twitter](https://redfin.engineering/engineer-to-engineer-talk-how-and-why-twitter-uses-scala), the [Halo 4 game engine](http://www.infoq.com/news/2015/03/halo4-actor-model), the [Facebook Chat system](https://www.facebook.com/note.php?note_id=14218138919). Actors are the basis of Microsoft's [Orleans framework](https://dotnet.github.io/orleans/)\n",
    "\n",
    "Related to actors is [asynchrony](https://www.dartlang.org/guides/language/language-tour#asynchrony-support) in Google's Dart language via procedures (called functions) that return immediately without completing."
   ]
  },
  {
   "cell_type": "markdown",
   "metadata": {
    "slideshow": {
     "slide_type": "slide"
    }
   },
   "source": [
    "## Timing\n",
    "\n",
    "A timed event, like waiting for 3 seconds, can be signalled over a channel: an auxiliary process (goroutine) waits for 3 seconds and then signals. A _timeout_ when waiting for a desired event is expressed by nondeterministically waiting for the desired event or the timeout event. In the following example, input from a keyboard is sent over a channel; if no input is provided within 3 seconds, a timeout occurs:"
   ]
  },
  {
   "cell_type": "code",
   "execution_count": null,
   "metadata": {},
   "outputs": [],
   "source": [
    "%%writefile keyboard.go\n",
    "package main\n",
    "import (\"time\"; \"fmt\")\n",
    "\n",
    "func main() {\n",
    "    abort, enter := make (chan bool), make(chan string)\n",
    "    go func() {\n",
    "        var s string\n",
    "        fmt.Scanln(&s)\n",
    "        enter <- s\n",
    "    } ()\n",
    "    go func() {\n",
    "        time.Sleep(3 * time.Second)\n",
    "        abort <- true\n",
    "    } ()\n",
    "    fmt.Println(\"Enter within 3 seconds:\")\n",
    "    select {\n",
    "        case s := <- enter: fmt.Println(\"You entered:\", s)\n",
    "        case <- abort: fmt.Println(\"Timeout\")\n",
    "    }\n",
    "}"
   ]
  },
  {
   "cell_type": "markdown",
   "metadata": {},
   "source": [
    "_Note:_ Since the program accepts input from the keyboard, it cannot be run within Jupyter; use `go run keyboard.go` in a terminal. The example also illustates textual input / output with the `fmt` package."
   ]
  },
  {
   "cell_type": "markdown",
   "metadata": {
    "slideshow": {
     "slide_type": "slide"
    }
   },
   "source": [
    "Suppose a worker process has to run a job every second but may fail to finish within a second. A _watchdog timer_ observes if the worker completes each round within the given time. If there is a timeout, the program below simply terminates. "
   ]
  },
  {
   "cell_type": "code",
   "execution_count": null,
   "metadata": {},
   "outputs": [],
   "source": [
    "%%writefile timeout.go\n",
    "package main\n",
    "import (\"time\"; \"math/rand\"; \"fmt\")\n",
    "\n",
    "var tick chan bool\n",
    "var done chan bool\n",
    "\n",
    "func ticker() { \n",
    "    for {\n",
    "        time.Sleep(time.Second)\n",
    "        tick <- true\n",
    "        // fmt.Println(time.Now())\n",
    "    }\n",
    "}\n",
    "func worker() {\n",
    "    for { // \"work\" randomly 0 to 2 sec\n",
    "        time.Sleep(time.Second * time.Duration(rand.Int() % 3))\n",
    "        done <- true\n",
    "    }\n",
    "}\n",
    "func main() {\n",
    "    rand.Seed(time.Now().UnixNano())\n",
    "    tick = make(chan bool); go ticker()\n",
    "    done = make(chan bool); go worker()\n",
    "    for {\n",
    "        select {\n",
    "            case <- done: fmt.Println(\"done\"); <- tick\n",
    "            case <- tick: fmt.Println(\"timeout\"); return\n",
    "        }\n",
    "    }\n",
    "}"
   ]
  },
  {
   "cell_type": "code",
   "execution_count": null,
   "metadata": {},
   "outputs": [],
   "source": [
    "!go run timeout.go"
   ]
  },
  {
   "cell_type": "markdown",
   "metadata": {
    "slideshow": {
     "slide_type": "slide"
    }
   },
   "source": [
    "Above implementation of the ticker process exhibits _cumulative drift:_ even if `Sleep` would sleep for exactly one second, there is a slight delay between calls to `Sleep`, so every `tick` will be slightly more than one second apart, as can be observed by printing `Now()` at every tick. Hence process `ticker` above cannot be used reliably for a clock. For this, the time between calls to `Sleep` has to be measured and sleeping reduced by that amount. The `time` library provides [`Ticker`]() objects that implement that. They are created with `NewTicker(duration)` and have a field `C` with a channel that continuously ticks by sending the time of the tick:"
   ]
  },
  {
   "cell_type": "code",
   "execution_count": null,
   "metadata": {},
   "outputs": [],
   "source": [
    "%%writefile ticker.go\n",
    "package main\n",
    "import (\"time\"; \"math/rand\")\n",
    "\n",
    "var done chan bool\n",
    "\n",
    "func worker() {\n",
    "    for { // \"work\" 0 to 2 sec\n",
    "        time.Sleep(time.Second * time.Duration(rand.Int() % 3))\n",
    "        done <- true\n",
    "    }\n",
    "}\n",
    "func main() {\n",
    "    rand.Seed(time.Now().UnixNano())\n",
    "    ticker := time.NewTicker(time.Second)\n",
    "    done = make(chan bool); go worker()\n",
    "    for {\n",
    "        select {\n",
    "            case <- done: println(\"done\"); <- ticker.C\n",
    "            case <- ticker.C: println(\"timeout\"); return\n",
    "        }\n",
    "    }\n",
    "}"
   ]
  },
  {
   "cell_type": "code",
   "execution_count": null,
   "metadata": {},
   "outputs": [],
   "source": [
    "!go run ticker.go"
   ]
  }
 ],
 "metadata": {
  "celltoolbar": "Slideshow",
  "kernelspec": {
   "display_name": "Python 3",
   "language": "python",
   "name": "python3"
  },
  "language_info": {
   "codemirror_mode": {
    "name": "ipython",
    "version": 3
   },
   "file_extension": ".py",
   "mimetype": "text/x-python",
   "name": "python",
   "nbconvert_exporter": "python",
   "pygments_lexer": "ipython3",
   "version": "3.8.0"
  },
  "livereveal": {
   "height": "900",
   "history": true,
   "margin": "0.01",
   "progress": true,
   "scroll": true,
   "start_slideshow_at": "selected",
   "theme": "night",
   "width": "1440"
  }
 },
 "nbformat": 4,
 "nbformat_minor": 2
}
