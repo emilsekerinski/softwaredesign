{
 "cells": [
  {
   "cell_type": "markdown",
   "metadata": {
    "slideshow": {
     "slide_type": "slide"
    }
   },
   "source": [
    "---\n",
    "\n",
    "# Monitors\n",
    "### [Emil Sekerinski](http://www.cas.mcmaster.ca/~emil/), McMaster University, Fall 2019\n",
    "\n",
    "---"
   ]
  },
  {
   "cell_type": "markdown",
   "metadata": {
    "slideshow": {
     "slide_type": "slide"
    }
   },
   "source": [
    "## On Thread-Safety and Monitors\n",
    "\n",
    "A program module is _thread-safe_ (or *serializable*) if, when called by multiple threads concurrently, the effect is the same as if the calls had been executed atomically, meaning in some sequential order."
   ]
  },
  {
   "cell_type": "markdown",
   "metadata": {
    "slideshow": {
     "slide_type": "-"
    },
    "solution": "shown",
    "solution_first": true
   },
   "source": [
    "_Question:_ Are following Python procedures thread-safe? When are procedures thread-safe in general?\n",
    "```Python\n",
    "def binarySearch(a, key):\n",
    "    i, j = 0, len(a)\n",
    "    while i + 1 < j:\n",
    "        h = (i + j) // 2\n",
    "        if a[h] <= key: i = h\n",
    "        else: j = h\n",
    "    return a[i] == key\n",
    "```\n",
    "```Python\n",
    "def swap(a, i, j): # exchange a[i] with a[j]\n",
    "    h = a[i]; a[i] = a[j]; a[j] = h\n",
    "```"
   ]
  },
  {
   "cell_type": "markdown",
   "metadata": {
    "slideshow": {
     "slide_type": "fragment"
    },
    "solution": "shown"
   },
   "source": [
    "_Answer:_ `binarySearch` is thread-safe, but `swap` not: concurrent calls `swap(a, 0, 1)` and `swap(a, 1, 2)` do not always have the effect of `swap(a, 0, 1); swap(a, 1, 2)` or `swap(a, 1, 2); swap(a, 0, 1)`. A possible interleaving is (below `=` is assignment, not equality):\n",
    "\n",
    "| `swap(a, 0, 1):` | `a:`             | `swap(a, 1, 2):` |\n",
    "|:-----------------|:-----------------|:-----------------|\n",
    "|                  | `[5, 6, 7, 8]`   |                  |\n",
    "| `h = a[0]`       |                  |                  |\n",
    "|                  |                  | `h = a[1]`       |\n",
    "| `a[0] = a[1]`    |                  |                  |\n",
    "|                  | `[6, 6, 7, 8]`   |                  |\n",
    "|                  |                  | `a[1] = a[2]`    |\n",
    "|                  | `[6, 7, 7, 8]`   |                  |\n",
    "| `a[1] = h`       |                  |                  |\n",
    "|                  | `[6, 5, 7, 8]`   |                  |\n",
    "|                  |                  | `a[2] = h`       |\n",
    "|                  | `[6, 5, 6, 8]`   |                  |\n"
   ]
  },
  {
   "cell_type": "markdown",
   "metadata": {
    "slideshow": {
     "slide_type": "fragment"
    }
   },
   "source": [
    "When a procedure is called by several threads, the local variables of the procedure are local to each calling thread, thus the threads cannot affect each other's local variables. Threads could affect each other through global variables, e.g. parameters that point to objects. If that is not the case, procedures are thread-safe. Arithmetic functions like `sin` are commonly thread-safe."
   ]
  },
  {
   "cell_type": "markdown",
   "metadata": {
    "slideshow": {
     "slide_type": "subslide"
    },
    "solution": "hidden",
    "solution_first": true
   },
   "source": [
    "_Question:_ Is following Java class thread-safe? When are classes thread-safe in general?\n",
    "```Java\n",
    "class Point {\n",
    "    int x, y;\n",
    "    Point(int x0, int y0) {\n",
    "        x = x0; y = y0;\n",
    "    }\n",
    "    void move(int dx, int dy) {\n",
    "        x += dx; y += dy;\n",
    "    }\n",
    "}\n",
    "```"
   ]
  },
  {
   "cell_type": "markdown",
   "metadata": {
    "slideshow": {
     "slide_type": "fragment"
    },
    "solution": "hidden"
   },
   "source": [
    "_Answer._ Above, two threads calling `move` of the same `Point` object may lead to a race condition, the updates to the fields `x` and `y` may overwrite each other. In general, any class with fields is not thread-safe."
   ]
  },
  {
   "cell_type": "markdown",
   "metadata": {
    "slideshow": {
     "slide_type": "fragment"
    }
   },
   "source": [
    "For example, [HashMap](https://docs.oracle.com/javase/8/docs/api/java/util/HashMap.html) in Java is not thread-safe, but [ConcurrentHashMap](https://docs.oracle.com/javase/8/docs/api/java/util/concurrent/ConcurrentHashMap.html) is. However, there is a cost associated with using ConcurrentHashMap, which makes it less suitable if thread-safety is not needed."
   ]
  },
  {
   "cell_type": "markdown",
   "metadata": {
    "slideshow": {
     "slide_type": "subslide"
    }
   },
   "source": [
    "The rule for the correctness of classes assumes that an object is used by a single thread, as in:\n",
    "```algorithm\n",
    "class Counter\n",
    "    var a: integer = 0\n",
    "    var e: boolean = true\n",
    "    {e = even(a)}\n",
    "    method inc()\n",
    "        a := a + 1 ; e := ¬e\n",
    "```\n",
    "The invariant is preserved by `inc()` when called by a single thread. If such a class is to be used concurrently, some form of mutual exclusion has to be guaranteed, e.g. by bracketing the body of methods in `P` and `V` semaphore operations."
   ]
  },
  {
   "cell_type": "markdown",
   "metadata": {
    "slideshow": {
     "slide_type": "subslide"
    }
   },
   "source": [
    "Semaphores are a simple and universal mechanism. However:\n",
    "- One can easily forget a `P` or `V` operation, or have too many.\n",
    "- Semaphores are, in general, global to all processes: to see how they are used, one must examine the whole program.\n",
    "- They are used for both mutual exclusion and condition synchronization without syntactic distinction.\n",
    "\n",
    "_Monitors_ were popularized under that name by [C.A.R. Hoare](https://link-springer-com.libaccess.lib.mcmaster.ca/chapter/10.1007%2F978-1-4757-3472-0_10) (based [E.W. Dijkstra's](https://www.cs.utexas.edu/users/EWD/ewd03xx/EWD310.PDF) secretrary and [P.B. Hansen's](http://brinch-hansen.net/papers/1973b.pdf) shared classes) as modules that impose a syntactic structure:\n",
    "- Monitors provide data abstraction: the representation is hidden and can be accessed only through public procedures; monitors can be used and implemented independently.\n",
    "- Mutual exclusion is achieved by not allowing two _monitor procedures_ to execute concurrently, similar to atomic regions.\n",
    "- Condition synchronization is achieved with _condition variables_ that resemble but are different from semaphores.\n",
    "\n",
    "The resulting program structure is a composition of _active processes_ and _passive monitors_."
   ]
  },
  {
   "cell_type": "markdown",
   "metadata": {
    "slideshow": {
     "slide_type": "subslide"
    }
   },
   "source": [
    "A monitor with variables `a`, initialization `S0`, and procedures `p1`, ..., `pn` with bodies `S1`, ..., `Sn` is declared as follows:\n",
    "```\n",
    "monitor M\n",
    "    var a: A\n",
    "    initialization\n",
    "        S0\n",
    "    procedure pi\n",
    "        Si\n",
    "```\n",
    "The monitor variables are private and the monitor procedures public. Furthermore, monitor procedures may not access variables declared outside of the monitor. The monitor variables are accessed by calling one of its procedures:\n",
    "```\n",
    "v ← pi(E)\n",
    "```"
   ]
  },
  {
   "cell_type": "markdown",
   "metadata": {
    "slideshow": {
     "slide_type": "subslide"
    }
   },
   "source": [
    "Monitor procedures always execute in mutual exclusion. As there is no interference among the methods, a _monitor invariant_ is preserved if each method preserves it when executed atomically:\n",
    "```algorithm\n",
    "monitor Counter\n",
    "    var a: integer = 0\n",
    "    var e: boolean = true\n",
    "    {e = even(a)}\n",
    "    procedure inc()\n",
    "        a := a + 1; e := ¬e\n",
    "    procedure even() → (r: boolean)\n",
    "        r := e\n",
    "```\n"
   ]
  },
  {
   "cell_type": "markdown",
   "metadata": {
    "slideshow": {
     "slide_type": "subslide"
    }
   },
   "source": [
    "**Rule for correctness of monitors:**\n",
    "Suppose monitor `M` is given with monitor invariant `I` and procedures `p1`, ..., `pn`; the initialization `S0` and the method bodies `S1`,..., `Sn` are annotated statements:\n",
    "```algorithm\n",
    "monitor M\n",
    "    var ...\n",
    "    {I}\n",
    "    initialization\n",
    "        S0\n",
    "    procedure pi\n",
    "        Si\n",
    "```\n",
    "Monitor `M` is correct if\n",
    "- the initialization _establishes_ `I`,\n",
    "\n",
    "```algorithm\n",
    "{true}  S0  {I}\n",
    "```\n",
    "\n",
    "- every procedure `pi` _preserves_ `I`:\n",
    "\n",
    "```algorithm\n",
    "{I}  Si  {I}\n",
    "```"
   ]
  },
  {
   "cell_type": "markdown",
   "metadata": {
    "slideshow": {
     "slide_type": "slide"
    }
   },
   "source": [
    "## Condition Variables\n",
    "\n",
    "Condition synchronization is done by _condition variables:_\n",
    "```\n",
    "var cv: condition\n",
    "```\n",
    "The value of `cv` is an initially empty queue of delayed processes. This queue can only be accessed through certain operations that can be used within the monitor in which `cv` is declared:\n",
    "\n",
    "<div style=\"display:table;margin-left:2em;margin-top:1em\">\n",
    "  <div style=\"display:table-row\">\n",
    "    <code>wait(cv)</code>\n",
    "    <div style = \"display:table-cell;padding-left:1em\">\n",
    "    adds the current process at the end of the queue and relinquishes exclusive access to the monitor, such that another process can enter the monitor<br><br>\n",
    "    </div>\n",
    "  </div>\n",
    "  <div style=\"display:table-row\">\n",
    "    <code>signal(cv)</code>\n",
    "    <div style = \"display:table-cell;padding-left:1em\">awakens the process at the front of the queue, if the queue is not empty, otherwise has no effect.</div>\n",
    "  </div>\n",
    "</div>"
   ]
  },
  {
   "cell_type": "markdown",
   "metadata": {
    "slideshow": {
     "slide_type": "subslide"
    }
   },
   "source": [
    "After a `signal(cv)` operation, two processes are ready to execute within the monitor, the signalling and the signalled process, provided the queue is not empty. With the _signal-and-wait discipline_ the signaller waits and the signalled process continues: signal-and-wait is preemptive. Let `P` be the _signalling condition_ of `cv`:\n",
    "```algorithm\n",
    "monitor M\n",
    "    var cv: condition\n",
    "    {I}\n",
    "    procedure p\n",
    "        ...  {true}  wait(cv)  {P}  ...\n",
    "    procedure q\n",
    "        ...  {P}  signal(cv)  {I}  ...\n",
    "```\n",
    "With the _signal-and-continue discipline_ the signaller continues and the signalled process executes later: signal-and-continue is non-preemptive.\n",
    "```algorithm\n",
    "monitor M\n",
    "    var cv: condition\n",
    "    {I}\n",
    "    procedure p\n",
    "        ...  {true}  wait(cv)  {I}  ...\n",
    "    procedure q\n",
    "        ...  {P}  signal(cv)  {P}  ...\n",
    "```"
   ]
  },
  {
   "attachments": {
    "SignalingDisciplines.svg": {
     "image/svg+xml": [
      "PCFET0NUWVBFIHN2ZyBQVUJMSUMgIi0vL1czQy8vRFREIFNWRyAxLjEvL0VOIiAiaHR0cDovL3d3dy53My5vcmcvR3JhcGhpY3MvU1ZHLzEuMS9EVEQvc3ZnMTEuZHRkIj4KPHN2ZyB4bWxucz0iaHR0cDovL3d3dy53My5vcmcvMjAwMC9zdmciIHhtbG5zOnhsaW5rPSJodHRwOi8vd3d3LnczLm9yZy8xOTk5L3hsaW5rIiB3aWR0aD0iNTk3cHgiIGhlaWdodD0iMjYxcHgiIHZlcnNpb249IjEuMSIgc3R5bGU9ImJhY2tncm91bmQtY29sb3I6IHJnYigyNTUsIDI1NSwgMjU1KTsiPjxkZWZzLz48ZyB0cmFuc2Zvcm09InRyYW5zbGF0ZSgwLjUsMC41KSI+PHBhdGggZD0iTSAyNDcgMzAgUSAxNDEgMzAgMTQxIDkzLjYzIiBmaWxsPSJub25lIiBzdHJva2U9IiMwMDAwMDAiIHN0cm9rZS1taXRlcmxpbWl0PSIxMCIgcG9pbnRlci1ldmVudHM9Im5vbmUiLz48cGF0aCBkPSJNIDE0MSA5OC44OCBMIDEzNy41IDkxLjg4IEwgMTQxIDkzLjYzIEwgMTQ0LjUgOTEuODggWiIgZmlsbD0iIzAwMDAwMCIgc3Ryb2tlPSIjMDAwMDAwIiBzdHJva2UtbWl0ZXJsaW1pdD0iMTAiIHBvaW50ZXItZXZlbnRzPSJub25lIi8+PGcgdHJhbnNmb3JtPSJ0cmFuc2xhdGUoMTA5LjUsMjYuNSkiPjxzd2l0Y2g+PGZvcmVpZ25PYmplY3Qgc3R5bGU9Im92ZXJmbG93OnZpc2libGU7IiBwb2ludGVyLWV2ZW50cz0iYWxsIiB3aWR0aD0iMTAwIiBoZWlnaHQ9IjI2IiByZXF1aXJlZEZlYXR1cmVzPSJodHRwOi8vd3d3LnczLm9yZy9UUi9TVkcxMS9mZWF0dXJlI0V4dGVuc2liaWxpdHkiPjxkaXYgeG1sbnM9Imh0dHA6Ly93d3cudzMub3JnLzE5OTkveGh0bWwiIHN0eWxlPSJkaXNwbGF5OiBpbmxpbmUtYmxvY2s7IGZvbnQtc2l6ZTogMTBweDsgZm9udC1mYW1pbHk6IFZlcmRhbmE7IGNvbG9yOiByZ2IoMTcwLCA4NSwgMCk7IGxpbmUtaGVpZ2h0OiAxLjI7IHZlcnRpY2FsLWFsaWduOiB0b3A7IHdoaXRlLXNwYWNlOiBub3dyYXA7IHRleHQtYWxpZ246IGNlbnRlcjsiPjxkaXYgeG1sbnM9Imh0dHA6Ly93d3cudzMub3JnLzE5OTkveGh0bWwiIHN0eWxlPSJkaXNwbGF5OmlubGluZS1ibG9jazt0ZXh0LWFsaWduOmluaGVyaXQ7dGV4dC1kZWNvcmF0aW9uOmluaGVyaXQ7YmFja2dyb3VuZC1jb2xvcjojZmZmZmZmOyI+PGZvbnQgc3R5bGU9ImZvbnQtc2l6ZTogMTRweCI+c2lnbmFsKGN2KTxiciAvPjwvZm9udD48Zm9udCBjb2xvcj0iIzAwNjYwMCI+c2lnbmFsLWFuZC1jb250aW51ZTwvZm9udD48L2Rpdj48L2Rpdj48L2ZvcmVpZ25PYmplY3Q+PHRleHQgeD0iNTAiIHk9IjE4IiBmaWxsPSIjQUE1NTAwIiB0ZXh0LWFuY2hvcj0ibWlkZGxlIiBmb250LXNpemU9IjEwcHgiIGZvbnQtZmFtaWx5PSJWZXJkYW5hIj5bTm90IHN1cHBvcnRlZCBieSB2aWV3ZXJdPC90ZXh0Pjwvc3dpdGNoPjwvZz48cmVjdCB4PSI4NyIgeT0iMTAwIiB3aWR0aD0iMTAwIiBoZWlnaHQ9IjYwIiByeD0iOSIgcnk9IjkiIGZpbGw9IiNmZmZmZmYiIHN0cm9rZT0iIzk5OTk5OSIgcG9pbnRlci1ldmVudHM9Im5vbmUiLz48ZyB0cmFuc2Zvcm09InRyYW5zbGF0ZSg4Ny41LDExNC41KSI+PHN3aXRjaD48Zm9yZWlnbk9iamVjdCBzdHlsZT0ib3ZlcmZsb3c6dmlzaWJsZTsiIHBvaW50ZXItZXZlbnRzPSJhbGwiIHdpZHRoPSI5NyIgaGVpZ2h0PSIzMCIgcmVxdWlyZWRGZWF0dXJlcz0iaHR0cDovL3d3dy53My5vcmcvVFIvU1ZHMTEvZmVhdHVyZSNFeHRlbnNpYmlsaXR5Ij48ZGl2IHhtbG5zPSJodHRwOi8vd3d3LnczLm9yZy8xOTk5L3hodG1sIiBzdHlsZT0iZGlzcGxheTogaW5saW5lLWJsb2NrOyBmb250LXNpemU6IDEwcHg7IGZvbnQtZmFtaWx5OiBWZXJkYW5hOyBjb2xvcjogcmdiKDE3MCwgODUsIDApOyBsaW5lLWhlaWdodDogMS4yOyB2ZXJ0aWNhbC1hbGlnbjogdG9wOyB3aWR0aDogOTdweDsgd2hpdGUtc3BhY2U6IG5vcm1hbDsgd29yZC13cmFwOiBub3JtYWw7IHRleHQtYWxpZ246IGNlbnRlcjsiPjxkaXYgeG1sbnM9Imh0dHA6Ly93d3cudzMub3JnLzE5OTkveGh0bWwiIHN0eWxlPSJkaXNwbGF5OmlubGluZS1ibG9jazt0ZXh0LWFsaWduOmluaGVyaXQ7dGV4dC1kZWNvcmF0aW9uOmluaGVyaXQ7Ij48Zm9udCBzdHlsZT0iZm9udC1zaXplOiAxNHB4Ij5pbiBlbnRyeSBxdWV1ZTwvZm9udD48L2Rpdj48L2Rpdj48L2ZvcmVpZ25PYmplY3Q+PHRleHQgeD0iNDkiIHk9IjIwIiBmaWxsPSIjQUE1NTAwIiB0ZXh0LWFuY2hvcj0ibWlkZGxlIiBmb250LXNpemU9IjEwcHgiIGZvbnQtZmFtaWx5PSJWZXJkYW5hIj5bTm90IHN1cHBvcnRlZCBieSB2aWV3ZXJdPC90ZXh0Pjwvc3dpdGNoPjwvZz48cmVjdCB4PSI0MDciIHk9IjEwMCIgd2lkdGg9IjEwMCIgaGVpZ2h0PSI2MCIgcng9IjkiIHJ5PSI5IiBmaWxsPSIjZmZmZmZmIiBzdHJva2U9IiM5OTk5OTkiIHBvaW50ZXItZXZlbnRzPSJub25lIi8+PGcgdHJhbnNmb3JtPSJ0cmFuc2xhdGUoNDA3LjUsMTE0LjUpIj48c3dpdGNoPjxmb3JlaWduT2JqZWN0IHN0eWxlPSJvdmVyZmxvdzp2aXNpYmxlOyIgcG9pbnRlci1ldmVudHM9ImFsbCIgd2lkdGg9Ijk3IiBoZWlnaHQ9IjMwIiByZXF1aXJlZEZlYXR1cmVzPSJodHRwOi8vd3d3LnczLm9yZy9UUi9TVkcxMS9mZWF0dXJlI0V4dGVuc2liaWxpdHkiPjxkaXYgeG1sbnM9Imh0dHA6Ly93d3cudzMub3JnLzE5OTkveGh0bWwiIHN0eWxlPSJkaXNwbGF5OiBpbmxpbmUtYmxvY2s7IGZvbnQtc2l6ZTogMTBweDsgZm9udC1mYW1pbHk6IFZlcmRhbmE7IGNvbG9yOiByZ2IoMTcwLCA4NSwgMCk7IGxpbmUtaGVpZ2h0OiAxLjI7IHZlcnRpY2FsLWFsaWduOiB0b3A7IHdpZHRoOiA5N3B4OyB3aGl0ZS1zcGFjZTogbm9ybWFsOyB3b3JkLXdyYXA6IG5vcm1hbDsgdGV4dC1hbGlnbjogY2VudGVyOyI+PGRpdiB4bWxucz0iaHR0cDovL3d3dy53My5vcmcvMTk5OS94aHRtbCIgc3R5bGU9ImRpc3BsYXk6aW5saW5lLWJsb2NrO3RleHQtYWxpZ246aW5oZXJpdDt0ZXh0LWRlY29yYXRpb246aW5oZXJpdDsiPjxmb250IHN0eWxlPSJmb250LXNpemU6IDE0cHgiPmV4ZWN1dGluZyBpbiBtb25pdG9yPC9mb250PjwvZGl2PjwvZGl2PjwvZm9yZWlnbk9iamVjdD48dGV4dCB4PSI0OSIgeT0iMjAiIGZpbGw9IiNBQTU1MDAiIHRleHQtYW5jaG9yPSJtaWRkbGUiIGZvbnQtc2l6ZT0iMTBweCIgZm9udC1mYW1pbHk9IlZlcmRhbmEiPltOb3Qgc3VwcG9ydGVkIGJ5IHZpZXdlcl08L3RleHQ+PC9zd2l0Y2g+PC9nPjxyZWN0IHg9IjI0NyIgeT0iMCIgd2lkdGg9IjEwMCIgaGVpZ2h0PSI2MCIgcng9IjkiIHJ5PSI5IiBmaWxsPSIjZmZmZmZmIiBzdHJva2U9IiM5OTk5OTkiIHBvaW50ZXItZXZlbnRzPSJub25lIi8+PGcgdHJhbnNmb3JtPSJ0cmFuc2xhdGUoMjQ3LjUsMTQuNSkiPjxzd2l0Y2g+PGZvcmVpZ25PYmplY3Qgc3R5bGU9Im92ZXJmbG93OnZpc2libGU7IiBwb2ludGVyLWV2ZW50cz0iYWxsIiB3aWR0aD0iOTciIGhlaWdodD0iMzAiIHJlcXVpcmVkRmVhdHVyZXM9Imh0dHA6Ly93d3cudzMub3JnL1RSL1NWRzExL2ZlYXR1cmUjRXh0ZW5zaWJpbGl0eSI+PGRpdiB4bWxucz0iaHR0cDovL3d3dy53My5vcmcvMTk5OS94aHRtbCIgc3R5bGU9ImRpc3BsYXk6IGlubGluZS1ibG9jazsgZm9udC1zaXplOiAxMHB4OyBmb250LWZhbWlseTogVmVyZGFuYTsgY29sb3I6IHJnYigxNzAsIDg1LCAwKTsgbGluZS1oZWlnaHQ6IDEuMjsgdmVydGljYWwtYWxpZ246IHRvcDsgd2lkdGg6IDk3cHg7IHdoaXRlLXNwYWNlOiBub3JtYWw7IHdvcmQtd3JhcDogbm9ybWFsOyB0ZXh0LWFsaWduOiBjZW50ZXI7Ij48ZGl2IHhtbG5zPSJodHRwOi8vd3d3LnczLm9yZy8xOTk5L3hodG1sIiBzdHlsZT0iZGlzcGxheTppbmxpbmUtYmxvY2s7dGV4dC1hbGlnbjppbmhlcml0O3RleHQtZGVjb3JhdGlvbjppbmhlcml0OyI+PGZvbnQgc3R5bGU9ImZvbnQtc2l6ZTogMTRweCI+aW4gcXVldWUgb2YgY3Y8L2ZvbnQ+PC9kaXY+PC9kaXY+PC9mb3JlaWduT2JqZWN0Pjx0ZXh0IHg9IjQ5IiB5PSIyMCIgZmlsbD0iI0FBNTUwMCIgdGV4dC1hbmNob3I9Im1pZGRsZSIgZm9udC1zaXplPSIxMHB4IiBmb250LWZhbWlseT0iVmVyZGFuYSI+W05vdCBzdXBwb3J0ZWQgYnkgdmlld2VyXTwvdGV4dD48L3N3aXRjaD48L2c+PHBhdGggZD0iTSAxODcgMTE1IFEgMTg3IDExNSA0MDAuNjMgMTE1IiBmaWxsPSJub25lIiBzdHJva2U9IiMwMDAwMDAiIHN0cm9rZS1taXRlcmxpbWl0PSIxMCIgcG9pbnRlci1ldmVudHM9Im5vbmUiLz48cGF0aCBkPSJNIDQwNS44OCAxMTUgTCAzOTguODggMTE4LjUgTCA0MDAuNjMgMTE1IEwgMzk4Ljg4IDExMS41IFoiIGZpbGw9IiMwMDAwMDAiIHN0cm9rZT0iIzAwMDAwMCIgc3Ryb2tlLW1pdGVybGltaXQ9IjEwIiBwb2ludGVyLWV2ZW50cz0ibm9uZSIvPjxnIHRyYW5zZm9ybT0idHJhbnNsYXRlKDI1My41LDEwNy41KSI+PHN3aXRjaD48Zm9yZWlnbk9iamVjdCBzdHlsZT0ib3ZlcmZsb3c6dmlzaWJsZTsiIHBvaW50ZXItZXZlbnRzPSJhbGwiIHdpZHRoPSI4NyIgaGVpZ2h0PSIxNCIgcmVxdWlyZWRGZWF0dXJlcz0iaHR0cDovL3d3dy53My5vcmcvVFIvU1ZHMTEvZmVhdHVyZSNFeHRlbnNpYmlsaXR5Ij48ZGl2IHhtbG5zPSJodHRwOi8vd3d3LnczLm9yZy8xOTk5L3hodG1sIiBzdHlsZT0iZGlzcGxheTogaW5saW5lLWJsb2NrOyBmb250LXNpemU6IDEwcHg7IGZvbnQtZmFtaWx5OiBWZXJkYW5hOyBjb2xvcjogcmdiKDE3MCwgODUsIDApOyBsaW5lLWhlaWdodDogMS4yOyB2ZXJ0aWNhbC1hbGlnbjogdG9wOyB3aGl0ZS1zcGFjZTogbm93cmFwOyB0ZXh0LWFsaWduOiBjZW50ZXI7Ij48ZGl2IHhtbG5zPSJodHRwOi8vd3d3LnczLm9yZy8xOTk5L3hodG1sIiBzdHlsZT0iZGlzcGxheTppbmxpbmUtYmxvY2s7dGV4dC1hbGlnbjppbmhlcml0O3RleHQtZGVjb3JhdGlvbjppbmhlcml0O2JhY2tncm91bmQtY29sb3I6I2ZmZmZmZjsiPjxzcGFuIHN0eWxlPSJmb250LXNpemU6IDE0cHgiPm1vbml0b3IgZnJlZTwvc3Bhbj48L2Rpdj48L2Rpdj48L2ZvcmVpZ25PYmplY3Q+PHRleHQgeD0iNDQiIHk9IjEyIiBmaWxsPSIjQUE1NTAwIiB0ZXh0LWFuY2hvcj0ibWlkZGxlIiBmb250LXNpemU9IjEwcHgiIGZvbnQtZmFtaWx5PSJWZXJkYW5hIj5bTm90IHN1cHBvcnRlZCBieSB2aWV3ZXJdPC90ZXh0Pjwvc3dpdGNoPjwvZz48cGF0aCBkPSJNIDQwNyAxNDUgUSA0MDcgMTQ1IDE5My4zNyAxNDUiIGZpbGw9Im5vbmUiIHN0cm9rZT0iIzAwMDAwMCIgc3Ryb2tlLW1pdGVybGltaXQ9IjEwIiBwb2ludGVyLWV2ZW50cz0ibm9uZSIvPjxwYXRoIGQ9Ik0gMTg4LjEyIDE0NSBMIDE5NS4xMiAxNDEuNSBMIDE5My4zNyAxNDUgTCAxOTUuMTIgMTQ4LjUgWiIgZmlsbD0iIzAwMDAwMCIgc3Ryb2tlPSIjMDAwMDAwIiBzdHJva2UtbWl0ZXJsaW1pdD0iMTAiIHBvaW50ZXItZXZlbnRzPSJub25lIi8+PGcgdHJhbnNmb3JtPSJ0cmFuc2xhdGUoMjU3LjUsMTMxLjUpIj48c3dpdGNoPjxmb3JlaWduT2JqZWN0IHN0eWxlPSJvdmVyZmxvdzp2aXNpYmxlOyIgcG9pbnRlci1ldmVudHM9ImFsbCIgd2lkdGg9Ijc4IiBoZWlnaHQ9IjI2IiByZXF1aXJlZEZlYXR1cmVzPSJodHRwOi8vd3d3LnczLm9yZy9UUi9TVkcxMS9mZWF0dXJlI0V4dGVuc2liaWxpdHkiPjxkaXYgeG1sbnM9Imh0dHA6Ly93d3cudzMub3JnLzE5OTkveGh0bWwiIHN0eWxlPSJkaXNwbGF5OiBpbmxpbmUtYmxvY2s7IGZvbnQtc2l6ZTogMTBweDsgZm9udC1mYW1pbHk6IFZlcmRhbmE7IGNvbG9yOiByZ2IoMTcwLCA4NSwgMCk7IGxpbmUtaGVpZ2h0OiAxLjI7IHZlcnRpY2FsLWFsaWduOiB0b3A7IHdoaXRlLXNwYWNlOiBub3dyYXA7IHRleHQtYWxpZ246IGNlbnRlcjsiPjxkaXYgeG1sbnM9Imh0dHA6Ly93d3cudzMub3JnLzE5OTkveGh0bWwiIHN0eWxlPSJkaXNwbGF5OmlubGluZS1ibG9jazt0ZXh0LWFsaWduOmluaGVyaXQ7dGV4dC1kZWNvcmF0aW9uOmluaGVyaXQ7YmFja2dyb3VuZC1jb2xvcjojZmZmZmZmOyI+PHNwYW4gc3R5bGU9ImZvbnQtc2l6ZTogMTRweCI+c2lnbmFsKGN2KTwvc3Bhbj48ZGl2Pjxmb250IHN0eWxlPSJmb250LXNpemU6IDEwcHgiIGNvbG9yPSIjMDA2NjAwIj5zaWduYWwtYW5kLXdhaXQ8L2ZvbnQ+PC9kaXY+PC9kaXY+PC9kaXY+PC9mb3JlaWduT2JqZWN0Pjx0ZXh0IHg9IjM5IiB5PSIxOCIgZmlsbD0iI0FBNTUwMCIgdGV4dC1hbmNob3I9Im1pZGRsZSIgZm9udC1zaXplPSIxMHB4IiBmb250LWZhbWlseT0iVmVyZGFuYSI+W05vdCBzdXBwb3J0ZWQgYnkgdmlld2VyXTwvdGV4dD48L3N3aXRjaD48L2c+PHBhdGggZD0iTSA0MzIgMTAwIFEgNDMyIDQ1IDM1My4zNyA0NSIgZmlsbD0ibm9uZSIgc3Ryb2tlPSIjMDAwMDAwIiBzdHJva2UtbWl0ZXJsaW1pdD0iMTAiIHBvaW50ZXItZXZlbnRzPSJub25lIi8+PHBhdGggZD0iTSAzNDguMTIgNDUgTCAzNTUuMTIgNDEuNSBMIDM1My4zNyA0NSBMIDM1NS4xMiA0OC41IFoiIGZpbGw9IiMwMDAwMDAiIHN0cm9rZT0iIzAwMDAwMCIgc3Ryb2tlLW1pdGVybGltaXQ9IjEwIiBwb2ludGVyLWV2ZW50cz0ibm9uZSIvPjxnIHRyYW5zZm9ybT0idHJhbnNsYXRlKDM4OS41LDU5LjUpIj48c3dpdGNoPjxmb3JlaWduT2JqZWN0IHN0eWxlPSJvdmVyZmxvdzp2aXNpYmxlOyIgcG9pbnRlci1ldmVudHM9ImFsbCIgd2lkdGg9IjU4IiBoZWlnaHQ9IjE0IiByZXF1aXJlZEZlYXR1cmVzPSJodHRwOi8vd3d3LnczLm9yZy9UUi9TVkcxMS9mZWF0dXJlI0V4dGVuc2liaWxpdHkiPjxkaXYgeG1sbnM9Imh0dHA6Ly93d3cudzMub3JnLzE5OTkveGh0bWwiIHN0eWxlPSJkaXNwbGF5OiBpbmxpbmUtYmxvY2s7IGZvbnQtc2l6ZTogMTBweDsgZm9udC1mYW1pbHk6IFZlcmRhbmE7IGNvbG9yOiByZ2IoMTcwLCA4NSwgMCk7IGxpbmUtaGVpZ2h0OiAxLjI7IHZlcnRpY2FsLWFsaWduOiB0b3A7IHdoaXRlLXNwYWNlOiBub3dyYXA7IHRleHQtYWxpZ246IGNlbnRlcjsiPjxkaXYgeG1sbnM9Imh0dHA6Ly93d3cudzMub3JnLzE5OTkveGh0bWwiIHN0eWxlPSJkaXNwbGF5OmlubGluZS1ibG9jazt0ZXh0LWFsaWduOmluaGVyaXQ7dGV4dC1kZWNvcmF0aW9uOmluaGVyaXQ7YmFja2dyb3VuZC1jb2xvcjojZmZmZmZmOyI+PGZvbnQgc3R5bGU9ImZvbnQtc2l6ZTogMTRweCI+d2FpdChjdik8L2ZvbnQ+PC9kaXY+PC9kaXY+PC9mb3JlaWduT2JqZWN0Pjx0ZXh0IHg9IjI5IiB5PSIxMiIgZmlsbD0iI0FBNTUwMCIgdGV4dC1hbmNob3I9Im1pZGRsZSIgZm9udC1zaXplPSIxMHB4IiBmb250LWZhbWlseT0iVmVyZGFuYSI+W05vdCBzdXBwb3J0ZWQgYnkgdmlld2VyXTwvdGV4dD48L3N3aXRjaD48L2c+PHBhdGggZD0iTSAzNDcgMTUgUSA0ODIgMTUgNDgyIDkzLjYzIiBmaWxsPSJub25lIiBzdHJva2U9IiMwMDAwMDAiIHN0cm9rZS1taXRlcmxpbWl0PSIxMCIgcG9pbnRlci1ldmVudHM9Im5vbmUiLz48cGF0aCBkPSJNIDQ4MiA5OC44OCBMIDQ3OC41IDkxLjg4IEwgNDgyIDkzLjYzIEwgNDg1LjUgOTEuODggWiIgZmlsbD0iIzAwMDAwMCIgc3Ryb2tlPSIjMDAwMDAwIiBzdHJva2UtbWl0ZXJsaW1pdD0iMTAiIHBvaW50ZXItZXZlbnRzPSJub25lIi8+PGcgdHJhbnNmb3JtPSJ0cmFuc2xhdGUoNDA1LjUsMTYuNSkiPjxzd2l0Y2g+PGZvcmVpZ25PYmplY3Qgc3R5bGU9Im92ZXJmbG93OnZpc2libGU7IiBwb2ludGVyLWV2ZW50cz0iYWxsIiB3aWR0aD0iNzgiIGhlaWdodD0iMjYiIHJlcXVpcmVkRmVhdHVyZXM9Imh0dHA6Ly93d3cudzMub3JnL1RSL1NWRzExL2ZlYXR1cmUjRXh0ZW5zaWJpbGl0eSI+PGRpdiB4bWxucz0iaHR0cDovL3d3dy53My5vcmcvMTk5OS94aHRtbCIgc3R5bGU9ImRpc3BsYXk6IGlubGluZS1ibG9jazsgZm9udC1zaXplOiAxMHB4OyBmb250LWZhbWlseTogVmVyZGFuYTsgY29sb3I6IHJnYigxNzAsIDg1LCAwKTsgbGluZS1oZWlnaHQ6IDEuMjsgdmVydGljYWwtYWxpZ246IHRvcDsgd2hpdGUtc3BhY2U6IG5vd3JhcDsgdGV4dC1hbGlnbjogY2VudGVyOyI+PGRpdiB4bWxucz0iaHR0cDovL3d3dy53My5vcmcvMTk5OS94aHRtbCIgc3R5bGU9ImRpc3BsYXk6aW5saW5lLWJsb2NrO3RleHQtYWxpZ246aW5oZXJpdDt0ZXh0LWRlY29yYXRpb246aW5oZXJpdDtiYWNrZ3JvdW5kLWNvbG9yOiNmZmZmZmY7Ij48Zm9udCBzdHlsZT0iZm9udC1zaXplOiAxNHB4Ij5zaWduYWwoY3YpPC9mb250PjxkaXY+PGZvbnQ+PHNwYW4+PGZvbnQgY29sb3I9IiMwMDY2MDAiPnNpZ25hbC1hbmQtd2FpdDwvZm9udD48L3NwYW4+PGJyIC8+PC9mb250PjwvZGl2PjwvZGl2PjwvZGl2PjwvZm9yZWlnbk9iamVjdD48dGV4dCB4PSIzOSIgeT0iMTgiIGZpbGw9IiNBQTU1MDAiIHRleHQtYW5jaG9yPSJtaWRkbGUiIGZvbnQtc2l6ZT0iMTBweCIgZm9udC1mYW1pbHk9IlZlcmRhbmEiPltOb3Qgc3VwcG9ydGVkIGJ5IHZpZXdlcl08L3RleHQ+PC9zd2l0Y2g+PC9nPjxwYXRoIGQ9Ik0gNDMyIDE2MCBRIDQ1NyAyNjAgNDgwLjQ2IDE2Ni4xOCIgZmlsbD0ibm9uZSIgc3Ryb2tlPSIjMDAwMDAwIiBzdHJva2UtbWl0ZXJsaW1pdD0iMTAiIHBvaW50ZXItZXZlbnRzPSJub25lIi8+PHBhdGggZD0iTSA0ODEuNzMgMTYxLjA4IEwgNDgzLjQzIDE2OC43MiBMIDQ4MC40NiAxNjYuMTggTCA0NzYuNjQgMTY3LjAzIFoiIGZpbGw9IiMwMDAwMDAiIHN0cm9rZT0iIzAwMDAwMCIgc3Ryb2tlLW1pdGVybGltaXQ9IjEwIiBwb2ludGVyLWV2ZW50cz0ibm9uZSIvPjxnIHRyYW5zZm9ybT0idHJhbnNsYXRlKDQwNi41LDE3NC41KSI+PHN3aXRjaD48Zm9yZWlnbk9iamVjdCBzdHlsZT0ib3ZlcmZsb3c6dmlzaWJsZTsiIHBvaW50ZXItZXZlbnRzPSJhbGwiIHdpZHRoPSIxMDAiIGhlaWdodD0iMjYiIHJlcXVpcmVkRmVhdHVyZXM9Imh0dHA6Ly93d3cudzMub3JnL1RSL1NWRzExL2ZlYXR1cmUjRXh0ZW5zaWJpbGl0eSI+PGRpdiB4bWxucz0iaHR0cDovL3d3dy53My5vcmcvMTk5OS94aHRtbCIgc3R5bGU9ImRpc3BsYXk6IGlubGluZS1ibG9jazsgZm9udC1zaXplOiAxMHB4OyBmb250LWZhbWlseTogVmVyZGFuYTsgY29sb3I6IHJnYigxNzAsIDg1LCAwKTsgbGluZS1oZWlnaHQ6IDEuMjsgdmVydGljYWwtYWxpZ246IHRvcDsgd2hpdGUtc3BhY2U6IG5vd3JhcDsgdGV4dC1hbGlnbjogY2VudGVyOyI+PGRpdiB4bWxucz0iaHR0cDovL3d3dy53My5vcmcvMTk5OS94aHRtbCIgc3R5bGU9ImRpc3BsYXk6aW5saW5lLWJsb2NrO3RleHQtYWxpZ246aW5oZXJpdDt0ZXh0LWRlY29yYXRpb246aW5oZXJpdDtiYWNrZ3JvdW5kLWNvbG9yOiNmZmZmZmY7Ij48Zm9udCBzdHlsZT0iZm9udC1zaXplOiAxNHB4Ij5zaWduYWwoY3YpPC9mb250PjxkaXY+PGZvbnQgY29sb3I9IiMwMDY2MDAiPnNpZ25hbC1hbmQtY29udGludWU8L2ZvbnQ+PC9kaXY+PC9kaXY+PC9kaXY+PC9mb3JlaWduT2JqZWN0Pjx0ZXh0IHg9IjUwIiB5PSIxOCIgZmlsbD0iI0FBNTUwMCIgdGV4dC1hbmNob3I9Im1pZGRsZSIgZm9udC1zaXplPSIxMHB4IiBmb250LWZhbWlseT0iVmVyZGFuYSI+W05vdCBzdXBwb3J0ZWQgYnkgdmlld2VyXTwvdGV4dD48L3N3aXRjaD48L2c+PHBhdGggZD0iTSA3IDEzMCBMIDgwLjYzIDEzMCIgZmlsbD0ibm9uZSIgc3Ryb2tlPSIjMDAwMDAwIiBzdHJva2UtbWl0ZXJsaW1pdD0iMTAiIHBvaW50ZXItZXZlbnRzPSJub25lIi8+PHBhdGggZD0iTSA4NS44OCAxMzAgTCA3OC44OCAxMzMuNSBMIDgwLjYzIDEzMCBMIDc4Ljg4IDEyNi41IFoiIGZpbGw9IiMwMDAwMDAiIHN0cm9rZT0iIzAwMDAwMCIgc3Ryb2tlLW1pdGVybGltaXQ9IjEwIiBwb2ludGVyLWV2ZW50cz0ibm9uZSIvPjxnIHRyYW5zZm9ybT0idHJhbnNsYXRlKDM1LjUsMTIyLjUpIj48c3dpdGNoPjxmb3JlaWduT2JqZWN0IHN0eWxlPSJvdmVyZmxvdzp2aXNpYmxlOyIgcG9pbnRlci1ldmVudHM9ImFsbCIgd2lkdGg9IjIzIiBoZWlnaHQ9IjE0IiByZXF1aXJlZEZlYXR1cmVzPSJodHRwOi8vd3d3LnczLm9yZy9UUi9TVkcxMS9mZWF0dXJlI0V4dGVuc2liaWxpdHkiPjxkaXYgeG1sbnM9Imh0dHA6Ly93d3cudzMub3JnLzE5OTkveGh0bWwiIHN0eWxlPSJkaXNwbGF5OiBpbmxpbmUtYmxvY2s7IGZvbnQtc2l6ZTogMTBweDsgZm9udC1mYW1pbHk6IFZlcmRhbmE7IGNvbG9yOiByZ2IoMTcwLCA4NSwgMCk7IGxpbmUtaGVpZ2h0OiAxLjI7IHZlcnRpY2FsLWFsaWduOiB0b3A7IHdoaXRlLXNwYWNlOiBub3dyYXA7IHRleHQtYWxpZ246IGNlbnRlcjsiPjxkaXYgeG1sbnM9Imh0dHA6Ly93d3cudzMub3JnLzE5OTkveGh0bWwiIHN0eWxlPSJkaXNwbGF5OmlubGluZS1ibG9jazt0ZXh0LWFsaWduOmluaGVyaXQ7dGV4dC1kZWNvcmF0aW9uOmluaGVyaXQ7YmFja2dyb3VuZC1jb2xvcjojZmZmZmZmOyI+PGZvbnQgc3R5bGU9ImZvbnQtc2l6ZTogMTRweCI+Y2FsbDwvZm9udD48L2Rpdj48L2Rpdj48L2ZvcmVpZ25PYmplY3Q+PHRleHQgeD0iMTIiIHk9IjEyIiBmaWxsPSIjQUE1NTAwIiB0ZXh0LWFuY2hvcj0ibWlkZGxlIiBmb250LXNpemU9IjEwcHgiIGZvbnQtZmFtaWx5PSJWZXJkYW5hIj5bTm90IHN1cHBvcnRlZCBieSB2aWV3ZXJdPC90ZXh0Pjwvc3dpdGNoPjwvZz48cGF0aCBkPSJNIDUwOCAxMzAgTCA1ODEuNjMgMTMwIiBmaWxsPSJub25lIiBzdHJva2U9IiMwMDAwMDAiIHN0cm9rZS1taXRlcmxpbWl0PSIxMCIgcG9pbnRlci1ldmVudHM9Im5vbmUiLz48cGF0aCBkPSJNIDU4Ni44OCAxMzAgTCA1NzkuODggMTMzLjUgTCA1ODEuNjMgMTMwIEwgNTc5Ljg4IDEyNi41IFoiIGZpbGw9IiMwMDAwMDAiIHN0cm9rZT0iIzAwMDAwMCIgc3Ryb2tlLW1pdGVybGltaXQ9IjEwIiBwb2ludGVyLWV2ZW50cz0ibm9uZSIvPjxnIHRyYW5zZm9ybT0idHJhbnNsYXRlKDUyNS41LDEyMi41KSI+PHN3aXRjaD48Zm9yZWlnbk9iamVjdCBzdHlsZT0ib3ZlcmZsb3c6dmlzaWJsZTsiIHBvaW50ZXItZXZlbnRzPSJhbGwiIHdpZHRoPSI0NCIgaGVpZ2h0PSIxNCIgcmVxdWlyZWRGZWF0dXJlcz0iaHR0cDovL3d3dy53My5vcmcvVFIvU1ZHMTEvZmVhdHVyZSNFeHRlbnNpYmlsaXR5Ij48ZGl2IHhtbG5zPSJodHRwOi8vd3d3LnczLm9yZy8xOTk5L3hodG1sIiBzdHlsZT0iZGlzcGxheTogaW5saW5lLWJsb2NrOyBmb250LXNpemU6IDEwcHg7IGZvbnQtZmFtaWx5OiBWZXJkYW5hOyBjb2xvcjogcmdiKDE3MCwgODUsIDApOyBsaW5lLWhlaWdodDogMS4yOyB2ZXJ0aWNhbC1hbGlnbjogdG9wOyB3aGl0ZS1zcGFjZTogbm93cmFwOyB0ZXh0LWFsaWduOiBjZW50ZXI7Ij48ZGl2IHhtbG5zPSJodHRwOi8vd3d3LnczLm9yZy8xOTk5L3hodG1sIiBzdHlsZT0iZGlzcGxheTppbmxpbmUtYmxvY2s7dGV4dC1hbGlnbjppbmhlcml0O3RleHQtZGVjb3JhdGlvbjppbmhlcml0O2JhY2tncm91bmQtY29sb3I6I2ZmZmZmZjsiPjxmb250IHN0eWxlPSJmb250LXNpemU6IDE0cHgiPnJldHVybjwvZm9udD48L2Rpdj48L2Rpdj48L2ZvcmVpZ25PYmplY3Q+PHRleHQgeD0iMjIiIHk9IjEyIiBmaWxsPSIjQUE1NTAwIiB0ZXh0LWFuY2hvcj0ibWlkZGxlIiBmb250LXNpemU9IjEwcHgiIGZvbnQtZmFtaWx5PSJWZXJkYW5hIj5bTm90IHN1cHBvcnRlZCBieSB2aWV3ZXJdPC90ZXh0Pjwvc3dpdGNoPjwvZz48L2c+PC9zdmc+"
     ]
    }
   },
   "cell_type": "markdown",
   "metadata": {
    "slideshow": {
     "slide_type": "subslide"
    }
   },
   "source": [
    "A monitor has one queue for processes blocked when trying to enter the monitor, and one for each condition variable for processes blocked in a wait operation inside the monitor. Following diagram shows how processes move between the queues and executing in the monitor.  \n",
    "\n",
    "<div style=\"margin: 0 auto\" class=\"code-img-pair-container\">\n",
    "  <div>\n",
    "    <img src=\"attachment:SignalingDisciplines.svg\"/>\n",
    "  </div>\n",
    "</div>\n",
    "<span></span>"
   ]
  },
  {
   "cell_type": "markdown",
   "metadata": {
    "slideshow": {
     "slide_type": "subslide"
    }
   },
   "source": [
    "Here is a bounded buffer implementation using the _signal-and-wait_ discipline. The signalling condition for `notempty` is `n > 0`, meaning that it holds before `signal(notempty)` and holds after `wait(notempty)`, as control is transferred from one to the other. Likewise, the signalling condition for `notfull` is `n < C`:\n",
    "```algorithm\n",
    "monitor BoundedBuffer\n",
    "    var buf: array 0 .. C - 1 of T\n",
    "    var in, out, n = 0, 0, 0\n",
    "    var notfull, notempty: condition\n",
    "    {0 ≤ out < C ∧ 0 ≤ n ≤ C ∧ in = (out + n) mod C}\n",
    "```\n",
    "```algorithm\n",
    "    procedure deposit(x: T)\n",
    "        if n = C then wait(notfull)  {n < C}\n",
    "        buf(in) := x ; in := (in + 1) mod C ; n := n + 1\n",
    "        {n > 0}  signal(notempty)\n",
    "```\n",
    "```algorithm\n",
    "    procedure fetch() → (x: T)\n",
    "        if n = 0 then wait(notempty)  {n > 0}\n",
    "        x := buf(out) ; out := (out + 1) mod C ; n := n - 1\n",
    "        {n < C}  signal(notfull)\n",
    "```"
   ]
  },
  {
   "cell_type": "markdown",
   "metadata": {
    "slideshow": {
     "slide_type": "subslide"
    }
   },
   "source": [
    "Here is the analogous implementation using the _signal-and-continue_ discipline. The signalling condition for `notempty` is also `n > 0`, meaning that it holds before `signal(notempty)`, however, it cannot be assumed to hold after `wait(notempty)`, as execution continues with `signal(notempty)`. The signalling condition need to be checked after `wait(notempty)` and waiting needs to be repeated as long as the signalling condition does not hold. the  Likewise, the signalling condition for `notfull` is `n < C`:\n",
    "```algorithm\n",
    "monitor BoundedBuffer\n",
    "    var buf: array 0 .. C - 1 of T\n",
    "    var in, out, n = 0, 0, 0\n",
    "    var notfull, notempty: condition\n",
    "    {0 ≤ out < C ∧ 0 ≤ n ≤ C ∧ in = (out + n) mod C}\n",
    "```\n",
    "```algorithm\n",
    "    procedure deposit(x: T)\n",
    "        while n = C do wait(notfull)\n",
    "        {n < C}\n",
    "        buf(in) := x ; in := (in + 1) mod C ; n := n + 1\n",
    "        signal(notempty)\n",
    "```\n",
    "```algorithm\n",
    "    procedure fetch() → (x: T)\n",
    "        while n = 0 do wait(notempty)\n",
    "        {n > 0}\n",
    "        fetch := buf(out) ; out := (out + 1) mod C ; n := n - 1\n",
    "        signal(notfull)\n",
    "```"
   ]
  },
  {
   "cell_type": "markdown",
   "metadata": {
    "slideshow": {
     "slide_type": "subslide"
    }
   },
   "source": [
    "While originally signal-and-wait was proposed, signal-and-continue is now more widespread: it is used in [Java](https://docs.oracle.com/javase/tutorial/essential/concurrency/index.html), [C/Pthread](https://computing.llnl.gov/tutorials/pthreads/), [Python](https://docs.python.org/3/library/threading.html#condition-objects). We will assume signal-and-continue from now on. While the signalling condition \"loses its meaning\", it is still a design decision that we keep as an annotation in programs when declaring a condition variable.\n",
    "\n",
    "Monitors and semaphores are equivalent in the sense that one can be implemented with the other. However, they lead to different programming styles:\n",
    "- `V(s)` on semaphore `s` is never \"lost\": the semaphore value is always incremented. If one thread is about to execute `P(s)` and another `V(s)`, their order does not matter.\n",
    "- `signal(cv)` on condition variable signals a waiting thread and does nothing if no thread is waiting. If one thread is about to execute `wait(cv)` and another `signal(cv)`, their order matters."
   ]
  },
  {
   "cell_type": "markdown",
   "metadata": {
    "slideshow": {
     "slide_type": "slide"
    }
   },
   "source": [
    "## Additional Operations on Condition Variables\n",
    "\n",
    "<div style=\"display:table;margin-left:2em;margin-top:1em\">\n",
    "  <div style=\"display:table-row\">\n",
    "    <code>empty(cv)</code>\n",
    "    <div style = \"display:table-cell;padding-left:1em\">\n",
    "tests if the queue is empty<br><br>\n",
    "    </div>\n",
    "  </div>\n",
    "  <div style=\"display:table-row;border-top:1em\">\n",
    "    <code>signalAll(cv)</code>\n",
    "    <div style = \"display:table-cell;padding-left:1em\">\n",
    "    broadcast signal, awakens all processes delayed on cv, same as<br>\n",
    "    <code>while ¬empty(cv) do signal(cv)</code>\n",
    "    </div>\n",
    "  </div>\n",
    "</div>"
   ]
  },
  {
   "cell_type": "markdown",
   "metadata": {
    "slideshow": {
     "slide_type": "slide"
    }
   },
   "source": [
    "## Monitor Implementation of a Semaphore\n",
    "\n",
    "As the signalling condition does not necessarily hold after `wait`, it has to be re-tested:\n",
    "```algorithm\n",
    "monitor Semaphore\n",
    "    var s = 0  {invariant: s ≥ 0}\n",
    "    var pos: condition  {signalling condition: s > 0}\n",
    "```\n",
    "```algorithm\n",
    "    procedure P\n",
    "        while s = 0 do wait(pos)\n",
    "        {s > 0} s := s - 1\n",
    "```\n",
    "```algorithm\n",
    "    procedure V\n",
    "        s := s + 1\n",
    "        {s > 0} signal(pos)\n",
    "```"
   ]
  },
  {
   "cell_type": "markdown",
   "metadata": {
    "slideshow": {
     "slide_type": "-"
    },
    "solution": "hidden",
    "solution_first": true
   },
   "source": [
    "_Question:_ Give a scenario that shows that after `wait(pos)`, the condition `s > 0` does not hold! Suppose we were to replace `while s = 0 do` with `if s = 0 then`: under which circumstances would this be correct?"
   ]
  },
  {
   "cell_type": "markdown",
   "metadata": {
    "slideshow": {
     "slide_type": "fragment"
    },
    "solution": "hidden"
   },
   "source": [
    "_Answer:_ Suppose after initialization of the semaphore, process `p1` calls `P` and will be suspended. Process `v1` calls `V` and exits the monitor; the suspendes process `p1` is put in the entry queue of `Semaphore`. Before the scheduler allows `p1` to continue, another process, say `p2` calls `P`, encounters `s = 1`, does not get blocked, and exits the monitor. Now, when `p1` is resumed, it encounterns `s = 0`. This would not happen if there is only one process calling `P`: in that case, `while` in `P` can be replaced with `if`. "
   ]
  },
  {
   "cell_type": "markdown",
   "metadata": {
    "slideshow": {
     "slide_type": "subslide"
    }
   },
   "source": [
    "The previous semaphore implementation does not guarantee a FIFO discipline. Using the technique of _passing the condition,_ the FIFO discipline can be guaranteed while using only an if statement for waiting:\n",
    "```algorithm\n",
    "monitor Semaphore\n",
    "    var s = 0  {invariant: s ≥ 0}\n",
    "    var pos: condition  {signalling condition: s > 0}\n",
    "```\n",
    "```algorithm\n",
    "    procedure P\n",
    "        if s = 0 then wait(pos)\n",
    "        else s := s - 1\n",
    "```\n",
    "```algorithm\n",
    "    procedure V\n",
    "        if empty(pos) then s := s + 1\n",
    "        else signal(pos)\n",
    "```"
   ]
  },
  {
   "cell_type": "markdown",
   "metadata": {
    "slideshow": {
     "slide_type": "slide"
    }
   },
   "source": [
    "## Readers and Writers\n",
    "\n",
    "The task to let either several readers or one writer access shared data. That data cannot be encapsulated in a monitor as due to mutual exclusion only one reader would be able to access it. Instead, data is kept shared and a monitor is used for _arbitration:_\n",
    "- each read access is initiated by a (possibly blocking) call to `startRead` and terminated by a call to `endRead`,\n",
    "- each write access is initiated by a (possibly blocking) call to `startWrite` and terminated by a call to `endWrite`.\n",
    "\n",
    "The solution below does not arbitrate between readers and writers, but rather lets the underlying scheduling policy determine which process gets access to data."
   ]
  },
  {
   "cell_type": "markdown",
   "metadata": {
    "slideshow": {
     "slide_type": "subslide"
    }
   },
   "source": [
    "```algorithm\n",
    "monitor RWcontroller\n",
    "    var nr, nw = 0, 0  {(nr = 0 ∨ nw = 0) ∧ nw ≤ 1}\n",
    "    var readOK: condition  {signalling condition:  nw = 0}\n",
    "    var writeOK: condition  {signalling condition:  nr = 0 ∧ nw = 0}\n",
    "```\n",
    "```algorithm\n",
    "    procedure startRead\n",
    "        while nw > 0 do wait(readOK)\n",
    "        nr := nr + 1\n",
    "```\n",
    "```algorithm\n",
    "    procedure endRead\n",
    "        {nr > 0} nr := nr - 1\n",
    "        if nr = 0 then signal(writeOK)\n",
    "```\n",
    "```algorithm\n",
    "    procedure startWrite\n",
    "        while nr > 0 or nw > 0 do wait(writeOK)\n",
    "        nw := nw + 1\n",
    "```\n",
    "```algorithm\n",
    "    procedure endWrite\n",
    "        {nw > 0} nw := nw - 1\n",
    "        signal(writeOK) ; signalAll(readOK)\n",
    "```"
   ]
  },
  {
   "cell_type": "markdown",
   "metadata": {
    "slideshow": {
     "slide_type": "slide"
    }
   },
   "source": [
    "## The Sleeping Barber\n",
    "\n",
    "The problem goes back to [E.W. Dijkstra](http://www.cs.utexas.edu/users/EWD/ewd01xx/EWD123.PDF), 1965. The following formulation is from Concurrent Programming by [G. Andrews](https://www2.cs.arizona.edu/~greg/):\n",
    "\n",
    "An easygoing town contains a small barbershop having two doors and a few chairs. Customers enter through one door and leave through the other. Due to the size of the shop, at most one customer or the barber can move around at a time.<div class=\"code-img-pair-container\" style = \"margin-left:0px;margin-top:0px\">\n",
    "  <div style = \"width:60%;margin-top:0px\">\n",
    "The barber spends his live serving customers. When none are in the shop, the barber sleeps in the barber's chair. When a customer arrives and finds the barber sleeping, the customer awakens the barber and sits in the barber's chair. However, if the barber is busy, the customer goes to sleep in one of the other chairs. After giving a haircut, the barber waits for the customer to leave through the exit; if there are waiting customers, the barber then awakens one to sit in the barber's chair, otherwise the barber goes to sleep. \n",
    "  </div>\n",
    "  <div style = \"border-left:30px solid white\">\n",
    "    <img src=\"attachment:SleepingBarber.svg\"/>\n",
    "  </div>\n",
    "</div>"
   ]
  },
  {
   "attachments": {},
   "cell_type": "markdown",
   "metadata": {
    "slideshow": {
     "slide_type": "-"
    },
    "solution": "hidden",
    "solution_first": true
   },
   "source": [
    "_Question:_ What is the analogy in computing?"
   ]
  },
  {
   "cell_type": "markdown",
   "metadata": {
    "slideshow": {
     "slide_type": "subslide"
    },
    "solution": "hidden"
   },
   "source": [
    "*Answer.* Customers and the barber are processes. Customers are _clients_ that request a service from the barber. The barber is a _server_ who repeatedly provides this service. This is an example of a client/server relationship."
   ]
  },
  {
   "cell_type": "markdown",
   "metadata": {
    "slideshow": {
     "slide_type": "-"
    }
   },
   "source": [
    "The synchronization between customer and the barber first requires them to _rendezvous,_ i.e. one to wait for the other. Then the customer needs to wait until the barber has finished with the haircut. Finally the barber has to wait for the customer to leave: both barber and customer proceed through a series of _synchronized stages,_ starting with a rendezvous. "
   ]
  },
  {
   "cell_type": "markdown",
   "metadata": {
    "slideshow": {
     "slide_type": "subslide"
    }
   },
   "source": [
    "The barbershop is represented by a monitor with procedures `getNextCustomer`, `finishedCut`, `getHaircut`. By having a monitor to encapsulate the state of the barbershop, only one customer or the barber can \"move around\":\n",
    "\n",
    "```algorithm\n",
    "procedure barber\n",
    "    while true do\n",
    "        getNextCustomer()  --wait for a customer to sit in the barber's chair\n",
    "        cutting hair\n",
    "        finishedCut()  --allow the customer to leave; returns after the customer left\n",
    "```\n",
    "```algorithm\n",
    "procedure customer\n",
    "    while true do\n",
    "        live happily\n",
    "        getHaircut()  -- returns after the customer has received a the haircut\n",
    "```\n",
    "\n",
    "The town has one barber and a number of customers:\n",
    "```\n",
    "   barber() ‖ customer() ‖ ... ‖ customer()\n",
    "```"
   ]
  },
  {
   "cell_type": "markdown",
   "metadata": {
    "slideshow": {
     "slide_type": "subslide"
    }
   },
   "source": [
    "```algorithm\n",
    "monitor BarberShop\n",
    "    var barber, chair, exit = 0, 0, 0\n",
    "    var barberAvailable: condition  {signalling condition: barber > 0}\n",
    "    var chairOccupied: condition  {signalling condition: chair > 0}\n",
    "    var exitOpen: condition  {signalling condition: exit > 0}\n",
    "    var customerLeft: condition  {signalling condition: exit = 0}\n",
    "    {0 ≤ barber ≤ 1 ∧ 0 ≤ chair ≤ 1 ∧ 0 ≤ exit ≤ 1}\n",
    "```\n",
    "```algorithm\n",
    "    procedure getHaircut()\n",
    "        while barber = 0 do wait(barberAvailable)\n",
    "        barber := barber - 1\n",
    "        chair := chair + 1 ; signal(chairOccupied)\n",
    "        while exit = 0 do wait(exitOpen)\n",
    "        exit := exit - 1 ; signal(customerLeft)\n",
    "```\n",
    "```algorithm\n",
    "    procedure getNextCustomer()\n",
    "        {barber = 0}\n",
    "        barber := barber + 1 ; signal(barberAvailable)\n",
    "        while chair = 0 do wait(chairOccupied)\n",
    "        chair := chair - 1\n",
    "```\n",
    "```algorithm\n",
    "    procedure finishedCut()\n",
    "        {exit = 0}\n",
    "        exit := exit + 1 ; signal(exitOpen)\n",
    "        while exit > 0 do wait(customerLeft) \n",
    "```"
   ]
  },
  {
   "cell_type": "markdown",
   "metadata": {
    "slideshow": {
     "slide_type": "slide"
    }
   },
   "source": [
    "## Monitors in Java\n",
    "\n",
    "In Java, every object can potentially be a monitor. Mutual exclusion is by default not given, but can be achieved by specifying a method as `synchronized`:"
   ]
  },
  {
   "cell_type": "code",
   "execution_count": null,
   "metadata": {},
   "outputs": [],
   "source": [
    "class Counter {\n",
    "    int a = 0;\n",
    "    boolean e = true;\n",
    "    // e == even(a)\n",
    "    synchronized void inc() {\n",
    "        a += 1; e = !e;\n",
    "    }\n",
    "    synchronized boolean even() {\n",
    "        return e;\n",
    "    }\n",
    "}"
   ]
  },
  {
   "cell_type": "markdown",
   "metadata": {
    "slideshow": {
     "slide_type": "subslide"
    }
   },
   "source": [
    "Every object in Java has a lock. A synchronized method waits to obtain that lock before entering the body, and releases the lock again. Alternatively, the `synchronized` statement allows the lock of any object to be obtained, in particular \"this\" object:\n",
    "```Java\n",
    "    synchronized void inc() {\n",
    "        a += 1; e = !e;\n",
    "    }\n",
    "```\n",
    "is equivalent to:\n",
    "```Java\n",
    "    void inc() {\n",
    "        synchronized(this) {a += 1; e = !e;}\n",
    "    }\n",
    "```\n",
    "\n",
    "Note that in contrast to \"pure monitors\":\n",
    "- not all methods need to be synchronized,\n",
    "- it is possible to have only a region of a method synchronized,\n",
    "- synchronization can involve other objects than the called one,\n",
    "- fields don't have to be private,\n",
    "- there is no restriction that only owned objects can be accessed. "
   ]
  },
  {
   "cell_type": "markdown",
   "metadata": {
    "slideshow": {
     "slide_type": "subslide"
    }
   },
   "source": [
    "Java guarantees atomicity for values that fit into one 32-bit word,  e.g. int, boolean, pointers to objects.\n",
    "\n",
    "_Question:_ Which methods of `Counter` need to be synchronized if objects need to be thread-safe? What is the rule in general for a method to be thread-safe and not needing to be synchronized?"
   ]
  },
  {
   "cell_type": "code",
   "execution_count": null,
   "metadata": {
    "slideshow": {
     "slide_type": "-"
    }
   },
   "outputs": [],
   "source": [
    "class Counter {\n",
    "    int a = 0;\n",
    "    boolean e = true;\n",
    "    // e == even(a)\n",
    "    synchronized void inc() {\n",
    "        a += 1; e = !e;\n",
    "    }\n",
    "    synchronized boolean even() {\n",
    "        return e;\n",
    "    }\n",
    "}"
   ]
  },
  {
   "cell_type": "markdown",
   "metadata": {
    "slideshow": {
     "slide_type": "fragment"
    }
   },
   "source": [
    "*Answer.* Above, `even` does not need to be synchronized. In general, methods that read only one single word-sized variable do not need to be synchronized and are still thread-safe, provided that variable is updated atomically, i.e. all other methods contain only a single assignment to that variable."
   ]
  },
  {
   "cell_type": "markdown",
   "metadata": {
    "slideshow": {
     "slide_type": "subslide"
    }
   },
   "source": [
    "Java does not support explicit condition variables, but there a single implicit condition variable with every object. There is a single delay queue per object (rather than one for entry and one for each condition variable) and the order of threads in that queue is not specified.\n",
    "\n",
    "Java uses the signal-and-continue discipline. Every object has following methods:\n",
    "\n",
    "<div style=\"display:table;margin-left:2em;margin-top:1em\">\n",
    "  <div style=\"display:table-row\">\n",
    "    <code>obj.wait();</code>\n",
    "    <div style = \"display:table-cell;padding-left:1em\">\n",
    "adds the current process to the queue of <code>obj</code>.<br><br>\n",
    "    </div>\n",
    "  </div>\n",
    "  <div style=\"display:table-row;border-top:1em\">\n",
    "    <code>obj.notify();</code>\n",
    "    <div style = \"display:table-cell;padding-left:1em\">\n",
    "    awakens a process in the queue of <code>obj</code>, if the queue is not empty, otherwise has no effect<br><br>\n",
    "    </div>\n",
    "  </div>\n",
    "  <div style=\"display:table-row;border-top:1em\">\n",
    "    <code>obj.notifyAll();</code>\n",
    "    <div style = \"display:table-cell;padding-left:1em\">\n",
    "    awakens all processes in the queue of <code>obj</code>.<br><br>\n",
    "    </div>\n",
    "  </div>\n",
    "</div>\n",
    "\n",
    "Calls `obj.wait()`, `obj.notify()`, and `obj.notifyAll()` can appear only within a synchronized block for `obj`. If multiple condition variable are needed, auxiliary objects of class `Object` for that purpose can be used."
   ]
  },
  {
   "cell_type": "markdown",
   "metadata": {
    "slideshow": {
     "slide_type": "slide"
    }
   },
   "source": [
    "## Semaphores in Java\n",
    "\n",
    "Only one condition variable is needed, hence the queue of the object itself can be used (this is how library class [java.util.concurrent.Semaphore](http://gee.cs.oswego.edu/dl/classes/EDU/oswego/cs/dl/util/concurrent/Semaphore.java) is implemented):"
   ]
  },
  {
   "cell_type": "code",
   "execution_count": null,
   "metadata": {},
   "outputs": [],
   "source": [
    "class Semaphore {\n",
    "    int val;\n",
    "    Semaphore(int init) {\n",
    "        val = init;\n",
    "    }\n",
    "    synchronized void P() throws InterruptedException {\n",
    "        while (val == 0) wait();\n",
    "        val -= 1;\n",
    "    }\n",
    "    synchronized void V() {\n",
    "        val += 1;\n",
    "        notify();\n",
    "    }\n",
    "}"
   ]
  },
  {
   "cell_type": "markdown",
   "metadata": {
    "slideshow": {
     "slide_type": "-"
    }
   },
   "source": [
    "Note that the `wait` statement may throw an `InterruptedException`."
   ]
  },
  {
   "cell_type": "markdown",
   "metadata": {
    "slideshow": {
     "slide_type": "-"
    }
   },
   "source": [
    "_Question:_ Would it be acceptable to replace `notify()` by `notifyAll()`? Should that be done?"
   ]
  },
  {
   "cell_type": "markdown",
   "metadata": {
    "slideshow": {
     "slide_type": "fragment"
    }
   },
   "source": [
    "*Answer.* Above, the call to `notify()` could be replaced by `notifyAll()`: that would wake up all threads in the queue, but only one could proceed and the others would enter again `wait()`. It would only lead to inefficiency."
   ]
  },
  {
   "cell_type": "markdown",
   "metadata": {
    "slideshow": {
     "slide_type": "subslide"
    }
   },
   "source": [
    "## Bounded Buffer in Java\n",
    "For a buffer we need two condition variables, one for signalling that the buffer is empty and one for signalling that the buffer is not full. If we use a single queue for both conditions, a _broadcast signal_ is needed to awaken all threads in the queue, which then have to test if their condition holds:"
   ]
  },
  {
   "cell_type": "code",
   "execution_count": null,
   "metadata": {
    "slideshow": {
     "slide_type": "-"
    }
   },
   "outputs": [],
   "source": [
    "class OnePlaceBuffer {\n",
    "    private Object buf;\n",
    "    synchronized void deposit(Object x) throws InterruptedException {\n",
    "        while (buf != null) wait();\n",
    "        buf = x; notifyAll();\n",
    "    }\n",
    "    public synchronized Object fetch() throws InterruptedException {\n",
    "        while (buf == null) wait();\n",
    "        Object x = buf; buf = null;\n",
    "        notifyAll(); return x;\n",
    "    }\n",
    "}"
   ]
  },
  {
   "cell_type": "markdown",
   "metadata": {
    "solution": "hidden",
    "solution_first": true
   },
   "source": [
    "_Question:_ What would happen if `notifyAll()` would be replaced by `notify()`?"
   ]
  },
  {
   "cell_type": "markdown",
   "metadata": {
    "slideshow": {
     "slide_type": "fragment"
    },
    "solution": "hidden"
   },
   "source": [
    "*Answer.* Supposed multiple threads call `deposit` and `fetch`. If `fetch` is modified to notify only one thread, then that notification may go to another thread waiting in `fetch`, rather than to a thread waiting in `deposit`. Using `notify` instead of `notifyAll` would here only be correct if there is a single thread calling `deposit` and a single thread calling `fetch`."
   ]
  },
  {
   "cell_type": "markdown",
   "metadata": {
    "slideshow": {
     "slide_type": "fragment"
    }
   },
   "source": [
    "This implementation is wasteful, as upon waking up, all threads waiting in either `deposit` or `fetch` evaluate their condition, even though only one will be able to get entry. It would be more efficient to have two queues, one for entry to `deposit`, one for entry to `fetch`. "
   ]
  },
  {
   "cell_type": "markdown",
   "metadata": {
    "slideshow": {
     "slide_type": "subslide"
    }
   },
   "source": [
    "Here is an attempt for an integer buffer using counting semaphores:"
   ]
  },
  {
   "cell_type": "code",
   "execution_count": null,
   "metadata": {
    "slideshow": {
     "slide_type": "-"
    }
   },
   "outputs": [],
   "source": [
    "class BoundedBuffer { // INCORRECT\n",
    "    int[] buf;\n",
    "    int in = 0, out = 0, size;\n",
    "    Semaphore full, empty;\n",
    "    /* buf != null && buf.length == size && 0 <= in < size && 0 <= out < size &&\n",
    "       0 <= full.val <= size && full.val + empty.val   ` == size && in == (out + full.val) % size\n",
    "    */ \n",
    "    BoundedBuffer(int size) {\n",
    "        this.size = size; buf = new int[size];\n",
    "        full = new Semaphore(0); empty = new Semaphore(size);\n",
    "    }\n",
    "    synchronized void deposit(int x) throws InterruptedException {\n",
    "        empty.P(); System.out.println(\"depositing\");\n",
    "        buf[in] = x; in = (in + 1) % size;\n",
    "        full.V();\n",
    "    }\n",
    "    synchronized int fetch() throws InterruptedException {\n",
    "        full.P(); System.out.println(\"fetching\");\n",
    "        int x = buf[out]; out = (out + 1) % size;\n",
    "        empty.V(); return x;\n",
    "    }\n",
    "}  "
   ]
  },
  {
   "cell_type": "markdown",
   "metadata": {
    "slideshow": {
     "slide_type": "-"
    }
   },
   "source": [
    "_Question:_ What can go wrong?"
   ]
  },
  {
   "cell_type": "markdown",
   "metadata": {
    "slideshow": {
     "slide_type": "fragment"
    }
   },
   "source": [
    "This may lead to a deadlock on an empty (or full) buffer:\n",
    "- Thread A calls `fetch` and obtains a lock on the buffer;\n",
    "- Thread A obtains a lock to the `full` semaphore;\n",
    "- That call blocks and releases the lock to the `full` semaphore.\n",
    "- Thread B calls `deposit` of the buffer gets blocked as thread A has still a lock on the buffer.\n",
    "\n",
    "Thus no further progress by thread A or B is possible. This situation can arise with _nested monitor calls_."
   ]
  },
  {
   "cell_type": "code",
   "execution_count": null,
   "metadata": {
    "slideshow": {
     "slide_type": "subslide"
    }
   },
   "outputs": [],
   "source": [
    "BoundedBuffer b = new BoundedBuffer(1);\n",
    "\n",
    "class Fetcher extends Thread {\n",
    "    public void run() {\n",
    "        try {System.out.println(b.fetch());\n",
    "        } catch (Exception e) {}\n",
    "    }\n",
    "}\n",
    "\n",
    "System.out.println(\"starting\");\n",
    "Thread f = new Fetcher(); f.start(); Thread.sleep(100); // milliseconds\n",
    "b.deposit(3)"
   ]
  },
  {
   "cell_type": "markdown",
   "metadata": {
    "slideshow": {
     "slide_type": "-"
    }
   },
   "source": [
    "_Question:_ How can deadlock be avoided?"
   ]
  },
  {
   "cell_type": "markdown",
   "metadata": {
    "slideshow": {
     "slide_type": "fragment"
    }
   },
   "source": [
    "The correct solution avoids this by keeping a lock on at most one object by using the `synchronized` statement to restrict the range of exclusive access in the buffer."
   ]
  },
  {
   "cell_type": "code",
   "execution_count": null,
   "metadata": {
    "slideshow": {
     "slide_type": "subslide"
    }
   },
   "outputs": [],
   "source": [
    "class BoundedBuffer <E> { // CORRECT\n",
    "    E[] buf;\n",
    "    int in = 0, out = 0, size;\n",
    "    Semaphore full, empty;\n",
    "    /* buf != null && buf.length == size && 0 <= in < size && 0 <= out < size &&\n",
    "       0 <= full.val <= size && full.val + empty.val == size && in == (out + full.val) % size\n",
    "    */\n",
    "    BoundedBuffer(int size) {\n",
    "        this.size = size; buf = (E[]) new Object[size];\n",
    "        full = new Semaphore(0); empty = new Semaphore(size);\n",
    "    }\n",
    "    void deposit(E x) throws InterruptedException {\n",
    "        empty.P();\n",
    "        synchronized(this) {buf[in] = x; in = (in + 1) % size;}\n",
    "        full.V();\n",
    "    }\n",
    "    E fetch() throws InterruptedException {\n",
    "        E x; full.P();\n",
    "        synchronized(this) {x = buf[out]; buf[out] = null; out = (out + 1) % size;}\n",
    "        empty.V(); return x;\n",
    "    }\n",
    "}"
   ]
  },
  {
   "cell_type": "markdown",
   "metadata": {
    "solution": "hidden",
    "solution_first": true
   },
   "source": [
    "_Question:_ What is the role of `buf[out] = null` in `fetch`?"
   ]
  },
  {
   "cell_type": "markdown",
   "metadata": {
    "slideshow": {
     "slide_type": "fragment"
    },
    "solution": "hidden"
   },
   "source": [
    "*Answer.* The assignment `buf[out] = null` prevents a pointer to `buf[out]` to be kept unnecessarily, which may not allow the object to be garbage-collected: in Java, there is no notion of ownership that would control the lifetime of objects."
   ]
  },
  {
   "cell_type": "markdown",
   "metadata": {
    "slideshow": {
     "slide_type": "slide"
    }
   },
   "source": [
    "## Readers and Writers in Java\n",
    "We can allow only one writer and several readers by making only the method for writing, for starting to read, and ending to read synchronized. The new class serves both as the \"database\" and as the controller for accessing the data:"
   ]
  },
  {
   "cell_type": "code",
   "execution_count": null,
   "metadata": {},
   "outputs": [],
   "source": [
    "class ReadersWriters {\n",
    "    // … data …\n",
    "    private int nr = 0;\t// number of readers\n",
    "    private synchronized void startRead() {\n",
    "        nr += 1;\n",
    "    }\n",
    "    private synchronized void endRead() {\n",
    "        nr -= 1; if (nr == 0) notify(); // awaken waiting writers\n",
    "    }\n",
    "    void read() {\n",
    "        startRead();\n",
    "        // … read data … \n",
    "        endRead();\n",
    "    }\n",
    "    synchronized void write() throws InterruptedException {\n",
    "        while (nr > 0) wait();\n",
    "        // … write data …; \n",
    "        notify(); // awaken another waiting writer\n",
    "    }\n",
    "}"
   ]
  },
  {
   "cell_type": "markdown",
   "metadata": {
    "slideshow": {
     "slide_type": "slide"
    }
   },
   "source": [
    "## Monitors in C with Pthreads\n",
    "\n",
    "<span style=\"color:darkorange\">[This needs the Python kernel.]</span>\n",
    "\n",
    "While the C language does not have a syntactic structure for monitors, mutual exclusion and condition synchronization are available through the [POSIX threads](https://computing.llnl.gov/tutorials/pthreads/) library, which is supported on Linux, macOS, Android, and other Unix-based systems (see this [tutorial from CMU](http://www.cs.cmu.edu/afs/cs/academic/class/15492-f07/www/pthreads.html) or \"[man pthreads](http://man7.org/linux/man-pages/man7/pthreads.7.html)\" from the shell). A mutual exclusion lock, or simply mutex, is declared and initialized by:\n",
    "```C\n",
    "pthread_mutex_t mutex = PTHREAD_MUTEX_INITIALIZER;\n",
    "```\n",
    "A critical section is then protected as follows:\n",
    "```C\n",
    "pthread_mutex_lock(&mutex);   /* also used for monitor entry */\n",
    "critical section;\n",
    "pthread_mutex_unlock(&mutex); /* also used for monitor exit */\n",
    "```"
   ]
  },
  {
   "cell_type": "markdown",
   "metadata": {
    "slideshow": {
     "slide_type": "subslide"
    }
   },
   "source": [
    "A condition variable is declared and initialized with default values by:\n",
    "```C\n",
    "pthread_cond_t cond = PTHREAD_COND_INITIALIZER;\n",
    "```\n",
    "Pthread uses the signal-and-continue discipline. Operations on condition variables are:\n",
    "```C\n",
    "pthread_cond_wait(&cond, &mutex);\n",
    "pthread_cond_signal(&cond, &mutex);\n",
    "pthread_cond_broadcast(&cond, &mutex);\t\t// same as signalAll\n",
    "pthread_cond_timedwait(&cond, &mutex, &timespec);\n",
    "```\n",
    "The timed wait waits until a signal or boadcast on the condition variable, or a timeout. All `wait` and `signal` operations require holding a mutex lock. The Pthreads standard also defines which C functions are required to be [thread-safe](http://pubs.opengroup.org/onlinepubs/7908799/xsh/threads.html)."
   ]
  },
  {
   "cell_type": "code",
   "execution_count": null,
   "metadata": {
    "slideshow": {
     "slide_type": "subslide"
    }
   },
   "outputs": [],
   "source": [
    "%%writefile barber.c\n",
    "\n",
    "#include <pthread.h>\n",
    "#include <stdio.h>\n",
    "#include <stdbool.h>\n",
    "\n",
    "/* barber shop monitor */\n",
    "\n",
    "int barber = 0, chair = 0, exit = 0;\n",
    "pthread_mutex_t mutex = PTHREAD_MUTEX_INITIALIZER;          /* monitor lock */\n",
    "pthread_cond_t barberAvailable = PTHREAD_COND_INITIALIZER;  /* signalling condition: barber > 0 */\n",
    "pthread_cond_t chairOccupied = PTHREAD_COND_INITIALIZER;    /* signalling condition: chair > 0 */\n",
    "pthread_cond_t exitOpen = PTHREAD_COND_INITIALIZER;         /* signalling condition: exit > 0 */\n",
    "pthread_cond_t customerLeft = PTHREAD_COND_INITIALIZER;     /* signalling condition: exit = 0 */\n",
    "\n",
    "/* monitor invariant: 0 <= barber <= 1 && 0 <= chair <= 1 && 0 <= exit <= 1 */\n",
    "\n",
    "void getHaircut(long cust) {\n",
    "    pthread_mutex_lock(&mutex);                             /* monitor entry */\n",
    "        printf(\"%d waiting for barber\\n\", cust);\n",
    "        while (barber == 0) pthread_cond_wait(&barberAvailable, &mutex);\n",
    "        barber -= 1;\n",
    "        chair += 1; pthread_cond_signal(&chairOccupied);\n",
    "        printf(\"%d waiting for exit door\\n\", cust);\n",
    "        while (exit == 0) pthread_cond_wait(&exitOpen, &mutex);\n",
    "        exit -= 1; pthread_cond_signal(&customerLeft);\n",
    "    pthread_mutex_unlock(&mutex);                            /* monitor exit */\n",
    "}\n",
    "void getNextCustomer() {\n",
    "    pthread_mutex_lock(&mutex);                              /* monitor entry */\n",
    "        barber += 1 ; pthread_cond_signal(&barberAvailable);\n",
    "        printf(\"waiting for customer to sit in chair\\n\");\n",
    "        while (chair == 0) pthread_cond_wait(&chairOccupied, &mutex);\n",
    "        chair -= 1;\n",
    "    pthread_mutex_unlock(&mutex);                            /* monitor exit */\n",
    "}\n",
    "void finishedCut() {\n",
    "    pthread_mutex_lock(&mutex);                              /* monitor entry */\n",
    "        exit += 1; pthread_cond_signal(&exitOpen);\n",
    "        printf(\"waiting for customer to leave\\n\");\n",
    "        while (exit > 0) pthread_cond_wait(&customerLeft, &mutex);\n",
    "    pthread_mutex_unlock(&mutex);                            /* monitor exit */\n",
    "}\n",
    "\n",
    "/* end barber shop monitor */\n",
    "\n",
    "void *villagebarber() {\n",
    "    while (true) {\n",
    "        getNextCustomer();  /* wait for a customer to sit in the barber's chair */\n",
    "        printf(\"cutting hair\\n\"); sleep(1);\n",
    "        finishedCut();      /* allow the customer to leave; returns after the customer left */\n",
    "    }\n",
    "}\n",
    "void *customer(void *t) {\n",
    "    long cust = (long) t;\n",
    "    while (true) {\n",
    "        printf(\"%d lives happily\\n\", cust); sleep(2);\n",
    "        getHaircut(cust);\n",
    "    }\n",
    "}\n",
    "        \n",
    "int main(int argc, char *argv[]) {\n",
    "    int numcust = atoi(argv[1]);\n",
    "    long i;\n",
    "    pthread_t b, c[numcust];\n",
    "    pthread_create(&b, NULL, &villagebarber, NULL);\n",
    "    for (i = 0; i < numcust; i++) pthread_create(&c[i], NULL, &customer, (void *) i);\n",
    "    pthread_join(b, NULL);\n",
    "    for (i = 0; i < numcust; i++) pthread_join(c[i], NULL);\n",
    "}"
   ]
  },
  {
   "cell_type": "code",
   "execution_count": null,
   "metadata": {},
   "outputs": [],
   "source": [
    "!cc -pthread barber.c\n",
    "!./a.out 5"
   ]
  },
  {
   "cell_type": "markdown",
   "metadata": {
    "slideshow": {
     "slide_type": "slide"
    }
   },
   "source": [
    "## Recursive Locking\n",
    "\n",
    "Python also supports monitors through [lock objects](https://docs.python.org/3/library/threading.html#lock-objects) and [condition objects](https://docs.python.org/3/library/threading.html#condition-objects)."
   ]
  },
  {
   "cell_type": "code",
   "execution_count": null,
   "metadata": {},
   "outputs": [],
   "source": [
    "from threading import Lock\n",
    "\n",
    "class Counter:\n",
    "    def __init__(self):\n",
    "        self.count, self.lock = 0, Lock()\n",
    "    def once(self):   \n",
    "        self.lock.acquire()\n",
    "        self.count += 1\n",
    "        self.lock.release()\n",
    "\n",
    "c = Counter()\n",
    "for _ in range(10): c.once()\n",
    "c.count"
   ]
  },
  {
   "cell_type": "markdown",
   "metadata": {
    "slideshow": {
     "slide_type": "subslide"
    }
   },
   "source": [
    "This can be expressed more concisely and more safely with the `with` statement: that ensures that even in case of an exception, the lock is released (as if `release` occurs in `finally`), so a potential deadlock is avoided. This follows the principle of robust programming of leaving an object always in a \"consistent state\":"
   ]
  },
  {
   "cell_type": "code",
   "execution_count": null,
   "metadata": {},
   "outputs": [],
   "source": [
    "class Counter:\n",
    "    def __init__(self):\n",
    "        self.count, self.lock = 0, Lock()\n",
    "    def once(self):\n",
    "        with self.lock:\n",
    "            self.count += 1\n",
    "\n",
    "c = Counter()\n",
    "for _ in range(10): c.once()\n",
    "c.count"
   ]
  },
  {
   "cell_type": "markdown",
   "metadata": {
    "slideshow": {
     "slide_type": "subslide"
    }
   },
   "source": [
    "Suppose we inted to define a more complex atomic operation on counters by inheriting `Counter` and super-calling `once`:"
   ]
  },
  {
   "cell_type": "code",
   "execution_count": null,
   "metadata": {},
   "outputs": [],
   "source": [
    "class CounterPlus(Counter):\n",
    "    def twice(self):\n",
    "        with self.lock:\n",
    "            super().once() # same as Counter.once(self)\n",
    "            super().once()\n",
    "\n",
    "c = CounterPlus()\n",
    "for _ in range(10): c.twice()\n",
    "c.count"
   ]
  },
  {
   "cell_type": "markdown",
   "metadata": {
    "solution": "hidden",
    "solution_first": true
   },
   "source": [
    "_Question:_ What goes wrong?"
   ]
  },
  {
   "cell_type": "markdown",
   "metadata": {
    "slideshow": {
     "slide_type": "fragment"
    },
    "solution": "hidden"
   },
   "source": [
    "*Answer.* Method `twice` obtains the lock to `self` and calls `once`, which tries to obtain the same lock again and blocks."
   ]
  },
  {
   "cell_type": "markdown",
   "metadata": {
    "slideshow": {
     "slide_type": "fragment"
    }
   },
   "source": [
    "_Question:_ How can this be avoided?"
   ]
  },
  {
   "cell_type": "markdown",
   "metadata": {
    "slideshow": {
     "slide_type": "subslide"
    }
   },
   "source": [
    "One solution is to avoid double locking by separating locking from the computation:"
   ]
  },
  {
   "cell_type": "code",
   "execution_count": null,
   "metadata": {
    "slideshow": {
     "slide_type": "-"
    }
   },
   "outputs": [],
   "source": [
    "from threading import Lock\n",
    "\n",
    "class Counter:\n",
    "    def __init__(self):\n",
    "        self.count, self.lock = 0, Lock()\n",
    "    def inc(self):\n",
    "        self.count += 1\n",
    "    def once(self):\n",
    "        with self.lock:\n",
    "            self.inc()\n",
    "\n",
    "c = Counter()\n",
    "for _ in range(10): c.once()\n",
    "c.count"
   ]
  },
  {
   "cell_type": "code",
   "execution_count": null,
   "metadata": {
    "slideshow": {
     "slide_type": "-"
    }
   },
   "outputs": [],
   "source": [
    "class CounterPlus(Counter):\n",
    "    def twice(self):\n",
    "        with self.lock:\n",
    "            super().inc()\n",
    "            super().inc()\n",
    "\n",
    "\n",
    "c = CounterPlus()\n",
    "for _ in range(10): c.twice()\n",
    "c.count"
   ]
  },
  {
   "cell_type": "markdown",
   "metadata": {
    "slideshow": {
     "slide_type": "subslide"
    }
   },
   "source": [
    "Another solution is use _recursive locks:_ these allow a thread to lock the same object repeatedly and keep a count of how often the thread acquired and released the lock:"
   ]
  },
  {
   "cell_type": "code",
   "execution_count": null,
   "metadata": {},
   "outputs": [],
   "source": [
    "from threading import RLock\n",
    "\n",
    "class Counter:\n",
    "    def __init__(self):\n",
    "        self.count, self.lock = 0, RLock()\n",
    "    def once(self):\n",
    "        with self.lock:\n",
    "            self.count += 1\n",
    "\n",
    "class CounterPlus(Counter):\n",
    "    def twice(self):\n",
    "         with self.lock:\n",
    "            super().once()\n",
    "            super().once()\n",
    "\n",
    "c = CounterPlus()\n",
    "for _ in range(10): c.twice()\n",
    "c.count"
   ]
  },
  {
   "cell_type": "markdown",
   "metadata": {},
   "source": [
    "[Pthreads](http://pubs.opengroup.org/onlinepubs/009695399/functions/pthread_mutexattr_gettype.html) also allows locks (mutexes) to be recursive. Recursive locks are more complex and, in general, considered to be more error-prone: the state of the lock now includes the _id of the locking thread_ in addition to the state of the lock."
   ]
  },
  {
   "cell_type": "markdown",
   "metadata": {
    "slideshow": {
     "slide_type": "slide"
    }
   },
   "source": [
    "## Implementation of Monitors with Semaphores\n",
    "\n",
    "```algorithm\n",
    "monitor M\n",
    "    var cv: condition\n",
    "    ...\n",
    "    procedure pi\n",
    "        ... wait(cv) ...\n",
    "    procedure pj\n",
    "        ... signal(cv) ...\n",
    "```\n",
    "One semaphore, `e`, is needed for mutual exclusion of monitor procedures. For every condition variable `cv`, one semaphore, `cs`, for theads blocked on `wait`, and one counter, `cn`, for the length of the queue of `cs`, are needed. The implementation with the signal-and-continue discipline is: \n",
    "```algorithm\n",
    "var e: semaphore := 1  {0 ≤ e ≤ 1}\n",
    "var cs: semaphore := 0  {0 ≤ cs}\n",
    "var cn: integer := 0  {0 ≤ cn}\n",
    "...\n",
    "procedure pi\n",
    "    P(e) ... cn := cn + 1 ; V(e) ; P(cs) ; P(e) ... V(e)\n",
    "procedure pj\n",
    "    P(e) ... if cn > 0 then (cn := cn - 1 ; V(cs)) ... V(e)\n",
    "```\n"
   ]
  },
  {
   "cell_type": "markdown",
   "metadata": {
    "slideshow": {
     "slide_type": "slide"
    }
   },
   "source": [
    "## Discussion of Monitors\n",
    "\n",
    "While the motivation for monitors, combining mutual exclusion with encapsulation in a syntactic construct, is appealing, the details are intricate:\n",
    "- to the queue of threads trying to enter the monitor and the queues for each of the condition variables, one can add another queue of threads that were waiting and are ready to continue. Then, in total five different signalling disciplines are possible!\n",
    "- the problem of nested monitor calls can also be solved by making a call to another monitor within a monitor an _open call,_ meaning that the exclusive lock to the first monitor is released during the call. We have assumed (Java, Pthreads) that calls are _closed calls._ If calls are open, then the monitor invariant has to be established before each call.\n",
    "- mutual exclusion is not always necessary to ensure the integrity (invariant) of the monitor; strict mutual exclusion may affect performance unnecessarily.\n",
    "\n",
    "These issues have lead to numerous variants of monitors over the years. Some of those deviate even further. For example, [C#](https://docs.microsoft.com/en-us/dotnet/csharp/programming-guide/concepts/threading/thread-synchronization) has a `lock` construct that is similar to Java's `synchronized`. Synchronization is performed by _events_ which are explicitly set and cleared in two different ways:\n",
    "- `AutoResetEvent`: an event remains _signalled_ until a call to `WaitOne`, when the event is _unsignalled,_\n",
    "- `ManualResetEvent`: an event remains _signalled_ until it is explicitly reset.\n"
   ]
  }
 ],
 "metadata": {
  "celltoolbar": "Slideshow",
  "kernelspec": {
   "display_name": "Python 3",
   "language": "python",
   "name": "python3"
  },
  "language_info": {
   "codemirror_mode": {
    "name": "ipython",
    "version": 3
   },
   "file_extension": ".py",
   "mimetype": "text/x-python",
   "name": "python",
   "nbconvert_exporter": "python",
   "pygments_lexer": "ipython3",
   "version": "3.8.0"
  },
  "livereveal": {
   "height": "900",
   "history": true,
   "margin": "0.01",
   "progress": true,
   "scroll": true,
   "start_slideshow_at": "selected",
   "theme": "night",
   "width": "1440"
  }
 },
 "nbformat": 4,
 "nbformat_minor": 2
}
