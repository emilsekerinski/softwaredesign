{
 "cells": [
  {
   "cell_type": "markdown",
   "metadata": {
    "slideshow": {
     "slide_type": "slide"
    }
   },
   "source": [
    "---\n",
    "\n",
    "# Classes\n",
    "### [Emil Sekerinski](http://www.cas.mcmaster.ca/~emil/), McMaster University, Fall 2019\n",
    "\n",
    "---"
   ]
  },
  {
   "cell_type": "markdown",
   "metadata": {
    "slideshow": {
     "slide_type": "slide"
    }
   },
   "source": [
    "## On Objects and Classes\n",
    "\n",
    "Suppose the task is to store and manipulate geometric shapes, like those used in drawing editors. A point may be represented by a pair of integers, the x and y-coordinate, and a rectangle by the x and y-coordinates together with the width and height, which is expressed by the types `Point` and `Rectangle`:\n",
    "```\n",
    "Point = integer × integer\n",
    "Rectangle = integer × integer × integer × integer\n",
    "```\n",
    "The operation of moving a point is then expressed by two functions `move`, distinguished by their parameter types:\n",
    "```\n",
    "move: Point × integer × integer → Point\n",
    "move((x, y), dx, dy) = (x + dx, y + dy)\n",
    "\n",
    "move: Rectangle × integer × integer → Rectangle\n",
    "move((x, y, w, h), dx, dy) = (x + dx, y + dy, w, h)\n",
    "```"
   ]
  },
  {
   "cell_type": "markdown",
   "metadata": {
    "slideshow": {
     "slide_type": "subslide"
    }
   },
   "source": [
    "_Classes_ group data together with operations on that data. A class declaration consists of number of _fields_ declaring the data, `x` and `y` and below, and a number of _methods_ defining the operations, `set` and `move` below:\n",
    "```algorithm\n",
    "class Point\n",
    "    var x, y: integer\n",
    "    method set(x0, y0: integer)\n",
    "        x, y := x0, y0\n",
    "    method move(dx, dy: integer)\n",
    "        x, y := x + dx, y + dy\n",
    "```\n",
    "\n",
    "Above, `x` and `y` refer to the corresponding fields of the \"current\" object."
   ]
  },
  {
   "cell_type": "markdown",
   "metadata": {
    "slideshow": {
     "slide_type": "subslide"
    }
   },
   "source": [
    "As objects are created from a class, they are provided with an _identity_ (*name*, *reference*). Declaring variable `p` of class `Point` allows it to hold the identity of a `Point` object; classes are used in variable declarations as if they are types:\n",
    "```\n",
    "var p: Point\n",
    "```\n",
    "Above declaration implies that, after initialization, `p` will always refer to a `Point` object. On object is _created_ by \"calling\" the class:\n",
    "```\n",
    "p ← Point()\n",
    "```\n",
    "The fields of an object are accessed and the methods are called using the _dot notation_. For example, following sets the x and y-coordinate:\n",
    "```algorithm\n",
    "p.set(3, 5)\n",
    "{p.x = 3 ∧ p.y = 5}\n",
    "p.move(-1, 1)\n",
    "{p.x = 2 ∧ p.y = 6}\n",
    "```"
   ]
  },
  {
   "cell_type": "markdown",
   "metadata": {
    "slideshow": {
     "slide_type": "subslide"
    }
   },
   "source": [
    "By convention `self` refers to the current object and `self.a` refers to field `a` of the current object. The fact that `x` and `y` in `set` and `move` refer to fields of the current object can be made explicit by prefixing them with `self`:\n",
    "\n",
    "```algorithm\n",
    "class Point\n",
    "    var x, y: integer\n",
    "    method set(x0, y0: integer)\n",
    "        self.x, self.y := x0, y0\n",
    "    method move(dx, dy: integer)\n",
    "        self.x, self.y := self.x + dx, self.y + dy\n",
    "```\n",
    "\n",
    "Mostly, we leave out the prefix `self` and think of `x`, `y` as being \"variables of the current object\"."
   ]
  },
  {
   "cell_type": "markdown",
   "metadata": {
    "slideshow": {
     "slide_type": "slide"
    }
   },
   "source": [
    "## Class Invariants \n",
    "Consider a class for rectangles with coordinates, width, and height such that width and height are \"always\" positive. This is expressed by a *class invariant*, written as an annotation in the class:\n",
    "```algorithm\n",
    "class Rectangle\n",
    "    var x, y, w, h: integer\n",
    "    {w > 0 ∧ h > 0}\n",
    "    initialization(x0, y0, w0, h0: integer)\n",
    "        {w0 > 0 ∧ h0 > 0}\n",
    "        x, y, w, h := x0, y0, w0, h0\n",
    "    method move(dx, dy: integer)\n",
    "        x, y := x + dx, y + dy\n",
    "    method mirror()\n",
    "        w, h := h, w\n",
    "    method area() → (a: integer)\n",
    "        a := w × h\n",
    "        {a > 0}\n",
    "```\n",
    "\n",
    "Above, the class invariant involves only the fields of the current object.\n",
    "\n",
    "_Question:_ Assuming a `Rectangle` object is created and its methods are called. How can you argue that `area` will always return a positive area?"
   ]
  },
  {
   "attachments": {
    "ClassInvariant.svg": {
     "image/svg+xml": [
      "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"
     ]
    }
   },
   "cell_type": "markdown",
   "metadata": {
    "slideshow": {
     "slide_type": "subslide"
    }
   },
   "source": [
    "<div style=\"margin: 0 auto\" class=\"code-img-pair-container\">\n",
    "  <div style=\"width: 60%\">\n",
    "\n",
    "The class invariant is like a contract among the methods:\n",
    "- each method can assume that the class invariant holds at the entry; in turn, it has to guarantee that the invariant holds at the exit: both `move` and `mirror` guarantee `w > 0 ∧ h > 0` at exit as they do not change `w`, `h`; method `mirror` guarantees `w > 0 ∧ h > 0` finally provided `w > 0 ∧ h > 0` holds initially as it exchanges `w`, `h`.\n",
    "- the initialization has to guarantee the class invariant to hold at exit: `w > 0 ∧ h > 0` holds at exit as `w` and `h` are assigned values for which this is assumed.\n",
    "  </div>\n",
    "  <div style = \"border-left:50px solid white\">\n",
    "    <img src=\"attachment:ClassInvariant.svg\"/>\n",
    "  </div>\n",
    "</div>\n",
    "<span></span>\n",
    "\n",
    "This requires that the fields cannot be changed from the outside, i.e. the fields are _read-only:_ they can still be read, as in:\n",
    "```algorithm\n",
    "procedure equal(r, s: Rectangle) → (eq: boolean)\n",
    "    eq := (r.x, r.y, r.w, r.h) = (s.x, s.y, s.w, s.h)\n",
    "```"
   ]
  },
  {
   "cell_type": "markdown",
   "metadata": {
    "slideshow": {
     "slide_type": "subslide"
    }
   },
   "source": [
    "**Rule for correctness of classes:**\n",
    "Suppose class `C` is given with class invariant `I` and methods `m1`, ..., `mn`; the initialization `S0` and the method bodies `S1`,..., `Sn` are annotated statements:\n",
    "```algorithm\n",
    "class C\n",
    "    var ...\n",
    "    {I}\n",
    "    initialization(...)\n",
    "        S0\n",
    "    method mi(...) → (...)\n",
    "        Si\n",
    "```\n",
    "Class `C` is correct if\n",
    "- the initialization _establishes_ `I`,\n",
    "\n",
    "```algorithm\n",
    "{true}  S0  {I}\n",
    "```\n",
    "\n",
    "- every method `mi` _preserves_ `I`:\n",
    "\n",
    "```algorithm\n",
    "{I}  Si  {I}\n",
    "```"
   ]
  },
  {
   "attachments": {
    "MergedAnnotations.svg": {
     "image/svg+xml": [
      "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"
     ]
    }
   },
   "cell_type": "markdown",
   "metadata": {
    "slideshow": {
     "slide_type": "subslide"
    }
   },
   "source": [
    "If `S0`, `S1`, ..., `Sn` above are annotated statements, the correctness rule adds another annotation. In general:\n",
    "<div class=\"code-img-pair-container\">\n",
    "  <div style=\"width: 40%\">\n",
    "\n",
    "```algorithm\n",
    "{P0}  {P1}  S  {Q0}  {Q1}\n",
    "```\n",
    "  </div>\n",
    "</div>\n",
    "is the same as\n",
    "<div class=\"code-img-pair-container\">\n",
    "  <div style=\"width: 40%\">\n",
    "\n",
    "```algorithm\n",
    "{P0 ∧ P1}  S  {Q0 ∧ Q1}\n",
    "```\n",
    "  </div>\n",
    "  <div style = \"display:table-cell; vertical-align:middle; border-left:100px solid white\">\n",
    "        <img src=\"attachment:MergedAnnotations.svg\"/>\n",
    "  </div>\n",
    "</div>\n",
    "<span></span>"
   ]
  },
  {
   "cell_type": "markdown",
   "metadata": {
    "slideshow": {
     "slide_type": "subslide"
    }
   },
   "source": [
    "Let `RI: w > 0 ∧ h > 0` be the object invariant of `Rectangle`. Class `Rectangle` is correct if\n",
    "- the initialization establishes the object invariant,\n",
    "\n",
    "```algorithm\n",
    "{w0 > 0 ∧ h0 > 0}  x, y, w, h := x0, y0, w0, h0  {RI}\n",
    "```\n",
    "\n",
    "- methods `move`, `mirror`, `area` preserve the class invariant:\n",
    "\n",
    "```algorithm\n",
    "{RI}  x, y := x + dx, y + dy  {RI}\n",
    "```\n",
    "\n",
    "```algorithm\n",
    "{RI}  w, h := h, w  {RI}\n",
    "```\n",
    "\n",
    "```algorithm\n",
    "{RI}  a := w × h  {RI ∧ a > 0}\n",
    "```"
   ]
  },
  {
   "cell_type": "markdown",
   "metadata": {
    "slideshow": {
     "slide_type": "skip"
    }
   },
   "source": [
    "_Exercise:_ Prove these four conditions!"
   ]
  },
  {
   "cell_type": "markdown",
   "metadata": {
    "slideshow": {
     "slide_type": "subslide"
    }
   },
   "source": [
    "Java has an _assert statement_ that allows run-time checks to be included in programs:\n",
    "```Java\n",
    "assert B;\n",
    "```\n",
    "These can be turned on (with the `-ea` option when compiling) or off. Consecutive assertions can be merged:\n",
    "```Java\n",
    "assert B1; assert B2;\n",
    "```\n",
    "is the same as\n",
    "```Java\n",
    "assert B1 && B2;\n",
    "```\n",
    "Annotations and assertions are different:\n",
    "- Annotations express properties of programs and allow these to be statically verified.\n",
    "- Assertions are statements in programs; including them changes the behaviour of programs.\n",
    "\n",
    "It is good programming practice to have all or some annotations checked through assertions."
   ]
  },
  {
   "cell_type": "code",
   "execution_count": null,
   "metadata": {
    "slideshow": {
     "slide_type": "subslide"
    }
   },
   "outputs": [],
   "source": [
    "class Rectangle {\n",
    "    private int x, y, w, h;\n",
    "    void checkInvariant() {\n",
    "        assert w > 0 && h > 0;\n",
    "    }\n",
    "    Rectangle(int x0, int y0, int w0, int h0) {\n",
    "        assert w0 > 0 && h0 > 0;\n",
    "        x = x0; y = y0; w = w0; h = h0;\n",
    "        checkInvariant();\n",
    "    }\n",
    "    void move(int dx, int dy) {\n",
    "        x += dx; y += dy;\n",
    "        checkInvariant();\n",
    "    }\n",
    "    void mirror() {\n",
    "        int t = w; w = h; h = t;\n",
    "        checkInvariant();\n",
    "    }\n",
    "    int area() {\n",
    "        int a = w * h;\n",
    "        checkInvariant();\n",
    "        assert a > 0;\n",
    "        return a;\n",
    "    }\n",
    "}"
   ]
  },
  {
   "cell_type": "code",
   "execution_count": null,
   "metadata": {},
   "outputs": [],
   "source": [
    "Rectangle r = new Rectangle(3, 4, 2, 1); r.move(1, 1); r.mirror(); r.area()"
   ]
  },
  {
   "cell_type": "code",
   "execution_count": null,
   "metadata": {},
   "outputs": [],
   "source": [
    "r = new Rectangle(3, 4, -2, 1)"
   ]
  },
  {
   "cell_type": "markdown",
   "metadata": {
    "slideshow": {
     "slide_type": "-"
    }
   },
   "source": [
    "_Question:_ Is it necessary to check the invariant at the beginning of each method?"
   ]
  },
  {
   "cell_type": "markdown",
   "metadata": {
    "slideshow": {
     "slide_type": "fragment"
    }
   },
   "source": [
    "In `Rectangle`, all fields are private: if the invariant holds after the initialization and after each method, it is guaranteed to hold before each method as well."
   ]
  },
  {
   "cell_type": "markdown",
   "metadata": {
    "slideshow": {
     "slide_type": "subslide"
    }
   },
   "source": [
    "_Question:_ What is the class invariant of `IntStack`? What are the required preconditions of the initialization and the methods? Add checks for all relevant annotations!"
   ]
  },
  {
   "cell_type": "code",
   "execution_count": null,
   "metadata": {},
   "outputs": [],
   "source": [
    "class IntStack {\n",
    "    int n = 0;\n",
    "    int[] a;\n",
    "    void checkInvariant() {\n",
    "        assert a != null && 0 <= n && n <= a.length\n",
    "    }\n",
    "    IntStack(int capacity) {\n",
    "        a = new int[capacity];\n",
    "        checkInvariant();\n",
    "    }\n",
    "    void put(int x) {\n",
    "        a[n] = x; n += 1;\n",
    "        checkInvariant()\n",
    "    }\n",
    "    int get() {\n",
    "        assert n > 0;\n",
    "        n -= 1; checkInvarian t(); return a[n]; \n",
    "    } \n",
    "    int size() {\n",
    "        return n;\n",
    "    }\n",
    "}"
   ]
  },
  {
   "cell_type": "code",
   "execution_count": null,
   "metadata": {},
   "outputs": [],
   "source": [
    "IntStack s = new IntStack(1); s.put(3);"
   ]
  },
  {
   "cell_type": "markdown",
   "metadata": {
    "slideshow": {
     "slide_type": "fragment"
    }
   },
   "source": [
    "_Question:_ To ensure that the invariant is not invalidated, is it necessary to check the parameter of the initialization? Is it necessary to add assertions that the stack does not overflow or underflow? Is it recommendable to insert `if` statements when the stack would overflow or underflow?"
   ]
  },
  {
   "cell_type": "markdown",
   "metadata": {
    "slideshow": {
     "slide_type": "subslide"
    }
   },
   "source": [
    "In a _robust_ programming style, class invariants should always be maintained, even in the presence of exceptions.  \n",
    "- In the initialization, if `capacity` is negative, `new` will raise an exception and `a` will not be assigned an array, i.e., it will remain `null`, to which it is implicitly initialized. Thus an object with an invalid invariant is created. A solution would be to initialize `a` to an array of length `0` before raising an assertion exception.\n",
    "- If the stack is full and `put` is called, the assignment to `a[n]` will raise an exception, but the invariant will still be maintained.\n",
    "- If the stack is empty and `get` is called, the assignment `n -= 1` will invalidate the invariant before `a[n]` raises an exception. A solution would be to rewrite `get` as\n",
    "```Java\n",
    "    int get() {\n",
    "        int r = a[n]; n -= 1; return r;\n",
    "    }\n",
    "```\n",
    "- Adding an `if` statement, as in\n",
    "```Java\n",
    "    void put(int x) {\n",
    "        if (n < a.length) {a[n] = x; n += 1;}\n",
    "    }\n",
    "```\n",
    "to avoid an exception is _not recommended_, as the caller will not be notified that the call was not successful."
   ]
  },
  {
   "cell_type": "markdown",
   "metadata": {
    "slideshow": {
     "slide_type": "slide"
    }
   },
   "source": [
    "## The 'nil' Value\n",
    "\n",
    "If a variable may not refer to an object or some other value, it can be declared as _optional_ and take the additional value `nil` (sometimes called `null`):\n",
    "```\n",
    "var p: opt Point\n",
    "p := nil\n",
    "```\n",
    "Optional field types allow recursive class declarations to be expressed, where one field of the class itself (there is no recursion among methods involved):\n",
    "\n",
    "```\n",
    "class Polygon\n",
    "    var x, y: integer\n",
    "    var next: opt Polygon\n",
    "    initialization(x, y: integer)\n",
    "        self.x, self.y, self.next := x, y, nil\n",
    "    method add(x, y: integer)\n",
    "        next ← Polygon(x, y)\n",
    "```"
   ]
  },
  {
   "cell_type": "markdown",
   "metadata": {
    "slideshow": {
     "slide_type": "subslide"
    }
   },
   "source": [
    "For example, C# uses the shorthand `int? x` for a [nullable](https://docs.microsoft.com/en-us/dotnet/csharp/programming-guide/nullable-types/index) integer type. Optional types can be found in [Scala](http://www.scala-lang.org/api/2.7.4/scala/Option.html), [F#](https://msdn.microsoft.com/visualfsharpdocs/conceptual/core.option-module-%5bfsharp%5d). In Java, C/C++, and Python all object references always include a `null` value, allowing recursive declarations as above without optional types. However, in that case, the type-system cannot guarantee the absence of dereferencing `null`:\n",
    "```Java\n",
    "integer distance(Point p, Point q) {\n",
    "    return (q.x - p.x) + (q.y - p.y)\n",
    "}\n",
    "```\n",
    "Above method can be called with `p` or `q` being `null`, which leads to an exception. [Java](https://docs.oracle.com/javase/8/docs/api/java/util/Optional.html) also has optional types, but they don't address this issue."
   ]
  },
  {
   "cell_type": "markdown",
   "metadata": {
    "slideshow": {
     "slide_type": "slide"
    }
   },
   "source": [
    "## Definition of Classes\n",
    "\n",
    "The declaration of class `C` can abstractly be explained by variables and procedures. The statement `v :∈ s` sets `v` nondeterministically to an element of `s`; the statement `v :∉ s` set `v` to an element not in `s`. This is used to explain creating of an object as selecting a reference that is not already in use:\n",
    "\n",
    "<div style=\"display:table;margin-left:2em;margin-top:1em\">\n",
    "\n",
    "```algorithm\n",
    "class C\n",
    "    var a: A\n",
    "    initialization(v0: V0)\n",
    "        S0\n",
    "    method mi(vi: Vi) → (wi: Wi)\n",
    "        Si\n",
    "```\n",
    "<span></span>\n",
    "    <div style = \"display:table-cell; border-left:50px solid white; vertical-align:middle\">\n",
    "\n",
    "```algorithm\n",
    "var C: set of Object = {}\n",
    "var a: Object → A\n",
    "procedure C(v0: V0) → (self: C)\n",
    "    self :∉ C ; C := C ∪ {self} ; S0\n",
    "procedure C.mi(self: C, vi: Vi) → (wi: Wi)\n",
    "    Si\n",
    "```\n",
    "   </div>\n",
    "</div>\n",
    "\n",
    "Let `x: C` be an object of class `C`. Accessing a field is just function application:\n",
    "\n",
    "```\n",
    "x.a  =  a(x)\n",
    "```\n",
    "A method call is a procedure call, where the type of the object determines the procedure and the object becomes the `self` parameter:\n",
    "\n",
    "```\n",
    "v ← x.m(E)  =  v ← C.m(x, E)\n",
    "```\n",
    "Above, `C` has multiple roles:\n",
    "- in `x: C` as a type of variables\n",
    "- in `var C: set of Object` as the set of created objects of class C\n",
    "- in `C.m` for prefixing its methods, in case these names are used in other classes as well.\n",
    "\n",
    "This formal definition can be used to justify the rule for correctness of classes."
   ]
  },
  {
   "cell_type": "markdown",
   "metadata": {
    "slideshow": {
     "slide_type": "slide"
    }
   },
   "source": [
    "## Ownership\n",
    "\n",
    "_Question:_ In the following design, a line is meant to be pair of \"different\" points. What is the problem?\n",
    "\n",
    "<!--\n",
    "```algorithm\n",
    "class Line\n",
    "    var start, end: Point\n",
    "    {(start.x, start.y) ≠ (end.x, end.y)}\n",
    "    initialization(s, e: Point)\n",
    "        {(start.x, start.y) ≠ (end.x, end.y)}\n",
    "        start, end := s, e\n",
    "    method move(dx, dy: integer)\n",
    "        start.move(dx, dy) ; end.move(dx, dy)\n",
    "\n",
    "p ← Point(1, 3) ; q ← Point(2, 4) ; l ← Line(p, q) ; p.move(1, 1)\n",
    "```\n",
    "-->"
   ]
  },
  {
   "cell_type": "code",
   "execution_count": null,
   "metadata": {},
   "outputs": [],
   "source": [
    "class Point {\n",
    "    int x, y;\n",
    "    Point(int x0, int y0) {\n",
    "        x = x0; y = y0;\n",
    "    }\n",
    "    void move(int dx, int dy) {\n",
    "        x += dx; y += dy;\n",
    "    }\n",
    "}\n",
    "\n",
    "class Line {\n",
    "    Point start, end;\n",
    "    void checkInvariant() {\n",
    "        assert start.x != end.x || start.y != end.y;\n",
    "    }\n",
    "    Line(Point s, Point e) {\n",
    "        assert s.x != e.x || s.y != e.y;\n",
    "        start = s; end = e;\n",
    "        checkInvariant();\n",
    "    }\n",
    "    void move(int dx, int dy) {\n",
    "        start.move(dx, dy); end.move(dx, dy);\n",
    "        checkInvariant();\n",
    "    }\n",
    "}\n",
    "\n",
    "Point p = new Point(1, 3); Point q = new Point(2, 4);\n",
    "Line l = new Line(p, q); p.move(1, 1);"
   ]
  },
  {
   "cell_type": "code",
   "execution_count": null,
   "metadata": {},
   "outputs": [],
   "source": [
    "l.checkInvariant()"
   ]
  },
  {
   "cell_type": "markdown",
   "metadata": {
    "slideshow": {
     "slide_type": "subslide"
    }
   },
   "source": [
    "Although the fields of line `l` are not modified from outside, the class invariant is broken as the fields refer to objects that can be modified from outside `l`.\n",
    "\n",
    "_Question:_ How can breaking the class invariant be avoided?"
   ]
  },
  {
   "attachments": {
    "PointOwner.svg": {
     "image/svg+xml": [
      "PCFET0NUWVBFIHN2ZyBQVUJMSUMgIi0vL1czQy8vRFREIFNWRyAxLjEvL0VOIiAiaHR0cDovL3d3dy53My5vcmcvR3JhcGhpY3MvU1ZHLzEuMS9EVEQvc3ZnMTEuZHRkIj4KPHN2ZyB4bWxucz0iaHR0cDovL3d3dy53My5vcmcvMjAwMC9zdmciIHhtbG5zOnhsaW5rPSJodHRwOi8vd3d3LnczLm9yZy8xOTk5L3hsaW5rIiB3aWR0aD0iMjg5cHgiIGhlaWdodD0iMTYzcHgiIHZlcnNpb249IjEuMSIgc3R5bGU9ImJhY2tncm91bmQtY29sb3I6IHJnYigyNTUsIDI1NSwgMjU1KTsiPjxkZWZzLz48ZyB0cmFuc2Zvcm09InRyYW5zbGF0ZSgwLjUsMC41KSI+PHJlY3QgeD0iODAiIHk9IjAiIHdpZHRoPSIxMjAiIGhlaWdodD0iNjAiIHJ4PSI5IiByeT0iOSIgZmlsbD0ibm9uZSIgc3Ryb2tlPSIjMDAwMDAwIiBwb2ludGVyLWV2ZW50cz0ibm9uZSIvPjxnIHRyYW5zZm9ybT0idHJhbnNsYXRlKDEyMC41LDYuNSkiPjxzd2l0Y2g+PGZvcmVpZ25PYmplY3Qgc3R5bGU9Im92ZXJmbG93OnZpc2libGU7IiBwb2ludGVyLWV2ZW50cz0iYWxsIiB3aWR0aD0iMzciIGhlaWdodD0iNDYiIHJlcXVpcmVkRmVhdHVyZXM9Imh0dHA6Ly93d3cudzMub3JnL1RSL1NWRzExL2ZlYXR1cmUjRXh0ZW5zaWJpbGl0eSI+PGRpdiB4bWxucz0iaHR0cDovL3d3dy53My5vcmcvMTk5OS94aHRtbCIgc3R5bGU9ImRpc3BsYXk6IGlubGluZS1ibG9jazsgZm9udC1zaXplOiAxNHB4OyBmb250LWZhbWlseTogVmVyZGFuYTsgY29sb3I6IHJnYigxNzAsIDg1LCAwKTsgbGluZS1oZWlnaHQ6IDEuMjsgdmVydGljYWwtYWxpZ246IHRvcDsgd2lkdGg6IDM5cHg7IHdoaXRlLXNwYWNlOiBub3dyYXA7IHdvcmQtd3JhcDogbm9ybWFsOyB0ZXh0LWFsaWduOiBjZW50ZXI7Ij48ZGl2IHhtbG5zPSJodHRwOi8vd3d3LnczLm9yZy8xOTk5L3hodG1sIiBzdHlsZT0iZGlzcGxheTppbmxpbmUtYmxvY2s7dGV4dC1hbGlnbjppbmhlcml0O3RleHQtZGVjb3JhdGlvbjppbmhlcml0OyI+TGluZSBsPGJyIC8+PGJyIC8+PGJyIC8+PC9kaXY+PC9kaXY+PC9mb3JlaWduT2JqZWN0Pjx0ZXh0IHg9IjE5IiB5PSIzMCIgZmlsbD0iI0FBNTUwMCIgdGV4dC1hbmNob3I9Im1pZGRsZSIgZm9udC1zaXplPSIxNHB4IiBmb250LWZhbWlseT0iVmVyZGFuYSI+W05vdCBzdXBwb3J0ZWQgYnkgdmlld2VyXTwvdGV4dD48L3N3aXRjaD48L2c+PHBhdGggZD0iTSA4MCAzMCBMIDIwMCAzMCIgZmlsbD0ibm9uZSIgc3Ryb2tlPSIjMDAwMDAwIiBzdHJva2UtbWl0ZXJsaW1pdD0iMTAiIHBvaW50ZXItZXZlbnRzPSJub25lIi8+PHBhdGggZD0iTSAyMDAgMzAgTCAyMDAgMzAiIGZpbGw9Im5vbmUiIHN0cm9rZT0iIzAwMDAwMCIgc3Ryb2tlLW1pdGVybGltaXQ9IjEwIiBwb2ludGVyLWV2ZW50cz0ibm9uZSIvPjxwYXRoIGQ9Ik0gMjAwIDMwIEwgMjAwIDMwIEwgMjAwIDMwIEwgMjAwIDMwIFoiIGZpbGw9IiMwMDAwMDAiIHN0cm9rZT0iIzAwMDAwMCIgc3Ryb2tlLW1pdGVybGltaXQ9IjEwIiBwb2ludGVyLWV2ZW50cz0ibm9uZSIvPjxwYXRoIGQ9Ik0gMTQwIDMwIEwgMTQwIDYwIiBmaWxsPSJub25lIiBzdHJva2U9IiMwMDAwMDAiIHN0cm9rZS1taXRlcmxpbWl0PSIxMCIgcG9pbnRlci1ldmVudHM9Im5vbmUiLz48cmVjdCB4PSIxNjAiIHk9IjEwMSIgd2lkdGg9IjEyMCIgaGVpZ2h0PSI2MCIgcng9IjkiIHJ5PSI5IiBmaWxsPSJub25lIiBzdHJva2U9IiMwMDAwMDAiIHBvaW50ZXItZXZlbnRzPSJub25lIi8+PGcgdHJhbnNmb3JtPSJ0cmFuc2xhdGUoMTg3LjUsMTA3LjUpIj48c3dpdGNoPjxmb3JlaWduT2JqZWN0IHN0eWxlPSJvdmVyZmxvdzp2aXNpYmxlOyIgcG9pbnRlci1ldmVudHM9ImFsbCIgd2lkdGg9IjYzIiBoZWlnaHQ9IjQ2IiByZXF1aXJlZEZlYXR1cmVzPSJodHRwOi8vd3d3LnczLm9yZy9UUi9TVkcxMS9mZWF0dXJlI0V4dGVuc2liaWxpdHkiPjxkaXYgeG1sbnM9Imh0dHA6Ly93d3cudzMub3JnLzE5OTkveGh0bWwiIHN0eWxlPSJkaXNwbGF5OiBpbmxpbmUtYmxvY2s7IGZvbnQtc2l6ZTogMTRweDsgZm9udC1mYW1pbHk6IFZlcmRhbmE7IGNvbG9yOiByZ2IoMTcwLCA4NSwgMCk7IGxpbmUtaGVpZ2h0OiAxLjI7IHZlcnRpY2FsLWFsaWduOiB0b3A7IHdpZHRoOiA2M3B4OyB3aGl0ZS1zcGFjZTogbm93cmFwOyB3b3JkLXdyYXA6IG5vcm1hbDsgdGV4dC1hbGlnbjogY2VudGVyOyI+PGRpdiB4bWxucz0iaHR0cDovL3d3dy53My5vcmcvMTk5OS94aHRtbCIgc3R5bGU9ImRpc3BsYXk6aW5saW5lLWJsb2NrO3RleHQtYWxpZ246aW5oZXJpdDt0ZXh0LWRlY29yYXRpb246aW5oZXJpdDsiPlBvaW50IHE8YnIgLz48YnIgLz4ywqAgwqAgwqAgwqAgwqA0PGJyIC8+PC9kaXY+PC9kaXY+PC9mb3JlaWduT2JqZWN0Pjx0ZXh0IHg9IjMyIiB5PSIzMCIgZmlsbD0iI0FBNTUwMCIgdGV4dC1hbmNob3I9Im1pZGRsZSIgZm9udC1zaXplPSIxNHB4IiBmb250LWZhbWlseT0iVmVyZGFuYSI+W05vdCBzdXBwb3J0ZWQgYnkgdmlld2VyXTwvdGV4dD48L3N3aXRjaD48L2c+PHBhdGggZD0iTSAxNjAgMTMxIEwgMjgwIDEzMSIgZmlsbD0ibm9uZSIgc3Ryb2tlPSIjMDAwMDAwIiBzdHJva2UtbWl0ZXJsaW1pdD0iMTAiIHBvaW50ZXItZXZlbnRzPSJub25lIi8+PHBhdGggZD0iTSAyODAgMTMxIEwgMjgwIDEzMSIgZmlsbD0ibm9uZSIgc3Ryb2tlPSIjMDAwMDAwIiBzdHJva2UtbWl0ZXJsaW1pdD0iMTAiIHBvaW50ZXItZXZlbnRzPSJub25lIi8+PHBhdGggZD0iTSAyODAgMTMxIEwgMjgwIDEzMSBMIDI4MCAxMzEgTCAyODAgMTMxIFoiIGZpbGw9IiMwMDAwMDAiIHN0cm9rZT0iIzAwMDAwMCIgc3Ryb2tlLW1pdGVybGltaXQ9IjEwIiBwb2ludGVyLWV2ZW50cz0ibm9uZSIvPjxwYXRoIGQ9Ik0gMjIwIDEzMSBMIDIyMCAxNjEiIGZpbGw9Im5vbmUiIHN0cm9rZT0iIzAwMDAwMCIgc3Ryb2tlLW1pdGVybGltaXQ9IjEwIiBwb2ludGVyLWV2ZW50cz0ibm9uZSIvPjxyZWN0IHg9IjAiIHk9IjEwMCIgd2lkdGg9IjEyMCIgaGVpZ2h0PSI2MCIgcng9IjkiIHJ5PSI5IiBmaWxsPSJub25lIiBzdHJva2U9IiMwMDAwMDAiIHBvaW50ZXItZXZlbnRzPSJub25lIi8+PGcgdHJhbnNmb3JtPSJ0cmFuc2xhdGUoMjcuNSwxMDYuNSkiPjxzd2l0Y2g+PGZvcmVpZ25PYmplY3Qgc3R5bGU9Im92ZXJmbG93OnZpc2libGU7IiBwb2ludGVyLWV2ZW50cz0iYWxsIiB3aWR0aD0iNjMiIGhlaWdodD0iNDYiIHJlcXVpcmVkRmVhdHVyZXM9Imh0dHA6Ly93d3cudzMub3JnL1RSL1NWRzExL2ZlYXR1cmUjRXh0ZW5zaWJpbGl0eSI+PGRpdiB4bWxucz0iaHR0cDovL3d3dy53My5vcmcvMTk5OS94aHRtbCIgc3R5bGU9ImRpc3BsYXk6IGlubGluZS1ibG9jazsgZm9udC1zaXplOiAxNHB4OyBmb250LWZhbWlseTogVmVyZGFuYTsgY29sb3I6IHJnYigxNzAsIDg1LCAwKTsgbGluZS1oZWlnaHQ6IDEuMjsgdmVydGljYWwtYWxpZ246IHRvcDsgd2lkdGg6IDYzcHg7IHdoaXRlLXNwYWNlOiBub3dyYXA7IHdvcmQtd3JhcDogbm9ybWFsOyB0ZXh0LWFsaWduOiBjZW50ZXI7Ij48ZGl2IHhtbG5zPSJodHRwOi8vd3d3LnczLm9yZy8xOTk5L3hodG1sIiBzdHlsZT0iZGlzcGxheTppbmxpbmUtYmxvY2s7dGV4dC1hbGlnbjppbmhlcml0O3RleHQtZGVjb3JhdGlvbjppbmhlcml0OyI+UG9pbnQgcDxiciAvPjxiciAvPjHCoCDCoCDCoCDCoCDCoDM8L2Rpdj48L2Rpdj48L2ZvcmVpZ25PYmplY3Q+PHRleHQgeD0iMzIiIHk9IjMwIiBmaWxsPSIjQUE1NTAwIiB0ZXh0LWFuY2hvcj0ibWlkZGxlIiBmb250LXNpemU9IjE0cHgiIGZvbnQtZmFtaWx5PSJWZXJkYW5hIj5bTm90IHN1cHBvcnRlZCBieSB2aWV3ZXJdPC90ZXh0Pjwvc3dpdGNoPjwvZz48cGF0aCBkPSJNIDAgMTMwIEwgMTIwIDEzMCIgZmlsbD0ibm9uZSIgc3Ryb2tlPSIjMDAwMDAwIiBzdHJva2UtbWl0ZXJsaW1pdD0iMTAiIHBvaW50ZXItZXZlbnRzPSJub25lIi8+PHBhdGggZD0iTSAxMjAgMTMwIEwgMTIwIDEzMCIgZmlsbD0ibm9uZSIgc3Ryb2tlPSIjMDAwMDAwIiBzdHJva2UtbWl0ZXJsaW1pdD0iMTAiIHBvaW50ZXItZXZlbnRzPSJub25lIi8+PHBhdGggZD0iTSAxMjAgMTMwIEwgMTIwIDEzMCBMIDEyMCAxMzAgTCAxMjAgMTMwIFoiIGZpbGw9IiMwMDAwMDAiIHN0cm9rZT0iIzAwMDAwMCIgc3Ryb2tlLW1pdGVybGltaXQ9IjEwIiBwb2ludGVyLWV2ZW50cz0ibm9uZSIvPjxwYXRoIGQ9Ik0gNjAgMTMwIEwgNjAgMTYwIiBmaWxsPSJub25lIiBzdHJva2U9IiMwMDAwMDAiIHN0cm9rZS1taXRlcmxpbWl0PSIxMCIgcG9pbnRlci1ldmVudHM9Im5vbmUiLz48cGF0aCBkPSJNIDExMCA1MCBMIDgzLjI4IDk0LjU0IiBmaWxsPSJub25lIiBzdHJva2U9IiMwMDAwMDAiIHN0cm9rZS1taXRlcmxpbWl0PSIxMCIgcG9pbnRlci1ldmVudHM9Im5vbmUiLz48cGF0aCBkPSJNIDgwLjU4IDk5LjA0IEwgODEuMTggOTEuMjQgTCA4My4yOCA5NC41NCBMIDg3LjE4IDk0Ljg0IFoiIGZpbGw9IiMwMDAwMDAiIHN0cm9rZT0iIzAwMDAwMCIgc3Ryb2tlLW1pdGVybGltaXQ9IjEwIiBwb2ludGVyLWV2ZW50cz0ibm9uZSIvPjxwYXRoIGQ9Ik0gMTcwIDUwIEwgMTk2LjMxIDk1LjQ5IiBmaWxsPSJub25lIiBzdHJva2U9IiMwMDAwMDAiIHN0cm9rZS1taXRlcmxpbWl0PSIxMCIgcG9pbnRlci1ldmVudHM9Im5vbmUiLz48cGF0aCBkPSJNIDE5OC45NCAxMDAuMDMgTCAxOTIuNDEgOTUuNzMgTCAxOTYuMzEgOTUuNDkgTCAxOTguNDYgOTIuMjIgWiIgZmlsbD0iIzAwMDAwMCIgc3Ryb2tlPSIjMDAwMDAwIiBzdHJva2UtbWl0ZXJsaW1pdD0iMTAiIHBvaW50ZXItZXZlbnRzPSJub25lIi8+PHBhdGggZD0iTSAzMCAxMTAgTCA3Ni42MiAzNS40IiBmaWxsPSJub25lIiBzdHJva2U9IiMwMDY2MDAiIHN0cm9rZS1taXRlcmxpbWl0PSIxMCIgc3Ryb2tlLWRhc2hhcnJheT0iMSAxIiBwb2ludGVyLWV2ZW50cz0ibm9uZSIvPjxwYXRoIGQ9Ik0gNzkuNDEgMzAuOTUgTCA3OC42NyAzOC43NCBMIDc2LjYyIDM1LjQgTCA3Mi43MyAzNS4wMyBaIiBmaWxsPSIjMDA2NjAwIiBzdHJva2U9IiMwMDY2MDAiIHN0cm9rZS1taXRlcmxpbWl0PSIxMCIgcG9pbnRlci1ldmVudHM9Im5vbmUiLz48ZyB0cmFuc2Zvcm09InRyYW5zbGF0ZSgzOC41LDY0LjUpIj48c3dpdGNoPjxmb3JlaWduT2JqZWN0IHN0eWxlPSJvdmVyZmxvdzp2aXNpYmxlOyIgcG9pbnRlci1ldmVudHM9ImFsbCIgd2lkdGg9IjMxIiBoZWlnaHQ9IjEwIiByZXF1aXJlZEZlYXR1cmVzPSJodHRwOi8vd3d3LnczLm9yZy9UUi9TVkcxMS9mZWF0dXJlI0V4dGVuc2liaWxpdHkiPjxkaXYgeG1sbnM9Imh0dHA6Ly93d3cudzMub3JnLzE5OTkveGh0bWwiIHN0eWxlPSJkaXNwbGF5OiBpbmxpbmUtYmxvY2s7IGZvbnQtc2l6ZTogMTBweDsgZm9udC1mYW1pbHk6IFZlcmRhbmE7IGNvbG9yOiByZ2IoMTcwLCA4NSwgMCk7IGxpbmUtaGVpZ2h0OiAxLjI7IHZlcnRpY2FsLWFsaWduOiB0b3A7IHdoaXRlLXNwYWNlOiBub3dyYXA7IHRleHQtYWxpZ246IGNlbnRlcjsiPjxkaXYgeG1sbnM9Imh0dHA6Ly93d3cudzMub3JnLzE5OTkveGh0bWwiIHN0eWxlPSJkaXNwbGF5OmlubGluZS1ibG9jazt0ZXh0LWFsaWduOmluaGVyaXQ7dGV4dC1kZWNvcmF0aW9uOmluaGVyaXQ7YmFja2dyb3VuZC1jb2xvcjojZmZmZmZmOyI+PGZvbnQgY29sb3I9IiMwMDY2MDAiIHN0eWxlPSJmb250LXNpemU6IDEwcHgiPm93bmVyPC9mb250PjwvZGl2PjwvZGl2PjwvZm9yZWlnbk9iamVjdD48dGV4dCB4PSIxNiIgeT0iMTAiIGZpbGw9IiNBQTU1MDAiIHRleHQtYW5jaG9yPSJtaWRkbGUiIGZvbnQtc2l6ZT0iMTBweCIgZm9udC1mYW1pbHk9IlZlcmRhbmEiPltOb3Qgc3VwcG9ydGVkIGJ5IHZpZXdlcl08L3RleHQ+PC9zd2l0Y2g+PC9nPjxwYXRoIGQ9Ik0gMjUwIDExMCBMIDIwMy4zOCAzNS40IiBmaWxsPSJub25lIiBzdHJva2U9IiMwMDY2MDAiIHN0cm9rZS1taXRlcmxpbWl0PSIxMCIgc3Ryb2tlLWRhc2hhcnJheT0iMSAxIiBwb2ludGVyLWV2ZW50cz0ibm9uZSIvPjxwYXRoIGQ9Ik0gMjAwLjU5IDMwLjk1IEwgMjA3LjI3IDM1LjAzIEwgMjAzLjM4IDM1LjQgTCAyMDEuMzMgMzguNzQgWiIgZmlsbD0iIzAwNjYwMCIgc3Ryb2tlPSIjMDA2NjAwIiBzdHJva2UtbWl0ZXJsaW1pdD0iMTAiIHBvaW50ZXItZXZlbnRzPSJub25lIi8+PGcgdHJhbnNmb3JtPSJ0cmFuc2xhdGUoMjA5LjUsNjIuNSkiPjxzd2l0Y2g+PGZvcmVpZ25PYmplY3Qgc3R5bGU9Im92ZXJmbG93OnZpc2libGU7IiBwb2ludGVyLWV2ZW50cz0iYWxsIiB3aWR0aD0iMzEiIGhlaWdodD0iMTQiIHJlcXVpcmVkRmVhdHVyZXM9Imh0dHA6Ly93d3cudzMub3JnL1RSL1NWRzExL2ZlYXR1cmUjRXh0ZW5zaWJpbGl0eSI+PGRpdiB4bWxucz0iaHR0cDovL3d3dy53My5vcmcvMTk5OS94aHRtbCIgc3R5bGU9ImRpc3BsYXk6IGlubGluZS1ibG9jazsgZm9udC1zaXplOiAxNHB4OyBmb250LWZhbWlseTogVmVyZGFuYTsgY29sb3I6IHJnYigxNzAsIDg1LCAwKTsgbGluZS1oZWlnaHQ6IDEuMjsgdmVydGljYWwtYWxpZ246IHRvcDsgd2hpdGUtc3BhY2U6IG5vd3JhcDsgdGV4dC1hbGlnbjogY2VudGVyOyI+PGRpdiB4bWxucz0iaHR0cDovL3d3dy53My5vcmcvMTk5OS94aHRtbCIgc3R5bGU9ImRpc3BsYXk6aW5saW5lLWJsb2NrO3RleHQtYWxpZ246aW5oZXJpdDt0ZXh0LWRlY29yYXRpb246aW5oZXJpdDtiYWNrZ3JvdW5kLWNvbG9yOiNmZmZmZmY7Ij48Zm9udCBjb2xvcj0iIzAwNjYwMCIgc3R5bGU9ImZvbnQtc2l6ZTogMTBweCI+b3duZXI8L2ZvbnQ+PC9kaXY+PC9kaXY+PC9mb3JlaWduT2JqZWN0Pjx0ZXh0IHg9IjE2IiB5PSIxNCIgZmlsbD0iI0FBNTUwMCIgdGV4dC1hbmNob3I9Im1pZGRsZSIgZm9udC1zaXplPSIxNHB4IiBmb250LWZhbWlseT0iVmVyZGFuYSI+W05vdCBzdXBwb3J0ZWQgYnkgdmlld2VyXTwvdGV4dD48L3N3aXRjaD48L2c+PC9nPjwvc3ZnPg=="
     ]
    }
   },
   "cell_type": "markdown",
   "metadata": {
    "slideshow": {
     "slide_type": "fragment"
    }
   },
   "source": [
    "- The invariant is weakened, e.g.:\n",
    "```Java\n",
    "    void checkInvariant() {\n",
    "        assert start != null && end != null;\n",
    "    }\n",
    "```\n",
    "- New points are created on initialization of a line:\n",
    "```Java\n",
    "    Line(Point s, Point e) {\n",
    "        assert s.x != e.x || s.y != e.y;\n",
    "        start = Point(s.x, s.y); end = Point(e.x, e.y);\n",
    "        checkInvariant();\n",
    "    }\n",
    "```\n",
    "\n",
    "<div style=\"margin: 0 auto\" class=\"code-img-pair-container\">\n",
    "  <div style=\"width: 60%\">\n",
    "\n",
    "In the latter case, the newly created points are being _owned_ by the line. In general, every object is owned by another object, resulting in a hierarchical ownership structure, where the main program is an object that is not owned. We think of every object having a hidden `owner` field. Ownership can change at run-time.\n",
    "\n",
    "[Rust](https://doc.rust-lang.org/book/second-edition/ch04-01-what-is-ownership.html) and [Swift](https://developer.apple.com/library/content/documentation/Swift/Conceptual/Swift_Programming_Language/AutomaticReferenceCounting.html) support forms of ownership, although for different reasons. Ownership can be traced statically through types, such that no overhead occurs at run-time.  </div>\n",
    "  <div style = \"border-left:50px solid white\">\n",
    "    <img src=\"attachment:PointOwner.svg\"/>\n",
    "  </div>\n",
    "</div>\n",
    "<span></span>"
   ]
  },
  {
   "cell_type": "markdown",
   "metadata": {
    "slideshow": {
     "slide_type": "slide"
    }
   },
   "source": [
    "## Multi-Object Class Invariant\n",
    "\n",
    "The rule for the correctness of classes applies also if a class invariant mentions only the fields of the current object and the fields of owned objects, also recursively: the class invariant will hold at entry to each method call if it did hold at the exit of each call and the initialization. \n",
    "\n",
    "While ownership imposes a hierarchical structure on all objects, this does not preclude arbitrary structures among objects, as in the next example."
   ]
  },
  {
   "cell_type": "markdown",
   "metadata": {
    "slideshow": {
     "slide_type": "slide"
    }
   },
   "source": [
    "## Observer Pattern\n",
    "\n",
    "The Observer Pattern is one of the 23 _design patterns_ of [Design Patterns:\n",
    "Elements of Reusable Object-Oriented Software](https://en.wikipedia.org/wiki/Design_Patterns) by Gamma, Helm, Johnson, Vlissides, 1994. Code for the pattern can be found in the standard [Java](https://docs.oracle.com/javase/8/docs/api/java/util/Observer.html) and [.Net](https://msdn.microsoft.com/en-us/library/ff648108.aspx) libraries; templates for [Python](http://python-3-patterns-idioms-test.readthedocs.io/en/latest/Observer.html) exist as well. Examples are:\n",
    "- a user interface of a drawing or text editor, in which one _model_ has several _views:_ as soon as the model changes, all views have to be notified,\n",
    "- an auction system in which one item is being observed by several bidders: as soon as there is a new bid on the item, all bidders have to be notified.\n",
    "\n",
    "In the Java example below, a _subject_ has a state, here just an integer. One _observer_ is interested in the whole state and another observed only if that integer is even."
   ]
  },
  {
   "cell_type": "code",
   "execution_count": null,
   "metadata": {
    "slideshow": {
     "slide_type": "subslide"
    }
   },
   "outputs": [],
   "source": [
    "import java.util.*;\n",
    "interface Observer {\n",
    "    void update();\n",
    "}\n",
    "class Subject {\n",
    "    int state = 0;\n",
    "    Set<Observer> obs = new HashSet<Observer>();\n",
    "    void attach(Observer o) {\n",
    "        obs.add(o);\n",
    "    }\n",
    "    void notifyObservers() {\n",
    "        for (Observer o: obs) o.update();\n",
    "    }\n",
    "    void modify() {\n",
    "        state += 1;\n",
    "        notifyObservers();\n",
    "    }\n",
    "}\n",
    "class ObserveAll implements Observer{\n",
    "    int state;\n",
    "    Subject sub;\n",
    "    ObserveAll(Subject s) {\n",
    "        sub = s; state = s.state;\n",
    "    }\n",
    "    public void update() {\n",
    "        state = sub.state;\n",
    "        System.out.println(\"state is \" + state);\n",
    "    }\n",
    "}\n",
    "class ObserveEven implements Observer {\n",
    "    boolean even;\n",
    "    Subject sub;\n",
    "    ObserveEven(Subject s) {\n",
    "        sub = s; even = s.state % 2 == 0;\n",
    "    }\n",
    "    public void update() {\n",
    "        even = sub.state % 2 == 0;\n",
    "        if (even) System.out.println(\"state is even\");\n",
    "    }\n",
    "}"
   ]
  },
  {
   "cell_type": "code",
   "execution_count": null,
   "metadata": {},
   "outputs": [],
   "source": [
    "Subject sub = new Subject();\n",
    "Observer oa = new ObserveAll(sub);\n",
    "Observer oe = new ObserveEven(sub);\n",
    "sub.attach(oa); sub.attach(oe);\n",
    "sub.modify(); sub.modify(); sub.modify(); sub.modify();"
   ]
  },
  {
   "cell_type": "markdown",
   "metadata": {
    "slideshow": {
     "slide_type": "subslide"
    }
   },
   "source": [
    "As a set of observers is used, there is no guarantee in which order the observers are being notified.\n",
    "\n",
    "Intuitively, establishing\n",
    "- `oa.state == sub.state` is the goal of `oa`,\n",
    "- `oe.even == (sub.state % 2 == 0)` is the goal of `oe`.\n",
    "\n",
    "However, \n",
    "- `even == (sub.state % 2 == 0)`is not an invariant of `oa`, as at entry to `update`, it does not hold\n",
    "- something equivalent cannot be the invariant of `sub`, as `sub` does \"not know\" the fields of all of its observers.\n",
    "\n",
    "To express the goal as an invariant, a third class needs to be introduced:"
   ]
  },
  {
   "cell_type": "code",
   "execution_count": null,
   "metadata": {},
   "outputs": [],
   "source": [
    "class Controller {\n",
    "    Subject sub = new Subject();\n",
    "    ObserveAll oa = new ObserveAll(sub);\n",
    "    ObserveEven oe = new ObserveEven(sub);\n",
    "    void checkInvariant() {\n",
    "        assert this.oa.state == this.sub.state;\n",
    "        assert this.oe.even == (this.sub.state % 2 == 0);\n",
    "    }\n",
    "    Controller() {\n",
    "        sub.attach(oa); sub.attach(oe); checkInvariant();\n",
    "    }\n",
    "    void modify() {sub.modify(); checkInvariant();}\n",
    "}\n",
    "Controller c = new Controller();\n",
    "c.modify(); c.modify(); c.modify(); c.modify();"
   ]
  },
  {
   "attachments": {
    "Facade.svg": {
     "image/svg+xml": [
      "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"
     ]
    }
   },
   "cell_type": "markdown",
   "metadata": {
    "slideshow": {
     "slide_type": "slide"
    }
   },
   "source": [
    "## Facade Pattern\n",
    "\n",
    "<div style=\"margin: 0 auto\" class=\"code-img-pair-container\">\n",
    "  <div style=\"width: 60%\">\n",
    "\n",
    "Above program is also an instance of the _Facade Pattern:_ users (\"clients\") don't call classes directly, but through a Facade class. The class invariant of Facade may involve the \"hidden\" class, implying that the objects of those classes are owned by the Facade. The role of the Facade is to maintain that invariant.\n",
    "  </div>\n",
    "  <div style = \"border-left:50px solid white\">\n",
    "    <img src=\"attachment:Facade.svg\"/>\n",
    "  </div>\n",
    "</div>\n",
    "<span></span>\n"
   ]
  }
 ],
 "metadata": {
  "celltoolbar": "Slideshow",
  "kernelspec": {
   "display_name": "Java",
   "language": "java",
   "name": "ijava"
  },
  "language_info": {
   "codemirror_mode": "java",
   "file_extension": ".java",
   "mimetype": "text/x-java-source",
   "name": "Java",
   "pygments_lexer": "java",
   "version": "9+181"
  },
  "livereveal": {
   "height": "900",
   "history": true,
   "margin": "0.01",
   "progress": true,
   "scroll": true,
   "start_slideshow_at": "selected",
   "theme": "night",
   "width": "1440"
  }
 },
 "nbformat": 4,
 "nbformat_minor": 2
}
