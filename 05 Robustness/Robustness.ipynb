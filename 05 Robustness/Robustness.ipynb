{
 "cells": [
  {
   "cell_type": "markdown",
   "metadata": {
    "slideshow": {
     "slide_type": "slide"
    }
   },
   "source": [
    "---\n",
    "\n",
    "# Robustness\n",
    "### [Emil Sekerinski](http://www.cas.mcmaster.ca/~emil/), McMaster University, Fall 2019\n",
    "\n",
    "---"
   ]
  },
  {
   "cell_type": "markdown",
   "metadata": {
    "slideshow": {
     "slide_type": "slide"
    }
   },
   "source": [
    "## Why Programs Fail\n",
    "\n",
    "The specification may be faulty:\n",
    "- It is incomplete or inconsistent\n",
    "- It does not capture the user's intent\n",
    "\n",
    "The program design may be faulty:\n",
    "- It has a logical error, like a forgotten case or synchronization error\n",
    "- The is based on idealized hypotheses, e.g. about integer range, available memory, processing speed\n",
    "- The program makes incorrect assumptions about other components\n",
    "\n",
    "The underlying machine may be faulty:\n",
    "- The compilation is faulty\n",
    "- The run-time system or library is faulty\n",
    "- The hardware fails"
   ]
  },
  {
   "attachments": {
    "Dependability.svg": {
     "image/svg+xml": [
      "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"
     ]
    }
   },
   "cell_type": "markdown",
   "metadata": {
    "slideshow": {
     "slide_type": "slide"
    }
   },
   "source": [
    "## Failure, Faults, and Errors\n",
    "\n",
    "A _failure_ is an event that causes a deviation of the program (or system in general) from its specification. The deviation itself is the _error_. The cause of the error is the _fault_ (e.g. an index computation is off by one). However, a fault does not necessarily cause an error (e.g. if a faulty procedure is never called). Errors may or may not be observable by a user and may or may not lead to a failure. If the specification allows it, a failure may lead to a _degraded mode_ in which the specification is only partially fulfilled; this is then a _partial failure_.\n",
    "\n",
    "<div style=\"margin: 0 auto\" class=\"code-img-pair-container\">\n",
    "  <div>\n",
    "    <img src=\"attachment:Dependability.svg\"/>\n",
    "  </div>\n",
    "</div>\n",
    "\n",
    "According to the taxonomy by [Avizienis, Laprie, Randell, Landwehr](https://doi.org/10.1109/TDSC.2004.2):\n",
    "- _availability:_ readiness for correct service\n",
    "- _reliability:_ continuity of correct service\n",
    "- _safety:_ absence of catastrophic consequences on the users and the environment\n",
    "- _integrity:_ absence of improper system alterations\n",
    "- _maintainability:_ ability to undergo modifications and repairs"
   ]
  },
  {
   "cell_type": "markdown",
   "metadata": {
    "slideshow": {
     "slide_type": "slide"
    }
   },
   "source": [
    "## Detecting Failures\n",
    "\n",
    "Some errors are commonly detected by the underlying machine and are indicative of a failure:\n",
    "- Indexing an array out of bounds\n",
    "- Allocating memory when none is available\n",
    "- Reading a file beyond its end\n",
    "\n",
    "Some failures can be detected by _instrumenting_ programs, e.g. in Eiffel:\n",
    "\n",
    "```Eiffel\n",
    "class STACK\n",
    "    capacity: INTEGER\n",
    "    count: INTEGER\n",
    "invariant\n",
    "    count <= capacity\n",
    "push is ...\n",
    "```\n",
    "\n",
    "Some failures are either impractical or impossible to detect, for example that\n",
    "- only a single pointer to an object exists,\n",
    "- the precondition and invariant of binary search are valid,\n",
    "- a program terminates."
   ]
  },
  {
   "cell_type": "markdown",
   "metadata": {
    "slideshow": {
     "slide_type": "slide"
    }
   },
   "source": [
    "## Responding to Detected Failures\n",
    "\n",
    "Even with best efforts in preventing failures, the _possibility of a failure in a complex system remains_. We need a systematic approach to dealing with failures. Consider the statement\n",
    "\n",
    "```\n",
    "S1 ; S2 ; S3 ; S4\n",
    "```\n",
    "\n",
    "where `S1`, `S3` may detect a failure; in that case, `T` should be executed instead. One approach is to test if for an expected error explicitly _a priori_ or an observed error _a posteriori:_\n",
    "\n",
    "<div style=\"display:table;margin-top:auto\">\n",
    "  <div style = \"display:table-cell; vertical-align:top\">\n",
    "\n",
    "```\n",
    "if S1 possible then\n",
    "    S1 ; S2\n",
    "    if S3 possible then\n",
    "        S3 ; S4\n",
    "    else T\n",
    "else T\n",
    "```\n",
    "\n",
    "  </div>\n",
    "  <div style = \"display:table-cell; border-left:100px solid white; vertical-align:top\">\n",
    "\n",
    "```\n",
    "S1\n",
    "if S1 successful then\n",
    "    S2 ; S3\n",
    "    if S3 successful then\n",
    "        S4\n",
    "    else T\n",
    "else T\n",
    "```\n",
    "\n",
    "  </div>\n",
    "</div>\n",
    "<span></span>\n",
    "\n",
    "A posteriori detection is [common under C and Unix](http://man7.org/linux/man-pages/man3/errno.3.html). The alternative is a dedicate control structure for _exception handling:_\n",
    "\n",
    "```\n",
    "try\n",
    "    S1 ; S2 ; S3 ; S4\n",
    "catch\n",
    "    T\n",
    "```"
   ]
  },
  {
   "cell_type": "markdown",
   "metadata": {
    "slideshow": {
     "slide_type": "subslide"
    }
   },
   "source": [
    "With proper exception handling, no additional variables and control structures are interspersed; the original program structure remains visible:\n",
    "\n",
    "<div style=\"display:table\">\n",
    "  <div style = \"display:table-cell;vertical-align:top\">\n",
    "\n",
    "```C++\n",
    "f = fopen(filename, \"r\");\n",
    "if (f == NULL) {\n",
    "    ... treat error\n",
    "} else {\n",
    "    ... read file, checking for failure\n",
    "    fclose(f);\n",
    "}\n",
    "```\n",
    "\n",
    "  </div>\n",
    "  <div style = \"display:table-cell; border-left:100px solid white; vertical-align:top\">\n",
    "\n",
    "```C++\n",
    "try {\n",
    "    f = fopen(filename, \"r\");\n",
    "    ... read file, possibly failing\n",
    "    fclose(f);\n",
    "} catch {\n",
    "    ... treat error\n",
    "}\n",
    "```\n",
    "\n",
    "  </div>\n",
    "</div>\n",
    "<span></span>"
   ]
  },
  {
   "cell_type": "markdown",
   "metadata": {
    "slideshow": {
     "slide_type": "slide"
    }
   },
   "source": [
    "As an example, consider Monte Carlo Integration in Python: function `f` is evaluated randomly, which may lead to an arithmetic exception:"
   ]
  },
  {
   "cell_type": "code",
   "execution_count": 1,
   "metadata": {},
   "outputs": [
    {
     "data": {
      "text/plain": [
       "-0.4"
      ]
     },
     "execution_count": 1,
     "metadata": {},
     "output_type": "execute_result"
    }
   ],
   "source": [
    "import random\n",
    "\n",
    "def area(f, a, b, l, u, n):\n",
    "    c = 0\n",
    "    for i in range(n):\n",
    "        try:\n",
    "            x = random.uniform(a, b)\n",
    "            y = random.uniform(l, u)\n",
    "            if 0 <= y <= f(x):\n",
    "                c = c + 1\n",
    "            elif f(x) <= y <= 0:\n",
    "                c = c - 1\n",
    "        except:\n",
    "            pass\n",
    "    return (u - l) * (b - a) * c / n\n",
    "\n",
    "def reciprocal(x): return 1 / x\n",
    "\n",
    "area(reciprocal, -1, 1, -1000, 1000, 10000)"
   ]
  },
  {
   "cell_type": "markdown",
   "metadata": {},
   "source": [
    "Here, an exception is “rare and undesired”, but possible. The exception handler does nothing, but the quality of the result is affected. "
   ]
  },
  {
   "cell_type": "markdown",
   "metadata": {
    "slideshow": {
     "slide_type": "slide"
    }
   },
   "source": [
    "Exception handling\n",
    "- allows dealing with unanticipated failures that result from faults in the design,\n",
    "- is useful for _rare or undesired cases_, that would otherwise obstruct the original design, e.g. when operating on files, in floating point computations that may overflow or underflow,\n",
    "- allows for _imperfections_ during the design process, supporting _extension_ and _contraction_, e.g. [MS Developer Documentation for .NET](https://docs.microsoft.com/en-us/dotnet/api/system.notimplementedexception):\n",
    "```C#\n",
    "static void FutureFeature()\n",
    "{\n",
    "   // Not developed yet.\n",
    "   throw new NotImplementedException();\n",
    "}\n",
    "```\n",
    "- is more efficient if a priori tests require substantial overhead, e.g. testing arithmetic addition for possible overflow requires a subtraction, which means doubling the number of operations in numerical computations.\n",
    "- is needed when the underlying machine fails and there no means to test for that a priory or a posteriori, e.g when a procedure call leads to a call stack overflow, when a transient hardware failure occurs.\n",
    "\n",
    "Exception handling allows these cases to be treated uniformly."
   ]
  },
  {
   "attachments": {
    "RaiseX.svg": {
     "image/svg+xml": [
      "PD94bWwgdmVyc2lvbj0iMS4wIiBlbmNvZGluZz0iVVRGLTgiPz4KPCFET0NUWVBFIHN2ZyBQVUJMSUMgIi0vL1czQy8vRFREIFNWRyAxLjEvL0VOIiAiaHR0cDovL3d3dy53My5vcmcvR3JhcGhpY3MvU1ZHLzEuMS9EVEQvc3ZnMTEuZHRkIj4KPHN2ZyB4bWxucz0iaHR0cDovL3d3dy53My5vcmcvMjAwMC9zdmciIHhtbG5zOnhsaW5rPSJodHRwOi8vd3d3LnczLm9yZy8xOTk5L3hsaW5rIiB2ZXJzaW9uPSIxLjEiIHdpZHRoPSIxODFweCIgaGVpZ2h0PSIxMjFweCIgdmlld0JveD0iLTAuNSAtMC41IDE4MSAxMjEiIGNvbnRlbnQ9IiZsdDtteGZpbGUgaG9zdD0mcXVvdDtDaHJvbWUmcXVvdDsgbW9kaWZpZWQ9JnF1b3Q7MjAxOS0xMC0yOFQwMTo1ODozNy45MTRaJnF1b3Q7IGFnZW50PSZxdW90O01vemlsbGEvNS4wIChNYWNpbnRvc2g7IEludGVsIE1hYyBPUyBYIDEwXzEzXzYpIEFwcGxlV2ViS2l0LzUzNy4zNiAoS0hUTUwsIGxpa2UgR2Vja28pIENocm9tZS83OC4wLjM5MDQuNzAgU2FmYXJpLzUzNy4zNiZxdW90OyB2ZXJzaW9uPSZxdW90OzEyLjEuNiZxdW90OyBldGFnPSZxdW90O05kNFZYQTdHQzlVbFd1RUZad1AwJnF1b3Q7IHR5cGU9JnF1b3Q7ZGV2aWNlJnF1b3Q7IHBhZ2VzPSZxdW90OzYmcXVvdDsmZ3Q7Jmx0O2RpYWdyYW0gaWQ9JnF1b3Q7TWswOWxSVk9SeFRtYzhJOEhBV2gmcXVvdDsmZ3Q7N1ZkTmM1c3dFUDAxUGliRGg4SDIwWEdTOXBCMk12V2h5VkZCYTlCRVJxNlF2L3JySzhFS0VOaUozU1NkSHNMQmhxZlZTdHIzZGhjRzRXeTUreUxKS3ZzbUtQQkI0TkhkSUx3ZUJNRTRtT2hmQSt3cllEUWNWMEFxR2EwZ3Z3SG03RGNnNkNHNlpoUUt4MUFKd1JWYnVXQWk4aHdTNVdCRVNyRjF6UmFDdTZ1dVNBbzlZSjRRM2tkL01xb3lQRmJrTmZoWFlHbG1WL1k5SEhraXlYTXF4VHJIOVFaQnVDaXZhbmhKckMrMEx6SkN4YllGaFRlRGNDYUZVTlhkY2pjRGJrSnJ3MWJOdXoweVd1OWJRcTVPbVJCVUV6YUVyOEh1T09aNjZoVmxHN00vdGNlWXhML1dabE5YQ25icWduQ1c1b053cWkwNExGUXpxdTlTL0MrOVBNa3VvdmRTdXJabzRLd1NsTEVEc3p0ZkQyOHpwbUMrSW9rWjNXcXBhU3hUUzQ3REM4YjVUSEFoeTdrMjB1RlZLZ2xsT2dKMkxCYzVHSE9SSzlTYVA4VG4xblFheEJQZjJPSHByaFB0QWlRYTNwSWw0MGJPMzRVU2VzOXpraGYxQVRZZ2RWeU9jdURYek9xRUFiRUVKZmZhQkNjTXh5Z0dUQmFyc20xTGVRaGxMZEdGaUJIVWVsbzdidmpXTjBqNVlmckRsK2wzbVROUktIUE9ScXdoUFJ6NjhRVDh2ZzRrWVFXMHFLOThuS1VJSXppWDlrSko4UXhkY2x0YVFLakhvNkdKNlN5ZjRzQ1NVV3FXT2FpelU5WHlnamdLN1pIbDZaMUprZkE2YnBBZlNHUDhUZ3FheEk2Q2ZHL1lrMURrOXlYaysyK1gwUEN6Z3J5dGdsQlNaUFYyMzBFTVVhZWMrTU4vVjAraUEyTG8wQU01blpvT2JhTERTVkd3cEpQY3RpTjZ2VXpYRWZiS3F4Nnh6ZGwvT2NTdjBEYWRSbEhwVkVkWTdoL00ycGVSZlh6RXJjQ09xUWRjeXR3LzFtWU9nVUQxaXdTZVZraVZpVlRraE44MEtGSnM3QnlDQzdHV0NUaGxXUkdaZ25MUzdBUVp0SFArQU0wV2s4Q0pZaHQzRTRlNHh4WHVCU3ZMdnkwNWRncXFMQngxNUZPZEIyZTEzMEM2amtZZFIwSEhVUldGbnFOU2l2V3hUMUpuZkU2M083dnV0SVNOMWVKOFZaOWFYemg1QW40dkNxYVlPTmpoN2pvR2RhYzd2U2VXYTF3SlNVRWVxSUpITWswSDRaWVpBc3FESHBINjZiWHN3cnYweHVPSlc4K2lmbS83T0oxSEhaMlAvMUxtWFQvMUY4TXJNbThjV1VPeFdCVHcxbFFZZlhidC8rNjkvd01idFg1c3Zpa3J1VFRmN2VITkh3PT0mbHQ7L2RpYWdyYW0mZ3Q7Jmx0Oy9teGZpbGUmZ3Q7Ij48ZGVmcy8+PGc+PHJlY3QgeD0iMCIgeT0iMCIgd2lkdGg9IjgwIiBoZWlnaHQ9IjMwIiByeD0iNC41IiByeT0iNC41IiBmaWxsPSIjZmZmZmZmIiBzdHJva2U9IiMwMDAwMDAiIHBvaW50ZXItZXZlbnRzPSJub25lIi8+PGcgdHJhbnNmb3JtPSJ0cmFuc2xhdGUoMzkuNSw3LjUpIj48c3dpdGNoPjxmb3JlaWduT2JqZWN0IHN0eWxlPSJvdmVyZmxvdzp2aXNpYmxlOyIgcG9pbnRlci1ldmVudHM9Im5vbmUiIHdpZHRoPSIxIiBoZWlnaHQ9IjE0IiByZXF1aXJlZEZlYXR1cmVzPSJodHRwOi8vd3d3LnczLm9yZy9UUi9TVkcxMS9mZWF0dXJlI0V4dGVuc2liaWxpdHkiPjxkaXYgeG1sbnM9Imh0dHA6Ly93d3cudzMub3JnLzE5OTkveGh0bWwiIHN0eWxlPSJkaXNwbGF5OiBpbmxpbmUtYmxvY2s7IGZvbnQtc2l6ZTogMTRweDsgZm9udC1mYW1pbHk6ICZxdW90O05vdG8gU2FucyZxdW90OzsgY29sb3I6IHJnYigyMTAsIDEwNSwgMzApOyBsaW5lLWhlaWdodDogMS4yOyB2ZXJ0aWNhbC1hbGlnbjogdG9wOyB3aWR0aDogMXB4OyB3aGl0ZS1zcGFjZTogbm93cmFwOyBvdmVyZmxvdy13cmFwOiBub3JtYWw7IHRleHQtYWxpZ246IGNlbnRlcjsiPjxkaXYgeG1sbnM9Imh0dHA6Ly93d3cudzMub3JnLzE5OTkveGh0bWwiIHN0eWxlPSJkaXNwbGF5OmlubGluZS1ibG9jazt0ZXh0LWFsaWduOmluaGVyaXQ7dGV4dC1kZWNvcmF0aW9uOmluaGVyaXQ7d2hpdGUtc3BhY2U6bm9ybWFsOyI+PGRpdiBzdHlsZT0idGV4dC1hbGlnbjogbGVmdCI+PGJyIC8+PC9kaXY+PC9kaXY+PC9kaXY+PC9mb3JlaWduT2JqZWN0Pjx0ZXh0IHg9IjAiIHk9IjE0IiBmaWxsPSIjZDI2OTFlIiB0ZXh0LWFuY2hvcj0ibWlkZGxlIiBmb250LXNpemU9IjE0cHgiIGZvbnQtZmFtaWx5PSJOb3RvIFNhbnMiPiZsdDtkaXYgc3R5bGU9InRleHQtYWxpZ246IGxlZnQiJmd0OyZsdDticiZndDsmbHQ7L2RpdiZndDs8L3RleHQ+PC9zd2l0Y2g+PC9nPjxnIHRyYW5zZm9ybT0idHJhbnNsYXRlKDI1LjUsNTIuNSkiPjxzd2l0Y2g+PGZvcmVpZ25PYmplY3Qgc3R5bGU9Im92ZXJmbG93OnZpc2libGU7IiBwb2ludGVyLWV2ZW50cz0ibm9uZSIgd2lkdGg9IjMxIiBoZWlnaHQ9IjE0IiByZXF1aXJlZEZlYXR1cmVzPSJodHRwOi8vd3d3LnczLm9yZy9UUi9TVkcxMS9mZWF0dXJlI0V4dGVuc2liaWxpdHkiPjxkaXYgeG1sbnM9Imh0dHA6Ly93d3cudzMub3JnLzE5OTkveGh0bWwiIHN0eWxlPSJkaXNwbGF5OiBpbmxpbmUtYmxvY2s7IGZvbnQtc2l6ZTogMTRweDsgZm9udC1mYW1pbHk6ICZxdW90O05vdG8gU2FucyZxdW90OzsgY29sb3I6IHJnYigyMTAsIDEwNSwgMzApOyBsaW5lLWhlaWdodDogMS4yOyB2ZXJ0aWNhbC1hbGlnbjogdG9wOyB3aWR0aDogMzNweDsgd2hpdGUtc3BhY2U6IG5vd3JhcDsgb3ZlcmZsb3ctd3JhcDogbm9ybWFsOyB0ZXh0LWFsaWduOiBjZW50ZXI7Ij48ZGl2IHhtbG5zPSJodHRwOi8vd3d3LnczLm9yZy8xOTk5L3hodG1sIiBzdHlsZT0iZGlzcGxheTppbmxpbmUtYmxvY2s7dGV4dC1hbGlnbjppbmhlcml0O3RleHQtZGVjb3JhdGlvbjppbmhlcml0O3doaXRlLXNwYWNlOm5vcm1hbDsiPjxkaXY+PGZvbnQgY29sb3I9IiM0MTY5ZTEiPnJhaXNlPC9mb250PjwvZGl2PjwvZGl2PjwvZGl2PjwvZm9yZWlnbk9iamVjdD48dGV4dCB4PSIxNiIgeT0iMTQiIGZpbGw9IiNkMjY5MWUiIHRleHQtYW5jaG9yPSJtaWRkbGUiIGZvbnQtc2l6ZT0iMTRweCIgZm9udC1mYW1pbHk9Ik5vdG8gU2FucyI+W05vdCBzdXBwb3J0ZWQgYnkgdmlld2VyXTwvdGV4dD48L3N3aXRjaD48L2c+PHJlY3QgeD0iMTAwIiB5PSI5MCIgd2lkdGg9IjgwIiBoZWlnaHQ9IjMwIiByeD0iNC41IiByeT0iNC41IiBmaWxsPSIjZmZmZmZmIiBzdHJva2U9IiMwMDAwMDAiIHN0cm9rZS1kYXNoYXJyYXk9IjMgMyIgcG9pbnRlci1ldmVudHM9Im5vbmUiLz48ZyB0cmFuc2Zvcm09InRyYW5zbGF0ZSgxMzkuNSw5Ny41KSI+PHN3aXRjaD48Zm9yZWlnbk9iamVjdCBzdHlsZT0ib3ZlcmZsb3c6dmlzaWJsZTsiIHBvaW50ZXItZXZlbnRzPSJub25lIiB3aWR0aD0iMSIgaGVpZ2h0PSIxNCIgcmVxdWlyZWRGZWF0dXJlcz0iaHR0cDovL3d3dy53My5vcmcvVFIvU1ZHMTEvZmVhdHVyZSNFeHRlbnNpYmlsaXR5Ij48ZGl2IHhtbG5zPSJodHRwOi8vd3d3LnczLm9yZy8xOTk5L3hodG1sIiBzdHlsZT0iZGlzcGxheTogaW5saW5lLWJsb2NrOyBmb250LXNpemU6IDE0cHg7IGZvbnQtZmFtaWx5OiAmcXVvdDtOb3RvIFNhbnMmcXVvdDs7IGNvbG9yOiByZ2IoMjEwLCAxMDUsIDMwKTsgbGluZS1oZWlnaHQ6IDEuMjsgdmVydGljYWwtYWxpZ246IHRvcDsgd2lkdGg6IDFweDsgd2hpdGUtc3BhY2U6IG5vd3JhcDsgb3ZlcmZsb3ctd3JhcDogbm9ybWFsOyB0ZXh0LWFsaWduOiBjZW50ZXI7Ij48ZGl2IHhtbG5zPSJodHRwOi8vd3d3LnczLm9yZy8xOTk5L3hodG1sIiBzdHlsZT0iZGlzcGxheTppbmxpbmUtYmxvY2s7dGV4dC1hbGlnbjppbmhlcml0O3RleHQtZGVjb3JhdGlvbjppbmhlcml0O3doaXRlLXNwYWNlOm5vcm1hbDsiPjxkaXYgc3R5bGU9InRleHQtYWxpZ246IGxlZnQiPjxiciAvPjwvZGl2PjwvZGl2PjwvZGl2PjwvZm9yZWlnbk9iamVjdD48dGV4dCB4PSIwIiB5PSIxNCIgZmlsbD0iI2QyNjkxZSIgdGV4dC1hbmNob3I9Im1pZGRsZSIgZm9udC1zaXplPSIxNHB4IiBmb250LWZhbWlseT0iTm90byBTYW5zIj4mbHQ7ZGl2IHN0eWxlPSJ0ZXh0LWFsaWduOiBsZWZ0IiZndDsmbHQ7YnImZ3Q7Jmx0Oy9kaXYmZ3Q7PC90ZXh0Pjwvc3dpdGNoPjwvZz48cGF0aCBkPSJNIDY3IDYwIEwgMTMwIDYwIFEgMTQwIDYwIDE0MCA3MCBMIDE0MCA4My42MyIgZmlsbD0ibm9uZSIgc3Ryb2tlPSIjMDAwMDAwIiBzdHJva2UtbWl0ZXJsaW1pdD0iMTAiIHN0cm9rZS1kYXNoYXJyYXk9IjMgMyIgcG9pbnRlci1ldmVudHM9Im5vbmUiLz48cGF0aCBkPSJNIDE0MCA4OC44OCBMIDEzNi41IDgxLjg4IEwgMTQwIDgzLjYzIEwgMTQzLjUgODEuODggWiIgZmlsbD0iIzAwMDAwMCIgc3Ryb2tlPSIjMDAwMDAwIiBzdHJva2UtbWl0ZXJsaW1pdD0iMTAiIHBvaW50ZXItZXZlbnRzPSJub25lIi8+PHBhdGggZD0iTSA0MSAzMCBMIDQxIDUwIiBmaWxsPSJub25lIiBzdHJva2U9IiMwMDAwMDAiIHN0cm9rZS1taXRlcmxpbWl0PSIxMCIgcG9pbnRlci1ldmVudHM9Im5vbmUiLz48ZyB0cmFuc2Zvcm09InRyYW5zbGF0ZSg1NS41LDMxLjUpIj48c3dpdGNoPjxmb3JlaWduT2JqZWN0IHN0eWxlPSJvdmVyZmxvdzp2aXNpYmxlOyIgcG9pbnRlci1ldmVudHM9Im5vbmUiIHdpZHRoPSIxIiBoZWlnaHQ9IjE0IiByZXF1aXJlZEZlYXR1cmVzPSJodHRwOi8vd3d3LnczLm9yZy9UUi9TVkcxMS9mZWF0dXJlI0V4dGVuc2liaWxpdHkiPjxkaXYgeG1sbnM9Imh0dHA6Ly93d3cudzMub3JnLzE5OTkveGh0bWwiIHN0eWxlPSJkaXNwbGF5OiBpbmxpbmUtYmxvY2s7IGZvbnQtc2l6ZTogMTRweDsgZm9udC1mYW1pbHk6ICZxdW90O05vdG8gU2FucyZxdW90OzsgY29sb3I6IHJnYigyMTAsIDEwNSwgMzApOyBsaW5lLWhlaWdodDogMS4yOyB2ZXJ0aWNhbC1hbGlnbjogdG9wOyB3aGl0ZS1zcGFjZTogbm93cmFwOyB0ZXh0LWFsaWduOiBjZW50ZXI7Ij48ZGl2IHhtbG5zPSJodHRwOi8vd3d3LnczLm9yZy8xOTk5L3hodG1sIiBzdHlsZT0iZGlzcGxheTppbmxpbmUtYmxvY2s7dGV4dC1hbGlnbjppbmhlcml0O3RleHQtZGVjb3JhdGlvbjppbmhlcml0O2JhY2tncm91bmQtY29sb3I6I2ZmZmZmZjsiPjxkaXY+PGJyIC8+PC9kaXY+PC9kaXY+PC9kaXY+PC9mb3JlaWduT2JqZWN0Pjx0ZXh0IHg9IjAiIHk9IjE0IiBmaWxsPSIjZDI2OTFlIiB0ZXh0LWFuY2hvcj0ibWlkZGxlIiBmb250LXNpemU9IjE0cHgiIGZvbnQtZmFtaWx5PSJOb3RvIFNhbnMiPiZsdDtkaXYmZ3Q7Jmx0O2JyJmd0OyZsdDsvZGl2Jmd0OzwvdGV4dD48L3N3aXRjaD48L2c+PHJlY3QgeD0iMCIgeT0iOTAiIHdpZHRoPSI4MCIgaGVpZ2h0PSIzMCIgcng9IjQuNSIgcnk9IjQuNSIgZmlsbD0iI2ZmZmZmZiIgc3Ryb2tlPSIjMDAwMDAwIiBwb2ludGVyLWV2ZW50cz0ibm9uZSIvPjxnIHRyYW5zZm9ybT0idHJhbnNsYXRlKDM5LjUsOTcuNSkiPjxzd2l0Y2g+PGZvcmVpZ25PYmplY3Qgc3R5bGU9Im92ZXJmbG93OnZpc2libGU7IiBwb2ludGVyLWV2ZW50cz0ibm9uZSIgd2lkdGg9IjEiIGhlaWdodD0iMTQiIHJlcXVpcmVkRmVhdHVyZXM9Imh0dHA6Ly93d3cudzMub3JnL1RSL1NWRzExL2ZlYXR1cmUjRXh0ZW5zaWJpbGl0eSI+PGRpdiB4bWxucz0iaHR0cDovL3d3dy53My5vcmcvMTk5OS94aHRtbCIgc3R5bGU9ImRpc3BsYXk6IGlubGluZS1ibG9jazsgZm9udC1zaXplOiAxNHB4OyBmb250LWZhbWlseTogJnF1b3Q7Tm90byBTYW5zJnF1b3Q7OyBjb2xvcjogcmdiKDIxMCwgMTA1LCAzMCk7IGxpbmUtaGVpZ2h0OiAxLjI7IHZlcnRpY2FsLWFsaWduOiB0b3A7IHdpZHRoOiAxcHg7IHdoaXRlLXNwYWNlOiBub3dyYXA7IG92ZXJmbG93LXdyYXA6IG5vcm1hbDsgdGV4dC1hbGlnbjogY2VudGVyOyI+PGRpdiB4bWxucz0iaHR0cDovL3d3dy53My5vcmcvMTk5OS94aHRtbCIgc3R5bGU9ImRpc3BsYXk6aW5saW5lLWJsb2NrO3RleHQtYWxpZ246aW5oZXJpdDt0ZXh0LWRlY29yYXRpb246aW5oZXJpdDt3aGl0ZS1zcGFjZTpub3JtYWw7Ij48ZGl2IHN0eWxlPSJ0ZXh0LWFsaWduOiBsZWZ0Ij48YnIgLz48L2Rpdj48L2Rpdj48L2Rpdj48L2ZvcmVpZ25PYmplY3Q+PHRleHQgeD0iMCIgeT0iMTQiIGZpbGw9IiNkMjY5MWUiIHRleHQtYW5jaG9yPSJtaWRkbGUiIGZvbnQtc2l6ZT0iMTRweCIgZm9udC1mYW1pbHk9Ik5vdG8gU2FucyI+Jmx0O2RpdiBzdHlsZT0idGV4dC1hbGlnbjogbGVmdCImZ3Q7Jmx0O2JyJmd0OyZsdDsvZGl2Jmd0OzwvdGV4dD48L3N3aXRjaD48L2c+PC9nPjwvc3ZnPg=="
     ]
    },
    "SkipX.svg": {
     "image/svg+xml": [
      "PD94bWwgdmVyc2lvbj0iMS4wIiBlbmNvZGluZz0iVVRGLTgiPz4KPCFET0NUWVBFIHN2ZyBQVUJMSUMgIi0vL1czQy8vRFREIFNWRyAxLjEvL0VOIiAiaHR0cDovL3d3dy53My5vcmcvR3JhcGhpY3MvU1ZHLzEuMS9EVEQvc3ZnMTEuZHRkIj4KPHN2ZyB4bWxucz0iaHR0cDovL3d3dy53My5vcmcvMjAwMC9zdmciIHhtbG5zOnhsaW5rPSJodHRwOi8vd3d3LnczLm9yZy8xOTk5L3hsaW5rIiB2ZXJzaW9uPSIxLjEiIHdpZHRoPSIxODFweCIgaGVpZ2h0PSIxMjFweCIgdmlld0JveD0iLTAuNSAtMC41IDE4MSAxMjEiIGNvbnRlbnQ9IiZsdDtteGZpbGUgaG9zdD0mcXVvdDtDaHJvbWUmcXVvdDsgbW9kaWZpZWQ9JnF1b3Q7MjAxOS0xMC0yOFQwMTo1NDo0NS4xMjFaJnF1b3Q7IGFnZW50PSZxdW90O01vemlsbGEvNS4wIChNYWNpbnRvc2g7IEludGVsIE1hYyBPUyBYIDEwXzEzXzYpIEFwcGxlV2ViS2l0LzUzNy4zNiAoS0hUTUwsIGxpa2UgR2Vja28pIENocm9tZS83OC4wLjM5MDQuNzAgU2FmYXJpLzUzNy4zNiZxdW90OyB2ZXJzaW9uPSZxdW90OzEyLjEuNiZxdW90OyBldGFnPSZxdW90OzFhWVRlaGV4cFJZTTdNVllNcHY1JnF1b3Q7IHR5cGU9JnF1b3Q7ZGV2aWNlJnF1b3Q7IHBhZ2VzPSZxdW90OzYmcXVvdDsmZ3Q7Jmx0O2RpYWdyYW0gaWQ9JnF1b3Q7ZHBmSHpuT09Jak4ycnlCWnc2UzcmcXVvdDsmZ3Q7N1ZaTGo1c3dFUDQxSExmQ0dOTE5NY251dHBkV2xYSm9lM1JnQWxZTXBzWkpTSDk5YlJqelRGYVJ1cXA2V0E2Si9jM1RNNThIUExySjYwK0tsZGtYbVlEd0FqK3BQZnJrQmNGanNEUy9Gcmkwd01md3NRVlN4Wk1XSWoydzViOEJRUi9SSTArZ0dpbHFLWVhtNVJpTVpWRkFyRWNZVTBxZXgycDdLY1pSUzViQ0ROakdUTXpSN3p6UkdSNHI4bnY4TS9BMGM1R0pqNUlkaXcrcGtzY0M0M2tCM1RkUEs4Nlo4NFg2VmNZU2VSNUE5Tm1qR3lXbGJsZDV2UUZoUyt2SzF0cTkzSkIyZVNzbzlEMEdRV3R3WXVJSUx1T0ZNS2JyaEo5c2Z2cUNOVm44T3RxazFocHEvY0FFVHd1UHJveUdnTDN1cFdhVjRuL2paYWVtaU1tbGNlM1FZQlFsYUdvSE5qdGl4T2VNYTlpV0xMYlNzNkdhd1RLZEN4VHZ1UkFiS2FScWJGMmw2VHBWTE9HbUFrNVd5QUtzdWl3MGNvMkV1QitZSjhGaVNhd2VudTRwTmk1QW9lSUx5N213ZFA0cXRUUTViMWxSZFFjNGdUSjF1ZGtEMG5YV1hCaVFPV2gxTVNwb0VDeVFESGhaSE12T0ErWWhsQTFJUnhGanlQVzBjOXozMnl5dzVkZmJUOS9iLzkrMW40VC9ydi9oemY3Yk0xOGxnQlU4VkUwWmJmOUpXTmJEL3B1UjdDcmFnelFraXlXUU9VK3FBeThIekdpRDNxQUdGTW5Lam5iYkdjR3Fpc2RqTm5TajFEY2J3WFlnMXQwd3ZzYVNTaXQ1Z0lIRWI1NU80Z1kvZVowQlExYjVjMWF0VmxIVU9KMnhDbXF1ZjloMFAwUzQrNG5SMnFORE1ubEhWZktvWWhqTjdUdFlObUJSZElWRkRsTWdtT2FuY2NScjFNSUkzeVJ2Q09KWVQ4WWtYaTdISHRyYzBXajRQcHI0b2Y3a010Q0pJODFVQ25ybXFDRjZkK3E3dUIrOXo3Ni9tMzBKcTdJdTNUY1loSFE2Q0YzdjMzNFFtbTMvamRWeXAvK09wYzkvQUE9PSZsdDsvZGlhZ3JhbSZndDsmbHQ7L214ZmlsZSZndDsiPjxkZWZzLz48Zz48cmVjdCB4PSIwIiB5PSIwIiB3aWR0aD0iODAiIGhlaWdodD0iMzAiIHJ4PSI0LjUiIHJ5PSI0LjUiIGZpbGw9IiNmZmZmZmYiIHN0cm9rZT0iIzAwMDAwMCIgcG9pbnRlci1ldmVudHM9Im5vbmUiLz48ZyB0cmFuc2Zvcm09InRyYW5zbGF0ZSgzOS41LDcuNSkiPjxzd2l0Y2g+PGZvcmVpZ25PYmplY3Qgc3R5bGU9Im92ZXJmbG93OnZpc2libGU7IiBwb2ludGVyLWV2ZW50cz0ibm9uZSIgd2lkdGg9IjEiIGhlaWdodD0iMTQiIHJlcXVpcmVkRmVhdHVyZXM9Imh0dHA6Ly93d3cudzMub3JnL1RSL1NWRzExL2ZlYXR1cmUjRXh0ZW5zaWJpbGl0eSI+PGRpdiB4bWxucz0iaHR0cDovL3d3dy53My5vcmcvMTk5OS94aHRtbCIgc3R5bGU9ImRpc3BsYXk6IGlubGluZS1ibG9jazsgZm9udC1zaXplOiAxNHB4OyBmb250LWZhbWlseTogJnF1b3Q7Tm90byBTYW5zJnF1b3Q7OyBjb2xvcjogcmdiKDIxMCwgMTA1LCAzMCk7IGxpbmUtaGVpZ2h0OiAxLjI7IHZlcnRpY2FsLWFsaWduOiB0b3A7IHdpZHRoOiAxcHg7IHdoaXRlLXNwYWNlOiBub3dyYXA7IG92ZXJmbG93LXdyYXA6IG5vcm1hbDsgdGV4dC1hbGlnbjogY2VudGVyOyI+PGRpdiB4bWxucz0iaHR0cDovL3d3dy53My5vcmcvMTk5OS94aHRtbCIgc3R5bGU9ImRpc3BsYXk6aW5saW5lLWJsb2NrO3RleHQtYWxpZ246aW5oZXJpdDt0ZXh0LWRlY29yYXRpb246aW5oZXJpdDt3aGl0ZS1zcGFjZTpub3JtYWw7Ij48ZGl2IHN0eWxlPSJ0ZXh0LWFsaWduOiBsZWZ0Ij48YnIgLz48L2Rpdj48L2Rpdj48L2Rpdj48L2ZvcmVpZ25PYmplY3Q+PHRleHQgeD0iMCIgeT0iMTQiIGZpbGw9IiNkMjY5MWUiIHRleHQtYW5jaG9yPSJtaWRkbGUiIGZvbnQtc2l6ZT0iMTRweCIgZm9udC1mYW1pbHk9Ik5vdG8gU2FucyI+Jmx0O2RpdiBzdHlsZT0idGV4dC1hbGlnbjogbGVmdCImZ3Q7Jmx0O2JyJmd0OyZsdDsvZGl2Jmd0OzwvdGV4dD48L3N3aXRjaD48L2c+PHJlY3QgeD0iMCIgeT0iOTAiIHdpZHRoPSI4MCIgaGVpZ2h0PSIzMCIgcng9IjQuNSIgcnk9IjQuNSIgZmlsbD0iI2ZmZmZmZiIgc3Ryb2tlPSIjMDAwMDAwIiBwb2ludGVyLWV2ZW50cz0ibm9uZSIvPjxnIHRyYW5zZm9ybT0idHJhbnNsYXRlKDM5LjUsOTcuNSkiPjxzd2l0Y2g+PGZvcmVpZ25PYmplY3Qgc3R5bGU9Im92ZXJmbG93OnZpc2libGU7IiBwb2ludGVyLWV2ZW50cz0ibm9uZSIgd2lkdGg9IjEiIGhlaWdodD0iMTQiIHJlcXVpcmVkRmVhdHVyZXM9Imh0dHA6Ly93d3cudzMub3JnL1RSL1NWRzExL2ZlYXR1cmUjRXh0ZW5zaWJpbGl0eSI+PGRpdiB4bWxucz0iaHR0cDovL3d3dy53My5vcmcvMTk5OS94aHRtbCIgc3R5bGU9ImRpc3BsYXk6IGlubGluZS1ibG9jazsgZm9udC1zaXplOiAxNHB4OyBmb250LWZhbWlseTogJnF1b3Q7Tm90byBTYW5zJnF1b3Q7OyBjb2xvcjogcmdiKDIxMCwgMTA1LCAzMCk7IGxpbmUtaGVpZ2h0OiAxLjI7IHZlcnRpY2FsLWFsaWduOiB0b3A7IHdpZHRoOiAxcHg7IHdoaXRlLXNwYWNlOiBub3dyYXA7IG92ZXJmbG93LXdyYXA6IG5vcm1hbDsgdGV4dC1hbGlnbjogY2VudGVyOyI+PGRpdiB4bWxucz0iaHR0cDovL3d3dy53My5vcmcvMTk5OS94aHRtbCIgc3R5bGU9ImRpc3BsYXk6aW5saW5lLWJsb2NrO3RleHQtYWxpZ246aW5oZXJpdDt0ZXh0LWRlY29yYXRpb246aW5oZXJpdDt3aGl0ZS1zcGFjZTpub3JtYWw7Ij48ZGl2IHN0eWxlPSJ0ZXh0LWFsaWduOiBsZWZ0Ij48YnIgLz48L2Rpdj48L2Rpdj48L2Rpdj48L2ZvcmVpZ25PYmplY3Q+PHRleHQgeD0iMCIgeT0iMTQiIGZpbGw9IiNkMjY5MWUiIHRleHQtYW5jaG9yPSJtaWRkbGUiIGZvbnQtc2l6ZT0iMTRweCIgZm9udC1mYW1pbHk9Ik5vdG8gU2FucyI+Jmx0O2RpdiBzdHlsZT0idGV4dC1hbGlnbjogbGVmdCImZ3Q7Jmx0O2JyJmd0OyZsdDsvZGl2Jmd0OzwvdGV4dD48L3N3aXRjaD48L2c+PHBhdGggZD0iTSA0MCAzMCBMIDQwIDgyLjYzIiBmaWxsPSJub25lIiBzdHJva2U9IiMwMDAwMDAiIHN0cm9rZS1taXRlcmxpbWl0PSIxMCIgcG9pbnRlci1ldmVudHM9Im5vbmUiLz48cGF0aCBkPSJNIDQwIDg3Ljg4IEwgMzYuNSA4MC44OCBMIDQwIDgyLjYzIEwgNDMuNSA4MC44OCBaIiBmaWxsPSIjMDAwMDAwIiBzdHJva2U9IiMwMDAwMDAiIHN0cm9rZS1taXRlcmxpbWl0PSIxMCIgcG9pbnRlci1ldmVudHM9Im5vbmUiLz48ZyB0cmFuc2Zvcm09InRyYW5zbGF0ZSgyNi41LDUyLjUpIj48c3dpdGNoPjxmb3JlaWduT2JqZWN0IHN0eWxlPSJvdmVyZmxvdzp2aXNpYmxlOyIgcG9pbnRlci1ldmVudHM9Im5vbmUiIHdpZHRoPSIyNiIgaGVpZ2h0PSIxNCIgcmVxdWlyZWRGZWF0dXJlcz0iaHR0cDovL3d3dy53My5vcmcvVFIvU1ZHMTEvZmVhdHVyZSNFeHRlbnNpYmlsaXR5Ij48ZGl2IHhtbG5zPSJodHRwOi8vd3d3LnczLm9yZy8xOTk5L3hodG1sIiBzdHlsZT0iZGlzcGxheTogaW5saW5lLWJsb2NrOyBmb250LXNpemU6IDEwcHg7IGZvbnQtZmFtaWx5OiAmcXVvdDtOb3RvIFNhbnMmcXVvdDs7IGNvbG9yOiByZ2IoMTcwLCA4NSwgMCk7IGxpbmUtaGVpZ2h0OiAxLjI7IHZlcnRpY2FsLWFsaWduOiB0b3A7IHdoaXRlLXNwYWNlOiBub3dyYXA7IHRleHQtYWxpZ246IGNlbnRlcjsiPjxkaXYgeG1sbnM9Imh0dHA6Ly93d3cudzMub3JnLzE5OTkveGh0bWwiIHN0eWxlPSJkaXNwbGF5OmlubGluZS1ibG9jazt0ZXh0LWFsaWduOmluaGVyaXQ7dGV4dC1kZWNvcmF0aW9uOmluaGVyaXQ7YmFja2dyb3VuZC1jb2xvcjojZmZmZmZmOyI+PGZvbnQgc3R5bGU9ImZvbnQtc2l6ZTogMTRweCIgY29sb3I9IiM0MTY5ZTEiPnNraXA8L2ZvbnQ+PC9kaXY+PC9kaXY+PC9mb3JlaWduT2JqZWN0Pjx0ZXh0IHg9IjEzIiB5PSIxMiIgZmlsbD0iI0FBNTUwMCIgdGV4dC1hbmNob3I9Im1pZGRsZSIgZm9udC1zaXplPSIxMHB4IiBmb250LWZhbWlseT0iTm90byBTYW5zIj5bTm90IHN1cHBvcnRlZCBieSB2aWV3ZXJdPC90ZXh0Pjwvc3dpdGNoPjwvZz48cmVjdCB4PSIxMDAiIHk9Ijg5IiB3aWR0aD0iODAiIGhlaWdodD0iMzAiIHJ4PSI0LjUiIHJ5PSI0LjUiIGZpbGw9IiNmZmZmZmYiIHN0cm9rZT0iIzAwMDAwMCIgc3Ryb2tlLWRhc2hhcnJheT0iMyAzIiBwb2ludGVyLWV2ZW50cz0ibm9uZSIvPjxnIHRyYW5zZm9ybT0idHJhbnNsYXRlKDEzOS41LDk2LjUpIj48c3dpdGNoPjxmb3JlaWduT2JqZWN0IHN0eWxlPSJvdmVyZmxvdzp2aXNpYmxlOyIgcG9pbnRlci1ldmVudHM9Im5vbmUiIHdpZHRoPSIxIiBoZWlnaHQ9IjE0IiByZXF1aXJlZEZlYXR1cmVzPSJodHRwOi8vd3d3LnczLm9yZy9UUi9TVkcxMS9mZWF0dXJlI0V4dGVuc2liaWxpdHkiPjxkaXYgeG1sbnM9Imh0dHA6Ly93d3cudzMub3JnLzE5OTkveGh0bWwiIHN0eWxlPSJkaXNwbGF5OiBpbmxpbmUtYmxvY2s7IGZvbnQtc2l6ZTogMTRweDsgZm9udC1mYW1pbHk6ICZxdW90O05vdG8gU2FucyZxdW90OzsgY29sb3I6IHJnYigyMTAsIDEwNSwgMzApOyBsaW5lLWhlaWdodDogMS4yOyB2ZXJ0aWNhbC1hbGlnbjogdG9wOyB3aWR0aDogMXB4OyB3aGl0ZS1zcGFjZTogbm93cmFwOyBvdmVyZmxvdy13cmFwOiBub3JtYWw7IHRleHQtYWxpZ246IGNlbnRlcjsiPjxkaXYgeG1sbnM9Imh0dHA6Ly93d3cudzMub3JnLzE5OTkveGh0bWwiIHN0eWxlPSJkaXNwbGF5OmlubGluZS1ibG9jazt0ZXh0LWFsaWduOmluaGVyaXQ7dGV4dC1kZWNvcmF0aW9uOmluaGVyaXQ7d2hpdGUtc3BhY2U6bm9ybWFsOyI+PGRpdiBzdHlsZT0idGV4dC1hbGlnbjogbGVmdCI+PGJyIC8+PC9kaXY+PC9kaXY+PC9kaXY+PC9mb3JlaWduT2JqZWN0Pjx0ZXh0IHg9IjAiIHk9IjE0IiBmaWxsPSIjZDI2OTFlIiB0ZXh0LWFuY2hvcj0ibWlkZGxlIiBmb250LXNpemU9IjE0cHgiIGZvbnQtZmFtaWx5PSJOb3RvIFNhbnMiPiZsdDtkaXYgc3R5bGU9InRleHQtYWxpZ246IGxlZnQiJmd0OyZsdDticiZndDsmbHQ7L2RpdiZndDs8L3RleHQ+PC9zd2l0Y2g+PC9nPjwvZz48L3N2Zz4="
     ]
    }
   },
   "cell_type": "markdown",
   "metadata": {
    "slideshow": {
     "slide_type": "slide"
    }
   },
   "source": [
    "## Statements With Exceptions\n",
    "\n",
    "In the presence of exceptions, every statement has one entry, but two exits, the normal and the exceptional exit. In state diagrams, exceptional final states are visually distinguished by a dashed contour. In what follows, every statement is revisited and new statements for exception handling are introduced.\n",
    "\n",
    "The `skip` statement always terminates normally:\n",
    "<div class=\"code-img-pair-container\">\n",
    "\n",
    "```algorithm\n",
    "skip\n",
    "```\n",
    "  <div style = \"display:table-cell; vertical-align:middle; border-left:100px solid white\">\n",
    "    <img src=\"attachment:SkipX.svg\"/>\n",
    "  </div>\n",
    "</div>\n",
    "<span></span>\n",
    "\n",
    "The `raise` statement always terminates exceptionally:\n",
    " <div class=\"code-img-pair-container\">\n",
    "\n",
    "```algorithm\n",
    "raise\n",
    "```\n",
    "  <div style = \"display:table-cell; vertical-align:middle; border-left:100px solid white\">\n",
    "    <img src=\"attachment:RaiseX.svg\"/>\n",
    "  </div>\n",
    "</div>\n",
    "<span></span>"
   ]
  },
  {
   "attachments": {
    "AssignmentX.svg": {
     "image/svg+xml": [
      "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"
     ]
    }
   },
   "cell_type": "markdown",
   "metadata": {
    "slideshow": {
     "slide_type": "subslide"
    }
   },
   "source": [
    "The assignment `x := E` evaluates expression `E`. If the evaluation fails, the assignment terminates exceptionally, otherwise the value of `E` is assigned to variable `x`.\n",
    "\n",
    "<div class=\"code-img-pair-container\">\n",
    "\n",
    "`x := E`\n",
    "    <div style = \"border-left:100px solid white\">\n",
    "        <img src=\"attachment:AssignmentX.svg\"/>\n",
    "    </div>\n",
    "</div>\n",
    "\n",
    "In the generalization to multiple assignments, all expressions are first evaluated and only if no evaluation fails, the values are assigned to the variables."
   ]
  },
  {
   "attachments": {
    "SequentialX.svg": {
     "image/svg+xml": [
      "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"
     ]
    }
   },
   "cell_type": "markdown",
   "metadata": {
    "slideshow": {
     "slide_type": "subslide"
    }
   },
   "source": [
    "The sequential composition `S ; T` first attempts `S` and if that does terminate normally, it continues with `T`. If either one terminates exceptionally, the whole statement terminates exceptionally:\n",
    " <div class=\"code-img-pair-container\">\n",
    "\n",
    "```algorithm\n",
    "S ; T\n",
    "```\n",
    "  <div style = \"display:table-cell; vertical-align:middle; border-left:100px solid white\">\n",
    "    <img src=\"attachment:SequentialX.svg\"/>\n",
    "  </div>\n",
    "</div>\n",
    "<span></span>"
   ]
  },
  {
   "attachments": {
    "TryCatch.svg": {
     "image/svg+xml": [
      "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"
     ]
    }
   },
   "cell_type": "markdown",
   "metadata": {
    "slideshow": {
     "slide_type": "subslide"
    }
   },
   "source": [
    "The _exceptional composition_ `try S catch T` first attempts `S` and if that does terminate exceptionally, it continues with `T`. If either one terminates normally, the whole statement terminates normally:\n",
    "<div class=\"code-img-pair-container\">\n",
    "\n",
    "```algorithm\n",
    "try S catch T\n",
    "```\n",
    "  <div style = \"display:table-cell; vertical-align:middle; border-left:100px solid white\">\n",
    "    <img src=\"attachment:TryCatch.svg\"/>\n",
    "  </div>\n",
    "</div>\n",
    "<span></span>"
   ]
  },
  {
   "attachments": {
    "Conditional1X.svg": {
     "image/svg+xml": [
      "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"
     ]
    },
    "Conditional2X.svg": {
     "image/svg+xml": [
      "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"
     ]
    }
   },
   "cell_type": "markdown",
   "metadata": {
    "slideshow": {
     "slide_type": "subslide"
    }
   },
   "source": [
    "The conditional statement `if B then S else T` evaluates Boolean expression `B` and executes either `S` or `T`, depending on the value of `B`, provided that the evaluation of `B` succeeds. If the evaluation of `B` fails or if either `S` or `T` terminate exceptionally, the whole statement terminates exceptionally:\n",
    "\n",
    "<div class=\"code-img-pair-container\">\n",
    "\n",
    "```algorithm\n",
    "if B then S else T\n",
    "```\n",
    "  <div style = \"border-left:100px solid white\">\n",
    "    <img src=\"attachment:Conditional2X.svg\"/>\n",
    "  </div>\n",
    "</div>\n",
    "<span></span>\n",
    "\n",
    "The conditional statement `if B then S` is similar to above, except that `T` is `skip`:\n",
    "\n",
    "<div class=\"code-img-pair-container\">\n",
    "\n",
    "```algorithm\n",
    "if B then S\n",
    "```\n",
    "  <div style = \"border-left:100px solid white\">\n",
    "    <img src=\"attachment:Conditional1X.svg\"/>\n",
    "  </div>\n",
    "</div>\n",
    "<span></span>"
   ]
  },
  {
   "attachments": {
    "RepetitionX.svg": {
     "image/svg+xml": [
      "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"
     ]
    }
   },
   "cell_type": "markdown",
   "metadata": {
    "slideshow": {
     "slide_type": "subslide"
    }
   },
   "source": [
    "The repetitive statement `while B do S` evaluates the condition `B`. If that succeeds and the value is true, the body `S` is executed and `B` is evaluated again. If `B` is false, the statement terminates normally. If either the evaluation of `B` fails or `S` terminates exceptionally, the whole statement terminates exceptionally. \n",
    "<div class=\"code-img-pair-container\">\n",
    "\n",
    "  `while B do S`\n",
    "  <div style = \"border-left:100px solid white\">\n",
    "      <img src=\"attachment:RepetitionX.svg\"/>\n",
    "  </div>\n",
    "</div>"
   ]
  },
  {
   "attachments": {
    "CorrectnessAssertionNoX.svg": {
     "image/svg+xml": [
      "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"
     ]
    },
    "CorrectnessAssertionX.svg": {
     "image/svg+xml": [
      "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"
     ]
    }
   },
   "cell_type": "markdown",
   "metadata": {
    "slideshow": {
     "slide_type": "slide"
    }
   },
   "source": [
    "## Annotations and Correctness\n",
    "\n",
    "For predicates `P`, `Q`, `X`, we extend the correctness assertions and the state diagrams to express that under precondition `P`, statement `S` either establishes postcondition `Q` on normal exit or postcondition `X` on exceptional exit:\n",
    "\n",
    "<div class=\"code-img-pair-container\">\n",
    "\n",
    "```algorithm\n",
    "  {P}  S  {Q, X}\n",
    "```\n",
    "\n",
    "  <div style = \"border-left:100px solid white\">\n",
    "    <img src=\"attachment:CorrectnessAssertionX.svg\"/>\n",
    "  </div>\n",
    "</div>\n",
    "<span></span>\n",
    "\n",
    "For example, \n",
    "If `X` is false, i.e. `S` does not raise an exception, we leave out `X` and have as previously:\n",
    "<div class=\"code-img-pair-container\">\n",
    "\n",
    "```algorithm\n",
    "  {P}  S  {Q}\n",
    "```\n",
    "  <div style = \"border-left:100px solid white\">\n",
    "    <img src=\"attachment:CorrectnessAssertionNoX.svg\"/>\n",
    "  </div>\n",
    "</div>\n",
    "<span></span>\n",
    "\n",
    "The revised correctness rules with exceptions are directly derived from the corresponding state diagrams. "
   ]
  },
  {
   "cell_type": "markdown",
   "metadata": {
    "slideshow": {
     "slide_type": "slide"
    }
   },
   "source": [
    "**Rules for correctness of statements with exceptions:**\n",
    "\n",
    "<div style=\"display:table; border-top:1em solid white\">\n",
    "  <div style = \"display:table-cell; vertical-align:middle\">\n",
    "  \n",
    "```algorithm\n",
    "{P}  x := E  {Q, X}\n",
    "\n",
    "\n",
    "{P}  S ; T  {R, X}\n",
    "\n",
    "\n",
    "{P}  try S catch T  {Q, Y}\n",
    "```\n",
    "```algorithm\n",
    "\n",
    "{P}  if B then S else T  {Q, X}\n",
    "\n",
    "\n",
    "\n",
    "{P}  if B then S  {Q, X}\n",
    "\n",
    "\n",
    "\n",
    "{P}  while B do S  {Q, X}\n",
    "```\n",
    "<br><br>\n",
    "  </div>\n",
    "  <div style = \"display:table-cell; vertical-align:middle;border-left:50px solid white\" >\n",
    "    if `P ∧ ∆E ⇒ Q[x := E']`  \n",
    "    and `P ∧ ¬∆E ⇒ X` <br><br>\n",
    "    if `{P} S {Q, X}`   \n",
    "    and `{Q} T {R, X}` <br><br>\n",
    "    if `{P} S {Q, X}`  \n",
    "    and `{X} T {Q, Y}` <br><br>\n",
    "    if `{P ∧ ∆B ∧ B'} S {Q, X}`  \n",
    "    and `{P ∧ ∆B ∧ ¬B'} T {Q, X}`  \n",
    "    and `P ∧ ¬∆B ⇒ X` <br><br>\n",
    "    if `{P ∧ ∆B ∧ B'} S {Q, X}`  \n",
    "    and `P ∧ ∆B ∧ ¬B' ⇒ Q` <br>\n",
    "    and `P ∧ ¬∆B ⇒ X` <br><br>\n",
    "    if `{P ∧ ∆B ∧ B'} S {P, X}`  \n",
    "    and `P ∧ ∆B ∧ ¬B' ⇒ Q`  \n",
    "    and `P ∧ ¬∆B ⇒ X`\n",
    "  </div>\n",
    "</div>\n",
    "<span></span>"
   ]
  },
  {
   "attachments": {
    "TryCatchFinally.svg": {
     "image/svg+xml": [
      "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"
     ]
    },
    "TryFinally.svg": {
     "image/svg+xml": [
      "PD94bWwgdmVyc2lvbj0iMS4wIiBlbmNvZGluZz0iVVRGLTgiPz4KPCFET0NUWVBFIHN2ZyBQVUJMSUMgIi0vL1czQy8vRFREIFNWRyAxLjEvL0VOIiAiaHR0cDovL3d3dy53My5vcmcvR3JhcGhpY3MvU1ZHLzEuMS9EVEQvc3ZnMTEuZHRkIj4KPHN2ZyB4bWxucz0iaHR0cDovL3d3dy53My5vcmcvMjAwMC9zdmciIHhtbG5zOnhsaW5rPSJodHRwOi8vd3d3LnczLm9yZy8xOTk5L3hsaW5rIiB2ZXJzaW9uPSIxLjEiIHdpZHRoPSIxODFweCIgaGVpZ2h0PSIxOTJweCIgdmlld0JveD0iLTAuNSAtMC41IDE4MSAxOTIiIGNvbnRlbnQ9IiZsdDtteGZpbGUgaG9zdD0mcXVvdDtDaHJvbWUmcXVvdDsgbW9kaWZpZWQ9JnF1b3Q7MjAxOS0xMC0yOFQxMToyMDozMy4wMjFaJnF1b3Q7IGFnZW50PSZxdW90O01vemlsbGEvNS4wIChNYWNpbnRvc2g7IEludGVsIE1hYyBPUyBYIDEwXzEzXzYpIEFwcGxlV2ViS2l0LzUzNy4zNiAoS0hUTUwsIGxpa2UgR2Vja28pIENocm9tZS83OC4wLjM5MDQuNzAgU2FmYXJpLzUzNy4zNiZxdW90OyB2ZXJzaW9uPSZxdW90OzEyLjEuNiZxdW90OyBldGFnPSZxdW90O1VWSEt2ZmNWQ3N2ZmNJam1UQnRCJnF1b3Q7IHR5cGU9JnF1b3Q7ZGV2aWNlJnF1b3Q7IHBhZ2VzPSZxdW90OzYmcXVvdDsmZ3Q7Jmx0O2RpYWdyYW0gaWQ9JnF1b3Q7UUU2aFFvV2loLVZBNnZ3WGNKVTAmcXVvdDsmZ3Q7N1ZuYmN0b3dFUDBhUHlaaldiN0FJNUNrZldtbk0weW43YU5pQzFzVFlWRlozUHIxbFd6NWJoeUhFS0FkZUVqczFVcTczajFIeHdJRHpwYTdUeHl0b2k4c3dOU3d6R0Jud0FmRHNrYldXUDVWaG4xbThPeFJaZ2c1Q1RJVEtBMXo4Z2RybzZtdGF4TGdwT1lvR0tPQ3JPcEduOFV4OWtYTmhqaG4yN3JiZ3RGNjFCVUtjY3N3OXhGdFczK1FRRVQ2c1J5enRIL0dKSXp5eU1EVUk4L0lmd2s1VzhjNm5tSEJSZnJKaHBjb1gwdjdKeEVLMkxaaWdvOEduSEhHUkhhMTNNMHdWYVhOeTViTmV6b3dXdVROY1N5R1RMQ3lDUnRFMXpqUDJLVnk2alFnRzVXZjJPdWF1TC9YS3FtcHdEdHhoeWdKWXdOT3BBZkZDMUdPeXF0US8wOVhlZVpOaTh3bFhUcTNXclVvVmxvN3JMSURjbmdiRVlIbksrU3IwYTJFbXJSRllrbjE4SUpRT21PVThYUnVYbWs0RFRrS2lLeEFQaGF6R0N0M0ZndU5OV0RyKzhyMHdITEhRUG5wcDN2dzVSS1lhOGNudENSVXdma3JFMHptUEVkeFVqekFCbk5abDRNOUFFVm5KV0V3VzJMQjk5SkZUM0J6V0dteVdGQ3paMXVCbm5hSktxaUQyb1kwMk1OaTViTGg4a0wzdkx2LzhOYi9xK3MvekRlSE0vVGZ2dlgvZmYwUFVCSVY2WjRBRE40RndlQjBnS0hSSGh3SEU2V3Zxam9VSlFueDZ4MHA5TXhzMWlZUm5MM2dTcm5OOUZPTTVEb0wrdXY5U2c4bkU4ZEpGNVhsNXZ1ZktwRjdKNy85cGZQQ2dSUjcvVXlNaTRpRkxFYjBzYlRxUmlxLytqc0k0aUVXTmVZTTZHeWxjMDVINTNJYnh4UUpzcWxIN0dxbmp2Q05FUm00Qkk3WlVKR3hVMThpWVd2dVl6MnIra3JRV01nR0RRUjZEV2hsVldndGxLS3JlT3hCZ0hOdnU4L1ZxWTl0bm0vRDhXNzl2MjcxT1NjWVJpZFduOHNKam5XRTRuUjBzbGQrdkN1WEgrZ2RLVDhTYzNVSU9zUGtSd0lEN1N0dUsrV1E5Q1RzZFNkY29qVmI4Vmh0Ry85UEwxUEh2akJkRFR4SHA0TG5DQnpZSVU4TXoyYWNCandINTNVcU9PZkxkMmkxUWsybldLdUJ1eVRGbDlKcVlLOTJWYTAyL1FKcXBSSGF3QjFqME5iMGVVWENzNGdITlB4TnJLTG9HZE5wOGFWZGw1eC9BTmZNSHE2MTVCL3ZpS2djWk9UZEx4MnQ3NHh6Z0pBWnpQVk8yMVlWK05ZWGhqdnpIbml1MDNwSitFQXEyNTU1RDZzZnJ3Wjh5K3dlZnZNeHFEOE1oUFhoL0N6enlqWlFoc2tkMldLUjRQY2VwQUM0TUR1LzM5aDVZbmJDTmp2ZEk5aHBBUWpQeVU1MzFLRE5oNUN6UDhxVmNkTzZjZk5mNHVhUWsxaVZxSGFicU1NUFo1Y2pxdGVrWXAxQ2JqK0ZoaEsxUDRvTkxraFVlVnYrenBxNWw3OWx3OGUvJmx0Oy9kaWFncmFtJmd0OyZsdDsvbXhmaWxlJmd0OyI+PGRlZnMvPjxnPjxyZWN0IHg9IjAiIHk9IjAiIHdpZHRoPSI4MCIgaGVpZ2h0PSIzMCIgcng9IjQuNSIgcnk9IjQuNSIgZmlsbD0iI2ZmZmZmZiIgc3Ryb2tlPSIjMDAwMDAwIiBwb2ludGVyLWV2ZW50cz0ibm9uZSIvPjxnIHRyYW5zZm9ybT0idHJhbnNsYXRlKDM5LjUsNy41KSI+PHN3aXRjaD48Zm9yZWlnbk9iamVjdCBzdHlsZT0ib3ZlcmZsb3c6dmlzaWJsZTsiIHBvaW50ZXItZXZlbnRzPSJub25lIiB3aWR0aD0iMSIgaGVpZ2h0PSIxNCIgcmVxdWlyZWRGZWF0dXJlcz0iaHR0cDovL3d3dy53My5vcmcvVFIvU1ZHMTEvZmVhdHVyZSNFeHRlbnNpYmlsaXR5Ij48ZGl2IHhtbG5zPSJodHRwOi8vd3d3LnczLm9yZy8xOTk5L3hodG1sIiBzdHlsZT0iZGlzcGxheTogaW5saW5lLWJsb2NrOyBmb250LXNpemU6IDE0cHg7IGZvbnQtZmFtaWx5OiAmcXVvdDtOb3RvIFNhbnMmcXVvdDs7IGNvbG9yOiByZ2IoMjEwLCAxMDUsIDMwKTsgbGluZS1oZWlnaHQ6IDEuMjsgdmVydGljYWwtYWxpZ246IHRvcDsgd2lkdGg6IDFweDsgd2hpdGUtc3BhY2U6IG5vd3JhcDsgb3ZlcmZsb3ctd3JhcDogbm9ybWFsOyB0ZXh0LWFsaWduOiBjZW50ZXI7Ij48ZGl2IHhtbG5zPSJodHRwOi8vd3d3LnczLm9yZy8xOTk5L3hodG1sIiBzdHlsZT0iZGlzcGxheTppbmxpbmUtYmxvY2s7dGV4dC1hbGlnbjppbmhlcml0O3RleHQtZGVjb3JhdGlvbjppbmhlcml0O3doaXRlLXNwYWNlOm5vcm1hbDsiPjxkaXYgc3R5bGU9InRleHQtYWxpZ246IGxlZnQiPjxiciAvPjwvZGl2PjwvZGl2PjwvZGl2PjwvZm9yZWlnbk9iamVjdD48dGV4dCB4PSIwIiB5PSIxNCIgZmlsbD0iI2QyNjkxZSIgdGV4dC1hbmNob3I9Im1pZGRsZSIgZm9udC1zaXplPSIxNHB4IiBmb250LWZhbWlseT0iTm90byBTYW5zIj4mbHQ7ZGl2IHN0eWxlPSJ0ZXh0LWFsaWduOiBsZWZ0IiZndDsmbHQ7YnImZ3Q7Jmx0Oy9kaXYmZ3Q7PC90ZXh0Pjwvc3dpdGNoPjwvZz48cmVjdCB4PSIwIiB5PSI4MSIgd2lkdGg9IjgwIiBoZWlnaHQ9IjMwIiByeD0iNC41IiByeT0iNC41IiBmaWxsPSIjZmZmZmZmIiBzdHJva2U9IiMwMDAwMDAiIHBvaW50ZXItZXZlbnRzPSJub25lIi8+PGcgdHJhbnNmb3JtPSJ0cmFuc2xhdGUoMzkuNSw4OC41KSI+PHN3aXRjaD48Zm9yZWlnbk9iamVjdCBzdHlsZT0ib3ZlcmZsb3c6dmlzaWJsZTsiIHBvaW50ZXItZXZlbnRzPSJub25lIiB3aWR0aD0iMSIgaGVpZ2h0PSIxNCIgcmVxdWlyZWRGZWF0dXJlcz0iaHR0cDovL3d3dy53My5vcmcvVFIvU1ZHMTEvZmVhdHVyZSNFeHRlbnNpYmlsaXR5Ij48ZGl2IHhtbG5zPSJodHRwOi8vd3d3LnczLm9yZy8xOTk5L3hodG1sIiBzdHlsZT0iZGlzcGxheTogaW5saW5lLWJsb2NrOyBmb250LXNpemU6IDE0cHg7IGZvbnQtZmFtaWx5OiAmcXVvdDtOb3RvIFNhbnMmcXVvdDs7IGNvbG9yOiByZ2IoMjEwLCAxMDUsIDMwKTsgbGluZS1oZWlnaHQ6IDEuMjsgdmVydGljYWwtYWxpZ246IHRvcDsgd2lkdGg6IDFweDsgd2hpdGUtc3BhY2U6IG5vd3JhcDsgb3ZlcmZsb3ctd3JhcDogbm9ybWFsOyB0ZXh0LWFsaWduOiBjZW50ZXI7Ij48ZGl2IHhtbG5zPSJodHRwOi8vd3d3LnczLm9yZy8xOTk5L3hodG1sIiBzdHlsZT0iZGlzcGxheTppbmxpbmUtYmxvY2s7dGV4dC1hbGlnbjppbmhlcml0O3RleHQtZGVjb3JhdGlvbjppbmhlcml0O3doaXRlLXNwYWNlOm5vcm1hbDsiPjxkaXYgc3R5bGU9InRleHQtYWxpZ246IGxlZnQiPjxiciAvPjwvZGl2PjwvZGl2PjwvZGl2PjwvZm9yZWlnbk9iamVjdD48dGV4dCB4PSIwIiB5PSIxNCIgZmlsbD0iI2QyNjkxZSIgdGV4dC1hbmNob3I9Im1pZGRsZSIgZm9udC1zaXplPSIxNHB4IiBmb250LWZhbWlseT0iTm90byBTYW5zIj4mbHQ7ZGl2IHN0eWxlPSJ0ZXh0LWFsaWduOiBsZWZ0IiZndDsmbHQ7YnImZ3Q7Jmx0Oy9kaXYmZ3Q7PC90ZXh0Pjwvc3dpdGNoPjwvZz48cmVjdCB4PSIxMDAiIHk9IjgxIiB3aWR0aD0iODAiIGhlaWdodD0iMzAiIHJ4PSI0LjUiIHJ5PSI0LjUiIGZpbGw9IiNmZmZmZmYiIHN0cm9rZT0iIzAwMDAwMCIgc3Ryb2tlLWRhc2hhcnJheT0iMyAzIiBwb2ludGVyLWV2ZW50cz0ibm9uZSIvPjxnIHRyYW5zZm9ybT0idHJhbnNsYXRlKDEzOS41LDg4LjUpIj48c3dpdGNoPjxmb3JlaWduT2JqZWN0IHN0eWxlPSJvdmVyZmxvdzp2aXNpYmxlOyIgcG9pbnRlci1ldmVudHM9Im5vbmUiIHdpZHRoPSIxIiBoZWlnaHQ9IjE0IiByZXF1aXJlZEZlYXR1cmVzPSJodHRwOi8vd3d3LnczLm9yZy9UUi9TVkcxMS9mZWF0dXJlI0V4dGVuc2liaWxpdHkiPjxkaXYgeG1sbnM9Imh0dHA6Ly93d3cudzMub3JnLzE5OTkveGh0bWwiIHN0eWxlPSJkaXNwbGF5OiBpbmxpbmUtYmxvY2s7IGZvbnQtc2l6ZTogMTRweDsgZm9udC1mYW1pbHk6ICZxdW90O05vdG8gU2FucyZxdW90OzsgY29sb3I6IHJnYigyMTAsIDEwNSwgMzApOyBsaW5lLWhlaWdodDogMS4yOyB2ZXJ0aWNhbC1hbGlnbjogdG9wOyB3aWR0aDogMXB4OyB3aGl0ZS1zcGFjZTogbm93cmFwOyBvdmVyZmxvdy13cmFwOiBub3JtYWw7IHRleHQtYWxpZ246IGNlbnRlcjsiPjxkaXYgeG1sbnM9Imh0dHA6Ly93d3cudzMub3JnLzE5OTkveGh0bWwiIHN0eWxlPSJkaXNwbGF5OmlubGluZS1ibG9jazt0ZXh0LWFsaWduOmluaGVyaXQ7dGV4dC1kZWNvcmF0aW9uOmluaGVyaXQ7d2hpdGUtc3BhY2U6bm9ybWFsOyI+PGRpdiBzdHlsZT0idGV4dC1hbGlnbjogbGVmdCI+PGJyIC8+PC9kaXY+PC9kaXY+PC9kaXY+PC9mb3JlaWduT2JqZWN0Pjx0ZXh0IHg9IjAiIHk9IjE0IiBmaWxsPSIjZDI2OTFlIiB0ZXh0LWFuY2hvcj0ibWlkZGxlIiBmb250LXNpemU9IjE0cHgiIGZvbnQtZmFtaWx5PSJOb3RvIFNhbnMiPiZsdDtkaXYgc3R5bGU9InRleHQtYWxpZ246IGxlZnQiJmd0OyZsdDticiZndDsmbHQ7L2RpdiZndDs8L3RleHQ+PC9zd2l0Y2g+PC9nPjxwYXRoIGQ9Ik0gNTAgNTYgTCAxMzAgNTYgUSAxNDAgNTYgMTQwIDY1LjMyIEwgMTQwIDc0LjYzIiBmaWxsPSJub25lIiBzdHJva2U9IiMwMDAwMDAiIHN0cm9rZS1taXRlcmxpbWl0PSIxMCIgc3Ryb2tlLWRhc2hhcnJheT0iMyAzIiBwb2ludGVyLWV2ZW50cz0ibm9uZSIvPjxwYXRoIGQ9Ik0gMTQwIDc5Ljg4IEwgMTM2LjUgNzIuODggTCAxNDAgNzQuNjMgTCAxNDMuNSA3Mi44OCBaIiBmaWxsPSIjMDAwMDAwIiBzdHJva2U9IiMwMDAwMDAiIHN0cm9rZS1taXRlcmxpbWl0PSIxMCIgcG9pbnRlci1ldmVudHM9Im5vbmUiLz48cmVjdCB4PSIwIiB5PSIxNjEiIHdpZHRoPSI4MCIgaGVpZ2h0PSIzMCIgcng9IjQuNSIgcnk9IjQuNSIgZmlsbD0iI2ZmZmZmZiIgc3Ryb2tlPSIjMDAwMDAwIiBwb2ludGVyLWV2ZW50cz0ibm9uZSIvPjxnIHRyYW5zZm9ybT0idHJhbnNsYXRlKDM5LjUsMTY4LjUpIj48c3dpdGNoPjxmb3JlaWduT2JqZWN0IHN0eWxlPSJvdmVyZmxvdzp2aXNpYmxlOyIgcG9pbnRlci1ldmVudHM9Im5vbmUiIHdpZHRoPSIxIiBoZWlnaHQ9IjE0IiByZXF1aXJlZEZlYXR1cmVzPSJodHRwOi8vd3d3LnczLm9yZy9UUi9TVkcxMS9mZWF0dXJlI0V4dGVuc2liaWxpdHkiPjxkaXYgeG1sbnM9Imh0dHA6Ly93d3cudzMub3JnLzE5OTkveGh0bWwiIHN0eWxlPSJkaXNwbGF5OiBpbmxpbmUtYmxvY2s7IGZvbnQtc2l6ZTogMTRweDsgZm9udC1mYW1pbHk6ICZxdW90O05vdG8gU2FucyZxdW90OzsgY29sb3I6IHJnYigyMTAsIDEwNSwgMzApOyBsaW5lLWhlaWdodDogMS4yOyB2ZXJ0aWNhbC1hbGlnbjogdG9wOyB3aWR0aDogMXB4OyB3aGl0ZS1zcGFjZTogbm93cmFwOyBvdmVyZmxvdy13cmFwOiBub3JtYWw7IHRleHQtYWxpZ246IGNlbnRlcjsiPjxkaXYgeG1sbnM9Imh0dHA6Ly93d3cudzMub3JnLzE5OTkveGh0bWwiIHN0eWxlPSJkaXNwbGF5OmlubGluZS1ibG9jazt0ZXh0LWFsaWduOmluaGVyaXQ7dGV4dC1kZWNvcmF0aW9uOmluaGVyaXQ7d2hpdGUtc3BhY2U6bm9ybWFsOyI+PGRpdiBzdHlsZT0idGV4dC1hbGlnbjogbGVmdCI+PGJyIC8+PC9kaXY+PC9kaXY+PC9kaXY+PC9mb3JlaWduT2JqZWN0Pjx0ZXh0IHg9IjAiIHk9IjE0IiBmaWxsPSIjZDI2OTFlIiB0ZXh0LWFuY2hvcj0ibWlkZGxlIiBmb250LXNpemU9IjE0cHgiIGZvbnQtZmFtaWx5PSJOb3RvIFNhbnMiPiZsdDtkaXYgc3R5bGU9InRleHQtYWxpZ246IGxlZnQiJmd0OyZsdDticiZndDsmbHQ7L2RpdiZndDs8L3RleHQ+PC9zd2l0Y2g+PC9nPjxyZWN0IHg9IjEwMCIgeT0iMTYxIiB3aWR0aD0iODAiIGhlaWdodD0iMzAiIHJ4PSI0LjUiIHJ5PSI0LjUiIGZpbGw9IiNmZmZmZmYiIHN0cm9rZT0iIzAwMDAwMCIgc3Ryb2tlLWRhc2hhcnJheT0iMyAzIiBwb2ludGVyLWV2ZW50cz0ibm9uZSIvPjxnIHRyYW5zZm9ybT0idHJhbnNsYXRlKDEzOS41LDE2OC41KSI+PHN3aXRjaD48Zm9yZWlnbk9iamVjdCBzdHlsZT0ib3ZlcmZsb3c6dmlzaWJsZTsiIHBvaW50ZXItZXZlbnRzPSJub25lIiB3aWR0aD0iMSIgaGVpZ2h0PSIxNCIgcmVxdWlyZWRGZWF0dXJlcz0iaHR0cDovL3d3dy53My5vcmcvVFIvU1ZHMTEvZmVhdHVyZSNFeHRlbnNpYmlsaXR5Ij48ZGl2IHhtbG5zPSJodHRwOi8vd3d3LnczLm9yZy8xOTk5L3hodG1sIiBzdHlsZT0iZGlzcGxheTogaW5saW5lLWJsb2NrOyBmb250LXNpemU6IDE0cHg7IGZvbnQtZmFtaWx5OiAmcXVvdDtOb3RvIFNhbnMmcXVvdDs7IGNvbG9yOiByZ2IoMjEwLCAxMDUsIDMwKTsgbGluZS1oZWlnaHQ6IDEuMjsgdmVydGljYWwtYWxpZ246IHRvcDsgd2lkdGg6IDFweDsgd2hpdGUtc3BhY2U6IG5vd3JhcDsgb3ZlcmZsb3ctd3JhcDogbm9ybWFsOyB0ZXh0LWFsaWduOiBjZW50ZXI7Ij48ZGl2IHhtbG5zPSJodHRwOi8vd3d3LnczLm9yZy8xOTk5L3hodG1sIiBzdHlsZT0iZGlzcGxheTppbmxpbmUtYmxvY2s7dGV4dC1hbGlnbjppbmhlcml0O3RleHQtZGVjb3JhdGlvbjppbmhlcml0O3doaXRlLXNwYWNlOm5vcm1hbDsiPjxkaXYgc3R5bGU9InRleHQtYWxpZ246IGxlZnQiPjxiciAvPjwvZGl2PjwvZGl2PjwvZGl2PjwvZm9yZWlnbk9iamVjdD48dGV4dCB4PSIwIiB5PSIxNCIgZmlsbD0iI2QyNjkxZSIgdGV4dC1hbmNob3I9Im1pZGRsZSIgZm9udC1zaXplPSIxNHB4IiBmb250LWZhbWlseT0iTm90byBTYW5zIj4mbHQ7ZGl2IHN0eWxlPSJ0ZXh0LWFsaWduOiBsZWZ0IiZndDsmbHQ7YnImZ3Q7Jmx0Oy9kaXYmZ3Q7PC90ZXh0Pjwvc3dpdGNoPjwvZz48cGF0aCBkPSJNIDUwIDEzNiBMIDExMCAxMzYgUSAxMjAgMTM2IDEyMCAxNDUuMzIgTCAxMjAgMTU0LjYzIiBmaWxsPSJub25lIiBzdHJva2U9IiMwMDAwMDAiIHN0cm9rZS1taXRlcmxpbWl0PSIxMCIgc3Ryb2tlLWRhc2hhcnJheT0iMyAzIiBwb2ludGVyLWV2ZW50cz0ibm9uZSIvPjxwYXRoIGQ9Ik0gMTIwIDE1OS44OCBMIDExNi41IDE1Mi44OCBMIDEyMCAxNTQuNjMgTCAxMjMuNSAxNTIuODggWiIgZmlsbD0iIzAwMDAwMCIgc3Ryb2tlPSIjMDAwMDAwIiBzdHJva2UtbWl0ZXJsaW1pdD0iMTAiIHBvaW50ZXItZXZlbnRzPSJub25lIi8+PHBhdGggZD0iTSAxNTAgMTM2IEwgMTU1IDEzNiBRIDE2MCAxMzYgMTYwIDE0NS4zMiBMIDE2MCAxNTQuNjMiIGZpbGw9Im5vbmUiIHN0cm9rZT0iIzAwMDAwMCIgc3Ryb2tlLW1pdGVybGltaXQ9IjEwIiBzdHJva2UtZGFzaGFycmF5PSIzIDMiIHBvaW50ZXItZXZlbnRzPSJub25lIi8+PHBhdGggZD0iTSAxNjAgMTU5Ljg4IEwgMTU2LjUgMTUyLjg4IEwgMTYwIDE1NC42MyBMIDE2My41IDE1Mi44OCBaIiBmaWxsPSIjMDAwMDAwIiBzdHJva2U9IiMwMDAwMDAiIHN0cm9rZS1taXRlcmxpbWl0PSIxMCIgcG9pbnRlci1ldmVudHM9Im5vbmUiLz48cGF0aCBkPSJNIDQwIDMwIEwgNDAgNzQuNjMiIGZpbGw9Im5vbmUiIHN0cm9rZT0iIzAwMDAwMCIgc3Ryb2tlLW1pdGVybGltaXQ9IjEwIiBwb2ludGVyLWV2ZW50cz0ibm9uZSIvPjxwYXRoIGQ9Ik0gNDAgNzkuODggTCAzNi41IDcyLjg4IEwgNDAgNzQuNjMgTCA0My41IDcyLjg4IFoiIGZpbGw9IiMwMDAwMDAiIHN0cm9rZT0iIzAwMDAwMCIgc3Ryb2tlLW1pdGVybGltaXQ9IjEwIiBwb2ludGVyLWV2ZW50cz0ibm9uZSIvPjxnIHRyYW5zZm9ybT0idHJhbnNsYXRlKDM1LjUsNDMuNSkiPjxzd2l0Y2g+PGZvcmVpZ25PYmplY3Qgc3R5bGU9Im92ZXJmbG93OnZpc2libGU7IiBwb2ludGVyLWV2ZW50cz0ibm9uZSIgd2lkdGg9IjgiIGhlaWdodD0iMTQiIHJlcXVpcmVkRmVhdHVyZXM9Imh0dHA6Ly93d3cudzMub3JnL1RSL1NWRzExL2ZlYXR1cmUjRXh0ZW5zaWJpbGl0eSI+PGRpdiB4bWxucz0iaHR0cDovL3d3dy53My5vcmcvMTk5OS94aHRtbCIgc3R5bGU9ImRpc3BsYXk6IGlubGluZS1ibG9jazsgZm9udC1zaXplOiAxMHB4OyBmb250LWZhbWlseTogJnF1b3Q7Tm90byBTYW5zJnF1b3Q7OyBjb2xvcjogcmdiKDE3MCwgODUsIDApOyBsaW5lLWhlaWdodDogMS4yOyB2ZXJ0aWNhbC1hbGlnbjogdG9wOyB3aGl0ZS1zcGFjZTogbm93cmFwOyB0ZXh0LWFsaWduOiBjZW50ZXI7Ij48ZGl2IHhtbG5zPSJodHRwOi8vd3d3LnczLm9yZy8xOTk5L3hodG1sIiBzdHlsZT0iZGlzcGxheTppbmxpbmUtYmxvY2s7dGV4dC1hbGlnbjppbmhlcml0O3RleHQtZGVjb3JhdGlvbjppbmhlcml0O2JhY2tncm91bmQtY29sb3I6I2ZmZmZmZjsiPjxmb250IHN0eWxlPSJmb250LXNpemU6IDE0cHgiIGNvbG9yPSIjNDE2OWUxIj5TPC9mb250PjwvZGl2PjwvZGl2PjwvZm9yZWlnbk9iamVjdD48dGV4dCB4PSI0IiB5PSIxMiIgZmlsbD0iI0FBNTUwMCIgdGV4dC1hbmNob3I9Im1pZGRsZSIgZm9udC1zaXplPSIxMHB4IiBmb250LWZhbWlseT0iTm90byBTYW5zIj5bTm90IHN1cHBvcnRlZCBieSB2aWV3ZXJdPC90ZXh0Pjwvc3dpdGNoPjwvZz48cGF0aCBkPSJNIDQwIDExMSBMIDQwIDE1NC42MyIgZmlsbD0ibm9uZSIgc3Ryb2tlPSIjMDAwMDAwIiBzdHJva2UtbWl0ZXJsaW1pdD0iMTAiIHBvaW50ZXItZXZlbnRzPSJub25lIi8+PHBhdGggZD0iTSA0MCAxNTkuODggTCAzNi41IDE1Mi44OCBMIDQwIDE1NC42MyBMIDQzLjUgMTUyLjg4IFoiIGZpbGw9IiMwMDAwMDAiIHN0cm9rZT0iIzAwMDAwMCIgc3Ryb2tlLW1pdGVybGltaXQ9IjEwIiBwb2ludGVyLWV2ZW50cz0ibm9uZSIvPjxnIHRyYW5zZm9ybT0idHJhbnNsYXRlKDM0LjUsMTIzLjUpIj48c3dpdGNoPjxmb3JlaWduT2JqZWN0IHN0eWxlPSJvdmVyZmxvdzp2aXNpYmxlOyIgcG9pbnRlci1ldmVudHM9Im5vbmUiIHdpZHRoPSIxMCIgaGVpZ2h0PSIxNCIgcmVxdWlyZWRGZWF0dXJlcz0iaHR0cDovL3d3dy53My5vcmcvVFIvU1ZHMTEvZmVhdHVyZSNFeHRlbnNpYmlsaXR5Ij48ZGl2IHhtbG5zPSJodHRwOi8vd3d3LnczLm9yZy8xOTk5L3hodG1sIiBzdHlsZT0iZGlzcGxheTogaW5saW5lLWJsb2NrOyBmb250LXNpemU6IDEwcHg7IGZvbnQtZmFtaWx5OiAmcXVvdDtOb3RvIFNhbnMmcXVvdDs7IGNvbG9yOiByZ2IoMTcwLCA4NSwgMCk7IGxpbmUtaGVpZ2h0OiAxLjI7IHZlcnRpY2FsLWFsaWduOiB0b3A7IHdoaXRlLXNwYWNlOiBub3dyYXA7IHRleHQtYWxpZ246IGNlbnRlcjsiPjxkaXYgeG1sbnM9Imh0dHA6Ly93d3cudzMub3JnLzE5OTkveGh0bWwiIHN0eWxlPSJkaXNwbGF5OmlubGluZS1ibG9jazt0ZXh0LWFsaWduOmluaGVyaXQ7dGV4dC1kZWNvcmF0aW9uOmluaGVyaXQ7YmFja2dyb3VuZC1jb2xvcjojZmZmZmZmOyI+PGZvbnQgc3R5bGU9ImZvbnQtc2l6ZTogMTRweCIgY29sb3I9IiM0MTY5ZTEiPlU8L2ZvbnQ+PC9kaXY+PC9kaXY+PC9mb3JlaWduT2JqZWN0Pjx0ZXh0IHg9IjUiIHk9IjEyIiBmaWxsPSIjQUE1NTAwIiB0ZXh0LWFuY2hvcj0ibWlkZGxlIiBmb250LXNpemU9IjEwcHgiIGZvbnQtZmFtaWx5PSJOb3RvIFNhbnMiPltOb3Qgc3VwcG9ydGVkIGJ5IHZpZXdlcl08L3RleHQ+PC9zd2l0Y2g+PC9nPjxwYXRoIGQ9Ik0gMTQwIDExMSBMIDE0MCAxNTQuNjMiIGZpbGw9Im5vbmUiIHN0cm9rZT0iIzAwMDAwMCIgc3Ryb2tlLW1pdGVybGltaXQ9IjEwIiBzdHJva2UtZGFzaGFycmF5PSIzIDMiIHBvaW50ZXItZXZlbnRzPSJub25lIi8+PHBhdGggZD0iTSAxNDAgMTU5Ljg4IEwgMTM2LjUgMTUyLjg4IEwgMTQwIDE1NC42MyBMIDE0My41IDE1Mi44OCBaIiBmaWxsPSIjMDAwMDAwIiBzdHJva2U9IiMwMDAwMDAiIHN0cm9rZS1taXRlcmxpbWl0PSIxMCIgcG9pbnRlci1ldmVudHM9Im5vbmUiLz48ZyB0cmFuc2Zvcm09InRyYW5zbGF0ZSgxMzQuNSwxMjMuNSkiPjxzd2l0Y2g+PGZvcmVpZ25PYmplY3Qgc3R5bGU9Im92ZXJmbG93OnZpc2libGU7IiBwb2ludGVyLWV2ZW50cz0ibm9uZSIgd2lkdGg9IjEwIiBoZWlnaHQ9IjE0IiByZXF1aXJlZEZlYXR1cmVzPSJodHRwOi8vd3d3LnczLm9yZy9UUi9TVkcxMS9mZWF0dXJlI0V4dGVuc2liaWxpdHkiPjxkaXYgeG1sbnM9Imh0dHA6Ly93d3cudzMub3JnLzE5OTkveGh0bWwiIHN0eWxlPSJkaXNwbGF5OiBpbmxpbmUtYmxvY2s7IGZvbnQtc2l6ZTogMTBweDsgZm9udC1mYW1pbHk6ICZxdW90O05vdG8gU2FucyZxdW90OzsgY29sb3I6IHJnYigxNzAsIDg1LCAwKTsgbGluZS1oZWlnaHQ6IDEuMjsgdmVydGljYWwtYWxpZ246IHRvcDsgd2hpdGUtc3BhY2U6IG5vd3JhcDsgdGV4dC1hbGlnbjogY2VudGVyOyI+PGRpdiB4bWxucz0iaHR0cDovL3d3dy53My5vcmcvMTk5OS94aHRtbCIgc3R5bGU9ImRpc3BsYXk6aW5saW5lLWJsb2NrO3RleHQtYWxpZ246aW5oZXJpdDt0ZXh0LWRlY29yYXRpb246aW5oZXJpdDtiYWNrZ3JvdW5kLWNvbG9yOiNmZmZmZmY7Ij48Zm9udCBzdHlsZT0iZm9udC1zaXplOiAxNHB4IiBjb2xvcj0iIzQxNjllMSI+VTwvZm9udD48L2Rpdj48L2Rpdj48L2ZvcmVpZ25PYmplY3Q+PHRleHQgeD0iNSIgeT0iMTIiIGZpbGw9IiNBQTU1MDAiIHRleHQtYW5jaG9yPSJtaWRkbGUiIGZvbnQtc2l6ZT0iMTBweCIgZm9udC1mYW1pbHk9Ik5vdG8gU2FucyI+W05vdCBzdXBwb3J0ZWQgYnkgdmlld2VyXTwvdGV4dD48L3N3aXRjaD48L2c+PC9nPjwvc3ZnPg=="
     ]
    }
   },
   "cell_type": "markdown",
   "metadata": {
    "slideshow": {
     "slide_type": "slide"
    }
   },
   "source": [
    "## Derived Statements\n",
    "\n",
    "An array assignment is defined in terms of the alter function; recall that if xthe only difference is that the evaluation of `E` and `F` may fail, in which case an exception is raised:\n",
    "```\n",
    "x(E) := F   =   x := (x; E: F)\n",
    "```\n",
    "The statement `assert B` raises an exception if `B` does not hold, other does nothing:\n",
    "```\n",
    "assert B   =   if ¬B then raise\n",
    "```\n",
    "The statement `try S finally U` always executes `U`, whether `S` terminates normally or exceptionally. The whole statement terminates normally only if both `S` and `U` do so as well, otherwise it terminates exceptionally:\n",
    "<div class=\"code-img-pair-container\">\n",
    "\n",
    "`try S finally U`\n",
    "  <div style = \"border-left:100px solid white\">\n",
    "      <img src=\"attachment:TryFinally.svg\"/>\n",
    "  </div>\n",
    "</div>\n",
    "\n",
    "```\n",
    "try S finally U   =   try S catch (U ; raise) ; U\n",
    "```\n",
    "The statement `try S catch T finally U` unifies `try-catch` and `try-finally`. It can be defined in two equivalent ways:\n",
    "<div class=\"code-img-pair-container\">\n",
    "\n",
    "`try S catch T finally U`\n",
    "  <div style = \"border-left:100px solid white\">\n",
    "      <img src=\"attachment:TryCatchFinally.svg\"/>\n",
    "  </div>\n",
    "</div>\n",
    "\n",
    "```algorithm\n",
    "try S catch T finally U\t=   try S catch (try T catch (U ; raise)) ; U\n",
    "                                          =   try (try S catch T) finally U\n",
    "```"
   ]
  },
  {
   "cell_type": "markdown",
   "metadata": {
    "slideshow": {
     "slide_type": "slide"
    }
   },
   "source": [
    "## Example: Saturating Vector Division\n",
    "\n",
    "```algorithm\n",
    "{true}\n",
    "i := 0\n",
    "{P:  0 ≤ i ≤ n ∧ ∀ j ∈ 0 .. i - 1 • (b(j) ≠ 0 ∧ c(j) = a(j) div b(j)) ∨ (b(j) = 0 ∧ c(j) = maxint)}\n",
    "while i < n do\n",
    "    {i < n ∧ P}\n",
    "    try c(i) := a(i) div b(i)\n",
    "        {i < n ∧ P ∧ b(i) ≠ 0 ∧ c(i) = a(i) div b(i), i < n ∧ P ∧ b(i) = 0}\n",
    "    catch\n",
    "        {i < n ∧ P ∧ b(i) = 0}\n",
    "        c(i) := maxint\n",
    "        {i < n ∧ P ∧ b(i) = 0 ∧ c(i) = maxint}\n",
    "    {i < n ∧ P ∧ ((b(i) ≠ 0 ∧ c(i) = a(i) div b(i)) ∨ (b(i) = 0 ∧ c(i) = maxint))}\n",
    "    i := i + 1\n",
    "    {P}\n",
    "{∀ j ∈ 0 .. n - 1 . (b(j) ≠ 0 ∧ c(j) = a(j) div b(j)) ∨ (b(j) = 0 ∧ c(j) = maxint)}\n",
    "```"
   ]
  },
  {
   "cell_type": "markdown",
   "metadata": {},
   "source": [
    "## Procedure Specifications\n",
    "\n",
    "So far we considered only a single exceptional exit. Languages like Java allow to specify different _exception types,_ that can be caught selectively, allowing to express statements with multiple exits. A method specification can then state what has to hold at what exit, for example:\n",
    "\n",
    "```Java\n",
    "public static void int search(int[] a, int x)\n",
    "    throws NullPointerException, NotFoundException\n",
    "/* requires: a is sorted\n",
    "   ensures:  0 <= result < a.length && a[result] == x\n",
    "   signals NullPointerException: a == null\n",
    "   signals NotFoundException: x not in a\n",
    "*/\n",
    "```\n",
    "\n",
    "However, this style of specification assumes that all exceptions are anticipated, which does not allow coping with unanticipated failures; it amounts to using exceptions as a control structure for undesired or rare cases."
   ]
  },
  {
   "cell_type": "markdown",
   "metadata": {
    "slideshow": {
     "slide_type": "slide"
    }
   },
   "source": [
    "## Pattern: Masking\n",
    "\n",
    "```\n",
    "try request next command\n",
    "catch command := help\n",
    "```\n",
    "The desired (but possibly weakened) postcondition is always established. This is an instance of _forward recovery._\n",
    "\n",
    "If\n",
    "```algorithm\n",
    "{P}  S  {Q, H}\n",
    "{H}  T  {Q}\n",
    "```\n",
    "then\n",
    "```algorithm\n",
    "{P}  try S catch T  {Q}\n",
    "```"
   ]
  },
  {
   "cell_type": "markdown",
   "metadata": {
    "slideshow": {
     "slide_type": "slide"
    }
   },
   "source": [
    "## Pattern: Masking with Re-raising\n",
    "\n",
    "```\n",
    "try process file A and output file B\n",
    "catch (delete file B ; raise)\n",
    "```\n",
    "In a modular design, each module restores a consistent state before passing on the exception. This pattern can be used for _backward recovery_ (rolling back) or forward recovery.\n",
    "\n",
    "If\n",
    "```algorithm\n",
    "{P}  S  {Q, H}\n",
    "{H}  T  {R, R}\n",
    "```\n",
    "then:\n",
    "```algorithm\n",
    "{P}  try S catch (T ; raise)  {Q, R}\n",
    "```"
   ]
  },
  {
   "cell_type": "markdown",
   "metadata": {
    "slideshow": {
     "slide_type": "slide"
    }
   },
   "source": [
    "## Pattern: Flagging\n",
    "```\n",
    "try (process file A and output file B ; done := true)\n",
    "catch (delete file B ; done := false)\n",
    "```\n",
    "The occurrence of an exception is recorded for further actions, e.g. further forward or backward recovery.\n",
    "\n",
    "If\n",
    "```algorithm\n",
    "{P}  S  {Q, H}\n",
    "{H}  T  {R}\n",
    "```\n",
    "then:\n",
    "```algorithm\n",
    "{P}  try (S ; done := true) catch (T ; done := false)  {(done ∧ Q) ∨ (¬done ∧ R)}\n",
    "```\n",
    "The role of `T` is to establish an alternate postcondition; in above formulation, `T` must not fail."
   ]
  },
  {
   "cell_type": "markdown",
   "metadata": {
    "slideshow": {
     "slide_type": "slide"
    }
   },
   "source": [
    "## Pattern: Rollback with Masking\n",
    "```\n",
    "u0, v0, w0 := u, v, w\n",
    "try display form for entering u, v, w\n",
    "catch u, v, w := u0, v0, w0\n",
    "```\n",
    "The pattern prevents that an inconsistent state, e.g. with a broken invariant, or an undesirable state, e.g. one which only allows termination, is left.\n",
    "\n",
    "Let `B` stand for \"backup available\". If\n",
    "```algorithm\n",
    "{P}  backup  {P ∧ B}\n",
    "{B}  restore  {P}\n",
    "{P ∧ B}  S  {Q, B}\n",
    "{P}  T  {Q}\n",
    "```\n",
    "then:\n",
    "```algorithm\n",
    "{P}  backup ; try S catch (restore ; T)  {Q}\n",
    "```\n",
    "Statement `T` can either do some clean-up for backward recovery or do forward recovery. The pattern assumes that both `restore` and `T` do not fail."
   ]
  },
  {
   "cell_type": "markdown",
   "metadata": {
    "slideshow": {
     "slide_type": "slide"
    }
   },
   "source": [
    "## Pattern: Rollback with Propagation\n",
    "\n",
    "The difference to Rollback with Masking is that now `restore` can fail.\n",
    "\n",
    "\n",
    "If\n",
    "```algorithm\n",
    "{P}  backup  {P ∧ B, P}\n",
    "{B}  restore  {P, P}\n",
    "{P ∧ B}  S  {Q, B}\n",
    "```\n",
    "then:\n",
    "```algorithm\n",
    "{P}  backup ; try S catch (restore ; raise)  {Q, P}\n",
    "```"
   ]
  },
  {
   "cell_type": "markdown",
   "metadata": {
    "slideshow": {
     "slide_type": "slide"
    }
   },
   "source": [
    "## Partial Correctness\n",
    "\n",
    "Suppose `S` either establishes the desired postcondition or fails but re-establishes the precondition in that case:\n",
    "```algorithm\n",
    "{P}  S  {Q, P}\n",
    "```\n",
    "Then `S` is _partially correct_ with respect to `P`, `Q`.\n",
    "\n",
    "Several patterns ensure partial correctness. Eiffel method specifications can be understood as partial correctness specifications:\n",
    "\n",
    "```Eiffel\n",
    "method is\n",
    "    require\n",
    "        pre\n",
    "    do\n",
    "        body\n",
    "    ensure\n",
    "        post\n",
    "    rescue\n",
    "        handler\n",
    "```"
   ]
  },
  {
   "cell_type": "markdown",
   "metadata": {
    "slideshow": {
     "slide_type": "slide"
    }
   },
   "source": [
    "## Pattern: Degraded Service\n",
    "\n",
    "Here is a procedure for computing `√(x² + y²)` by [Hull et al (1994)](https://doi.org/10.1145/178365.178404):\n",
    "```algorithm\n",
    "try\t\t-- try the simplest formula, will work most of the time\n",
    "    z := √(x² + y²)\n",
    "catch \t-- overflow or underflow has occurred\n",
    "    try\n",
    "        m := max(abs(x), abs(y))\n",
    "        try\t\t-- try the formula with scaling\n",
    "            t := √((x / m)² + (y / m)²)\n",
    "        catch\t-- underflow has occurred\n",
    "            t := 1\n",
    "        z := m × t\n",
    "    catch\t-- overflow on unscaling has occurred\n",
    "        z := +∞ ; raise\n",
    "```\n",
    "Several alternatives achieve the same goal, but some are preferred over others. If the first one fails, we fall back to a less desirable one.\n",
    "\n",
    "Suppose the alternatives are `S₁`, `S₂`, `S₃`. If\n",
    "```algorithm\n",
    "\t{P}  S₁  {Q, H₁}\n",
    "    {H₁}  S₂  {Q, H₂}\n",
    "    {H₂}  S₃  {Q, R}\n",
    "```\n",
    "then:\n",
    "```algorithm\n",
    "\t{P}  try S₁ catch (try S₂ catch S₃)  {Q, R}\n",
    "```"
   ]
  },
  {
   "cell_type": "markdown",
   "metadata": {
    "slideshow": {
     "slide_type": "slide"
    }
   },
   "source": [
    "## Pattern: Recovery Block\n",
    "\n",
    "The recovery block goes back to [Horning et al (1974)](https://dl.acm.org/citation.cfm?id=733522), based on analysis of existing software. [Randell (1975)](https://doi.org/10.1145/800027.808467) ([reprint](https://doi.org/10.1007/978-3-642-82470-8_7)) gives it following syntactic form, where `A` is a Boolean expression, the _acceptance test,_ `S₁`, `S₂`, `S₃` are the alternatives in that order of preference. If one alternative fails, the original state is restored before the next is taken. If all fail, the whole statement fails. To the right is the formulation with exceptions that generalizes the original formulation by allowing each alternative to have a different acceptance test.\n",
    "<div style=\"display:table\">\n",
    "  <div style = \"display:table-cell\">\n",
    "\n",
    "```algorithm\n",
    "ensure A\n",
    "by S₁\n",
    "else by S₂\n",
    "else by S₃\n",
    "else error\n",
    "```\n",
    "  </div>\n",
    "  <div style = \"display:table-cell; border-left:0px solid white\">\n",
    "\n",
    "```algorithm\n",
    "backup\n",
    "try S₁ ; assert A₁\n",
    "catch\n",
    "    restore\n",
    "    try S₂ ; assert A₂\n",
    "    catch\n",
    "        restore\n",
    "        try S₃ ; assert A₃\n",
    "        catch restore ; raise\n",
    "```\n",
    "  </div>\n",
    "</div>\n",
    "<span></span>\n",
    "\n",
    "Let `RB` be above statement, `P` the precondition, and `Q` the desired postcondition. If\n",
    "- `backup` succeeds making a backup or fails, but preserves the precondition in that case,\n",
    "```algorithm\n",
    "{P}  backup  {P ∧ B, P}\n",
    "```\n",
    "- `restore` always succeeds restoring the original precondition and preserves the backup,\n",
    "```algorithm\n",
    "{B}  restore  {P ∧ B}\n",
    "```\n",
    "- each alternative either succeeds or fails and in any case preserves the backup,\n",
    "```algorithm\n",
    "{P ∧ B}  Sᵢ  {Qᵢ ∧ B, B}\n",
    "```\n",
    "- if the acceptance test passes, the desired postcondition is established,\n",
    "```algorithm\n",
    "Qᵢ ∧ Aᵢ ⇒ Q\n",
    "```\n",
    "\n",
    "then the recovery block is partially correct with respect to `P`, `Q`:\n",
    "```algorithm\n",
    "{P}  RB  {Q, P}\n",
    "```\n"
   ]
  },
  {
   "cell_type": "markdown",
   "metadata": {
    "slideshow": {
     "slide_type": "slide"
    }
   },
   "source": [
    "## Pattern: Bounded Retry\n",
    "\n",
    "```algorithm\n",
    "while n > 0 do\n",
    "    try S ; n := 0\n",
    "    catch\n",
    "        T ; n := n - 1\n",
    "        if n = 0 then raise\n",
    "```\n",
    "The role of statement `T` is to \"clean up\" so that `S` can be attempted again. Let `BR` stand for above statement. If\n",
    "```algorithm\n",
    "\t{P}  S  {Q, R}\n",
    "    {R}  T  {P}\n",
    "```\n",
    "then\n",
    "```algorithm\n",
    "\t{n ≥ 0 ∧ P}   BR   {Q, P}\n",
    "```\n",
    "The postconditions `P` and `Q` can be strengthened to include `n = 0`."
   ]
  },
  {
   "cell_type": "markdown",
   "metadata": {
    "slideshow": {
     "slide_type": "slide"
    }
   },
   "source": [
    "## Pattern: Bounded Retry with Rollback and Pause\n",
    "\n",
    "This is similar to a recommended pattern for [Azure](https://docs.microsoft.com/en-us/azure/architecture/patterns/retry).\n",
    "```algorithm\n",
    "backup\n",
    "while n > 0 do\n",
    "    try S ; n := 0\n",
    "    catch\n",
    "        restore ; n := n - 1\n",
    "        if n = 0 then raise\n",
    "        pause\n",
    "```\n",
    "Statements `S`, `restore`, `pause` must not modify `n`. The role of `pause` is to delay execution so that another attempt is more likely to succeed. Let `RR` stand for above statement. If\n",
    "```algorithm\n",
    "{P}  backup  {P ∧ B, P}\n",
    "{B}  restore  {P ∧ B}\n",
    "{P ∧ B}  S  {Q, B}\n",
    "```\n",
    "then\n",
    "```algorithm\n",
    "\t{n ≥ 0 ∧ P}   RR   {Q, P}\n",
    "```\n",
    "The postconditions `P` and `Q` can be strengthened to include `n = 0`."
   ]
  },
  {
   "cell_type": "markdown",
   "metadata": {
    "slideshow": {
     "slide_type": "slide"
    }
   },
   "source": [
    "## Pattern: Conditional Retry\n",
    "\n",
    "This pattern mimics Eiffel's `rescue` and `retry` statements:\n",
    "```algorithm\n",
    "done := false\n",
    "while ¬done and B do\n",
    "    try S ; done := true\n",
    "    catch T\n",
    "if ¬done then raise\n",
    "```\n",
    "Let `CR` stand for above statement. If\n",
    "```algorithm\n",
    "{∆B ∧ B' ∧ P}  S  {Q, R}\n",
    "{R}  T  {P}\n",
    "```\n",
    "then:\n",
    "```algorithm\n",
    "{P}  CR  {Q, P}\n",
    "```\n",
    "If `B` is not defined, i.e. `¬∆B`, then the statement terminates exceptionally with `P`."
   ]
  },
  {
   "cell_type": "markdown",
   "metadata": {
    "slideshow": {
     "slide_type": "slide"
    }
   },
   "source": [
    "## Eiffel Exceptions\n",
    "\n",
    "Eiffel statements have three exits,\n",
    "- the normal exit,\n",
    "- an exit when an exception is raised, and\n",
    "- an exit for _retrying_ a method body.\n",
    "\n",
    "Postconditions are now triples `{Q, X, R}` of the normal postcondition `Q`, the exceptional postcondition `X`, and the retry postcondition `R`. If `R` or `X, R` are left out, they are assume to be `false`.\n",
    "\n",
    "Method `sqrt` computes the approximate integer square root of `n` in the interval `l .. u`. Let `p` be `0 ≤ l < u ∧ l² ≤ n < u²`:\n",
    "```algorithm\n",
    "sqrt(n, l, u : INTEGER) : INTEGER\n",
    "    {p}\n",
    "    local\n",
    "        m : INTEGER\n",
    "    {rescue invariant: p}\n",
    "    do\n",
    "        {loop invariant: p}\n",
    "        from until u − l = 1 loop\n",
    "            m := l + (u − l) // 2\n",
    "            {p ∧ m = (l + u) // 2}\n",
    "            if n < m ∗ m then u := m else l := m end\n",
    "            {p, p ∧ m = (l + u) // 2 ∧ n < m²}\n",
    "        end\n",
    "        {p ∧ u − l = 1}\n",
    "        Result := l\n",
    "    rescue\n",
    "        {p ∧ m = (l + u) // 2 ∧ n < m²}\n",
    "        u := m\n",
    "        {p}\n",
    "        retry\n",
    "        {false, false, p}\n",
    "```"
   ]
  },
  {
   "cell_type": "markdown",
   "metadata": {
    "slideshow": {
     "slide_type": "slide"
    }
   },
   "source": [
    "## Try-Catch-Finally\n",
    "\n",
    "The statement `try S finally U` always executes `U`, whether `S` terminates normally or exceptionally. The whole statement terminates normally only if both `S` and `U` do so as well, otherwise it terminates exceptionally:\n",
    "<div class=\"code-img-pair-container\">\n",
    "\n",
    "`try S finally U`\n",
    "  <div style = \"border-left:100px solid white\">\n",
    "      <img src=\"attachment:TryFinallyAnnotation.svg\"/>\n",
    "  </div>\n",
    "</div>\n",
    "\n",
    "```\n",
    "try S finally U   =   try S catch (U ; raise) ; U\n",
    "```\n",
    "\n",
    "Intuitively,\n",
    "- the `catch` statement ensures _safety_ by establishing a consistent state,\n",
    "- the `finally` statement ensures _liveness_ by freeing all resources (freeing memory; closing files, windows, network connections).\n",
    "\n",
    "The difficulty is that `U` is entered with two different preconditions and exited differently. If\n",
    "```algorithm\n",
    "{P}  S  {Q, X}\n",
    "{Q}  U  {R, Y}\n",
    "{X}  U  {Y, Y}\n",
    "```\n",
    "then:\n",
    "```algorithm\n",
    "{P}  try S finally U  {Q, Y}\n",
    "```"
   ]
  },
  {
   "cell_type": "markdown",
   "metadata": {},
   "source": [
    "This rule would require two separate annotations of `U`, which would make it awkward in practice. The key is to design `U` such that\n",
    "- `U` never fails: Suppose `U` failed when started in `Q`; in that case `Y` has to be sufficiently weak so it can also be established (by `U`) from `X` and whatever `S` achieved by establishing `Q` is \"lost\". Supposed `U` failed when started in `X`; as both normal and exceptional termination leads to the same condition `Y`, that has to be weak enough,\n",
    "- `U` only \"cleans up\" by affecting some variables that are not mentioned in `Q` and `X`, so `R` and include `Q` and `Y` can include `X`,\n",
    "- the precondition of `U` is implied by both `Q` and `X`."
   ]
  },
  {
   "cell_type": "markdown",
   "metadata": {
    "slideshow": {
     "slide_type": "slide"
    }
   },
   "source": [
    "(**Draft**) The nondeterministic assignment `v := ?` sets `v` to an arbitrary value of its type and `S ⫿ T` chooses nondeterministically between `S` and `T`. Suppose `File` is defined by:\n",
    "```algorithm\n",
    "class File \n",
    "    var s: {closed, reading, writing} = closed\n",
    "    var c: seq(byte)\n",
    "    var p: integer\n",
    "    method reset(fn: string)\n",
    "        if s = closed → skip ⫿ true → raise \n",
    "        s, p, c := reading, 0, ?\n",
    "    method rewrite(fn: string)\n",
    "        if s = closed → skip ⫿ true → raise \n",
    "        s, c := writing, []\n",
    "    method close()\n",
    "        if s ≠ closed → skip ⫿ true → raise \n",
    "        s := closed\n",
    "    method read() → (b: byte)\n",
    "        if s = reading → skip ⫿ true → raise \n",
    "        b, p := c(p), p + 1\n",
    "    method write(b: byte)\n",
    "        if s = writing → skip ⫿ true → raise \n",
    "        c := c + [b]\n",
    "    method eof → (e: boolean)\n",
    "        if s = reading → skip ⫿ true → raise \n",
    "        e := p = #c\n",
    "```\n",
    "_Note:_ `if s = closed → skip ⫿ true → raise` can equivalently be expressed as `raise ⫿ assert s = closed`.\n",
    "\n",
    "_Exercise:_ Develop a reliable program to copy file `\"hocus\"` to file `\"pocus\"`!"
   ]
  },
  {
   "cell_type": "markdown",
   "metadata": {},
   "source": [
    "```algorithm\n",
    "var h, p: File\n",
    "var e: boolean, b: byte\n",
    "h ← new File() ; p ← new File()\n",
    "try\n",
    "    h.reset(\"hocus\")\n",
    "    try\n",
    "        p.rewrite(\"pocus\")\n",
    "        e ← h.eof()\n",
    "        while ¬e do\n",
    "            b ← h.read() ; p.write(b) ; e ← h.eof()\n",
    "    finally\n",
    "        p.rewrite(\"pocus\") ; p.close()\n",
    "finally\n",
    "    h.close()\n",
    "```"
   ]
  },
  {
   "cell_type": "markdown",
   "metadata": {
    "slideshow": {
     "slide_type": "slide"
    }
   },
   "source": [
    "## Procedures\n",
    "\n",
    "Consider a general procedure specfication of the form:\n",
    "```\n",
    "procedure p(v: V) → (w: W)\n",
    "   modifies  u\n",
    "   requires  P(u, v)\n",
    "   ensures  Q(u₀, u, w)\n",
    "   S\n",
    "```\n",
    "Extending partial correctness to procedures, the implementation `S` is partially correct with respect to its specification if `S` either establishes the desired postcondition `Q` on normal termination or preserves the precondition on exceptional termination:\n",
    "```algorithm\n",
    "{P(u, v) and u₀ = u}  S  {Q(u₀, u, w), P(u, v)}\n",
    "{P(u, v) and u₀ = u}  S  {Q(u₀, u, w)}\n",
    "```"
   ]
  },
  {
   "cell_type": "markdown",
   "metadata": {
    "slideshow": {
     "slide_type": "slide"
    }
   },
   "source": [
    "## Classes\n",
    "\n",
    "Consider following specification of stacks; all fields are \"private\" and all methods are \"public\". The class is meant to be _abstract_ as it serves only for specification: (In Java, this could be expressed by an `interface`.)\n",
    "\n",
    "```algorithm\n",
    "class Stack\n",
    "\tvar s: seq(integer)\n",
    "\tmethod push(x: integer)\n",
    "        ensures s = [x] + s₀\n",
    "    method pop() → (x: integer)\n",
    "        requires s ≠ []\n",
    "        ensure x, s = s₀(0), s₀[1:] \n",
    "    method empty → (r: boolean)\n",
    "        ensures r, s = (s = []), s₀\n",
    "```"
   ]
  },
  {
   "cell_type": "markdown",
   "metadata": {
    "slideshow": {
     "slide_type": "slide"
    }
   },
   "source": [
    "The implementation shall store the elements of the sequence in an array of fixed size. This implies that `push` cannot be faithfully to its specification, which does not set an upper bound on the length of the stack. Using dynamically allocated data structures can alleviate that, but due to the finiteness of memory, at some point that will lead to the same problem. For simplicity, we discuss a _partial class implementation_ with arrays of fixed size:\n",
    "```algorithm\n",
    "class ArrayStack implements Stack\n",
    "    const C = 100\n",
    "\tvar a: array 0 .. C - 1 of integer\n",
    "    var n: integer = 0\n",
    "    {CI: 0 ≤ n ≤ C ∧ s = reverse(a[0 : n - 1])}\n",
    "\tmethod push(x: integer)\n",
    "        a(n), n := x, n + 1\n",
    "    method pop() → (x: integer)\n",
    "        x, n := a(n - 1), n - 1\n",
    "    method empty → (r: boolean)\n",
    "        r := n = 0\n",
    "```\n",
    "The _concrete invariant_ of `ArrayStack` is\n",
    "```\n",
    "0 ≤ n ≤ C\n",
    "```\n",
    "and the _abstraction function_ from `ArrayStack` to `Stack` is\n",
    "```\n",
    "s = reverse(a[0 : n - 1])\n",
    "```\n",
    "Their conjunction is the _coupling invariant_ or _abstraction relation_. With a totally correct implementation, each method would preserve the coupling invariant, which is not the case here."
   ]
  },
  {
   "cell_type": "markdown",
   "metadata": {},
   "source": [
    "Consider\n",
    "```algorithm\n",
    "class C\n",
    "    var a: A\n",
    "    method m\n",
    "        requires P(a)\n",
    "        ensures Q(a₀, a)\n",
    "```\n",
    "```\n",
    "class D implements C\n",
    "    var b: B\n",
    "    invariant I(a, b)\n",
    "    method m\n",
    "        T\n",
    "```\n",
    "Class `D` is a _(totally) correct implementation_ of `C` if, for every method:\n",
    "```algorithm\n",
    "{a = a₀ ∧ I(a, b) ∧ P(a)}  T  {∃ a · I(a, b) ∧ Q(a₀, a)}\n",
    "\n",
    "```\n",
    "\n",
    "Class `D` is a _partially correct implementation_ of `C` if, for every method:\n",
    "```algorithm\n",
    "{a = a₀ ∧ I(a, b) ∧ P(a)}  T  {∃ a · I(a, b) ∧ Q(a₀, a), ∃ a · a = a₀ ∧ I(a, b) ∧ P(a)}\n",
    "\n",
    "```"
   ]
  },
  {
   "cell_type": "markdown",
   "metadata": {
    "slideshow": {
     "slide_type": "slide"
    }
   },
   "source": [
    "Method `push` is only partially correct, meaning:\n",
    "```algorithm\n",
    "{s = s₀ ∧ CI}  a(n), n := x, n + 1  {∃ s · CI ∧ s = [x] + s₀, ∃ s · s = s₀ ∧ CI}\n",
    "```\n",
    "For the proof, we rewrite `a(n) := x` as `a := (a; n: x)`, so the condition becomes:\n",
    "\n",
    "<span style = \"float:right\">(1)</span>\n",
    "```algorithm\n",
    "{s = s₀ ∧ CI}  a, n := (a; n: x), n + 1  {∃ s · CI ∧ s = [x] + s₀, ∃ s · s = s₀ ∧ CI}\n",
    "```\n",
    "From the definition of `∆` follows that `∆(a; n: x) = 0 ≤ n < C`. Assuming that addition wil not overflow, we have `∆(n + 1) = true`. Applying the rules for the correctness of statements with exceptions, (1) holds if:\n",
    "\n",
    "<span style = \"float:right\">(1.1)</span>\n",
    "```algorithm\n",
    "CI ∧ s = s₀ ∧ 0 ≤ n < C ⇒ (∃ s · CI ∧ s = [x] + s₀)[a, n := (a; n: x), n + 1]\n",
    "```\n",
    "\n",
    "<span style = \"float:right\">(1.2)</span>\n",
    "```algorithm\n",
    "CI ∧ s = s₀ ∧ ¬(0 ≤ n < C) ⇒ (∃ s · s = s₀ ∧ CI)\n",
    "```\n",
    "\n",
    "For (1.1) we have:\n",
    "```algorithm\n",
    "    CI ∧ s = s₀ ∧ 0 ≤ n < C ⇒ (∃ s · CI ∧ s = [x] + s₀)[a, n := (a; n: x), n + 1]\n",
    "≡        «substitution, definition of CI»\n",
    "    CI ∧ s = s₀ ∧ 0 ≤ n < C ⇒ (∃ s · 0 ≤ n + 1 ≤ C ∧ s = reverse((a; n: x)[0 : n]) ∧ s = [x] + s₀)\n",
    "≡        «definition of CI, one-point rule» \n",
    "    0 ≤ n < C ⇒ 0 ≤ n + 1 ≤ C ∧ reverse((a; n: x)[0 : n]) = [x] + reverse(a[0 : n - 1])\n",
    "≡        «arithmetic, property of reverse» \n",
    "    reverse((a; n: x)[0 : n]) = reverse(a[0 : n - 1] + [x])\n",
    "⇐        «Leibnitz» \n",
    "    (a; n: x)[0 : n] = a[0 : n - 1] + [x])\n",
    "≡        «from definition of slicing» \n",
    "    true\n",
    "```\n",
    "\n",
    "For (1.2) we have:\n",
    "```algorithm\n",
    "    CI ∧ s = s₀ ∧ ¬(0 ≤ n < C) ⇒ (∃ s · s = s₀ ∧ CI)\n",
    "≡        «definition of CI, one-point rule»\n",
    "    0 ≤ n ≤ C ∧ s = reverse(a[0 : n - 1]) ∧ ¬(0 ≤ n < C) ⇒ 0 ≤ n ≤ C ∧ s = reverse(a[0 : n - 1])\n",
    "⇐        «arithmetic, logic»\n",
    "    n = C ⇒ 0 ≤ n ≤ C\n",
    "≡        «logic»\n",
    "    true\n",
    "```\n",
    "\n",
    "_Exercise:_ State if `pop` and `empty` are totally or partially correct and give the proofs!\n",
    "\n",
    "_Question:_ Is following implementation of `push` and `pop` also partially correct?\n",
    "```\n",
    "\tmethod push(x: integer)\n",
    "        a(n) := x ;  n := n + 1\n",
    "    method pop() → (x: integer)\n",
    "        n := n - 1; x := a(n)\n",
    "```"
   ]
  },
  {
   "cell_type": "markdown",
   "metadata": {
    "slideshow": {
     "slide_type": "fragment"
    }
   },
   "source": [
    "Above, `push` on a full stack will raise an exception without changing `a` or `n`. However, `pop` on an empty stack will change `n` before raising an exception, therefore violating the coupling invariant.\n",
    "\n",
    "The alternative to employing partial correctness is to incorporate all possible implementation restrictions in the specification. In that case, `Stack` would be an unimplementable specification."
   ]
  },
  {
   "cell_type": "markdown",
   "metadata": {
    "slideshow": {
     "slide_type": "slide"
    }
   },
   "source": [
    "## Summary\n",
    "\n",
    "- Despite putting forth best effort in the design, possibility of faults remains and programs need to respond to faults. \n",
    "- Exception handling with `try-catch` statements allows systematic treatment of faults (c.f. resumption).\n",
    "- The notion of _partial correctness_ is a methodological guide: either desired postcondition is established or precondition re-established. In particular, it allows for _unanticipated failures_.\n",
    "- Exception patterns: _masking,_ _flagging,_ _propagating,_ _rollback,_ _degraded service,_ _recovery block,_ _bounded retry,_ _conditional retry_. These state what kind of unanticipated exception can be tolerated.\n",
    "- Use of exception should reserved for failures rather than as an extra control structure, otherwise the intention gets blurred.\n",
    "- Distinguishing between different exception types is not essential for most exception patterns. In above pattern, the only use is to guide the retrying patterns if a retry is advisable or not."
   ]
  }
 ],
 "metadata": {
  "kernelspec": {
   "display_name": "Python 3",
   "language": "python",
   "name": "python3"
  },
  "language_info": {
   "codemirror_mode": {
    "name": "ipython",
    "version": 3
   },
   "file_extension": ".py",
   "mimetype": "text/x-python",
   "name": "python",
   "nbconvert_exporter": "python",
   "pygments_lexer": "ipython3",
   "version": "3.8.0"
  },
  "livereveal": {
   "height": "900",
   "history": true,
   "margin": "0.01",
   "progress": true,
   "scroll": true,
   "start_slideshow_at": "selected",
   "theme": "night",
   "width": "1440"
  }
 },
 "nbformat": 4,
 "nbformat_minor": 2
}
