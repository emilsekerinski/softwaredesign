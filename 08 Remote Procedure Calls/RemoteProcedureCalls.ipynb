{
 "cells": [
  {
   "cell_type": "markdown",
   "metadata": {
    "slideshow": {
     "slide_type": "slide"
    }
   },
   "source": [
    "---\n",
    "\n",
    "# Remote Procedure Calls\n",
    "### [Emil Sekerinski](http://www.cas.mcmaster.ca/~emil/), McMaster University, Fall 2019\n",
    "\n",
    "---"
   ]
  },
  {
   "cell_type": "markdown",
   "metadata": {
    "slideshow": {
     "slide_type": "subslide"
    }
   },
   "source": [
    "Message passing is well suited for one-directional communication, as in filters (e.g. the sorting network). When two-directional communication between clients and a server is needed, a channel for sending requests and a reply channel for each client needs to be introduced.\n",
    "\n",
    "The remote procedure call (RPC) eliminates the need for channels in client-server communication. The server exports procedures that can be called, as with monitors. When a client calls a procedure, execution is delayed, as with synchronous communication. However, execution is delayed until the results of the procedure called are sent back to the client."
   ]
  },
  {
   "cell_type": "markdown",
   "metadata": {
    "slideshow": {
     "slide_type": "subslide"
    }
   },
   "source": [
    "Consider the remote procedure call\n",
    "```\n",
    "r ← server.gcd(a1, a2)\n",
    "```\n",
    "and assume that `server` runs following process:\n",
    "```\n",
    "var args: channel[integer × integer]\n",
    "var result: channel[integer]\n",
    "\n",
    "process gcd\n",
    "    var x, y: integer\n",
    "    do true →\n",
    "        args ? (x, y)\n",
    "        do x > y → x := x - y\n",
    "         ⫿  y > x → y := y - x\n",
    "        result ! x\n",
    "```\n",
    "The remote procedure call is then equivalent to\n",
    "```\n",
    "args ! (a1, a2) ; result ? r\n",
    "```\n",
    "\n",
    "Unlike with message passing, the name of the server has to be known to the client."
   ]
  },
  {
   "cell_type": "markdown",
   "metadata": {
    "slideshow": {
     "slide_type": "slide"
    }
   },
   "source": [
    "## RPC in Python\n",
    "\n",
    "Following `gcd` server uses the standard [`xmlrpc` library](https://docs.python.org/3/library/xmlrpc.html). The library encodes the parameters and results as XML structures for transmission. The parameter to `SimpleXMLRPCServer` is a tuple with the Internet address and the port number; the port must be opened for communication.\n",
    "\n",
    "_Note:_ The cell below goes into an infinite loop, so before running it, open a copy of this notebook in a separate window with the Jupyter server running on the same or a different computer."
   ]
  },
  {
   "cell_type": "code",
   "execution_count": null,
   "metadata": {},
   "outputs": [],
   "source": [
    "from xmlrpc.server import SimpleXMLRPCServer\n",
    "\n",
    "def gcd(x,y):\n",
    "    a, b = x, y\n",
    "    while a != b:\n",
    "        if a > b: a = a - b\n",
    "        else: b = b - a\n",
    "    return a\n",
    "\n",
    "server = SimpleXMLRPCServer((\"jhub3.cas.mcmaster.ca\", 8020))\n",
    "server.register_function(gcd, \"gcd\")\n",
    "server.serve_forever()"
   ]
  },
  {
   "cell_type": "markdown",
   "metadata": {
    "slideshow": {
     "slide_type": "subslide"
    }
   },
   "source": [
    "On the client, a _server proxy_ has to be created:"
   ]
  },
  {
   "cell_type": "code",
   "execution_count": null,
   "metadata": {},
   "outputs": [],
   "source": [
    "import xmlrpc.client\n",
    "\n",
    "server = xmlrpc.client.ServerProxy(\"http://jhub3.cas.mcmaster.ca:8020\")\n",
    "server.gcd(81,36)"
   ]
  },
  {
   "cell_type": "markdown",
   "metadata": {
    "solution": "hidden",
    "solution_first": true
   },
   "source": [
    "_Question:_ Suppose there is sequence of calls to `server.gcd`. Do the client and server run in parallel?"
   ]
  },
  {
   "cell_type": "markdown",
   "metadata": {
    "slideshow": {
     "slide_type": "fragment"
    },
    "solution": "hidden"
   },
   "source": [
    "*Answer.* With the `gcd` server, either the server or the client would execute, but not both (and there could be period when neither executes due to the time for the transmission)."
   ]
  },
  {
   "cell_type": "markdown",
   "metadata": {
    "slideshow": {
     "slide_type": "subslide"
    }
   },
   "source": [
    "The `xmlrpc` library also allows objects to be remotely called. The parameter `allow_none=True` is needed when creating the server proxy to allow parameterless calls. (*Reminder:* open a new copy of the notebook before running next cell)"
   ]
  },
  {
   "cell_type": "code",
   "execution_count": null,
   "metadata": {},
   "outputs": [],
   "source": [
    "from xmlrpc.server import SimpleXMLRPCServer\n",
    "\n",
    "class Counter:\n",
    "    def __init__(self):\n",
    "        self.a, self.e = 0, True\n",
    "        # e == even(a)\n",
    "    def inc(self):\n",
    "        self.a, self.e = self.a + 1, not self.e\n",
    "    def even(self):\n",
    "        return self.e\n",
    "\n",
    "server = SimpleXMLRPCServer((\"jhub3.cas.mcmaster.ca\", 8026), allow_none=True)\n",
    "server.register_instance(Counter()) # create Counter object, then register\n",
    "server.serve_forever()"
   ]
  },
  {
   "cell_type": "markdown",
   "metadata": {
    "slideshow": {
     "slide_type": "subslide"
    }
   },
   "source": [
    "The corresponding client is:"
   ]
  },
  {
   "cell_type": "code",
   "execution_count": null,
   "metadata": {},
   "outputs": [],
   "source": [
    "import xmlrpc.client\n",
    "\n",
    "c = xmlrpc.client.ServerProxy(\"http://jhub3.cas.mcmaster.ca:8026\")\n",
    "c.inc(); c.even()"
   ]
  },
  {
   "cell_type": "markdown",
   "metadata": {},
   "source": [
    "If you try to run a server on a port that is already in use, you get an \"address in use\" error. To check which ports are currently used, run:"
   ]
  },
  {
   "cell_type": "code",
   "execution_count": null,
   "metadata": {},
   "outputs": [],
   "source": [
    "!netstat -atunlp"
   ]
  },
  {
   "cell_type": "markdown",
   "metadata": {},
   "source": [
    "To check the status of a specific port, run:"
   ]
  },
  {
   "cell_type": "code",
   "execution_count": null,
   "metadata": {},
   "outputs": [],
   "source": [
    "!netstat -atunlp | grep 8023"
   ]
  },
  {
   "cell_type": "markdown",
   "metadata": {},
   "source": [
    "When running a Python RPC server from a notebook, it will only run as long as the notebook runs. To keep a server running after logging out, save the server to a file, say `Counter.py`, and run from the command line (not notebooks):\n",
    "```\n",
    "nohup python3 Counter.py &\n",
    "```\n",
    "The `&` starts a new process that runs in the background and `nohup` prevents that process from being terminated when logging out. To check the log produced by the server process, run:\n",
    "```\n",
    "cat nohup.out\n",
    "```"
   ]
  },
  {
   "cell_type": "markdown",
   "metadata": {},
   "source": [
    "Note that only one method at a time is executed, like with monitors, and following the definition of RPC in terms of channels. This guarantees that the invariant will be preserved without any additional means for mutual exclusion. However, this also reduced potential concurrent execution.\n",
    "\n",
    "Python supports also multi-threaded RPC servers by creating a new server class that \"mixes in\" [ThreadingMixIn](https://docs.python.org/3/library/socketserver.html#socketserver.ThreadingMixIn)."
   ]
  },
  {
   "cell_type": "markdown",
   "metadata": {
    "slideshow": {
     "slide_type": "slide"
    }
   },
   "source": [
    "## RPC in Go\n",
    "\n",
    "The net/rpc package allow remote calls to methods of the form\n",
    "```Go\n",
    "func (t *T) MethodName(argType T1, replyType *T2) error\n",
    "```\n",
    "Type `error` is predeclared as\n",
    "```Go\n",
    "type error interface {\n",
    "\tError() string\n",
    "}\n",
    "```\n",
    "By convention, returning `nil` means that no error occurred."
   ]
  },
  {
   "cell_type": "markdown",
   "metadata": {
    "slideshow": {
     "slide_type": "slide"
    }
   },
   "source": [
    "In Go, methods of a class do not have to be declared together with the fields. Rather, the fields are declared as a `struct` and methods separately, with the parameter before the method name being the receiver of the call. This allows methods to be added as needed without introducing new classes by inheritance."
   ]
  },
  {
   "cell_type": "code",
   "execution_count": null,
   "metadata": {},
   "outputs": [],
   "source": [
    "%%writefile counter.go\n",
    "package main\n",
    "\n",
    "type Counter struct{a int32; e bool}\n",
    "\n",
    "func (self *Counter) Inc() {\n",
    "    self.a += 1; self.e = !self.e\n",
    "}\n",
    "\n",
    "func (self *Counter) Even() bool {\n",
    "    return self.e\n",
    "}\n",
    "\n",
    "func main(){\n",
    "    c := new(Counter); c.a, c.e = 0, true\n",
    "    c.Inc(); println(c.Even())\n",
    "    c.Inc(); println(c.Even())\n",
    "}"
   ]
  },
  {
   "cell_type": "code",
   "execution_count": null,
   "metadata": {},
   "outputs": [],
   "source": [
    "!go run counter.go"
   ]
  },
  {
   "cell_type": "code",
   "execution_count": null,
   "metadata": {},
   "outputs": [],
   "source": [
    "%%writefile point.go\n",
    "package main\n",
    "import \"math\"\n",
    "\n",
    "type Point struct{x, y float64}\n",
    "\n",
    "func (p *Point) Distance() float64 {\n",
    "    return math.Sqrt(p.x * p.x + p.y * p.y)\n",
    "}\n",
    "\n",
    "func (p *Point) Scale(factor float64) {\n",
    "    p.x *= factor; p.y *= factor\n",
    "}\n",
    "\n",
    "func main(){\n",
    "    q := new(Point); q.x, q.y = 3, 4\n",
    "    l := q.Distance(); println(l)\n",
    "    q.Scale(2); println(q.x, q.y)\n",
    "}"
   ]
  },
  {
   "cell_type": "code",
   "execution_count": null,
   "metadata": {},
   "outputs": [],
   "source": [
    "!go run point.go"
   ]
  },
  {
   "cell_type": "markdown",
   "metadata": {
    "slideshow": {
     "slide_type": "subslide"
    }
   },
   "source": [
    "For a GCD server, the function for computing the GCD has to be written as a method. As methods can be attached to (almost) any type, we define a new type `Gcd` to be type `int`:"
   ]
  },
  {
   "cell_type": "code",
   "execution_count": null,
   "metadata": {},
   "outputs": [],
   "source": [
    "%%writefile gcdmethod.go\n",
    "package main\n",
    "\n",
    "type GCDArg struct{X, Y int}\n",
    "type Gcd int\n",
    "\n",
    "func (t *Gcd) ComputeGCD(arg *GCDArg, reply *int ) error {\n",
    "    a, b := arg.X, arg.Y\n",
    "    for a != b {\n",
    "        if a > b {a = a - b} else {b = b - a}\n",
    "    }\n",
    "    *reply = a\n",
    "    return nil\n",
    "}\n",
    "\n",
    "func main(){\n",
    "    g := new(Gcd); println(g); println(*g)\n",
    "    a := GCDArg{81, 36}\n",
    "    var r int\n",
    "    g.ComputeGCD(&a, &r)\n",
    "    println(r)\n",
    "    h := new(Gcd); println(h); println(*h)\n",
    "}"
   ]
  },
  {
   "cell_type": "code",
   "execution_count": null,
   "metadata": {},
   "outputs": [],
   "source": [
    "!go run gcdmethod.go"
   ]
  },
  {
   "cell_type": "markdown",
   "metadata": {},
   "source": [
    "_Question:_ What is the output of the `println` statements?"
   ]
  },
  {
   "cell_type": "markdown",
   "metadata": {
    "slideshow": {
     "slide_type": "subslide"
    }
   },
   "source": [
    "The server registers a new `Gcd` object under a name, here `Algorithms` and then accepts incoming requests:"
   ]
  },
  {
   "cell_type": "code",
   "execution_count": null,
   "metadata": {},
   "outputs": [],
   "source": [
    "%%writefile gcdserver.go\n",
    "package main\n",
    "import (\"net\"; \"net/rpc\")\n",
    "\n",
    "type GCDArg struct{X, Y int}\n",
    "type Gcd int\n",
    "\n",
    "func (t *Gcd) ComputeGCD(arg *GCDArg, reply *int ) error {\n",
    "    println(&t)\n",
    "    a, b := arg.X, arg.Y\n",
    "    for a != b {\n",
    "        if a > b {a = a - b} else {b = b - a}\n",
    "    }\n",
    "    *reply = a\n",
    "    return nil\n",
    "}\n",
    "\n",
    "func main(){\n",
    "    server := rpc.NewServer()\n",
    "    server.RegisterName(\"Algorithms\", new(Gcd))\n",
    "\n",
    "    ln, err := net.Listen(\"tcp\", \":8012\")\n",
    "    println(err) // if err != nil {panic(e)}\n",
    "    server.Accept(ln)\n",
    "}"
   ]
  },
  {
   "cell_type": "code",
   "execution_count": null,
   "metadata": {},
   "outputs": [],
   "source": [
    "!go run gcdserver.go"
   ]
  },
  {
   "cell_type": "markdown",
   "metadata": {
    "slideshow": {
     "slide_type": "subslide"
    }
   },
   "source": [
    "On the client, the parameters and result value has to be converted in an analogous way:"
   ]
  },
  {
   "cell_type": "code",
   "execution_count": null,
   "metadata": {},
   "outputs": [],
   "source": [
    "%%writefile gcdclient.go\n",
    "package main\n",
    "import (\"net\"; \"net/rpc\")\n",
    "\n",
    "type GcdClient struct{client *rpc.Client}\n",
    "type GCDArg struct{X, Y int}\n",
    "\n",
    "func (t *GcdClient) gcd(a, b int) int {\n",
    "    args := &GCDArg{a, b}\n",
    "    var reply int\n",
    "    err := t.client.Call(\"Algorithms.Compute_GCD\", args, &reply)\n",
    "    if err != nil {panic(err)}\n",
    "    return reply\n",
    "}\n",
    "func main() {\n",
    "    conn, err := net.Dial(\"tcp\", \"jhub3.cas.mcmaster.ca:8020\")\n",
    "    if err != nil {panic(err)}\n",
    "    algorithms := &GcdClient{client: rpc.NewClient(conn)}\n",
    "\n",
    "    println(algorithms.gcd(10, 4))\n",
    "    println(algorithms.gcd(81, 36))\n",
    "}"
   ]
  },
  {
   "cell_type": "markdown",
   "metadata": {},
   "source": [
    "**Counter**"
   ]
  },
  {
   "cell_type": "code",
   "execution_count": null,
   "metadata": {},
   "outputs": [],
   "source": [
    "%%writefile counterserver.go\n",
    "package main\n",
    "import (\"net\"; \"net/rpc\")\n",
    "\n",
    "type Gcd struct{a int, e bool}\n",
    "type IncArg struct{X, Y int}\n",
    "\n",
    "func (t *Gcd) ComputeGCD(arg *GCDArg, reply *int ) error {\n",
    "    println(&t)\n",
    "    a, b := arg.X, arg.Y\n",
    "    for a != b {\n",
    "        if a > b {a = a - b} else {b = b - a}\n",
    "    }\n",
    "    *reply = a\n",
    "    return nil\n",
    "}\n",
    "\n",
    "func main(){\n",
    "    server := rpc.NewServer()\n",
    "    server.RegisterName(\"Algorithms\", new(Gcd))\n",
    "\n",
    "    ln, err := net.Listen(\"tcp\", \":8012\")\n",
    "    println(err) // if err != nil {panic(e)}\n",
    "    server.Accept(ln)\n",
    "}"
   ]
  },
  {
   "cell_type": "code",
   "execution_count": null,
   "metadata": {},
   "outputs": [],
   "source": [
    "!go run gcdserver.go"
   ]
  },
  {
   "cell_type": "code",
   "execution_count": null,
   "metadata": {},
   "outputs": [],
   "source": [
    "%%writefile gcdclient.go\n",
    "package main\n",
    "import (\"net\"; \"net/rpc\")\n",
    "\n",
    "type GcdClient struct{client *rpc.Client}\n",
    "type GCDArg struct{X, Y int}\n",
    "\n",
    "func (t *GcdClient) gcd(a, b int) int {\n",
    "    args := &GCDArg{a, b}\n",
    "    var reply int\n",
    "    err := t.client.Call(\"Algorithms.Compute_GCD\", args, &reply)\n",
    "    if err != nil {panic(err)}\n",
    "    return reply\n",
    "}\n",
    "func main() {\n",
    "    conn, err := net.Dial(\"tcp\", \"jhub3.cas.mcmaster.ca:8020\")\n",
    "    if err != nil {panic(err)}\n",
    "    algorithms := &GcdClient{client: rpc.NewClient(conn)}\n",
    "\n",
    "    println(algorithms.gcd(10, 4))\n",
    "    println(algorithms.gcd(81, 36))\n",
    "}"
   ]
  }
 ],
 "metadata": {
  "kernelspec": {
   "display_name": "Python 3",
   "language": "python",
   "name": "python3"
  },
  "language_info": {
   "codemirror_mode": {
    "name": "ipython",
    "version": 3
   },
   "file_extension": ".py",
   "mimetype": "text/x-python",
   "name": "python",
   "nbconvert_exporter": "python",
   "pygments_lexer": "ipython3",
   "version": "3.8.0"
  },
  "livereveal": {
   "height": "900",
   "history": true,
   "margin": "0.01",
   "progress": true,
   "scroll": true,
   "start_slideshow_at": "selected",
   "theme": "night",
   "width": "1440"
  }
 },
 "nbformat": 4,
 "nbformat_minor": 2
}
