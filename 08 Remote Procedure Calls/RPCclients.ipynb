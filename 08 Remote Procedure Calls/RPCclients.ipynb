{
 "cells": [
  {
   "cell_type": "markdown",
   "metadata": {},
   "source": [
    "### Python GCD Client"
   ]
  },
  {
   "cell_type": "code",
   "execution_count": 1,
   "metadata": {},
   "outputs": [
    {
     "data": {
      "text/plain": [
       "27"
      ]
     },
     "execution_count": 1,
     "metadata": {},
     "output_type": "execute_result"
    }
   ],
   "source": [
    "import xmlrpc.client\n",
    "\n",
    "proxy = xmlrpc.client.ServerProxy(\"http://jhub3.cas.mcmaster.ca:8020\")\n",
    "proxy.gcd(81,27)"
   ]
  },
  {
   "cell_type": "code",
   "execution_count": 2,
   "metadata": {
    "scrolled": true
   },
   "outputs": [
    {
     "data": {
      "text/plain": [
       "True"
      ]
     },
     "execution_count": 2,
     "metadata": {},
     "output_type": "execute_result"
    }
   ],
   "source": [
    "import xmlrpc.client\n",
    "\n",
    "c = xmlrpc.client.ServerProxy(\"http://jhub3.cas.mcmaster.ca:8026\")\n",
    "c.inc(); c.even()"
   ]
  },
  {
   "cell_type": "code",
   "execution_count": 11,
   "metadata": {},
   "outputs": [
    {
     "data": {
      "text/plain": [
       "False"
      ]
     },
     "execution_count": 11,
     "metadata": {},
     "output_type": "execute_result"
    }
   ],
   "source": [
    "c.inc(); c.even()"
   ]
  },
  {
   "cell_type": "markdown",
   "metadata": {},
   "source": [
    "### Go GCD Client"
   ]
  },
  {
   "cell_type": "code",
   "execution_count": 13,
   "metadata": {},
   "outputs": [
    {
     "name": "stdout",
     "output_type": "stream",
     "text": [
      "Overwriting gcdclient.go\n"
     ]
    }
   ],
   "source": [
    "%%writefile gcdclient.go\n",
    "package main\n",
    "import (\"net\"; \"net/rpc\")\n",
    "\n",
    "type GcdClient struct{client *rpc.Client}\n",
    "type GCDArg struct{X, Y int}\n",
    "\n",
    "func (t *GcdClient) gcd(a, b int) int {\n",
    "    args := &GCDArg{a, b}\n",
    "    var reply int\n",
    "    err := t.client.Call(\"Algorithms.ComputeGCD\", args, &reply)\n",
    "    if err != nil {panic(err)}\n",
    "    return reply\n",
    "}\n",
    "func main() {\n",
    "    conn, err := net.Dial(\"tcp\", \"jhub3.cas.mcmaster.ca:8012\")\n",
    "    if err != nil {panic(err)}\n",
    "    algorithms := &GcdClient{client: rpc.NewClient(conn)}\n",
    "\n",
    "    println(algorithms.gcd(10, 4))\n",
    "    println(algorithms.gcd(81, 36))\n",
    "}"
   ]
  },
  {
   "cell_type": "code",
   "execution_count": 14,
   "metadata": {},
   "outputs": [
    {
     "name": "stdout",
     "output_type": "stream",
     "text": [
      "2\r\n",
      "9\r\n"
     ]
    }
   ],
   "source": [
    "!go run gcdclient.go"
   ]
  }
 ],
 "metadata": {
  "kernelspec": {
   "display_name": "Python 3",
   "language": "python",
   "name": "python3"
  },
  "language_info": {
   "codemirror_mode": {
    "name": "ipython",
    "version": 3
   },
   "file_extension": ".py",
   "mimetype": "text/x-python",
   "name": "python",
   "nbconvert_exporter": "python",
   "pygments_lexer": "ipython3",
   "version": "3.6.3"
  }
 },
 "nbformat": 4,
 "nbformat_minor": 2
}
